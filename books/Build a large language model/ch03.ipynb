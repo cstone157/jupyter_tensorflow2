{
  "nbformat": 4,
  "nbformat_minor": 0,
  "metadata": {
    "colab": {
      "provenance": []
    },
    "kernelspec": {
      "name": "python3",
      "display_name": "Python 3"
    },
    "language_info": {
      "name": "python"
    }
  },
  "cells": [
    {
      "cell_type": "code",
      "source": [
        "from importlib.metadata import version\n",
        "print(\"torch version:\", version(\"torch\"))"
      ],
      "metadata": {
        "colab": {
          "base_uri": "https://localhost:8080/"
        },
        "id": "e_U-vBaaE-I9",
        "outputId": "91e9dcf1-2945-4f37-a755-3f1d7b010354"
      },
      "execution_count": 2,
      "outputs": [
        {
          "output_type": "stream",
          "name": "stdout",
          "text": [
            "torch version: 2.3.1+rocm6.0\n"
          ]
        }
      ]
    },
    {
      "cell_type": "code",
      "source": [
        "!nvcc --version"
      ],
      "metadata": {
        "colab": {
          "base_uri": "https://localhost:8080/"
        },
        "id": "W86DiZ6MEvLX",
        "outputId": "de218098-e560-43cc-ca5d-11a7a1198218"
      },
      "execution_count": 3,
      "outputs": [
        {
          "output_type": "stream",
          "name": "stdout",
          "text": [
            "nvcc: NVIDIA (R) Cuda compiler driver\n",
            "Copyright (c) 2005-2024 NVIDIA Corporation\n",
            "Built on Thu_Jun__6_02:18:23_PDT_2024\n",
            "Cuda compilation tools, release 12.5, V12.5.82\n",
            "Build cuda_12.5.r12.5/compiler.34385749_0\n"
          ]
        }
      ]
    },
    {
      "cell_type": "markdown",
      "source": [
        "#### -----\n",
        "#### Build a Large Language Model\n",
        "#### Sebastian Raschka\n",
        "#### -----\n",
        "\n",
        "# Coding attention mechanisms\n",
        "\n",
        "  - This chapter will focus on coding the remaining parts of the LLMs surrounding the self-attention mechanism to see it in action and to create a model to generate text.\n",
        "  - Different types of attention mechanisms\n",
        "    - Simplified self-attention:\n",
        "    - Self-attention: Simplified self-attention with trainable weights\n",
        "    - Casual attention: Type of self-attention used in LLMs that allows a model to consider on previous and current inputs in a sequence\n",
        "    - Multi-head attention:\n",
        "\n",
        "## 3.1 - The problem with modeling long sequences\n",
        "\n",
        "  - You can't simply translate a text word into another language due to the grammatical structures in source and target language.\n",
        "  - Deep neural network with two submodules, encoder and decoder:\n",
        "    - encode : first read in and process the entire text\n",
        "    - decoder : then produces the translated text.\n",
        "  - Before transformers, recurrent neural networks (RNNs) were the most popular encoder-decoder architecture for language translation.\n",
        "\n",
        "## 3.2 - Capturing data dependencies with attention mechanisms\n",
        "\n",
        "  - Bahdanau attention mechanism : modifies the encoder-decoder RNN such that the decoder can selectively access different parts of the input sequence at each decoding step.\n",
        "  - Self-attention is a mechanism that allows each position in the input sequence when computing the representation of a sequence.\n",
        "\n",
        "## 3.3 - Attending to different parts of the input with self-attention\n",
        "\n",
        "  - In self-attention, the \"self\" refers to the mechanism's ability to compute attention weights by relating different positions within a single input sequence.\n",
        "\n",
        "### 3.3.1 - A simple self-attention mechanism without trainable weights\n",
        "\n",
        "  - In self-attention, our goal is to calculate context vectors for each element x in the input sequence.  A context vector can be interpreted as an enrighted embedding vector.\n",
        "  - Context vectors play a crucial role in self-attention.  Their purpose is to create enriched representations of each element in an input sequence by incorporating information from all other elsements in the sequence.\n",
        "  - The first step of implementing self-attention is to compute the intermediate values w, referred to as attention scores."
      ],
      "metadata": {
        "id": "_dZv9slceG97"
      }
    },
    {
      "cell_type": "code",
      "execution_count": 4,
      "metadata": {
        "id": "ApPghy3neA0x",
        "colab": {
          "base_uri": "https://localhost:8080/"
        },
        "outputId": "9d7244ae-5527-4cc1-fd93-45fad244a176"
      },
      "outputs": [
        {
          "output_type": "execute_result",
          "data": {
            "text/plain": [
              "tensor([0.9544, 1.4950, 1.4754, 0.8434, 0.7070, 1.0865])"
            ]
          },
          "metadata": {},
          "execution_count": 4
        }
      ],
      "source": [
        "# small embedding dimension\n",
        "import torch\n",
        "inputs = torch.tensor(\n",
        "    [[0.43, 0.15, 0.89],  # Your       (x^1)\n",
        "     [0.55, 0.87, 0.66],  # journey    (x^2)\n",
        "     [0.57, 0.85, 0.64],  # starts     (x^3)\n",
        "     [0.22, 0.58, 0.33],  # with       (x^4)\n",
        "     [0.77, 0.25, 0.10],  # one        (x^5)\n",
        "     [0.05, 0.80, 0.55]]  # step       (x^6)\n",
        ")\n",
        "\n",
        "query = inputs[1]\n",
        "attn_scores_2 = torch.empty(inputs.shape[0])\n",
        "for i, x_i in enumerate(inputs):\n",
        "    attn_scores_2[i] = torch.dot(x_i, query)\n",
        "attn_scores_2"
      ]
    },
    {
      "cell_type": "code",
      "source": [
        "# Next step is to normalize each of the attention scores we computed previously\n",
        "attn_weights_2_tmp = attn_scores_2 / attn_scores_2.sum()\n",
        "print(\"Attention weights: \", attn_weights_2_tmp)\n",
        "print(\"Sum: \", attn_weights_2_tmp.sum())"
      ],
      "metadata": {
        "colab": {
          "base_uri": "https://localhost:8080/"
        },
        "id": "oukr-kHrQVfd",
        "outputId": "c072722b-b780-4498-8114-29c701895f3e"
      },
      "execution_count": 5,
      "outputs": [
        {
          "output_type": "stream",
          "name": "stdout",
          "text": [
            "Attention weights:  tensor([0.1455, 0.2278, 0.2249, 0.1285, 0.1077, 0.1656])\n",
            "Sum:  tensor(1.0000)\n"
          ]
        }
      ]
    },
    {
      "cell_type": "code",
      "source": [
        "#   More common to use the softmax function for normalization.\n",
        "#   Additionally, softmax function ensures that the attention weights are always\n",
        "# positive.\n",
        "def softmax_naive(x):\n",
        "  return torch.exp(x) / torch.exp(x).sum(dim = 0)\n",
        "\n",
        "attn_weights_2_naive = softmax_naive(attn_scores_2)\n",
        "print(\"Attention weights: \", attn_weights_2_naive)\n",
        "print(\"Sum: \", attn_weights_2_naive.sum())"
      ],
      "metadata": {
        "colab": {
          "base_uri": "https://localhost:8080/"
        },
        "id": "rOMzXwmkQx2q",
        "outputId": "cf7701e1-efac-40af-b8b6-46200453b415"
      },
      "execution_count": 6,
      "outputs": [
        {
          "output_type": "stream",
          "name": "stdout",
          "text": [
            "Attention weights:  tensor([0.1385, 0.2379, 0.2333, 0.1240, 0.1082, 0.1581])\n",
            "Sum:  tensor(1.)\n"
          ]
        }
      ]
    },
    {
      "cell_type": "code",
      "source": [
        "#   It's advisable to use PyTorch of softmax to prevent overflow and underflow\n",
        "att_weights_2 = torch.softmax(attn_scores_2, dim = 0)\n",
        "print(\"Attention weights: \", att_weights_2)\n",
        "print(\"Sum: \", att_weights_2.sum())"
      ],
      "metadata": {
        "colab": {
          "base_uri": "https://localhost:8080/"
        },
        "id": "3O7ECE_bXHUx",
        "outputId": "91a15e98-8390-4a67-b089-d8c751a80437"
      },
      "execution_count": 7,
      "outputs": [
        {
          "output_type": "stream",
          "name": "stdout",
          "text": [
            "Attention weights:  tensor([0.1385, 0.2379, 0.2333, 0.1240, 0.1082, 0.1581])\n",
            "Sum:  tensor(1.)\n"
          ]
        }
      ]
    },
    {
      "cell_type": "code",
      "source": [
        "#   After we computed the normalized attention weights, we are ready to\n",
        "# calculate the context vector z, by multiplying the embedded input tokens, x\n",
        "query = inputs[1]\n",
        "context_vec_2 = torch.zeros(query.shape)\n",
        "for i, x_i in enumerate(inputs):\n",
        "    context_vec_2 += attn_weights_2_naive[i] * x_i\n",
        "print(context_vec_2)"
      ],
      "metadata": {
        "colab": {
          "base_uri": "https://localhost:8080/"
        },
        "id": "MW6CW8QlRS5K",
        "outputId": "963cc376-1df7-4a27-f543-284c501749ab"
      },
      "execution_count": 8,
      "outputs": [
        {
          "output_type": "stream",
          "name": "stdout",
          "text": [
            "tensor([0.4419, 0.6515, 0.5683])\n"
          ]
        }
      ]
    },
    {
      "cell_type": "markdown",
      "source": [
        "### 3.3.2 - Computing attention weights for all input tokens"
      ],
      "metadata": {
        "id": "AFgcRSTbSd8_"
      }
    },
    {
      "cell_type": "code",
      "source": [
        "#   Let's extend this computation to calculate attention weights and context\n",
        "# vectors for all inputs\n",
        "attn_scores = torch.empty(6, 6)\n",
        "for i, x_i in enumerate(inputs):\n",
        "  for j, x_j in enumerate(inputs):\n",
        "    attn_scores[i, j] = torch.dot(x_i, x_j)\n",
        "print(attn_scores)"
      ],
      "metadata": {
        "colab": {
          "base_uri": "https://localhost:8080/"
        },
        "id": "P_qu2uCBSI6L",
        "outputId": "005d2e26-5c9e-4364-da8a-3bf942c836b1"
      },
      "execution_count": 9,
      "outputs": [
        {
          "output_type": "stream",
          "name": "stdout",
          "text": [
            "tensor([[0.9995, 0.9544, 0.9422, 0.4753, 0.4576, 0.6310],\n",
            "        [0.9544, 1.4950, 1.4754, 0.8434, 0.7070, 1.0865],\n",
            "        [0.9422, 1.4754, 1.4570, 0.8296, 0.7154, 1.0605],\n",
            "        [0.4753, 0.8434, 0.8296, 0.4937, 0.3474, 0.6565],\n",
            "        [0.4576, 0.7070, 0.7154, 0.3474, 0.6654, 0.2935],\n",
            "        [0.6310, 1.0865, 1.0605, 0.6565, 0.2935, 0.9450]])\n"
          ]
        }
      ]
    },
    {
      "cell_type": "code",
      "source": [
        "#   Each element in the tensor represents an attention score beween each pair\n",
        "# of inputs.  The values are normalized, which is why they differ from\n",
        "# unnormalized attention scores in the preceding tensor.\n",
        "attn_scores = inputs @ inputs.T\n",
        "print(attn_scores)"
      ],
      "metadata": {
        "colab": {
          "base_uri": "https://localhost:8080/"
        },
        "id": "JgzV0UQtWURe",
        "outputId": "ec9ec983-9644-47f2-bfe4-eca598d79299"
      },
      "execution_count": 10,
      "outputs": [
        {
          "output_type": "stream",
          "name": "stdout",
          "text": [
            "tensor([[0.9995, 0.9544, 0.9422, 0.4753, 0.4576, 0.6310],\n",
            "        [0.9544, 1.4950, 1.4754, 0.8434, 0.7070, 1.0865],\n",
            "        [0.9422, 1.4754, 1.4570, 0.8296, 0.7154, 1.0605],\n",
            "        [0.4753, 0.8434, 0.8296, 0.4937, 0.3474, 0.6565],\n",
            "        [0.4576, 0.7070, 0.7154, 0.3474, 0.6654, 0.2935],\n",
            "        [0.6310, 1.0865, 1.0605, 0.6565, 0.2935, 0.9450]])\n"
          ]
        }
      ]
    },
    {
      "cell_type": "code",
      "source": [
        "attn_weights = torch.softmax(attn_scores, dim = 1)\n",
        "print(attn_weights)"
      ],
      "metadata": {
        "colab": {
          "base_uri": "https://localhost:8080/"
        },
        "id": "YGbtusrTX19K",
        "outputId": "009edd5b-3357-434c-fc63-716bc2d785b9"
      },
      "execution_count": 11,
      "outputs": [
        {
          "output_type": "stream",
          "name": "stdout",
          "text": [
            "tensor([[0.2098, 0.2006, 0.1981, 0.1242, 0.1220, 0.1452],\n",
            "        [0.1385, 0.2379, 0.2333, 0.1240, 0.1082, 0.1581],\n",
            "        [0.1390, 0.2369, 0.2326, 0.1242, 0.1108, 0.1565],\n",
            "        [0.1435, 0.2074, 0.2046, 0.1462, 0.1263, 0.1720],\n",
            "        [0.1526, 0.1958, 0.1975, 0.1367, 0.1879, 0.1295],\n",
            "        [0.1385, 0.2184, 0.2128, 0.1420, 0.0988, 0.1896]])\n"
          ]
        }
      ]
    },
    {
      "cell_type": "code",
      "source": [
        "#   By setting dim = -1, we are instructing the softmax function to apply\n",
        "# normalization along the last dimension of the attn_scores tensor.\n",
        "\n",
        "# Verify that the rows indeed sum to 1:\n",
        "row_2_sum = sum([0.1385, 0.2379, 0.2333, 0.1240, 0.1082, 0.1581])\n",
        "print(\"Row 2 sum: \", row_2_sum)\n",
        "print(\"All row sums: \", attn_weights.sum(dim = -1))"
      ],
      "metadata": {
        "colab": {
          "base_uri": "https://localhost:8080/"
        },
        "id": "fihSXc3sX7dO",
        "outputId": "07f794ce-861d-44b8-a39b-8c6412c94735"
      },
      "execution_count": 12,
      "outputs": [
        {
          "output_type": "stream",
          "name": "stdout",
          "text": [
            "Row 2 sum:  1.0\n",
            "All row sums:  tensor([1.0000, 1.0000, 1.0000, 1.0000, 1.0000, 1.0000])\n"
          ]
        }
      ]
    },
    {
      "cell_type": "code",
      "source": [
        "#   In the third and final step we use these attention weights to comput all\n",
        "# context vectors via matrix multiplication\n",
        "all_context_vectors = attn_weights @ inputs\n",
        "print(all_context_vectors)"
      ],
      "metadata": {
        "colab": {
          "base_uri": "https://localhost:8080/"
        },
        "id": "54vfoL25Ys4N",
        "outputId": "16d9214c-4e1e-4e9e-bcd2-de56d21be542"
      },
      "execution_count": 13,
      "outputs": [
        {
          "output_type": "stream",
          "name": "stdout",
          "text": [
            "tensor([[0.4421, 0.5931, 0.5790],\n",
            "        [0.4419, 0.6515, 0.5683],\n",
            "        [0.4431, 0.6496, 0.5671],\n",
            "        [0.4304, 0.6298, 0.5510],\n",
            "        [0.4671, 0.5910, 0.5266],\n",
            "        [0.4177, 0.6503, 0.5645]])\n"
          ]
        }
      ]
    },
    {
      "cell_type": "code",
      "source": [
        "# We can doubl-check that the code is correct\n",
        "print(\"Previous 2nd context vector: \", context_vec_2)"
      ],
      "metadata": {
        "colab": {
          "base_uri": "https://localhost:8080/"
        },
        "id": "Kt5a2z09ZYO1",
        "outputId": "4212fa3f-8b86-43c0-b2e1-b5a850aad457"
      },
      "execution_count": 14,
      "outputs": [
        {
          "output_type": "stream",
          "name": "stdout",
          "text": [
            "Previous 2nd context vector:  tensor([0.4419, 0.6515, 0.5683])\n"
          ]
        }
      ]
    },
    {
      "cell_type": "markdown",
      "source": [
        "## 3.4 - Implementing self-attention with trainable weights\n",
        "\n",
        "  - Next implement the self-attention mechanism called <i>scaled dot-product</i>.\n",
        "  - Self-attention mechanism with trainable weights builds on the previous concepts: we want to compute context vectors as weighted sums over the input vectors specific to a certain input elements.\n",
        "  - The most notable difference is the introduction of weight matrices that are updated during model training.  These trainable weight matrices are crucial so that the model (specifically, the attention module inside the model) can learn to produce \"good\" context vectors.\n",
        "\n",
        "### 3.4.1 - Computing the attention weights step by step\n",
        "\n",
        "  - Implement the self-attention mechanism step by step by introducing the tree trainable weight matrices wq, wk, and wv.  These 3 matrices are used to project the embedded input tokens x(i), into query, key and value vectors."
      ],
      "metadata": {
        "id": "Kw-ijIBUZj6C"
      }
    },
    {
      "cell_type": "code",
      "source": [
        "#   We start by computing only one context vector, z(2)\n",
        "x_2 = inputs[1]\n",
        "d_in = inputs.shape[1]\n",
        "d_out = 2\n",
        "\n",
        "#   Next initialize the three weight matrices wq, wk, wv\n",
        "torch.manual_seed(123)\n",
        "W_query = torch.nn.Parameter(torch.rand(d_in, d_out), requires_grad=False)\n",
        "W_key   = torch.nn.Parameter(torch.rand(d_in, d_out), requires_grad=False)\n",
        "W_value = torch.nn.Parameter(torch.rand(d_in, d_out), requires_grad=False)\n",
        "\n",
        "#   Set requires_grad = False, to reduce clutter in the outputs, but if we were\n",
        "# to use the weight matrices for model training, we would set requires_grad = True\n",
        "\n",
        "#   Compute the query, key, and value vectors\n",
        "query_2 = x_2 @ W_query\n",
        "key_2   = x_2 @ W_key\n",
        "value_2 = x_2 @ W_value\n",
        "print(query_2)"
      ],
      "metadata": {
        "colab": {
          "base_uri": "https://localhost:8080/"
        },
        "id": "P6gPTljwZi1V",
        "outputId": "831ce387-d0f5-40ec-a12f-e89271b480b3"
      },
      "execution_count": 15,
      "outputs": [
        {
          "output_type": "stream",
          "name": "stdout",
          "text": [
            "tensor([0.4306, 1.4551])\n"
          ]
        }
      ]
    },
    {
      "cell_type": "code",
      "source": [
        "#  We can obtain all keys and values via matrix multiplication:\n",
        "keys = inputs @ W_key\n",
        "values = inputs @ W_value\n",
        "print(\"keys.shape: \", keys.shape)\n",
        "print(\"values.shape: \", values.shape)"
      ],
      "metadata": {
        "colab": {
          "base_uri": "https://localhost:8080/"
        },
        "id": "Vn323JFtfTrq",
        "outputId": "76b187cd-8fce-4eb1-f01c-2603ce46de80"
      },
      "execution_count": 16,
      "outputs": [
        {
          "output_type": "stream",
          "name": "stdout",
          "text": [
            "keys.shape:  torch.Size([6, 2])\n",
            "values.shape:  torch.Size([6, 2])\n"
          ]
        }
      ]
    },
    {
      "cell_type": "code",
      "source": [
        "# The next step is to comput the attention score w22:\n",
        "keys_2 = keys[1]\n",
        "attn_score_22 = query_2.dot(keys_2)\n",
        "print(attn_score_22)"
      ],
      "metadata": {
        "colab": {
          "base_uri": "https://localhost:8080/"
        },
        "id": "C-SPnX_4flve",
        "outputId": "61309c29-7381-4bd5-a9c7-81f604e0c685"
      },
      "execution_count": 17,
      "outputs": [
        {
          "output_type": "stream",
          "name": "stdout",
          "text": [
            "tensor(1.8524)\n"
          ]
        }
      ]
    },
    {
      "cell_type": "code",
      "source": [
        "#   We can generalize this computation to all attention scores via\n",
        "# matrix multiplication\n",
        "attn_scores_2 = query_2 @ keys.T\n",
        "print(attn_scores_2)"
      ],
      "metadata": {
        "colab": {
          "base_uri": "https://localhost:8080/"
        },
        "id": "SzRMSh4Yf1jb",
        "outputId": "9e4066ae-6052-48b0-b192-dfd0facca0aa"
      },
      "execution_count": 18,
      "outputs": [
        {
          "output_type": "stream",
          "name": "stdout",
          "text": [
            "tensor([1.2705, 1.8524, 1.8111, 1.0795, 0.5577, 1.5440])\n"
          ]
        }
      ]
    },
    {
      "cell_type": "code",
      "source": [
        "#   We can compute the attention weights by scaling the attention scores and\n",
        "# using the softmax function.\n",
        "d_k = keys.shape[-1]\n",
        "attn_weights_2 = torch.softmax(attn_scores_2 / d_k**0.5, dim = -1)\n",
        "print(attn_weights_2)"
      ],
      "metadata": {
        "colab": {
          "base_uri": "https://localhost:8080/"
        },
        "id": "TROWi_FugHsn",
        "outputId": "a74065f4-8f25-4b75-fc3a-b367d4f3b5da"
      },
      "execution_count": 19,
      "outputs": [
        {
          "output_type": "stream",
          "name": "stdout",
          "text": [
            "tensor([0.1500, 0.2264, 0.2199, 0.1311, 0.0906, 0.1820])\n"
          ]
        }
      ]
    },
    {
      "cell_type": "code",
      "source": [
        "#   The final step is to comput the context vectors\n",
        "#   We compute the context vector as weighted sum over the input vectors\n",
        "context_vec_2 = attn_weights_2 @ values\n",
        "print(context_vec_2)"
      ],
      "metadata": {
        "colab": {
          "base_uri": "https://localhost:8080/"
        },
        "id": "pjVcdMYagf3O",
        "outputId": "bd42614e-5d80-4e39-82ce-ad5264d34e64"
      },
      "execution_count": 20,
      "outputs": [
        {
          "output_type": "stream",
          "name": "stdout",
          "text": [
            "tensor([0.3061, 0.8210])\n"
          ]
        }
      ]
    },
    {
      "cell_type": "markdown",
      "source": [
        "### 3.4.2 - Implementing a compact self-attention Python class"
      ],
      "metadata": {
        "id": "Hg_YDFkgg7IO"
      }
    },
    {
      "cell_type": "code",
      "source": [
        "# A compact self-attention class\n",
        "import torch.nn as nn\n",
        "\n",
        "class SelfAttention_v1(nn.Module):\n",
        "  def __init__(self, d_in, d_out):\n",
        "    super().__init__()\n",
        "    self.W_query = nn.Parameter(torch.rand(d_in, d_out))\n",
        "    self.W_key   = nn.Parameter(torch.rand(d_in, d_out))\n",
        "    self.W_value = nn.Parameter(torch.rand(d_in, d_out))\n",
        "\n",
        "  def forward(self, x):\n",
        "    keys        = x @ self.W_key\n",
        "    queries     = x @ self.W_query\n",
        "    values      = x @ self.W_value\n",
        "    attn_scores = queries @ keys.T #omega\n",
        "    attn_weights = torch.softmax(\n",
        "        attn_scores / keys.shape[-1]**0.5, dim = -1\n",
        "    )\n",
        "    context_vec = attn_weights @ values\n",
        "    return context_vec"
      ],
      "metadata": {
        "id": "RkbW-1rQg5BG"
      },
      "execution_count": 21,
      "outputs": []
    },
    {
      "cell_type": "code",
      "source": [
        "# We can use this class as follows:\n",
        "torch.manual_seed(123)\n",
        "sa_v1 = SelfAttention_v1(d_in, d_out)\n",
        "print(sa_v1(inputs))"
      ],
      "metadata": {
        "colab": {
          "base_uri": "https://localhost:8080/"
        },
        "id": "q2X-qeNiiZoW",
        "outputId": "d24f25b2-f270-445a-9567-91e08ae24690"
      },
      "execution_count": 22,
      "outputs": [
        {
          "output_type": "stream",
          "name": "stdout",
          "text": [
            "tensor([[0.2996, 0.8053],\n",
            "        [0.3061, 0.8210],\n",
            "        [0.3058, 0.8203],\n",
            "        [0.2948, 0.7939],\n",
            "        [0.2927, 0.7891],\n",
            "        [0.2990, 0.8040]], grad_fn=<MmBackward0>)\n"
          ]
        }
      ]
    },
    {
      "cell_type": "markdown",
      "source": [
        "  - Self-attention involves the trainable weight matrices wq, wk, and wv.\n",
        "  - These matrices transform input data into queries, keys, and values, repectively, which are crucial components of the attention mechanism.\n",
        "  - We can improve the SelfAttention_v1 implementation further by utilizing PyTorch's nn.Linear layers, which effectively perform matrix multiplication when the bias unites are disabled.  \n",
        "  - Additionall, a significant advantage of using nn.Linear instead of manually implementing nn.Parameter(torch.rand(...)) is that nn.Linear has an optimized weight initialization scheme, contributing to more stable and effective model training."
      ],
      "metadata": {
        "id": "gw2u2N9OlRvu"
      }
    },
    {
      "cell_type": "code",
      "source": [
        "#### TO-DO : ERROR STARTS HERE\n",
        "\n",
        "class SelfAttention_v2(nn.Module):\n",
        "  def __init__(self, d_in, d_out, qkv_bias=False):\n",
        "    super().__init__()\n",
        "    self.W_query = nn.Linear(d_in, d_out, bias=qkv_bias)\n",
        "    self.W_key   = nn.Linear(d_in, d_out, bias=qkv_bias)\n",
        "    self.W_value = nn.Linear(d_in, d_out, bias=qkv_bias)\n",
        "\n",
        "  def forward(self, x):\n",
        "    keys        = self.W_key(x)\n",
        "    queries     = self.W_query(x)\n",
        "    values      = self.W_value(x)\n",
        "    attn_scores = queries @ keys.T\n",
        "    attn_weights = torch.softmax(\n",
        "        attn_scores / keys.shape[-1]**0.5, dim = -1\n",
        "    )\n",
        "    context_vec = attn_weights @ values\n",
        "    return context_vec\n",
        "\n",
        "torch.manual_seed(123)\n",
        "sa_v2 = SelfAttention_v2(d_in, d_out)\n",
        "print(sa_v2(inputs))"
      ],
      "metadata": {
        "colab": {
          "base_uri": "https://localhost:8080/"
        },
        "id": "HTv3YsS4lEjH",
        "outputId": "64ca7763-101a-451c-a957-1eded7264840"
      },
      "execution_count": 23,
      "outputs": [
        {
          "output_type": "stream",
          "name": "stdout",
          "text": [
            "tensor([[-0.5337, -0.1051],\n",
            "        [-0.5323, -0.1080],\n",
            "        [-0.5323, -0.1079],\n",
            "        [-0.5297, -0.1076],\n",
            "        [-0.5311, -0.1066],\n",
            "        [-0.5299, -0.1081]], grad_fn=<MmBackward0>)\n"
          ]
        }
      ]
    },
    {
      "cell_type": "markdown",
      "source": [
        "  - v1 and v2 give different outputs because they use different initial weights.\n",
        "\n",
        "## 3.5 - Hiding future words with causal attention\n",
        "\n",
        "  - For many LLM tasks, you will want the self-attention mechanism to consider only tokens that appear prior to the current position when predicting the next token in a sequence.\n",
        "  - Casual attention (masked attention) is specialized form of self-attention.\n",
        "    - It restricts a model to only consider previous and current inputs in a sequence when processing any given token when computing attention scores.\n",
        "\n",
        "### 3.5.1 - Applying a casual attention mask"
      ],
      "metadata": {
        "id": "hh9KzJSpovtk"
      }
    },
    {
      "cell_type": "code",
      "source": [
        "# Compute the attentoion weights using the softmax function as we have done before\n",
        "queries = sa_v2.W_query(inputs)\n",
        "keys = sa_v2.W_key(inputs)\n",
        "attn_scores = queries @ keys.T\n",
        "attn_weights = torch.softmax(attn_scores / keys.shape[-1]**0.5, dim = -1)\n",
        "print(attn_weights)"
      ],
      "metadata": {
        "colab": {
          "base_uri": "https://localhost:8080/"
        },
        "id": "gkCCK8isodhR",
        "outputId": "fe023b28-ab43-4672-e6a4-7d21250e310d"
      },
      "execution_count": 24,
      "outputs": [
        {
          "output_type": "stream",
          "name": "stdout",
          "text": [
            "tensor([[0.1717, 0.1762, 0.1761, 0.1555, 0.1627, 0.1579],\n",
            "        [0.1636, 0.1749, 0.1746, 0.1612, 0.1605, 0.1652],\n",
            "        [0.1637, 0.1749, 0.1746, 0.1611, 0.1606, 0.1651],\n",
            "        [0.1636, 0.1704, 0.1702, 0.1652, 0.1632, 0.1674],\n",
            "        [0.1667, 0.1722, 0.1721, 0.1618, 0.1633, 0.1639],\n",
            "        [0.1624, 0.1709, 0.1706, 0.1654, 0.1625, 0.1682]],\n",
            "       grad_fn=<SoftmaxBackward0>)\n"
          ]
        }
      ]
    },
    {
      "cell_type": "code",
      "source": [
        "# Use PyTorch's tril function to create a mask where the values above the diagonal are zero\n",
        "context_length = attn_scores.shape[0]\n",
        "mask_simple = torch.tril(torch.ones(context_length, context_length))\n",
        "print(mask_simple)"
      ],
      "metadata": {
        "colab": {
          "base_uri": "https://localhost:8080/"
        },
        "id": "6woEVJytmcZv",
        "outputId": "7706e1e8-b725-415d-f33e-f92c1a76458f"
      },
      "execution_count": 25,
      "outputs": [
        {
          "output_type": "stream",
          "name": "stdout",
          "text": [
            "tensor([[1., 0., 0., 0., 0., 0.],\n",
            "        [1., 1., 0., 0., 0., 0.],\n",
            "        [1., 1., 1., 0., 0., 0.],\n",
            "        [1., 1., 1., 1., 0., 0.],\n",
            "        [1., 1., 1., 1., 1., 0.],\n",
            "        [1., 1., 1., 1., 1., 1.]])\n"
          ]
        }
      ]
    },
    {
      "cell_type": "code",
      "source": [
        "# Now multiply this mask with the attention weights to zero-out the values above the diagonal:\n",
        "mask_simple = attn_weights * mask_simple\n",
        "print(mask_simple)"
      ],
      "metadata": {
        "colab": {
          "base_uri": "https://localhost:8080/"
        },
        "id": "ReZTs0NAnBRP",
        "outputId": "ca872f9d-433d-400d-e621-ae8477c07fe0"
      },
      "execution_count": 26,
      "outputs": [
        {
          "output_type": "stream",
          "name": "stdout",
          "text": [
            "tensor([[0.1717, 0.0000, 0.0000, 0.0000, 0.0000, 0.0000],\n",
            "        [0.1636, 0.1749, 0.0000, 0.0000, 0.0000, 0.0000],\n",
            "        [0.1637, 0.1749, 0.1746, 0.0000, 0.0000, 0.0000],\n",
            "        [0.1636, 0.1704, 0.1702, 0.1652, 0.0000, 0.0000],\n",
            "        [0.1667, 0.1722, 0.1721, 0.1618, 0.1633, 0.0000],\n",
            "        [0.1624, 0.1709, 0.1706, 0.1654, 0.1625, 0.1682]],\n",
            "       grad_fn=<MulBackward0>)\n"
          ]
        }
      ]
    },
    {
      "cell_type": "code",
      "source": [
        "# The next step is to renormalize the attention weights to sum up to 1 again in each row.\n",
        "row_sums = mask_simple.sum(dim = -1, keepdim = True)\n",
        "masked_simple_norm = mask_simple / row_sums\n",
        "print(masked_simple_norm)"
      ],
      "metadata": {
        "colab": {
          "base_uri": "https://localhost:8080/"
        },
        "id": "lOs8XkxtnNjK",
        "outputId": "dffedbbc-b304-4166-a637-62d808a144be"
      },
      "execution_count": 27,
      "outputs": [
        {
          "output_type": "stream",
          "name": "stdout",
          "text": [
            "tensor([[1.0000, 0.0000, 0.0000, 0.0000, 0.0000, 0.0000],\n",
            "        [0.4833, 0.5167, 0.0000, 0.0000, 0.0000, 0.0000],\n",
            "        [0.3190, 0.3408, 0.3402, 0.0000, 0.0000, 0.0000],\n",
            "        [0.2445, 0.2545, 0.2542, 0.2468, 0.0000, 0.0000],\n",
            "        [0.1994, 0.2060, 0.2058, 0.1935, 0.1953, 0.0000],\n",
            "        [0.1624, 0.1709, 0.1706, 0.1654, 0.1625, 0.1682]],\n",
            "       grad_fn=<DivBackward0>)\n"
          ]
        }
      ]
    },
    {
      "cell_type": "code",
      "source": [
        "#   To improve our casual attention, let's take a mathematical property of the\n",
        "# softmax function and implement the computation of the masked attention weights\n",
        "# more effivciently in fewer steps\n",
        "#   The softmax function converts into an probablility distribution.  When\n",
        "# negative infinity values are preseent in a row, it treats them as zer.\n",
        "#   Implement this by creating a mask with 1s above the diagonal the then\n",
        "# replacing these 1s with negative infinity\n",
        "mask = torch.triu(torch.ones(context_length, context_length), diagonal=1)\n",
        "masked = attn_scores.masked_fill(mask.bool(), -torch.inf)\n",
        "print(masked)"
      ],
      "metadata": {
        "colab": {
          "base_uri": "https://localhost:8080/"
        },
        "id": "MrWeOPQuoiNR",
        "outputId": "5ab9b159-9bbc-49e7-cb26-35082dc5b473"
      },
      "execution_count": 28,
      "outputs": [
        {
          "output_type": "stream",
          "name": "stdout",
          "text": [
            "tensor([[0.3111,   -inf,   -inf,   -inf,   -inf,   -inf],\n",
            "        [0.1655, 0.2602,   -inf,   -inf,   -inf,   -inf],\n",
            "        [0.1667, 0.2602, 0.2577,   -inf,   -inf,   -inf],\n",
            "        [0.0510, 0.1080, 0.1064, 0.0643,   -inf,   -inf],\n",
            "        [0.1415, 0.1875, 0.1863, 0.0987, 0.1121,   -inf],\n",
            "        [0.0476, 0.1192, 0.1171, 0.0731, 0.0477, 0.0966]],\n",
            "       grad_fn=<MaskedFillBackward0>)\n"
          ]
        }
      ]
    },
    {
      "cell_type": "code",
      "source": [
        "#   No apply the softmax function\n",
        "attn_weights = torch.softmax(masked / keys.shape[-1]**0.5, dim = -1)\n",
        "print(attn_weights)"
      ],
      "metadata": {
        "colab": {
          "base_uri": "https://localhost:8080/"
        },
        "id": "rERwTJQ0px6j",
        "outputId": "7b79d2bb-e75b-41fc-98d8-ca699d765660"
      },
      "execution_count": 29,
      "outputs": [
        {
          "output_type": "stream",
          "name": "stdout",
          "text": [
            "tensor([[1.0000, 0.0000, 0.0000, 0.0000, 0.0000, 0.0000],\n",
            "        [0.4833, 0.5167, 0.0000, 0.0000, 0.0000, 0.0000],\n",
            "        [0.3190, 0.3408, 0.3402, 0.0000, 0.0000, 0.0000],\n",
            "        [0.2445, 0.2545, 0.2542, 0.2468, 0.0000, 0.0000],\n",
            "        [0.1994, 0.2060, 0.2058, 0.1935, 0.1953, 0.0000],\n",
            "        [0.1624, 0.1709, 0.1706, 0.1654, 0.1625, 0.1682]],\n",
            "       grad_fn=<SoftmaxBackward0>)\n"
          ]
        }
      ]
    },
    {
      "cell_type": "markdown",
      "source": [
        "### 3.5.2 - Masking additional attention weights with dropout\n",
        "\n",
        "  - Dropout is deep learning is a technique where randomly selected hidden layer units are ingnored during training.  \n",
        "  - This method helps prevent overfitting by ensuring that the model does not become overly reliant on any specific set of hidden layer units."
      ],
      "metadata": {
        "id": "UlInriPXrmCE"
      }
    },
    {
      "cell_type": "code",
      "source": [
        "#   We use a dropout rate of 50%, which means masking out half of the attention\n",
        "# weights.\n",
        "torch.manual_seed(123)\n",
        "droupout = torch.nn.Dropout(0.5)\n",
        "example = torch.ones(6, 6)\n",
        "print(droupout(example))\n",
        "\n",
        "#   our example doesn't match the one from the book.  Are they using a differnt\n",
        "# seed, or did torch change their algorithm"
      ],
      "metadata": {
        "id": "8LK5g1LWp9OM",
        "colab": {
          "base_uri": "https://localhost:8080/"
        },
        "outputId": "cb819e2d-1b2d-45bd-cc09-c350713979ef"
      },
      "execution_count": 30,
      "outputs": [
        {
          "output_type": "stream",
          "name": "stdout",
          "text": [
            "tensor([[2., 2., 2., 2., 2., 2.],\n",
            "        [0., 2., 0., 0., 0., 0.],\n",
            "        [0., 0., 2., 0., 2., 0.],\n",
            "        [2., 2., 0., 0., 0., 2.],\n",
            "        [2., 0., 0., 0., 0., 2.],\n",
            "        [0., 2., 0., 0., 0., 0.]])\n"
          ]
        }
      ]
    },
    {
      "cell_type": "code",
      "source": [
        "#   To compensate for the reduction in active elements, the values of the\n",
        "# remaining elements in the matrix are scaled up by a factor of 1/0.5 = 2.\n",
        "# Allpy dropout to the attention weight matrix itself:\n",
        "torch.manual_seed(123)\n",
        "print(droupout(attn_weights))"
      ],
      "metadata": {
        "colab": {
          "base_uri": "https://localhost:8080/"
        },
        "id": "GqNPwss3wtQc",
        "outputId": "bcd5c3f9-b632-4ab7-e76f-6c834b5a4592"
      },
      "execution_count": 31,
      "outputs": [
        {
          "output_type": "stream",
          "name": "stdout",
          "text": [
            "tensor([[2.0000, 0.0000, 0.0000, 0.0000, 0.0000, 0.0000],\n",
            "        [0.0000, 1.0335, 0.0000, 0.0000, 0.0000, 0.0000],\n",
            "        [0.0000, 0.0000, 0.6804, 0.0000, 0.0000, 0.0000],\n",
            "        [0.4889, 0.5090, 0.0000, 0.0000, 0.0000, 0.0000],\n",
            "        [0.3988, 0.0000, 0.0000, 0.0000, 0.0000, 0.0000],\n",
            "        [0.0000, 0.3418, 0.0000, 0.0000, 0.0000, 0.0000]],\n",
            "       grad_fn=<MulBackward0>)\n"
          ]
        }
      ]
    },
    {
      "cell_type": "markdown",
      "source": [
        "### 3.5.3 - Implementing a compact casual attention class"
      ],
      "metadata": {
        "id": "Z_8Uat06yqLW"
      }
    },
    {
      "cell_type": "code",
      "source": [
        "#   Incorporate the causal attention and dropout modications into the SelfAttention\n",
        "# python class.\n",
        "batch = torch.stack((inputs, inputs), dim = 0)\n",
        "print(batch.shape)"
      ],
      "metadata": {
        "colab": {
          "base_uri": "https://localhost:8080/"
        },
        "id": "hsOVfswrynf_",
        "outputId": "152a9960-d0de-4d7e-a8b7-52cad1f0cab0"
      },
      "execution_count": 32,
      "outputs": [
        {
          "output_type": "stream",
          "name": "stdout",
          "text": [
            "torch.Size([2, 6, 3])\n"
          ]
        }
      ]
    },
    {
      "cell_type": "code",
      "source": [
        "#   The Casual Attention class is similar to the SelfAttention class\n",
        "\n",
        "class CausalAttention(nn.Module):\n",
        "  def __init__(self, d_in, d_out, context_length,\n",
        "               droupout, qkv_bias=False):\n",
        "    super().__init__()\n",
        "    self.d_out   = d_out\n",
        "    self.W_query = nn.Linear(d_in, d_out, bias=qkv_bias)\n",
        "    self.W_key   = nn.Linear(d_in, d_out, bias=qkv_bias)\n",
        "    self.W_value = nn.Linear(d_in, d_out, bias=qkv_bias)\n",
        "    self.dropout  = nn.Dropout(droupout)\n",
        "    self.register_buffer(\n",
        "        'mask',\n",
        "        torch.triu(\n",
        "            torch.ones(context_length, context_length),\n",
        "            diagonal = 1\n",
        "        )\n",
        "    )\n",
        "\n",
        "  def forward(self, x):\n",
        "    b, num_tokens, d_in = x.shape\n",
        "    keys        = self.W_key(x)\n",
        "    queries     = self.W_query(x)\n",
        "    values      = self.W_value(x)\n",
        "\n",
        "    attn_scores = queries @ keys.transpose(1, 2)\n",
        "    attn_scores.masked_fill_(\n",
        "        self.mask.bool()[:num_tokens, :num_tokens], -torch.inf)\n",
        "\n",
        "    attn_weights = torch.softmax(\n",
        "        attn_scores / keys.shape[-1]**0.5, dim = -1\n",
        "    )\n",
        "    attn_weights = self.dropout(attn_weights)\n",
        "    context_vec = attn_weights @ values\n",
        "\n",
        "    return context_vec\n",
        "\n",
        "#   We now added a self.register_buffer() call in the __init__ method.  The use of\n",
        "# register_buffer in PyTorch is not strictly necessary for all use cases but\n",
        "# offers several advantages here.\n",
        "\n",
        "#   Instantiate and use our CausalAttention class\n",
        "torch.manual_seed(123)\n",
        "context_length = batch.shape[1]\n",
        "ca = CausalAttention(d_in, d_out, context_length, 0.0)\n",
        "context_vecs = ca(batch)\n",
        "print(\"context_vecs.shape: \", context_vecs.shape)"
      ],
      "metadata": {
        "colab": {
          "base_uri": "https://localhost:8080/"
        },
        "id": "GRuZg5JbzHhI",
        "outputId": "c5736ecf-d3d4-4946-acc4-4d835b9cc621"
      },
      "execution_count": 34,
      "outputs": [
        {
          "output_type": "stream",
          "name": "stdout",
          "text": [
            "context_vecs.shape:  torch.Size([2, 6, 2])\n"
          ]
        }
      ]
    },
    {
      "cell_type": "markdown",
      "source": [
        "## 3.6 - Extending single-head attention to multi-head attention\n",
        "\n",
        "  - Last step is to extend casual attention class over multiple heads, \"multi-head attention.\"\n",
        "  - Previous example can be considered single-head attention, where there is only one set of attention weights processing the input sequentially.\n",
        "\n",
        "### 3.6.1 - Stacking multiple single-head attention layers\n",
        "\n",
        "  - Creating a multi-head attention invlolves creating multiple instance of the self-attention mechanism, each with its own weights and then combine their outputs."
      ],
      "metadata": {
        "id": "yTh4Aav4Fwzg"
      }
    },
    {
      "cell_type": "code",
      "source": [
        "# A wrapper class to implement multi-head attention\n",
        "class MultiHeadAttentionWrapper(nn.Module):\n",
        "  def __init__(self, d_in, d_out, context_length,\n",
        "               droupout, num_heads, qkv_bias=False):\n",
        "    super().__init__()\n",
        "    self.heads = nn.ModuleList(\n",
        "        [CausalAttention(\n",
        "            d_in, d_out, context_length, droupout, qkv_bias=qkv_bias\n",
        "        )\n",
        "        for _ in range(num_heads)]\n",
        "    )\n",
        "\n",
        "  def forward(self, x):\n",
        "    return torch.cat([head(x) for head in self.heads], dim=-1)\n",
        "\n",
        "#   To illustrate this further with a concrete example, we can use\n",
        "# MultiHeadAttentionWrapper class.\n",
        "torch.manual_seed(123)\n",
        "context_length = batch.shape[1] # This is the number of tokens\n",
        "d_in, d_out = 3, 2\n",
        "mha = MultiHeadAttentionWrapper(\n",
        "    d_in, d_out, context_length, 0.0, num_heads=2\n",
        ")\n",
        "context_vecs = mha(batch)\n",
        "\n",
        "print(context_vecs)\n",
        "print(\"context_vecs.shape: \", context_vecs.shape)"
      ],
      "metadata": {
        "id": "LtoDrx6O27RC",
        "colab": {
          "base_uri": "https://localhost:8080/"
        },
        "outputId": "c72f60cb-43b5-4310-f86e-49b73928de0b"
      },
      "execution_count": 35,
      "outputs": [
        {
          "output_type": "stream",
          "name": "stdout",
          "text": [
            "tensor([[[-0.4519,  0.2216,  0.4772,  0.1063],\n",
            "         [-0.5874,  0.0058,  0.5891,  0.3257],\n",
            "         [-0.6300, -0.0632,  0.6202,  0.3860],\n",
            "         [-0.5675, -0.0843,  0.5478,  0.3589],\n",
            "         [-0.5526, -0.0981,  0.5321,  0.3428],\n",
            "         [-0.5299, -0.1081,  0.5077,  0.3493]],\n",
            "\n",
            "        [[-0.4519,  0.2216,  0.4772,  0.1063],\n",
            "         [-0.5874,  0.0058,  0.5891,  0.3257],\n",
            "         [-0.6300, -0.0632,  0.6202,  0.3860],\n",
            "         [-0.5675, -0.0843,  0.5478,  0.3589],\n",
            "         [-0.5526, -0.0981,  0.5321,  0.3428],\n",
            "         [-0.5299, -0.1081,  0.5077,  0.3493]]], grad_fn=<CatBackward0>)\n",
            "context_vecs.shape:  torch.Size([2, 6, 4])\n"
          ]
        }
      ]
    },
    {
      "cell_type": "markdown",
      "source": [
        "  - We can improve the multi-head method by switching it from sequential to parallel\n",
        "\n",
        "### 3.6.2 - Implementing multi-head attention with weight splits\n",
        "\n",
        "  - Rather than maintaining two seperate classes, we can merge and improve the multi-head attention more efficiently.\n",
        "  - In the new class, multiple heads are implemented by creating a list of CasualAttention objects, each representing a seperate attention head."
      ],
      "metadata": {
        "id": "GpnVgtG-JLCM"
      }
    },
    {
      "cell_type": "code",
      "source": [
        "# A more efficient multi-head attention class\n",
        "class MultiHeadAttention(nn.Module):\n",
        "  def __init__(self, d_in, d_out,\n",
        "               context_length, dropout, num_heads, qkv_bias=False):\n",
        "    super().__init__()\n",
        "    assert (d_out % num_heads == 0), \\\n",
        "        \"d_out must be divisible by num_heads\"\n",
        "\n",
        "    self.d_out = d_out\n",
        "    self.num_heads = num_heads\n",
        "    self.head_dim = d_out // num_heads\n",
        "    self.W_query = nn.Linear(d_in, d_out, bias=qkv_bias)\n",
        "    self.W_key   = nn.Linear(d_in, d_out, bias=qkv_bias)\n",
        "    self.W_value = nn.Linear(d_in, d_out, bias=qkv_bias)\n",
        "    self.out_proj = nn.Linear(d_out, d_out)\n",
        "    self.dropout = nn.Dropout(dropout)\n",
        "    self.register_buffer(\n",
        "        \"mask\",\n",
        "        torch.triu(torch.ones(context_length, context_length),\n",
        "                   diagonal=1)\n",
        "    )\n",
        "\n",
        "  def forward(self, x):\n",
        "    b, num_tokens, d_in = x.shape\n",
        "    keys = self.W_key(x)\n",
        "    queries = self.W_query(x)\n",
        "    values = self.W_value(x)\n",
        "\n",
        "    keys = keys.view(b, num_tokens, self.num_heads, self.head_dim)\n",
        "    values = values.view(b, num_tokens, self.num_heads, self.head_dim)\n",
        "    queries = queries.view(\n",
        "        b, num_tokens, self.num_heads, self.head_dim\n",
        "    )\n",
        "\n",
        "    keys = keys.transpose(1, 2)\n",
        "    queries = queries.transpose(1, 2)\n",
        "    values = values.transpose(1, 2)\n",
        "\n",
        "    attn_scores = queries @ keys.transpose(2, 3)\n",
        "    mask_bool = self.mask.bool()[:num_tokens, :num_tokens]\n",
        "\n",
        "    attn_scores.masked_fill_(mask_bool, -torch.inf)\n",
        "\n",
        "    attn_weights = torch.softmax(\n",
        "        attn_scores / keys.shape[-1]**0.5, dim = -1\n",
        "    )\n",
        "    attn_weights = self.dropout(attn_weights)\n",
        "\n",
        "    context_vec = (attn_weights @ values).transpose(1, 2)\n",
        "\n",
        "    context_vec = context_vec.contiguous().view(\n",
        "        b, num_tokens, self.d_out\n",
        "    )\n",
        "    context_vec = self.out_proj(context_vec)\n",
        "    return context_vec"
      ],
      "metadata": {
        "id": "0EHGe6e7JFZQ"
      },
      "execution_count": 37,
      "outputs": []
    },
    {
      "cell_type": "markdown",
      "source": [
        "  - The key operation is to split the d_out dimension into num_heads and head_dim, where head_dim = d_out / num_heads.\n",
        "  - The tensors are then transposed to bring the num_heads dimension before the num_tokens dimension, resulting in a shape of (b, num_heads, num_tokens, head_dim)."
      ],
      "metadata": {
        "id": "CopPVYwINxZx"
      }
    },
    {
      "cell_type": "code",
      "source": [
        "# (b, num_heads, num_tokens, head_dim) = (1, 2, 3, 4)\n",
        "a = torch.tensor([[[[0.2745, 0.6584, 0.2775, 0.8573],\n",
        "                    [0.8993, 0.0390, 0.9268, 0.7388],\n",
        "                    [0.7179, 0.7058, 0.9156, 0.4340]],\n",
        "\n",
        "                   [[0.0772, 0.3565, 0.1479, 0.5331],\n",
        "                    [0.4066, 0.2318, 0.4545, 0.9737],\n",
        "                    [0.4606, 0.5159, 0.4220, 0.5786]]]])\n",
        "\n",
        "print(a @ a.transpose(2, 3))"
      ],
      "metadata": {
        "colab": {
          "base_uri": "https://localhost:8080/"
        },
        "id": "HtWwOPJZNoKU",
        "outputId": "562df510-ae2a-402a-bfcb-c2f4352358e3"
      },
      "execution_count": 38,
      "outputs": [
        {
          "output_type": "stream",
          "name": "stdout",
          "text": [
            "tensor([[[[1.3208, 1.1631, 1.2879],\n",
            "          [1.1631, 2.2150, 1.8424],\n",
            "          [1.2879, 1.8424, 2.0402]],\n",
            "\n",
            "         [[0.4391, 0.7003, 0.5903],\n",
            "          [0.7003, 1.3737, 1.0620],\n",
            "          [0.5903, 1.0620, 0.9912]]]])\n"
          ]
        }
      ]
    },
    {
      "cell_type": "code",
      "source": [
        "#   The matrix multiplication implementation in PyTorch handles the\n",
        "# four-dimensional input tensor so that the matrix multiplication is carried out\n",
        "# between the two last dimensions\n",
        "first_head = a[0, 0, :, :]\n",
        "first_res = first_head @ first_head.T\n",
        "print(\"First head:\\n\", first_res)\n",
        "\n",
        "second_head = a[0, 1, :, :]\n",
        "second_res = second_head @ second_head.T\n",
        "print(\"\\nSecond head:\\n\", second_res)"
      ],
      "metadata": {
        "colab": {
          "base_uri": "https://localhost:8080/"
        },
        "id": "S9woQO8lOZnM",
        "outputId": "04642afa-e709-48b2-d2e7-4ab69605e2a6"
      },
      "execution_count": 39,
      "outputs": [
        {
          "output_type": "stream",
          "name": "stdout",
          "text": [
            "First head:\n",
            " tensor([[1.3208, 1.1631, 1.2879],\n",
            "        [1.1631, 2.2150, 1.8424],\n",
            "        [1.2879, 1.8424, 2.0402]])\n",
            "\n",
            "Second head:\n",
            " tensor([[0.4391, 0.7003, 0.5903],\n",
            "        [0.7003, 1.3737, 1.0620],\n",
            "        [0.5903, 1.0620, 0.9912]])\n"
          ]
        }
      ]
    },
    {
      "cell_type": "code",
      "source": [
        "#   The MultiHeadAttention class can be used similar to the SelfAttention and\n",
        "# CasualAttention classes.\n",
        "torch.manual_seed(123)\n",
        "batch_size, context_length, d_in = batch.shape\n",
        "d_out = 2\n",
        "\n",
        "mha = MultiHeadAttention(d_in, d_out, context_length, 0.0, num_heads=2)\n",
        "context_vecs = mha(batch)\n",
        "\n",
        "print(context_vecs)\n",
        "print(\"context_vecs.shape: \", context_vecs.shape)"
      ],
      "metadata": {
        "colab": {
          "base_uri": "https://localhost:8080/"
        },
        "id": "oOE9DwbSO2gp",
        "outputId": "dd5f7417-c804-48ee-fe75-653dd22398a5"
      },
      "execution_count": 40,
      "outputs": [
        {
          "output_type": "stream",
          "name": "stdout",
          "text": [
            "tensor([[[0.3190, 0.4858],\n",
            "         [0.2943, 0.3897],\n",
            "         [0.2856, 0.3593],\n",
            "         [0.2693, 0.3873],\n",
            "         [0.2639, 0.3928],\n",
            "         [0.2575, 0.4028]],\n",
            "\n",
            "        [[0.3190, 0.4858],\n",
            "         [0.2943, 0.3897],\n",
            "         [0.2856, 0.3593],\n",
            "         [0.2693, 0.3873],\n",
            "         [0.2639, 0.3928],\n",
            "         [0.2575, 0.4028]]], grad_fn=<ViewBackward0>)\n",
            "context_vecs.shape:  torch.Size([2, 6, 2])\n"
          ]
        }
      ]
    },
    {
      "cell_type": "code",
      "source": [],
      "metadata": {
        "id": "XWS7-kAHPfGh"
      },
      "execution_count": null,
      "outputs": []
    }
  ]
}