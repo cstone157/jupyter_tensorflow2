{
 "cells": [
  {
   "cell_type": "markdown",
   "metadata": {
    "id": "65mLGjqLYNam"
   },
   "source": [
    "-----\n",
    "Build a Large Language Model\n",
    "Sebastian Raschka\n",
    "-----\n",
    "\n",
    "# Understanding large language models\n",
    "\n",
    "  - Language models \"understand\" == they can process and generate text in ways that appear coherent and contextually relevant.  Not that they possess human-like consciousness or comprehension.\n",
    "\n",
    "## What is an LLM?\n",
    "\n",
    "  - A LLM is a neural network designed to understand, generate, and respond to human-like text.\n",
    "\n",
    "## Applications of LLMs\n"
   ]
  },
  {
   "cell_type": "code",
   "execution_count": null,
   "metadata": {
    "id": "eQc16KdAYJNN"
   },
   "outputs": [],
   "source": []
  }
 ],
 "metadata": {
  "colab": {
   "authorship_tag": "ABX9TyNkpjfkZ13/FCbrU7kJWqpG",
   "provenance": []
  },
  "kernelspec": {
   "display_name": "Python 3 (ipykernel)",
   "language": "python",
   "name": "python3"
  },
  "language_info": {
   "codemirror_mode": {
    "name": "ipython",
    "version": 3
   },
   "file_extension": ".py",
   "mimetype": "text/x-python",
   "name": "python",
   "nbconvert_exporter": "python",
   "pygments_lexer": "ipython3",
   "version": "3.11.6"
  }
 },
 "nbformat": 4,
 "nbformat_minor": 4
}
