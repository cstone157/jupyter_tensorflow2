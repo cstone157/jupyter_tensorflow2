{
  "nbformat": 4,
  "nbformat_minor": 0,
  "metadata": {
    "colab": {
      "provenance": []
    },
    "kernelspec": {
      "name": "python3",
      "display_name": "Python 3"
    },
    "language_info": {
      "name": "python"
    }
  },
  "cells": [
    {
      "cell_type": "code",
      "execution_count": 1,
      "metadata": {
        "colab": {
          "base_uri": "https://localhost:8080/"
        },
        "id": "AmNPUD9wHvWS",
        "outputId": "45a8dabc-fc32-4ead-a263-e3b95540c34b"
      },
      "outputs": [
        {
          "output_type": "stream",
          "name": "stdout",
          "text": [
            "torch version: 2.8.0+cu126\n"
          ]
        }
      ],
      "source": [
        "from importlib.metadata import version\n",
        "print(\"torch version:\", version(\"torch\"))"
      ]
    },
    {
      "cell_type": "code",
      "source": [
        "!nvcc --version"
      ],
      "metadata": {
        "colab": {
          "base_uri": "https://localhost:8080/"
        },
        "id": "1WKg0AGwHxdP",
        "outputId": "99d8036a-f44f-4086-ef14-260dc51a8ae6"
      },
      "execution_count": 2,
      "outputs": [
        {
          "output_type": "stream",
          "name": "stdout",
          "text": [
            "nvcc: NVIDIA (R) Cuda compiler driver\n",
            "Copyright (c) 2005-2024 NVIDIA Corporation\n",
            "Built on Thu_Jun__6_02:18:23_PDT_2024\n",
            "Cuda compilation tools, release 12.5, V12.5.82\n",
            "Build cuda_12.5.r12.5/compiler.34385749_0\n"
          ]
        }
      ]
    },
    {
      "cell_type": "markdown",
      "source": [
        "# Fine-tuning for classification\n",
        "\n",
        "## 6.1 - Different categories of fine-tuning\n",
        "\n",
        "- Most common ways to fine tune:\n",
        "  - instruction fine-tuning - training a language model on a set of tasks using specific instructions to improve its ability to understand and execute tasks described in natural language prompts\n",
        "  - classification fine-tuning - the model is trained to recognize a specific set of class labels, such as \"spam\" and \"not spam.\"  The key point is that a classification fine-tuned model is restricted to predicting classes it has encountered during its training.\n",
        "\n",
        "## 6.2 - Preparing the dataset\n",
        "\n",
        "- Modify the GPT model we previously implemented and pretrained."
      ],
      "metadata": {
        "id": "S95_VKUVH5mW"
      }
    },
    {
      "cell_type": "code",
      "source": [],
      "metadata": {
        "id": "V7PxmF_bHy5q"
      },
      "execution_count": null,
      "outputs": []
    }
  ]
}