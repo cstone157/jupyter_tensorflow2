{
 "cells": [
  {
   "cell_type": "markdown",
   "id": "212e40ed-e110-427d-b567-4131059dcb04",
   "metadata": {},
   "source": [
    "# Pattern mining: basic concepts and methods\n",
    "\n",
    "## 4.1 - Basic concepts\n",
    "\n",
    "### 4.1.1 - Market basket analysis: a motivating example\n",
    "\n",
    "- A set of items is referred to as a itemset.\n",
    "- A example of frequent itemset mining is <b>market basket analysis</b>.\n",
    "- Each basket can then be represented by a Boolean vector of values assigned to the variables.\n",
    "- These patterns can be represented in the form of <b>association rules</b>.\n",
    "- Rule <b>support</b> and <b>confidence</b> are two measures of rule interestingness.\n",
    "    - A support of 2% means that 2% of all the transactions under analysis show that conputer and antivirus software are purchased together.\n",
    "    - A confidence of 60% means that 60% of the customers who purchased a computer also bough the software.\n",
    "    - <b>minimum support threshold</b>\n",
    "    - <b>minimum confidence threshold</b>"
   ]
  },
  {
   "cell_type": "code",
   "execution_count": 11,
   "id": "2ebf0fa6-3e6b-471c-a1cd-6124c54fbc62",
   "metadata": {},
   "outputs": [],
   "source": [
    "import numpy as np\n",
    "np.random.seed(123)\n",
    "\n",
    "items = [\"computer\", \"keyboard\", \"mouse\", \"monitor\", \"chair\", \"energy drink\"]\n",
    "n_items = np.random.randint(len(items))\n",
    "\n",
    "baskets = []\n",
    "for i in range(200):\n",
    "    b = []\n",
    "    j = np.random.randint(1, n_items)\n",
    "    for k in range(j):\n",
    "        l = np.random.randint(1, n_items)\n",
    "        if items[l] not in b:\n",
    "            b.append(items[l])\n",
    "    baskets.append(b)"
   ]
  },
  {
   "cell_type": "code",
   "execution_count": 33,
   "id": "c8b5bbca-56df-4009-9283-0702b2ea440f",
   "metadata": {},
   "outputs": [
    {
     "name": "stdout",
     "output_type": "stream",
     "text": [
      "Number of transactions: 200\n",
      "monitor : occurences => 47                       : support => 24%\n",
      "monitor, keyboard : occurences => 9              : support => 4%         : confidence(from parent) => 19%\n",
      "mouse : occurences => 52                         : support => 26%\n",
      "mouse, chair : occurences => 10                  : support => 5%         : confidence(from parent) => 19%\n",
      "mouse, chair, monitor : occurences => 2          : support => 1%         : confidence(from parent) => 20%\n",
      "mouse, monitor : occurences => 16                : support => 8%\n",
      "mouse, monitor, keyboard : occurences => 3       : support => 2%         : confidence(from parent) => 19%\n",
      "monitor, chair : occurences => 14                : support => 7%\n",
      "keyboard : occurences => 47                      : support => 24%\n",
      "keyboard, monitor : occurences => 10             : support => 5%         : confidence(from parent) => 21%\n",
      "...\n"
     ]
    }
   ],
   "source": [
    "import math\n",
    "print(f\"Number of transactions: {len(baskets)}\")\n",
    "\n",
    "## Count the different occurences of different combinations\n",
    "basket_cnt = {}\n",
    "for b in baskets:\n",
    "    for i in range(len(b)):\n",
    "        b_str = ', '.join(b[:i+1])\n",
    "        basket_cnt[b_str] = basket_cnt.get(b_str, 0) + 1\n",
    "\n",
    "i = 0\n",
    "prefix = \"NOT_A_PREFIX\"\n",
    "prefix_count = 1\n",
    "for k in basket_cnt:\n",
    "    if k.startswith(prefix):\n",
    "        to_print = f\"{k} : occurences => {basket_cnt[k]}\"\n",
    "        to_print = to_print + (\" \" * (48 - len(to_print)))\n",
    "        to_print = f\"{to_print} : support => {round((basket_cnt[k] / len(baskets)) * 100)}%\"\n",
    "        to_print = to_print + (\" \" * (72 - len(to_print)))\n",
    "        print(f\"{to_print} : confidence(from parent) => {round((basket_cnt[k] / prefix_count) * 100)}%\")\n",
    "    else:\n",
    "        to_print = f\"{k} : occurences => {basket_cnt[k]}\"\n",
    "        to_print = to_print + (\" \" * (48 - len(to_print)))\n",
    "        print(f\"{to_print} : support => {round((basket_cnt[k] / len(baskets)) * 100)}%\")\n",
    "\n",
    "    prefix = k\n",
    "    prefix_count = basket_cnt[k]\n",
    "    \n",
    "    i += 1\n",
    "    if i >= 10:\n",
    "        break\n",
    "print(f\"...\")"
   ]
  },
  {
   "cell_type": "markdown",
   "id": "db759412-c9fc-4f2e-b7cd-1161b42adc96",
   "metadata": {},
   "source": [
    "### 4.1.2 - Frequent items, closed itemsets, and association rules\n",
    "\n",
    "- The rule A => B holds in the transaction set D with <b>support</b> s, where s is the percentage of transactions in D that contain A U B.\n",
    "- The rule A => B has <b>confidence</b> c in the transaction set D, where c is the percentage of transaction in D containing A that also contain B.\n",
    "    - support(A => B) = P(A U B)\n",
    "    - confidence(A => B) = P(B | A)\n",
    "- Rules that satisfy both a minimum support threshold (min_sup) and minimum confidence threshold (min_conf) are called <b>strong</b>.\n",
    "- Itemset that contains k items is a <b>k-itemset</b>.\n",
    "- The <b>occurrence frequency of an itemset</b> is the number of transactions that contain the item set.\n",
    "- Occurence frequence is also referred as <b>frequency</b>, <b>support count</b>, or <b>count</b> of the itemset.\n",
    "- <b>Note:</b> <i>support</i> is sometimes referred to as <i>relative support</i>, whereas the occurrence frequency is called the <absolute support</b>.\n",
    "- If the relative support of an itemset I satisfies prespecified <b>minimum support threshold</b> (i.e., the absolute support of I satisfies the corresponding <b>minimum support count threshold</b>), then I is a <b>frequent</b> itemset.\n",
    "    - confidence(A => B) = P(B|A) = (support(A U B) / support(A)) = (support_count(A U B) / support_count(A))\n",
    "- In general, association rule mining can be viewed as a two-step process:\n",
    "    - <b>Find all frequent itemsets</b>.  By definition, each of these itemsets will occur at least as frequently as a predetermined minimum support count, min_sup.\n",
    "    - <b>Generate strong association rules from the frequent items.</b>  By definition, these rules must satisfy minimum support and minimum fonfidence.\n",
    "- "
   ]
  }
 ],
 "metadata": {
  "kernelspec": {
   "display_name": "Python 3 (ipykernel)",
   "language": "python",
   "name": "python3"
  },
  "language_info": {
   "codemirror_mode": {
    "name": "ipython",
    "version": 3
   },
   "file_extension": ".py",
   "mimetype": "text/x-python",
   "name": "python",
   "nbconvert_exporter": "python",
   "pygments_lexer": "ipython3",
   "version": "3.11.6"
  }
 },
 "nbformat": 4,
 "nbformat_minor": 5
}
