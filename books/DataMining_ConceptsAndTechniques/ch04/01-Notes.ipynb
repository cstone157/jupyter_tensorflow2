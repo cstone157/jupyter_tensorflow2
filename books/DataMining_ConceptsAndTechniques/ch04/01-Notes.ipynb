{
 "cells": [
  {
   "cell_type": "markdown",
   "id": "212e40ed-e110-427d-b567-4131059dcb04",
   "metadata": {},
   "source": [
    "# Pattern mining: basic concepts and methods\n",
    "\n",
    "## 4.1 - Basic concepts\n",
    "\n",
    "### 4.1.1 - Market basket analysis: a motivating example\n",
    "\n",
    "- A set of items is referred to as a itemset.\n",
    "- A example of frequent itemset mining is <b>market basket analysis</b>.\n",
    "- Each basket can then be represented by a Boolean vector of values assigned to the variables.\n",
    "- These patterns can be represented in the form of <b>association rules</b>.\n",
    "- Rule <b>support</b> and <b>confidence</b> are two measures of rule interestingness.\n",
    "    - A support of 2% means that 2% of all the transactions under analysis show that conputer and antivirus software are purchased together.\n",
    "    - A confidence of 60% means that 60% of the customers who purchased a computer also bough the software.\n",
    "    - <b>minimum support threshold</b>\n",
    "    - <b>minimum confidence threshold</b>"
   ]
  },
  {
   "cell_type": "code",
   "execution_count": 10,
   "id": "2ebf0fa6-3e6b-471c-a1cd-6124c54fbc62",
   "metadata": {},
   "outputs": [
    {
     "name": "stdout",
     "output_type": "stream",
     "text": [
      "{'monitor, keyboard': 7, 'mouse, chair, monitor': 2, 'mouse, monitor, keyboard': 3, 'monitor, chair': 8, 'keyboard, monitor': 6, 'chair': 17, 'chair, monitor': 6, 'keyboard': 17, 'keyboard, chair, monitor': 5, 'mouse': 18, 'chair, keyboard': 6, 'mouse, monitor': 11, 'chair, monitor, mouse': 3, 'monitor, mouse, keyboard, chair': 1, 'monitor': 15, 'chair, mouse, keyboard': 1, 'keyboard, monitor, mouse': 3, 'mouse, chair': 5, 'mouse, monitor, chair': 2, 'monitor, chair, mouse': 5, 'keyboard, monitor, chair': 1, 'chair, mouse': 14, 'mouse, keyboard': 5, 'mouse, chair, keyboard': 3, 'chair, mouse, monitor': 2, 'monitor, keyboard, mouse': 1, 'keyboard, chair': 7, 'monitor, mouse, keyboard': 3, 'monitor, mouse': 3, 'monitor, keyboard, chair': 1, 'monitor, mouse, chair': 2, 'chair, keyboard, mouse': 2, 'chair, keyboard, monitor': 1, 'keyboard, mouse': 5, 'keyboard, mouse, monitor': 1, 'mouse, keyboard, chair, monitor': 1, 'keyboard, chair, mouse': 1, 'mouse, keyboard, monitor, chair': 2, 'chair, mouse, keyboard, monitor': 1, 'chair, mouse, monitor, keyboard': 1, 'keyboard, mouse, chair, monitor': 1, 'monitor, chair, keyboard': 1}\n"
     ]
    }
   ],
   "source": [
    "import numpy as np\n",
    "np.random.seed(123)\n",
    "\n",
    "items = [\"computer\", \"keyboard\", \"mouse\", \"monitor\", \"chair\", \"energy drink\"]\n",
    "n_items = np.random.randint(len(items))\n",
    "\n",
    "baskets = []\n",
    "for i in range(200):\n",
    "    b = []\n",
    "    j = np.random.randint(1, n_items)\n",
    "    for k in range(j):\n",
    "        l = np.random.randint(1, n_items)\n",
    "        if items[l] not in b:\n",
    "            b.append(items[l])\n",
    "    baskets.append(b)\n",
    "\n",
    "basket_cnt = {}\n",
    "for b in baskets:\n",
    "    b_str = ', '.join(b)\n",
    "    basket_cnt[b_str] = basket_cnt.get(b_str, 0) + 1\n",
    "\n",
    "print(basket_cnt)"
   ]
  },
  {
   "cell_type": "markdown",
   "id": "db759412-c9fc-4f2e-b7cd-1161b42adc96",
   "metadata": {},
   "source": [
    "### 4.1.2 - Frequent items, closed itemsets, and association rules\n",
    "\n",
    "- The rule A => B holds in the transaction set D with <b>support</b> s, where s is the percentage of transactions in D that contain A U B.\n",
    "- The rule A => B has <b>confidence</b> c in the transaction set D, where c is the percentage of transaction in D containing A that also contain B.\n",
    "    - support(A => B) = P(A U B)\n",
    "    - confidence(A => B) = P(B | A)\n",
    "- Rules that satisfy both a minimum support threshold (min_sup) and minimum confidence threshold (min_conf) are called <b>strong</b"
   ]
  }
 ],
 "metadata": {
  "kernelspec": {
   "display_name": "Python 3 (ipykernel)",
   "language": "python",
   "name": "python3"
  },
  "language_info": {
   "codemirror_mode": {
    "name": "ipython",
    "version": 3
   },
   "file_extension": ".py",
   "mimetype": "text/x-python",
   "name": "python",
   "nbconvert_exporter": "python",
   "pygments_lexer": "ipython3",
   "version": "3.11.6"
  }
 },
 "nbformat": 4,
 "nbformat_minor": 5
}
