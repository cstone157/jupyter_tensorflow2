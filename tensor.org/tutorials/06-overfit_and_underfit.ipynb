{
 "cells": [
  {
   "cell_type": "markdown",
   "id": "b1004c53-a405-45db-9674-4cc32d01b78d",
   "metadata": {},
   "source": [
    "##  Overfit and underfit (https://www.tensorflow.org/tutorials/keras/overfit_and_underfit)\n",
    "\n",
    "As always, the code in this example will use the <code><a href=\"https://www.tensorflow.org/api_docs/python/tf/keras\">tf.keras</a></code> API, which you can learn more about in the TensorFlow <a href=\"https://www.tensorflow.org/guide/keras\">Keras guide</a>.\n",
    "\n",
    "In both of the previous examples—<a href=\"https://www.tensorflow.org/tutorials/keras/text_classification_with_hub\">classifying text and</a> <a href=\"https://www.tensorflow.org/tutorials/keras/regression\">predicting fuel efficiency</a>—the accuracy of models on the validation data would peak after training for a number of epochs and then stagnate or start decreasing.\n",
    "\n",
    "In other words, your model would overfit to the training data. Learning how to deal with overfitting is important. Although it's often possible to achieve high accuracy on the training set, what you really want is to develop models that generalize well to a testing set (or data they haven't seen before).\n",
    "\n",
    "The opposite of overfitting is underfitting. Underfitting occurs when there is still room for improvement on the train data. This can happen for a number of reasons: If the model is not powerful enough, is over-regularized, or has simply not been trained long enough. This means the network has not learned the relevant patterns in the training data.\n",
    "\n",
    "If you train for too long though, the model will start to overfit and learn patterns from the training data that don't generalize to the test data. You need to strike a balance. Understanding how to train for an appropriate number of epochs as you'll explore below is a useful skill.\n",
    "\n",
    "To prevent overfitting, the best solution is to use more complete training data. The dataset should cover the full range of inputs that the model is expected to handle. Additional data may only be useful if it covers new and interesting cases.\n",
    "\n",
    "A model trained on more complete data will naturally generalize better. When that is no longer possible, the next best solution is to use techniques like regularization. These place constraints on the quantity and type of information your model can store. If a network can only afford to memorize a small number of patterns, the optimization process will force it to focus on the most prominent patterns, which have a better chance of generalizing well.\n",
    "\n",
    "In this notebook, you'll explore several common regularization techniques, and use them to improve on a classification model.\n",
    "\n",
    "### Setup\n",
    "\n",
    "Before getting started, import the necessary packages:"
   ]
  },
  {
   "cell_type": "code",
   "execution_count": 1,
   "id": "ffff6ac9-866c-48f3-9983-fa861de017a0",
   "metadata": {},
   "outputs": [
    {
     "name": "stderr",
     "output_type": "stream",
     "text": [
      "2025-03-23 04:30:18.287866: E external/local_xla/xla/stream_executor/cuda/cuda_fft.cc:467] Unable to register cuFFT factory: Attempting to register factory for plugin cuFFT when one has already been registered\n",
      "WARNING: All log messages before absl::InitializeLog() is called are written to STDERR\n",
      "E0000 00:00:1742704218.303448  114962 cuda_dnn.cc:8579] Unable to register cuDNN factory: Attempting to register factory for plugin cuDNN when one has already been registered\n",
      "E0000 00:00:1742704218.308378  114962 cuda_blas.cc:1407] Unable to register cuBLAS factory: Attempting to register factory for plugin cuBLAS when one has already been registered\n",
      "W0000 00:00:1742704218.319070  114962 computation_placer.cc:177] computation placer already registered. Please check linkage and avoid linking the same target more than once.\n",
      "W0000 00:00:1742704218.319085  114962 computation_placer.cc:177] computation placer already registered. Please check linkage and avoid linking the same target more than once.\n",
      "W0000 00:00:1742704218.319086  114962 computation_placer.cc:177] computation placer already registered. Please check linkage and avoid linking the same target more than once.\n",
      "W0000 00:00:1742704218.319088  114962 computation_placer.cc:177] computation placer already registered. Please check linkage and avoid linking the same target more than once.\n",
      "2025-03-23 04:30:18.322421: I tensorflow/core/platform/cpu_feature_guard.cc:210] This TensorFlow binary is optimized to use available CPU instructions in performance-critical operations.\n",
      "To enable the following instructions: AVX2 FMA, in other operations, rebuild TensorFlow with the appropriate compiler flags.\n"
     ]
    },
    {
     "name": "stdout",
     "output_type": "stream",
     "text": [
      "2.19.0\n"
     ]
    }
   ],
   "source": [
    "import tensorflow as tf\n",
    "\n",
    "from tensorflow.keras import layers\n",
    "from tensorflow.keras import regularizers\n",
    "\n",
    "print(tf.__version__)"
   ]
  },
  {
   "cell_type": "code",
   "execution_count": 2,
   "id": "3a72945e-db4b-4281-a4d6-d01a182b4cf2",
   "metadata": {},
   "outputs": [
    {
     "name": "stdout",
     "output_type": "stream",
     "text": [
      "Collecting git+https://github.com/tensorflow/docs\n",
      "  Cloning https://github.com/tensorflow/docs to /tmp/pip-req-build-ad3kp8b4\n",
      "  Running command git clone --filter=blob:none --quiet https://github.com/tensorflow/docs /tmp/pip-req-build-ad3kp8b4\n",
      "  Resolved https://github.com/tensorflow/docs to commit 18c3a45517af27c8513e165b8a52e6bbc1204b99\n",
      "  Preparing metadata (setup.py) ... \u001b[?25ldone\n",
      "\u001b[?25hRequirement already satisfied: astor in /usr/local/lib/python3.11/dist-packages (from tensorflow-docs==2025.3.6.10029) (0.8.1)\n",
      "Requirement already satisfied: absl-py in /usr/local/lib/python3.11/dist-packages (from tensorflow-docs==2025.3.6.10029) (2.1.0)\n",
      "Requirement already satisfied: jinja2 in /usr/local/lib/python3.11/dist-packages (from tensorflow-docs==2025.3.6.10029) (3.1.4)\n",
      "Requirement already satisfied: nbformat in /usr/local/lib/python3.11/dist-packages (from tensorflow-docs==2025.3.6.10029) (5.10.4)\n",
      "Requirement already satisfied: protobuf>=3.12 in /usr/local/lib/python3.11/dist-packages (from tensorflow-docs==2025.3.6.10029) (5.28.3)\n",
      "Requirement already satisfied: pyyaml in /usr/local/lib/python3.11/dist-packages (from tensorflow-docs==2025.3.6.10029) (6.0.2)\n",
      "Requirement already satisfied: MarkupSafe>=2.0 in /usr/local/lib/python3.11/dist-packages (from jinja2->tensorflow-docs==2025.3.6.10029) (3.0.2)\n",
      "Requirement already satisfied: fastjsonschema>=2.15 in /usr/local/lib/python3.11/dist-packages (from nbformat->tensorflow-docs==2025.3.6.10029) (2.20.0)\n",
      "Requirement already satisfied: jsonschema>=2.6 in /usr/local/lib/python3.11/dist-packages (from nbformat->tensorflow-docs==2025.3.6.10029) (4.23.0)\n",
      "Requirement already satisfied: jupyter-core!=5.0.*,>=4.12 in /usr/local/lib/python3.11/dist-packages (from nbformat->tensorflow-docs==2025.3.6.10029) (5.7.2)\n",
      "Requirement already satisfied: traitlets>=5.1 in /usr/local/lib/python3.11/dist-packages (from nbformat->tensorflow-docs==2025.3.6.10029) (5.14.3)\n",
      "Requirement already satisfied: attrs>=22.2.0 in /usr/local/lib/python3.11/dist-packages (from jsonschema>=2.6->nbformat->tensorflow-docs==2025.3.6.10029) (24.2.0)\n",
      "Requirement already satisfied: jsonschema-specifications>=2023.03.6 in /usr/local/lib/python3.11/dist-packages (from jsonschema>=2.6->nbformat->tensorflow-docs==2025.3.6.10029) (2024.10.1)\n",
      "Requirement already satisfied: referencing>=0.28.4 in /usr/local/lib/python3.11/dist-packages (from jsonschema>=2.6->nbformat->tensorflow-docs==2025.3.6.10029) (0.35.1)\n",
      "Requirement already satisfied: rpds-py>=0.7.1 in /usr/local/lib/python3.11/dist-packages (from jsonschema>=2.6->nbformat->tensorflow-docs==2025.3.6.10029) (0.20.0)\n",
      "Requirement already satisfied: platformdirs>=2.5 in /usr/local/lib/python3.11/dist-packages (from jupyter-core!=5.0.*,>=4.12->nbformat->tensorflow-docs==2025.3.6.10029) (4.3.6)\n",
      "\u001b[33mWARNING: Running pip as the 'root' user can result in broken permissions and conflicting behaviour with the system package manager, possibly rendering your system unusable. It is recommended to use a virtual environment instead: https://pip.pypa.io/warnings/venv. Use the --root-user-action option if you know what you are doing and want to suppress this warning.\u001b[0m\u001b[33m\n",
      "\u001b[0m"
     ]
    }
   ],
   "source": [
    "!pip install git+https://github.com/tensorflow/docs\n",
    "\n",
    "import tensorflow_docs as tfdocs\n",
    "import tensorflow_docs.modeling\n",
    "import tensorflow_docs.plots"
   ]
  },
  {
   "cell_type": "code",
   "execution_count": 3,
   "id": "0c48d06c-6246-48b2-bc6a-f77e3cb32b24",
   "metadata": {},
   "outputs": [],
   "source": [
    "from  IPython import display\n",
    "from matplotlib import pyplot as plt\n",
    "\n",
    "import numpy as np\n",
    "\n",
    "import pathlib\n",
    "import shutil\n",
    "import tempfile"
   ]
  },
  {
   "cell_type": "code",
   "execution_count": 4,
   "id": "9633cec2-9021-47f7-96fb-36ca410eb1c5",
   "metadata": {},
   "outputs": [],
   "source": [
    "logdir = pathlib.Path(tempfile.mkdtemp())/\"tensorboard_logs\"\n",
    "shutil.rmtree(logdir, ignore_errors=True)"
   ]
  },
  {
   "cell_type": "markdown",
   "id": "d364103d-e4d9-46c8-b0df-1458ec863915",
   "metadata": {},
   "source": [
    "### The Higgs dataset\n",
    "\n",
    "The goal of this tutorial is not to do particle physics, so don't dwell on the details of the dataset. It contains 11,000,000 examples, each with 28 features, and a binary class label."
   ]
  },
  {
   "cell_type": "code",
   "execution_count": 5,
   "id": "8ddd4b66-d3cd-4754-b6db-b5b3baa4d2c4",
   "metadata": {},
   "outputs": [],
   "source": [
    "gz = tf.keras.utils.get_file('HIGGS.csv.gz', 'http://mlphysics.ics.uci.edu/data/higgs/HIGGS.csv.gz')"
   ]
  },
  {
   "cell_type": "code",
   "execution_count": 6,
   "id": "ba35667c-624b-49ff-877b-f129bc68c976",
   "metadata": {},
   "outputs": [],
   "source": [
    "FEATURES = 28"
   ]
  },
  {
   "cell_type": "markdown",
   "id": "f11ed7f9-5201-45ec-adb9-87ec334207e0",
   "metadata": {},
   "source": [
    "The <code><a href=\"https://www.tensorflow.org/api_docs/python/tf/data/experimental/CsvDataset\">tf.data.experimental.CsvDataset</a></code> class can be used to read csv records directly from a gzip file with no intermediate decompression step."
   ]
  },
  {
   "cell_type": "code",
   "execution_count": 7,
   "id": "9564f21e-406e-42a6-9b6f-1f71f4dbc5d3",
   "metadata": {},
   "outputs": [
    {
     "name": "stderr",
     "output_type": "stream",
     "text": [
      "2025-03-23 04:30:29.672038: E external/local_xla/xla/stream_executor/cuda/cuda_platform.cc:51] failed call to cuInit: INTERNAL: CUDA error: Failed call to cuInit: UNKNOWN ERROR (303)\n"
     ]
    }
   ],
   "source": [
    "ds = tf.data.experimental.CsvDataset(gz,[float(),]*(FEATURES+1), compression_type=\"GZIP\")"
   ]
  },
  {
   "cell_type": "markdown",
   "id": "d187b796-8082-4b44-886c-082da3b19f94",
   "metadata": {},
   "source": [
    "That csv reader class returns a list of scalars for each record. The following function repacks that list of scalars into a (feature_vector, label) pair."
   ]
  },
  {
   "cell_type": "code",
   "execution_count": 8,
   "id": "f1fe2a75-6d34-464b-87c6-b5209f6a3cfa",
   "metadata": {},
   "outputs": [],
   "source": [
    "def pack_row(*row):\n",
    "    label = row[0]\n",
    "    features = tf.stack(row[1:],1)\n",
    "    return features, label"
   ]
  },
  {
   "cell_type": "markdown",
   "id": "86c40e11-0b4a-4c0d-8298-67026b83b690",
   "metadata": {},
   "source": [
    "TensorFlow is most efficient when operating on large batches of data.\n",
    "\n",
    "So, instead of repacking each row individually make a new <code><a href=\"https://www.tensorflow.org/api_docs/python/tf/data/Dataset\">tf.data.Dataset</a></code> that takes batches of 10,000 examples, applies the <code>pack_row</code> function to each batch, and then splits the batches back up into individual records:"
   ]
  },
  {
   "cell_type": "code",
   "execution_count": 9,
   "id": "916df1bc-2cc5-4d2a-891d-398e45f19374",
   "metadata": {},
   "outputs": [],
   "source": [
    "packed_ds = ds.batch(10000).map(pack_row).unbatch()"
   ]
  },
  {
   "cell_type": "markdown",
   "id": "c0b0803f-1032-4698-b25a-779792f7854d",
   "metadata": {},
   "source": [
    "Inspect some of the records from this new <code>packed_ds</code>.\n",
    "\n",
    "The features are not perfectly normalized, but this is sufficient for this tutorial."
   ]
  },
  {
   "cell_type": "code",
   "execution_count": 10,
   "id": "ee15b84c-0c38-44d8-9a3d-917889b20adb",
   "metadata": {},
   "outputs": [
    {
     "name": "stdout",
     "output_type": "stream",
     "text": [
      "tf.Tensor(\n",
      "[ 0.8692932  -0.6350818   0.22569026  0.32747006 -0.6899932   0.75420225\n",
      " -0.24857314 -1.0920639   0.          1.3749921  -0.6536742   0.9303491\n",
      "  1.1074361   1.1389043  -1.5781983  -1.0469854   0.          0.65792954\n",
      " -0.01045457 -0.04576717  3.1019614   1.35376     0.9795631   0.97807616\n",
      "  0.92000484  0.72165745  0.98875093  0.87667835], shape=(28,), dtype=float32)\n"
     ]
    },
    {
     "name": "stderr",
     "output_type": "stream",
     "text": [
      "2025-03-23 04:30:31.603930: I tensorflow/core/framework/local_rendezvous.cc:407] Local rendezvous is aborting with status: OUT_OF_RANGE: End of sequence\n"
     ]
    },
    {
     "data": {
      "image/png": "[encoded data removed]",
      "text/plain": [
       "<Figure size 640x480 with 1 Axes>"
      ]
     },
     "metadata": {},
     "output_type": "display_data"
    }
   ],
   "source": [
    "for features,label in packed_ds.batch(1000).take(1):\n",
    "    print(features[0])\n",
    "    plt.hist(features.numpy().flatten(), bins = 101)"
   ]
  },
  {
   "cell_type": "markdown",
   "id": "ad585d7e-5d16-404b-a5bd-fb0947fc36ba",
   "metadata": {},
   "source": [
    "To keep this tutorial relatively short, use just the first 1,000 samples for validation, and the next 10,000 for training:"
   ]
  },
  {
   "cell_type": "code",
   "execution_count": 11,
   "id": "7c4883f9-3006-44cd-8cf8-1b7bd32b805f",
   "metadata": {},
   "outputs": [],
   "source": [
    "N_VALIDATION = int(1e3)\n",
    "N_TRAIN = int(1e4)\n",
    "BUFFER_SIZE = int(1e4)\n",
    "BATCH_SIZE = 500\n",
    "STEPS_PER_EPOCH = N_TRAIN//BATCH_SIZE"
   ]
  },
  {
   "cell_type": "markdown",
   "id": "e9e45e9c-30a7-4a30-bb02-ca0adfba2c88",
   "metadata": {},
   "source": [
    "The <code><a href=\"https://www.tensorflow.org/api_docs/python/tf/data/Dataset#skip\">Dataset.skip</a></code> and <code><a href=\"https://www.tensorflow.org/api_docs/python/tf/data/Dataset#take\">Dataset.take</a></code> methods make this easy.\n",
    "\n",
    "At the same time, use the <code><a href=\"https://www.tensorflow.org/api_docs/python/tf/data/Dataset#cache\">Dataset.cache</a></code> method to ensure that the loader doesn't need to re-read the data from the file on each epoch:"
   ]
  },
  {
   "cell_type": "code",
   "execution_count": 12,
   "id": "776a8452-4066-4312-9a8d-1c9c60f6f8ee",
   "metadata": {},
   "outputs": [],
   "source": [
    "validate_ds = packed_ds.take(N_VALIDATION).cache()\n",
    "train_ds = packed_ds.skip(N_VALIDATION).take(N_TRAIN).cache()"
   ]
  },
  {
   "cell_type": "code",
   "execution_count": 13,
   "id": "f3ca67af-3bc5-4571-b22a-aac0a484cb05",
   "metadata": {},
   "outputs": [
    {
     "data": {
      "text/plain": [
       "<CacheDataset element_spec=(TensorSpec(shape=(28,), dtype=tf.float32, name=None), TensorSpec(shape=(), dtype=tf.float32, name=None))>"
      ]
     },
     "execution_count": 13,
     "metadata": {},
     "output_type": "execute_result"
    }
   ],
   "source": [
    "train_ds"
   ]
  },
  {
   "cell_type": "markdown",
   "id": "decc81c0-7a1c-45f4-b8fe-f147f2d16995",
   "metadata": {},
   "source": [
    "These datasets return individual examples. Use the <code><a href=\"https://www.tensorflow.org/api_docs/python/tf/data/Dataset#batch\">Dataset.batch</a></code> method to create batches of an appropriate size for training. Before batching, also remember to use <code><a href=\"https://www.tensorflow.org/api_docs/python/tf/data/Dataset#shuffle\">Dataset.shuffle</a></code> and <code><a href=\"https://www.tensorflow.org/api_docs/python/tf/data/Dataset#repeat\">Dataset.repeat</a></code> on the training set."
   ]
  },
  {
   "cell_type": "code",
   "execution_count": 14,
   "id": "5918a6e9-1c4b-412b-b0bd-3a752df629b3",
   "metadata": {},
   "outputs": [],
   "source": [
    "validate_ds = validate_ds.batch(BATCH_SIZE)\n",
    "train_ds = train_ds.shuffle(BUFFER_SIZE).repeat().batch(BATCH_SIZE)"
   ]
  },
  {
   "cell_type": "markdown",
   "id": "f30f4f50-92a4-494f-a28d-d0fab6323be6",
   "metadata": {},
   "source": [
    "### Demonstrate overfitting\n",
    "\n",
    "The simplest way to prevent overfitting is to start with a small model: A model with a small number of learnable parameters (which is determined by the number of layers and the number of units per layer). In deep learning, the number of learnable parameters in a model is often referred to as the model's \"capacity\".\n",
    "\n",
    "Intuitively, a model with more parameters will have more \"memorization capacity\" and therefore will be able to easily learn a perfect dictionary-like mapping between training samples and their targets, a mapping without any generalization power, but this would be useless when making predictions on previously unseen data.\n",
    "\n",
    "Always keep this in mind: deep learning models tend to be good at fitting to the training data, but the real challenge is generalization, not fitting.\n",
    "\n",
    "On the other hand, if the network has limited memorization resources, it will not be able to learn the mapping as easily. To minimize its loss, it will have to learn compressed representations that have more predictive power. At the same time, if you make your model too small, it will have difficulty fitting to the training data. There is a balance between \"too much capacity\" and \"not enough capacity\".\n",
    "\n",
    "Unfortunately, there is no magical formula to determine the right size or architecture of your model (in terms of the number of layers, or the right size for each layer). You will have to experiment using a series of different architectures.\n",
    "\n",
    "To find an appropriate model size, it's best to start with relatively few layers and parameters, then begin increasing the size of the layers or adding new layers until you see diminishing returns on the validation loss.\n",
    "\n",
    "Start with a simple model using only densely-connected layers (<code><a href=\"https://www.tensorflow.org/api_docs/python/tf/keras/layers/Dense\">tf.keras.layers.Dense</a></code>) as a baseline, then create larger models, and compare them.\n",
    "\n",
    "### Training procedure\n",
    "\n",
    "Many models train better if you gradually reduce the learning rate during training. Use <code><a href=\"https://www.tensorflow.org/api_docs/python/tf/keras/optimizers/schedules\">tf.keras.optimizers.schedules</a></code> to reduce the learning rate over time:"
   ]
  },
  {
   "cell_type": "code",
   "execution_count": 15,
   "id": "65c66f95-7ae2-4591-9e62-010a8b5d9e9f",
   "metadata": {},
   "outputs": [],
   "source": [
    "lr_schedule = tf.keras.optimizers.schedules.InverseTimeDecay(\n",
    "    0.001,\n",
    "    decay_steps=STEPS_PER_EPOCH*1000,\n",
    "    decay_rate=1,\n",
    "    staircase=False)\n",
    "\n",
    "def get_optimizer():\n",
    "    return tf.keras.optimizers.Adam(lr_schedule)"
   ]
  },
  {
   "cell_type": "markdown",
   "id": "fbe79376-d115-4a95-b046-badbb22fdd97",
   "metadata": {},
   "source": [
    "The code above sets a <code><a href=\"https://www.tensorflow.org/api_docs/python/tf/keras/optimizers/schedules/InverseTimeDecay\">tf.keras.optimizers.schedules.InverseTimeDecay</a></code> to hyperbolically decrease the learning rate to 1/2 of the base rate at 1,000 epochs, 1/3 at 2,000 epochs, and so on."
   ]
  },
  {
   "cell_type": "code",
   "execution_count": 16,
   "id": "2cb49da5-1404-45fc-98b2-80bc58ed4ae9",
   "metadata": {},
   "outputs": [
    {
     "data": {
      "image/png": "[encoded data removed]",
      "text/plain": [
       "<Figure size 800x600 with 1 Axes>"
      ]
     },
     "metadata": {},
     "output_type": "display_data"
    }
   ],
   "source": [
    "step = np.linspace(0,100000)\n",
    "lr = lr_schedule(step)\n",
    "plt.figure(figsize = (8,6))\n",
    "plt.plot(step/STEPS_PER_EPOCH, lr)\n",
    "plt.ylim([0,max(plt.ylim())])\n",
    "plt.xlabel('Epoch')\n",
    "_ = plt.ylabel('Learning Rate')"
   ]
  },
  {
   "cell_type": "markdown",
   "id": "90950725-51d1-4d48-b109-da0b20010aad",
   "metadata": {},
   "source": [
    "Each model in this tutorial will use the same training configuration. So set these up in a reusable way, starting with the list of callbacks.\n",
    "\n",
    "The training for this tutorial runs for many short epochs. To reduce the logging noise use the <code>tfdocs.EpochDots</code> which simply prints a <code>.</code> for each epoch, and a full set of metrics every 100 epochs.\n",
    "\n",
    "Next include <code><a href=\"https://www.tensorflow.org/api_docs/python/tf/keras/callbacks/EarlyStopping\">tf.keras.callbacks.EarlyStopping</a></code> to avoid long and unnecessary training times. Note that this callback is set to monitor the <code>val_binary_crossentropy</code>, not the <code>val_loss</code>. This difference will be important later.\n",
    "\n",
    "Use <code><a href=\"https://www.tensorflow.org/api_docs/python/tf/keras/callbacks/TensorBoard\">callbacks.TensorBoard</a></code> to generate TensorBoard logs for the training."
   ]
  },
  {
   "cell_type": "code",
   "execution_count": 17,
   "id": "11061e7b-2f7c-4186-a81e-5e51aea56d62",
   "metadata": {},
   "outputs": [],
   "source": [
    "def get_callbacks(name):\n",
    "    return [\n",
    "        tfdocs.modeling.EpochDots(),\n",
    "        tf.keras.callbacks.EarlyStopping(monitor='val_binary_crossentropy', patience=200),\n",
    "        tf.keras.callbacks.TensorBoard(logdir/name),\n",
    "    ]"
   ]
  },
  {
   "cell_type": "markdown",
   "id": "80c5c1ee-3025-462c-bd19-b51907b5cfc7",
   "metadata": {},
   "source": [
    "Similarly each model will use the same <code><a href=\"https://www.tensorflow.org/api_docs/python/tf/keras/Model#compile\">Model.compile</a></code> and <code><a href=\"https://www.tensorflow.org/api_docs/python/tf/keras/Model#fit\">Model.fit</a></code> settings:"
   ]
  },
  {
   "cell_type": "code",
   "execution_count": 50,
   "id": "eaa1ed9e-016c-4166-b575-164a0590e976",
   "metadata": {},
   "outputs": [],
   "source": [
    "def compile_and_fit(model, name, optimizer=None, max_epochs=10000):\n",
    "    if optimizer is None:\n",
    "        optimizer = get_optimizer()\n",
    "    # model.compile(optimizer=optimizer,\n",
    "    #               loss=tf.keras.losses.BinaryCrossentropy(from_logits=True),\n",
    "    #               metrics=[tf.keras.metrics.BinaryCrossentropy(\n",
    "    #                   from_logits=True, name='binary_crossentropy'), \n",
    "    #                        'accuracy'])\n",
    "\n",
    "    ## Doesn't work\n",
    "    # model.compile(optimizer=optimizer,\n",
    "    #               loss=tf.keras.losses.BinaryCrossentropy(),\n",
    "    #               metrics=['accuracy'])\n",
    "\n",
    "    model.summary()\n",
    "\n",
    "    history = model.fit(\n",
    "        train_ds,\n",
    "        steps_per_epoch = STEPS_PER_EPOCH,\n",
    "        epochs=max_epochs,\n",
    "        validation_data=validate_ds,\n",
    "        callbacks=get_callbacks(name),\n",
    "        verbose=0)\n",
    "    return history"
   ]
  },
  {
   "cell_type": "markdown",
   "id": "1f16f84e-bcdb-4fae-8e81-84ab7dde16ff",
   "metadata": {},
   "source": [
    "### Tiny model\n",
    "\n",
    "Start by training a model:"
   ]
  },
  {
   "cell_type": "code",
   "execution_count": 51,
   "id": "7f860e11-4071-409e-996d-6d82d0cc6e1f",
   "metadata": {},
   "outputs": [],
   "source": [
    "tiny_model = tf.keras.Sequential([\n",
    "    layers.Dense(16, activation='elu', input_shape=(FEATURES,)),\n",
    "    layers.Dense(1)\n",
    "])"
   ]
  },
  {
   "cell_type": "code",
   "execution_count": 52,
   "id": "3b4fb4c6-45c6-4370-af32-8f29e0e66707",
   "metadata": {},
   "outputs": [],
   "source": [
    "size_histories = {}"
   ]
  },
  {
   "cell_type": "code",
   "execution_count": 53,
   "id": "685d8010-2101-423a-bb91-5594be4c3564",
   "metadata": {},
   "outputs": [
    {
     "data": {
      "text/html": [
       "<pre style=\"white-space:pre;overflow-x:auto;line-height:normal;font-family:Menlo,'DejaVu Sans Mono',consolas,'Courier New',monospace\"><span style=\"font-weight: bold\">Model: \"sequential_9\"</span>\n",
       "</pre>\n"
      ],
      "text/plain": [
       "\u001b[1mModel: \"sequential_9\"\u001b[0m\n"
      ]
     },
     "metadata": {},
     "output_type": "display_data"
    },
    {
     "data": {
      "text/html": [
       "<pre style=\"white-space:pre;overflow-x:auto;line-height:normal;font-family:Menlo,'DejaVu Sans Mono',consolas,'Courier New',monospace\">┏━━━━━━━━━━━━━━━━━━━━━━━━━━━━━━━━━┳━━━━━━━━━━━━━━━━━━━━━━━━┳━━━━━━━━━━━━━━━┓\n",
       "┃<span style=\"font-weight: bold\"> Layer (type)                    </span>┃<span style=\"font-weight: bold\"> Output Shape           </span>┃<span style=\"font-weight: bold\">       Param # </span>┃\n",
       "┡━━━━━━━━━━━━━━━━━━━━━━━━━━━━━━━━━╇━━━━━━━━━━━━━━━━━━━━━━━━╇━━━━━━━━━━━━━━━┩\n",
       "│ dense_18 (<span style=\"color: #0087ff; text-decoration-color: #0087ff\">Dense</span>)                │ (<span style=\"color: #00d7ff; text-decoration-color: #00d7ff\">None</span>, <span style=\"color: #00af00; text-decoration-color: #00af00\">16</span>)             │           <span style=\"color: #00af00; text-decoration-color: #00af00\">464</span> │\n",
       "├─────────────────────────────────┼────────────────────────┼───────────────┤\n",
       "│ dense_19 (<span style=\"color: #0087ff; text-decoration-color: #0087ff\">Dense</span>)                │ (<span style=\"color: #00d7ff; text-decoration-color: #00d7ff\">None</span>, <span style=\"color: #00af00; text-decoration-color: #00af00\">1</span>)              │            <span style=\"color: #00af00; text-decoration-color: #00af00\">17</span> │\n",
       "└─────────────────────────────────┴────────────────────────┴───────────────┘\n",
       "</pre>\n"
      ],
      "text/plain": [
       "┏━━━━━━━━━━━━━━━━━━━━━━━━━━━━━━━━━┳━━━━━━━━━━━━━━━━━━━━━━━━┳━━━━━━━━━━━━━━━┓\n",
       "┃\u001b[1m \u001b[0m\u001b[1mLayer (type)                   \u001b[0m\u001b[1m \u001b[0m┃\u001b[1m \u001b[0m\u001b[1mOutput Shape          \u001b[0m\u001b[1m \u001b[0m┃\u001b[1m \u001b[0m\u001b[1m      Param #\u001b[0m\u001b[1m \u001b[0m┃\n",
       "┡━━━━━━━━━━━━━━━━━━━━━━━━━━━━━━━━━╇━━━━━━━━━━━━━━━━━━━━━━━━╇━━━━━━━━━━━━━━━┩\n",
       "│ dense_18 (\u001b[38;5;33mDense\u001b[0m)                │ (\u001b[38;5;45mNone\u001b[0m, \u001b[38;5;34m16\u001b[0m)             │           \u001b[38;5;34m464\u001b[0m │\n",
       "├─────────────────────────────────┼────────────────────────┼───────────────┤\n",
       "│ dense_19 (\u001b[38;5;33mDense\u001b[0m)                │ (\u001b[38;5;45mNone\u001b[0m, \u001b[38;5;34m1\u001b[0m)              │            \u001b[38;5;34m17\u001b[0m │\n",
       "└─────────────────────────────────┴────────────────────────┴───────────────┘\n"
      ]
     },
     "metadata": {},
     "output_type": "display_data"
    },
    {
     "data": {
      "text/html": [
       "<pre style=\"white-space:pre;overflow-x:auto;line-height:normal;font-family:Menlo,'DejaVu Sans Mono',consolas,'Courier New',monospace\"><span style=\"font-weight: bold\"> Total params: </span><span style=\"color: #00af00; text-decoration-color: #00af00\">481</span> (1.88 KB)\n",
       "</pre>\n"
      ],
      "text/plain": [
       "\u001b[1m Total params: \u001b[0m\u001b[38;5;34m481\u001b[0m (1.88 KB)\n"
      ]
     },
     "metadata": {},
     "output_type": "display_data"
    },
    {
     "data": {
      "text/html": [
       "<pre style=\"white-space:pre;overflow-x:auto;line-height:normal;font-family:Menlo,'DejaVu Sans Mono',consolas,'Courier New',monospace\"><span style=\"font-weight: bold\"> Trainable params: </span><span style=\"color: #00af00; text-decoration-color: #00af00\">481</span> (1.88 KB)\n",
       "</pre>\n"
      ],
      "text/plain": [
       "\u001b[1m Trainable params: \u001b[0m\u001b[38;5;34m481\u001b[0m (1.88 KB)\n"
      ]
     },
     "metadata": {},
     "output_type": "display_data"
    },
    {
     "data": {
      "text/html": [
       "<pre style=\"white-space:pre;overflow-x:auto;line-height:normal;font-family:Menlo,'DejaVu Sans Mono',consolas,'Courier New',monospace\"><span style=\"font-weight: bold\"> Non-trainable params: </span><span style=\"color: #00af00; text-decoration-color: #00af00\">0</span> (0.00 B)\n",
       "</pre>\n"
      ],
      "text/plain": [
       "\u001b[1m Non-trainable params: \u001b[0m\u001b[38;5;34m0\u001b[0m (0.00 B)\n"
      ]
     },
     "metadata": {},
     "output_type": "display_data"
    },
    {
     "name": "stdout",
     "output_type": "stream",
     "text": [
      "\n",
      "Epoch: 0, accuracy:0.4737,  loss:8.3836,  val_accuracy:0.4620,  val_loss:8.4469,  \n",
      "."
     ]
    },
    {
     "name": "stderr",
     "output_type": "stream",
     "text": [
      "2025-03-26 03:37:44.238595: I tensorflow/core/framework/local_rendezvous.cc:407] Local rendezvous is aborting with status: OUT_OF_RANGE: End of sequence\n",
      "\t [[{{node IteratorGetNext}}]]\n"
     ]
    },
    {
     "ename": "ValueError",
     "evalue": "EarlyStopping callback received monitor=val_binary_crossentropy but Keras isn't able to automatically determine whether that metric should be maximized or minimized. Pass `mode='max'` in order to do early stopping based on the highest metric value, or pass `mode='min'` in order to use the lowest value.",
     "output_type": "error",
     "traceback": [
      "\u001b[0;31m---------------------------------------------------------------------------\u001b[0m",
      "\u001b[0;31mValueError\u001b[0m                                Traceback (most recent call last)",
      "Cell \u001b[0;32mIn[53], line 1\u001b[0m\n\u001b[0;32m----> 1\u001b[0m size_histories[\u001b[38;5;124m'\u001b[39m\u001b[38;5;124mTiny\u001b[39m\u001b[38;5;124m'\u001b[39m] \u001b[38;5;241m=\u001b[39m \u001b[43mcompile_and_fit\u001b[49m\u001b[43m(\u001b[49m\u001b[43mtiny_model\u001b[49m\u001b[43m,\u001b[49m\u001b[43m \u001b[49m\u001b[38;5;124;43m'\u001b[39;49m\u001b[38;5;124;43msizes/Tiny\u001b[39;49m\u001b[38;5;124;43m'\u001b[39;49m\u001b[43m)\u001b[49m\n",
      "Cell \u001b[0;32mIn[50], line 15\u001b[0m, in \u001b[0;36mcompile_and_fit\u001b[0;34m(model, name, optimizer, max_epochs)\u001b[0m\n\u001b[1;32m      9\u001b[0m model\u001b[38;5;241m.\u001b[39mcompile(optimizer\u001b[38;5;241m=\u001b[39moptimizer,\n\u001b[1;32m     10\u001b[0m               loss\u001b[38;5;241m=\u001b[39mtf\u001b[38;5;241m.\u001b[39mkeras\u001b[38;5;241m.\u001b[39mlosses\u001b[38;5;241m.\u001b[39mBinaryCrossentropy(),\n\u001b[1;32m     11\u001b[0m               metrics\u001b[38;5;241m=\u001b[39m[\u001b[38;5;124m'\u001b[39m\u001b[38;5;124maccuracy\u001b[39m\u001b[38;5;124m'\u001b[39m])\n\u001b[1;32m     13\u001b[0m model\u001b[38;5;241m.\u001b[39msummary()\n\u001b[0;32m---> 15\u001b[0m history \u001b[38;5;241m=\u001b[39m \u001b[43mmodel\u001b[49m\u001b[38;5;241;43m.\u001b[39;49m\u001b[43mfit\u001b[49m\u001b[43m(\u001b[49m\n\u001b[1;32m     16\u001b[0m \u001b[43m    \u001b[49m\u001b[43mtrain_ds\u001b[49m\u001b[43m,\u001b[49m\n\u001b[1;32m     17\u001b[0m \u001b[43m    \u001b[49m\u001b[43msteps_per_epoch\u001b[49m\u001b[43m \u001b[49m\u001b[38;5;241;43m=\u001b[39;49m\u001b[43m \u001b[49m\u001b[43mSTEPS_PER_EPOCH\u001b[49m\u001b[43m,\u001b[49m\n\u001b[1;32m     18\u001b[0m \u001b[43m    \u001b[49m\u001b[43mepochs\u001b[49m\u001b[38;5;241;43m=\u001b[39;49m\u001b[43mmax_epochs\u001b[49m\u001b[43m,\u001b[49m\n\u001b[1;32m     19\u001b[0m \u001b[43m    \u001b[49m\u001b[43mvalidation_data\u001b[49m\u001b[38;5;241;43m=\u001b[39;49m\u001b[43mvalidate_ds\u001b[49m\u001b[43m,\u001b[49m\n\u001b[1;32m     20\u001b[0m \u001b[43m    \u001b[49m\u001b[43mcallbacks\u001b[49m\u001b[38;5;241;43m=\u001b[39;49m\u001b[43mget_callbacks\u001b[49m\u001b[43m(\u001b[49m\u001b[43mname\u001b[49m\u001b[43m)\u001b[49m\u001b[43m,\u001b[49m\n\u001b[1;32m     21\u001b[0m \u001b[43m    \u001b[49m\u001b[43mverbose\u001b[49m\u001b[38;5;241;43m=\u001b[39;49m\u001b[38;5;241;43m0\u001b[39;49m\u001b[43m)\u001b[49m\n\u001b[1;32m     22\u001b[0m \u001b[38;5;28;01mreturn\u001b[39;00m history\n",
      "File \u001b[0;32m/usr/local/lib/python3.11/dist-packages/keras/src/utils/traceback_utils.py:122\u001b[0m, in \u001b[0;36mfilter_traceback.<locals>.error_handler\u001b[0;34m(*args, **kwargs)\u001b[0m\n\u001b[1;32m    119\u001b[0m     filtered_tb \u001b[38;5;241m=\u001b[39m _process_traceback_frames(e\u001b[38;5;241m.\u001b[39m__traceback__)\n\u001b[1;32m    120\u001b[0m     \u001b[38;5;66;03m# To get the full stack trace, call:\u001b[39;00m\n\u001b[1;32m    121\u001b[0m     \u001b[38;5;66;03m# `keras.config.disable_traceback_filtering()`\u001b[39;00m\n\u001b[0;32m--> 122\u001b[0m     \u001b[38;5;28;01mraise\u001b[39;00m e\u001b[38;5;241m.\u001b[39mwith_traceback(filtered_tb) \u001b[38;5;28;01mfrom\u001b[39;00m \u001b[38;5;28;01mNone\u001b[39;00m\n\u001b[1;32m    123\u001b[0m \u001b[38;5;28;01mfinally\u001b[39;00m:\n\u001b[1;32m    124\u001b[0m     \u001b[38;5;28;01mdel\u001b[39;00m filtered_tb\n",
      "File \u001b[0;32m/usr/local/lib/python3.11/dist-packages/keras/src/callbacks/early_stopping.py:129\u001b[0m, in \u001b[0;36mEarlyStopping._set_monitor_op\u001b[0;34m(self)\u001b[0m\n\u001b[1;32m    127\u001b[0m                         \u001b[38;5;28mself\u001b[39m\u001b[38;5;241m.\u001b[39mmonitor_op \u001b[38;5;241m=\u001b[39m ops\u001b[38;5;241m.\u001b[39mless\n\u001b[1;32m    128\u001b[0m \u001b[38;5;28;01mif\u001b[39;00m \u001b[38;5;28mself\u001b[39m\u001b[38;5;241m.\u001b[39mmonitor_op \u001b[38;5;129;01mis\u001b[39;00m \u001b[38;5;28;01mNone\u001b[39;00m:\n\u001b[0;32m--> 129\u001b[0m     \u001b[38;5;28;01mraise\u001b[39;00m \u001b[38;5;167;01mValueError\u001b[39;00m(\n\u001b[1;32m    130\u001b[0m         \u001b[38;5;124mf\u001b[39m\u001b[38;5;124m\"\u001b[39m\u001b[38;5;124mEarlyStopping callback received monitor=\u001b[39m\u001b[38;5;132;01m{\u001b[39;00m\u001b[38;5;28mself\u001b[39m\u001b[38;5;241m.\u001b[39mmonitor\u001b[38;5;132;01m}\u001b[39;00m\u001b[38;5;124m \u001b[39m\u001b[38;5;124m\"\u001b[39m\n\u001b[1;32m    131\u001b[0m         \u001b[38;5;124m\"\u001b[39m\u001b[38;5;124mbut Keras isn\u001b[39m\u001b[38;5;124m'\u001b[39m\u001b[38;5;124mt able to automatically determine whether \u001b[39m\u001b[38;5;124m\"\u001b[39m\n\u001b[1;32m    132\u001b[0m         \u001b[38;5;124m\"\u001b[39m\u001b[38;5;124mthat metric should be maximized or minimized. \u001b[39m\u001b[38;5;124m\"\u001b[39m\n\u001b[1;32m    133\u001b[0m         \u001b[38;5;124m\"\u001b[39m\u001b[38;5;124mPass `mode=\u001b[39m\u001b[38;5;124m'\u001b[39m\u001b[38;5;124mmax\u001b[39m\u001b[38;5;124m'\u001b[39m\u001b[38;5;124m` in order to do early stopping based \u001b[39m\u001b[38;5;124m\"\u001b[39m\n\u001b[1;32m    134\u001b[0m         \u001b[38;5;124m\"\u001b[39m\u001b[38;5;124mon the highest metric value, or pass `mode=\u001b[39m\u001b[38;5;124m'\u001b[39m\u001b[38;5;124mmin\u001b[39m\u001b[38;5;124m'\u001b[39m\u001b[38;5;124m` \u001b[39m\u001b[38;5;124m\"\u001b[39m\n\u001b[1;32m    135\u001b[0m         \u001b[38;5;124m\"\u001b[39m\u001b[38;5;124min order to use the lowest value.\u001b[39m\u001b[38;5;124m\"\u001b[39m\n\u001b[1;32m    136\u001b[0m     )\n\u001b[1;32m    137\u001b[0m \u001b[38;5;28;01mif\u001b[39;00m \u001b[38;5;28mself\u001b[39m\u001b[38;5;241m.\u001b[39mmonitor_op \u001b[38;5;241m==\u001b[39m ops\u001b[38;5;241m.\u001b[39mless:\n\u001b[1;32m    138\u001b[0m     \u001b[38;5;28mself\u001b[39m\u001b[38;5;241m.\u001b[39mmin_delta \u001b[38;5;241m*\u001b[39m\u001b[38;5;241m=\u001b[39m \u001b[38;5;241m-\u001b[39m\u001b[38;5;241m1\u001b[39m\n",
      "\u001b[0;31mValueError\u001b[0m: EarlyStopping callback received monitor=val_binary_crossentropy but Keras isn't able to automatically determine whether that metric should be maximized or minimized. Pass `mode='max'` in order to do early stopping based on the highest metric value, or pass `mode='min'` in order to use the lowest value."
     ]
    }
   ],
   "source": [
    "size_histories['Tiny'] = compile_and_fit(tiny_model, 'sizes/Tiny')"
   ]
  },
  {
   "cell_type": "markdown",
   "id": "068b1cf6-e327-482d-8d65-3c82d7bb0bc8",
   "metadata": {},
   "source": [
    "Now check how the model did:"
   ]
  },
  {
   "cell_type": "code",
   "execution_count": null,
   "id": "d0072c2a-8a60-42bd-b3dd-34ed3e838921",
   "metadata": {},
   "outputs": [],
   "source": [
    "plotter = tfdocs.plots.HistoryPlotter(metric = 'binary_crossentropy', smoothing_std=10)\n",
    "plotter.plot(size_histories)\n",
    "plt.ylim([0.5, 0.7])"
   ]
  },
  {
   "cell_type": "markdown",
   "id": "4ed7bedd-171c-4d72-b91c-1559e86220f9",
   "metadata": {},
   "source": [
    "### Small model\n",
    "\n",
    "To check if you can beat the performance of the small model, progressively train some larger models.\n",
    "\n",
    "Try two hidden layers with 16 units each:"
   ]
  },
  {
   "cell_type": "code",
   "execution_count": null,
   "id": "6439abb7-81f0-4c02-86f0-f9a61eb059c7",
   "metadata": {},
   "outputs": [],
   "source": [
    "small_model = tf.keras.Sequential([\n",
    "    # `input_shape` is only required here so that `.summary` works.\n",
    "    layers.Dense(16, activation='elu', input_shape=(FEATURES,)),\n",
    "    layers.Dense(16, activation='elu'),\n",
    "    layers.Dense(1)\n",
    "])"
   ]
  },
  {
   "cell_type": "code",
   "execution_count": null,
   "id": "01c6932b-1cbb-4424-bc03-86e1ccd6f5f2",
   "metadata": {},
   "outputs": [],
   "source": [
    "size_histories['Small'] = compile_and_fit(small_model, 'sizes/Small')"
   ]
  },
  {
   "cell_type": "markdown",
   "id": "4330dd4e-79c3-4eba-83ec-988dbec85bcc",
   "metadata": {},
   "source": [
    "### Medium model\n",
    "\n",
    "Now try three hidden layers with 64 units each:"
   ]
  },
  {
   "cell_type": "code",
   "execution_count": null,
   "id": "853d1deb-7ca8-4732-bc5f-db5ae9510164",
   "metadata": {},
   "outputs": [],
   "source": [
    "medium_model = tf.keras.Sequential([\n",
    "    layers.Dense(64, activation='elu', input_shape=(FEATURES,)),\n",
    "    layers.Dense(64, activation='elu'),\n",
    "    layers.Dense(64, activation='elu'),\n",
    "    layers.Dense(1)\n",
    "])"
   ]
  },
  {
   "cell_type": "markdown",
   "id": "b2032583-e4f8-4393-9adc-d0760c9f63fa",
   "metadata": {},
   "source": [
    "And train the model using the same data:"
   ]
  },
  {
   "cell_type": "code",
   "execution_count": null,
   "id": "b662f9db-b2c6-471a-a5be-1a17bea792e4",
   "metadata": {},
   "outputs": [],
   "source": [
    "size_histories['Medium']  = compile_and_fit(medium_model, \"sizes/Medium\")"
   ]
  },
  {
   "cell_type": "markdown",
   "id": "32951a7a-6a2d-46c7-b951-1b97e48354a8",
   "metadata": {},
   "source": [
    "### Large model\n",
    "\n",
    "As an exercise, you can create an even larger model and check how quickly it begins overfitting. Next, add to this benchmark a network that has much more capacity, far more than the problem would warrant:"
   ]
  },
  {
   "cell_type": "code",
   "execution_count": null,
   "id": "e99863fd-49e4-4315-958e-ab8d4fea4cdc",
   "metadata": {},
   "outputs": [],
   "source": [
    "large_model = tf.keras.Sequential([\n",
    "    layers.Dense(512, activation='elu', input_shape=(FEATURES,)),\n",
    "    layers.Dense(512, activation='elu'),\n",
    "    layers.Dense(512, activation='elu'),\n",
    "    layers.Dense(512, activation='elu'),\n",
    "    layers.Dense(1)\n",
    "])"
   ]
  },
  {
   "cell_type": "markdown",
   "id": "00cf8a31-fa71-48ad-8145-8d28aedcc830",
   "metadata": {},
   "source": [
    "And, again, train the model using the same data:"
   ]
  },
  {
   "cell_type": "code",
   "execution_count": null,
   "id": "f5d59467-b379-4de6-a107-35ce3b13eabb",
   "metadata": {},
   "outputs": [],
   "source": [
    "size_histories['large'] = compile_and_fit(large_model, \"sizes/large\")"
   ]
  },
  {
   "cell_type": "markdown",
   "id": "213b4fba-6a09-4586-b0b3-4f4e3db486ce",
   "metadata": {},
   "source": [
    "### Plot the training and validation losses\n",
    "\n",
    "The solid lines show the training loss, and the dashed lines show the validation loss (remember: a lower validation loss indicates a better model).\n",
    "\n",
    "While building a larger model gives it more power, if this power is not constrained somehow it can easily overfit to the training set.\n",
    "\n",
    "In this example, typically, only the \"Tiny\" model manages to avoid overfitting altogether, and each of the larger models overfit the data more quickly. This becomes so severe for the \"large\" model that you need to switch the plot to a log-scale to really figure out what's happening.\n",
    "\n",
    "This is apparent if you plot and compare the validation metrics to the training metrics.\n",
    "\n",
    "<ul>\n",
    "    <li>It's normal for there to be a small difference.</li>\n",
    "    <li>If both metrics are moving in the same direction, everything is fine.</li>\n",
    "    <li>If the validation metric begins to stagnate while the training metric continues to improve, you are probably close to overfitting.</li>\n",
    "    <li>If the validation metric is going in the wrong direction, the model is clearly overfitting.</li>\n",
    "</ul>"
   ]
  },
  {
   "cell_type": "code",
   "execution_count": null,
   "id": "3570be1b-ca95-472c-9a6b-332865d41ec4",
   "metadata": {},
   "outputs": [],
   "source": [
    "plotter.plot(size_histories)\n",
    "a = plt.xscale('log')\n",
    "plt.xlim([5, max(plt.xlim())])\n",
    "plt.ylim([0.5, 0.7])\n",
    "plt.xlabel(\"Epochs [Log Scale]\")"
   ]
  },
  {
   "cell_type": "markdown",
   "id": "f1dd4422-84df-4693-9012-26b6e65ab8e4",
   "metadata": {},
   "source": [
    "### View in TensorBoard\n",
    "\n",
    "These models all wrote TensorBoard logs during training.\n",
    "\n",
    "Open an embedded TensorBoard viewer inside a notebook (Sorry, this doesn't display on tensorflow.org):"
   ]
  },
  {
   "cell_type": "code",
   "execution_count": null,
   "id": "d7f83b11-1a7a-4523-b0e8-54733e483533",
   "metadata": {},
   "outputs": [],
   "source": [
    "# Load the TensorBoard notebook extension\n",
    "%load_ext tensorboard\n",
    "\n",
    "# Open an embedded TensorBoard viewer\n",
    "%tensorboard --logdir {logdir}/sizes"
   ]
  },
  {
   "cell_type": "markdown",
   "id": "7d7f10f8-41ca-41a4-b4a0-c4d09baf6152",
   "metadata": {},
   "source": [
    "You can view the <a href=\"https://tensorboard.dev/experiment/vW7jmmF9TmKmy3rbheMQpw/#scalars&_smoothingWeight=0.97\">results of a previous run</a> of this notebook on <a href=\"https://tensorboard.dev/\">TensorBoard.dev</a>.\n",
    "\n",
    "### Strategies to prevent overfitting\n",
    "\n",
    "Before getting into the content of this section copy the training logs from the \"Tiny\" model above, to use as a baseline for comparison."
   ]
  },
  {
   "cell_type": "code",
   "execution_count": null,
   "id": "29e4c0fc-ecbd-4933-b0ba-f59f21fec7ee",
   "metadata": {},
   "outputs": [],
   "source": [
    "shutil.rmtree(logdir/'regularizers/Tiny', ignore_errors=True)\n",
    "shutil.copytree(logdir/'sizes/Tiny', logdir/'regularizers/Tiny')"
   ]
  },
  {
   "cell_type": "code",
   "execution_count": null,
   "id": "9ea703f2-6037-40c7-a84e-ad11e9e75f81",
   "metadata": {},
   "outputs": [],
   "source": [
    "regularizer_histories = {}\n",
    "regularizer_histories['Tiny'] = size_histories['Tiny']"
   ]
  },
  {
   "cell_type": "markdown",
   "id": "34c5fc97-25eb-4d11-b7cb-36c057157997",
   "metadata": {},
   "source": [
    "### Add weight regularization\n",
    "\n",
    "You may be familiar with Occam's Razor principle: given two explanations for something, the explanation most likely to be correct is the \"simplest\" one, the one that makes the least amount of assumptions. This also applies to the models learned by neural networks: given some training data and a network architecture, there are multiple sets of weights values (multiple models) that could explain the data, and simpler models are less likely to overfit than complex ones.\n",
    "\n",
    "A \"simple model\" in this context is a model where the distribution of parameter values has less entropy (or a model with fewer parameters altogether, as demonstrated in the section above). Thus a common way to mitigate overfitting is to put constraints on the complexity of a network by forcing its weights only to take small values, which makes the distribution of weight values more \"regular\". This is called \"weight regularization\", and it is done by adding to the loss function of the network a cost associated with having large weights. This cost comes in two flavors:\n",
    "\n",
    "<ul>\n",
    "    <li><a href=\"https://developers.google.com/machine-learning/glossary/#L1_regularization\">L1 regularization</a>, where the cost added is proportional to the absolute value of the weights coefficients (i.e. to what is called the \"L1 norm\" of the weights).</li>\n",
    "    <li><a href=\"https://developers.google.com/machine-learning/glossary/#L2_regularization\">L2 regularization</a>, where the cost added is proportional to the square of the value of the weights coefficients (i.e. to what is called the squared \"L2 norm\" of the weights). L2 regularization is also called weight decay in the context of neural networks. Don't let the different name confuse you: weight decay is mathematically the exact same as L2 regularization.</li>\n",
    "</ul>\n",
    "\n",
    "L1 regularization pushes weights towards exactly zero, encouraging a sparse model. L2 regularization will penalize the weights parameters without making them sparse since the penalty goes to zero for small weights—one reason why L2 is more common.\n",
    "\n",
    "In <code><a href=\"https://www.tensorflow.org/api_docs/python/tf/keras\">tf.keras</a></code>, weight regularization is added by passing weight regularizer instances to layers as keyword arguments. Add L2 weight regularization:"
   ]
  },
  {
   "cell_type": "code",
   "execution_count": null,
   "id": "42b0bb43-d3e4-4a84-bb9b-9d05425721fe",
   "metadata": {},
   "outputs": [],
   "source": [
    "l2_model = tf.keras.Sequential([\n",
    "    layers.Dense(512, activation='elu',\n",
    "                 kernel_regularizer=regularizers.l2(0.001),\n",
    "                 input_shape=(FEATURES,)),\n",
    "    layers.Dense(512, activation='elu',\n",
    "                 kernel_regularizer=regularizers.l2(0.001)),\n",
    "    layers.Dense(512, activation='elu',\n",
    "                 kernel_regularizer=regularizers.l2(0.001)),\n",
    "    layers.Dense(512, activation='elu',\n",
    "                 kernel_regularizer=regularizers.l2(0.001)),\n",
    "    layers.Dense(1)\n",
    "])\n",
    "\n",
    "regularizer_histories['l2'] = compile_and_fit(l2_model, \"regularizers/l2\")"
   ]
  },
  {
   "cell_type": "markdown",
   "id": "61b48980-a7ef-435d-bcbb-2a91a0a5c763",
   "metadata": {},
   "source": [
    "<code>l2(0.001)</code> means that every coefficient in the weight matrix of the layer will add <code>0.001 * weight_coefficient_value**2</code> to the total loss of the network.\n",
    "\n",
    "That is why we're monitoring the <code>binary_crossentropy</code> directly. Because it doesn't have this regularization component mixed in.\n",
    "\n",
    "So, that same <code>\"Large\"</code> model with an <code>L2</code> regularization penalty performs much better:"
   ]
  },
  {
   "cell_type": "code",
   "execution_count": null,
   "id": "cb76c65f-8e06-42fb-99af-347d6a652980",
   "metadata": {},
   "outputs": [],
   "source": [
    "plotter.plot(regularizer_histories)\n",
    "plt.ylim([0.5, 0.7])"
   ]
  },
  {
   "cell_type": "markdown",
   "id": "403bf670-3de4-4525-9edb-02f287405f81",
   "metadata": {},
   "source": [
    "As demonstrated in the diagram above, the <code>\"L2\"</code> regularized model is now much more competitive with the <code>\"Tiny\"</code> model. This <code>\"L2\"</code> model is also much more resistant to overfitting than the <code>\"Large\"</code> model it was based on despite having the same number of parameters.\n",
    "\n",
    "#### More info\n",
    "\n",
    "There are two important things to note about this sort of regularization:\n",
    "\n",
    "<ul>\n",
    "    <li>If you are writing your own training loop, then you need to be sure to ask the model for its regularization losses.</li>\n",
    "</ul>"
   ]
  },
  {
   "cell_type": "code",
   "execution_count": null,
   "id": "2a528b28-12f3-492d-a5a3-b540b3329dd3",
   "metadata": {},
   "outputs": [],
   "source": [
    "result = l2_model(features)\n",
    "regularization_loss=tf.add_n(l2_model.losses)"
   ]
  },
  {
   "cell_type": "markdown",
   "id": "0df7a7a6-6df8-4d77-89b4-e71bf70b43a1",
   "metadata": {},
   "source": [
    "<ul>\n",
    "    <li>This implementation works by adding the weight penalties to the model's loss, and then applying a standard optimization procedure after that.</li>\n",
    "</ul>\n",
    "\n",
    "There is a second approach that instead only runs the optimizer on the raw loss, and then while applying the calculated step the optimizer also applies some weight decay. This \"decoupled weight decay\" is used in optimizers like <code><a href=\"https://www.tensorflow.org/api_docs/python/tf/keras/optimizers/Ftrl\">tf.keras.optimizers.Ftrl</a></code> and <code><a href=\"https://www.tensorflow.org/addons/api_docs/python/tfa/optimizers/AdamW\">tfa.optimizers.AdamW</a></code>.\n",
    "\n",
    "### Add dropout\n",
    "\n",
    "Dropout is one of the most effective and most commonly used regularization techniques for neural networks, developed by Hinton and his students at the University of Toronto.\n",
    "\n",
    "The intuitive explanation for dropout is that because individual nodes in the network cannot rely on the output of the others, each node must output features that are useful on their own.\n",
    "\n",
    "Dropout, applied to a layer, consists of randomly \"dropping out\" (i.e. set to zero) a number of output features of the layer during training. For example, a given layer would normally have returned a vector <code>[0.2, 0.5, 1.3, 0.8, 1.1]</code> for a given input sample during training; after applying dropout, this vector will have a few zero entries distributed at random, e.g. <code>[0, 0.5, 1.3, 0, 1.1]</code>.\n",
    "\n",
    "The \"dropout rate\" is the fraction of the features that are being zeroed-out; it is usually set between 0.2 and 0.5. At test time, no units are dropped out, and instead the layer's output values are scaled down by a factor equal to the dropout rate, so as to balance for the fact that more units are active than at training time.\n",
    "\n",
    "In Keras, you can introduce dropout in a network via the <code><a href=\"https://www.tensorflow.org/api_docs/python/tf/keras/layers/Dropout\">tf.keras.layers.Dropout</a></code> layer, which gets applied to the output of layer right before.\n",
    "\n",
    "Add two dropout layers to your network to check how well they do at reducing overfitting:"
   ]
  },
  {
   "cell_type": "code",
   "execution_count": null,
   "id": "e02fbd46-4b3d-4b9a-976a-7458a52e143f",
   "metadata": {},
   "outputs": [],
   "source": [
    "dropout_model = tf.keras.Sequential([\n",
    "    layers.Dense(512, activation='elu', input_shape=(FEATURES,)),\n",
    "    layers.Dropout(0.5),\n",
    "    layers.Dense(512, activation='elu'),\n",
    "    layers.Dropout(0.5),\n",
    "    layers.Dense(512, activation='elu'),\n",
    "    layers.Dropout(0.5),\n",
    "    layers.Dense(512, activation='elu'),\n",
    "    layers.Dropout(0.5),\n",
    "    layers.Dense(1)\n",
    "])\n",
    "\n",
    "regularizer_histories['dropout'] = compile_and_fit(dropout_model, \"regularizers/dropout\")"
   ]
  },
  {
   "cell_type": "code",
   "execution_count": null,
   "id": "f483a84b-fe21-4f75-92c8-e105347920c0",
   "metadata": {},
   "outputs": [],
   "source": [
    "plotter.plot(regularizer_histories)\n",
    "plt.ylim([0.5, 0.7])"
   ]
  },
  {
   "cell_type": "markdown",
   "id": "e23717e2-2b07-45e7-9301-91981f78e160",
   "metadata": {},
   "source": [
    "It's clear from this plot that both of these regularization approaches improve the behavior of the \"Large\" model. But this still doesn't beat even the \"Tiny\" baseline.\n",
    "\n",
    "Next try them both, together, and see if that does better.\n",
    "\n",
    "### Combined L2 + dropout"
   ]
  },
  {
   "cell_type": "code",
   "execution_count": null,
   "id": "c1e8cc69-fa7d-430f-bfd6-eb5eee491e14",
   "metadata": {},
   "outputs": [],
   "source": [
    "combined_model = tf.keras.Sequential([\n",
    "    layers.Dense(512, kernel_regularizer=regularizers.l2(0.0001),\n",
    "                 activation='elu', input_shape=(FEATURES,)),\n",
    "    layers.Dropout(0.5),\n",
    "    layers.Dense(512, kernel_regularizer=regularizers.l2(0.0001),\n",
    "                 activation='elu'),\n",
    "    layers.Dropout(0.5),\n",
    "    layers.Dense(512, kernel_regularizer=regularizers.l2(0.0001),\n",
    "                 activation='elu'),\n",
    "    layers.Dropout(0.5),\n",
    "    layers.Dense(512, kernel_regularizer=regularizers.l2(0.0001),\n",
    "                 activation='elu'),\n",
    "    layers.Dropout(0.5),\n",
    "    layers.Dense(1)\n",
    "])\n",
    "\n",
    "regularizer_histories['combined'] = compile_and_fit(combined_model, \"regularizers/combined\")"
   ]
  },
  {
   "cell_type": "code",
   "execution_count": null,
   "id": "89b1f23a-509f-4296-987c-c5010536ac61",
   "metadata": {},
   "outputs": [],
   "source": [
    "plotter.plot(regularizer_histories)\n",
    "plt.ylim([0.5, 0.7])"
   ]
  },
  {
   "cell_type": "markdown",
   "id": "60c62da3-fc43-4218-991e-3facdc449019",
   "metadata": {},
   "source": [
    "This model with the <code>\"Combined\"</code> regularization is obviously the best one so far.\n",
    "\n",
    "### View in TensorBoard\n",
    "\n",
    "These models also recorded TensorBoard logs.\n",
    "\n",
    "To open an embedded run the following into a code-cell (Sorry, this doesn't display on tensorflow.org):"
   ]
  },
  {
   "cell_type": "code",
   "execution_count": null,
   "id": "2f560dd1-ff59-46ea-b4f7-671576ab7e6f",
   "metadata": {},
   "outputs": [],
   "source": [
    "%tensorboard --logdir {logdir}/regularizers"
   ]
  },
  {
   "cell_type": "markdown",
   "id": "48b90c7c-869e-41d8-b3d1-492e15ef0671",
   "metadata": {},
   "source": [
    "You can view the <a href=\"https://tensorboard.dev/experiment/vW7jmmF9TmKmy3rbheMQpw/#scalars&_smoothingWeight=0.97\">results of a previous run</a> of this notebook on <a href=\"https://tensorboard.dev/\">TensorBoard.dev</a>.\n",
    "\n",
    "### Conclusions\n",
    "\n",
    "To recap, here are the most common ways to prevent overfitting in neural networks:\n",
    "\n",
    "<ul>\n",
    "    <li>Get more training data.</li>\n",
    "    <li>Reduce the capacity of the network.</li>\n",
    "    <li>Add weight regularization.</li>\n",
    "    <li>Add dropout.</li>\n",
    "</ul>\n",
    "\n",
    "Two important approaches not covered in this guide are:\n",
    "\n",
    "<ul>\n",
    "    <li><a href=\"https://www.tensorflow.org/tutorials/images/data_augmentation\">Data augmentation</a></li>\n",
    "    <li>Batch normalization (<code><a href=\"https://www.tensorflow.org/api_docs/python/tf/keras/layers/BatchNormalization\">tf.keras.layers.BatchNormalization</a></code>)</li>\n",
    "</ul>\n",
    "\n",
    "Remember that each method can help on its own, but often combining them can be even more effective."
   ]
  },
  {
   "cell_type": "code",
   "execution_count": null,
   "id": "d0ce8b9d-239b-4a45-bdcb-cce46ff67771",
   "metadata": {},
   "outputs": [],
   "source": []
  }
 ],
 "metadata": {
  "kernelspec": {
   "display_name": "Python 3 (ipykernel)",
   "language": "python",
   "name": "python3"
  },
  "language_info": {
   "codemirror_mode": {
    "name": "ipython",
    "version": 3
   },
   "file_extension": ".py",
   "mimetype": "text/x-python",
   "name": "python",
   "nbconvert_exporter": "python",
   "pygments_lexer": "ipython3",
   "version": "3.11.0rc1"
  }
 },
 "nbformat": 4,
 "nbformat_minor": 5
}
