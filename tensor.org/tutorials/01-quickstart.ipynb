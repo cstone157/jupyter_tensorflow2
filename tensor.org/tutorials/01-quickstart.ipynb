{
 "cells": [
  {
   "cell_type": "markdown",
   "id": "49996c54-168b-4711-bf10-e150f3687736",
   "metadata": {},
   "source": [
    "#### Pulled from : https://www.tensorflow.org/tutorials/quickstart/beginner"
   ]
  },
  {
   "cell_type": "markdown",
   "id": "b9004be6-a2cc-490e-90d2-19eafe8319fa",
   "metadata": {},
   "source": [
    "## Uses Keras (https://www.tensorflow.org/guide/keras/overview)\n",
    "\n",
    "1. Load prebuilt dataset\n",
    "2. Build neural network machine\n",
    "3. Train neural network\n",
    "4. Evaluate the machine"
   ]
  },
  {
   "cell_type": "markdown",
   "id": "0e713178-7b72-42ad-a69f-824434bbeb94",
   "metadata": {},
   "source": [
    "## Setup tensorflow"
   ]
  },
  {
   "cell_type": "code",
   "execution_count": 2,
   "id": "531e145b-a665-4047-83f6-ab6f36cd6f29",
   "metadata": {},
   "outputs": [
    {
     "name": "stdout",
     "output_type": "stream",
     "text": [
      "TensorFlow version: 2.18.0\n"
     ]
    }
   ],
   "source": [
    "import tensorflow as tf\n",
    "print(\"TensorFlow version:\", tf.__version__)"
   ]
  },
  {
   "cell_type": "markdown",
   "id": "3b71ad17-9426-4ab1-a4c2-d24d08bed9b7",
   "metadata": {},
   "source": [
    "## Load a dataset\n",
    "\n",
    "Load and prepare the MNIST dataset. The pixel values of the images range from 0 through 255. Scale these values to a range of 0 to 1 by dividing the values by 255.0. This also converts the sample data from integers to floating-point numbers:"
   ]
  },
  {
   "cell_type": "code",
   "execution_count": 6,
   "id": "db1b7dee-b09b-4f56-bd0b-f0850e3deae8",
   "metadata": {},
   "outputs": [],
   "source": [
    "mnist = tf.keras.datasets.mnist\n",
    "\n",
    "(x_train, y_train), (x_test, y_test) = mnist.load_data()\n",
    "x_train, x_test = x_train / 255.0, x_test / 255.0"
   ]
  },
  {
   "cell_type": "markdown",
   "id": "cf04df27-714e-41ba-bfce-1616d811bea5",
   "metadata": {},
   "source": [
    "## Build a machine learning model\n",
    "\n",
    "Using keras sequential (https://www.tensorflow.org/api_docs/python/tf/keras/Sequential) model"
   ]
  },
  {
   "cell_type": "code",
   "execution_count": 7,
   "id": "82e93d5a-ef96-4776-be78-440817b54f14",
   "metadata": {},
   "outputs": [],
   "source": [
    "model = tf.keras.models.Sequential([\n",
    "  tf.keras.layers.Flatten(input_shape=(28, 28)),\n",
    "  tf.keras.layers.Dense(128, activation='relu'),\n",
    "  tf.keras.layers.Dropout(0.2),\n",
    "  tf.keras.layers.Dense(10)\n",
    "])"
   ]
  },
  {
   "cell_type": "markdown",
   "id": "c22a0d50-9ad3-4daa-8260-340744e176cc",
   "metadata": {},
   "source": [
    "<a href=\"https://www.tensorflow.org/guide/keras/sequential_model\">Sequential</a> is useful for stacking layers where each layer has one input <a href=\"https://www.tensorflow.org/guide/tensor\">tensor</a> and one output tensor. Layers are functions with a known mathematical structure that can be reused and have trainable variables. Most TensorFlow models are composed of layers. This model uses the <a href=\"https://www.tensorflow.org/api_docs/python/tf/keras/layers/Flatten\">Flatten</a>, <a href=\"https://www.tensorflow.org/api_docs/python/tf/keras/layers/Dense\">Dense</a>, and <a href=\"https://www.tensorflow.org/api_docs/python/tf/keras/layers/Dropout\">Dropout</a> layers.\n",
    "\n",
    "For each example, the model returns a vector of <a href=\"https://developers.google.com/machine-learning/glossary#logits\">logits</a> or <a href=\"https://developers.google.com/machine-learning/glossary#log-odds\">log-odds</a> scores, one for each class."
   ]
  },
  {
   "cell_type": "code",
   "execution_count": 8,
   "id": "e2c8a4d9-6756-46a8-b533-5df7d24e0d18",
   "metadata": {},
   "outputs": [
    {
     "data": {
      "text/plain": [
       "array([[-0.08824034, -0.26079616, -0.07559998,  0.2138725 ,  0.1205364 ,\n",
       "        -0.33668992, -0.37281877, -0.14891198, -0.19410911,  0.1228098 ]],\n",
       "      dtype=float32)"
      ]
     },
     "execution_count": 8,
     "metadata": {},
     "output_type": "execute_result"
    }
   ],
   "source": [
    "predictions = model(x_train[:1]).numpy()\n",
    "predictions"
   ]
  },
  {
   "cell_type": "markdown",
   "id": "193c8145-8136-4b06-9d6c-52e6a8aaabf8",
   "metadata": {},
   "source": [
    "The <a href=\"https://www.tensorflow.org/api_docs/python/tf/nn/softmax\">tf.nn.softmax</a> function converts these logits to probabilities for each class: "
   ]
  },
  {
   "cell_type": "code",
   "execution_count": 9,
   "id": "c88ae442-aea5-4060-870b-92381b280fbb",
   "metadata": {},
   "outputs": [
    {
     "data": {
      "text/plain": [
       "array([[0.09953116, 0.08375659, 0.10079726, 0.13463718, 0.1226393 ,\n",
       "        0.07763521, 0.07488041, 0.09367198, 0.08953252, 0.12291842]],\n",
       "      dtype=float32)"
      ]
     },
     "execution_count": 9,
     "metadata": {},
     "output_type": "execute_result"
    }
   ],
   "source": [
    "tf.nn.softmax(predictions).numpy()"
   ]
  },
  {
   "cell_type": "markdown",
   "id": "a04bc1b1-e319-4e92-900e-75921c76c555",
   "metadata": {},
   "source": [
    "Define a loss function for training using <a href=\"https://www.tensorflow.org/api_docs/python/tf/keras/losses/SparseCategoricalCrossentropy\">losses.SparseCategoricalCrossentropy</a>:"
   ]
  },
  {
   "cell_type": "code",
   "execution_count": 10,
   "id": "1c6647fa-339b-4c61-b365-6cf436896df8",
   "metadata": {},
   "outputs": [],
   "source": [
    "loss_fn = tf.keras.losses.SparseCategoricalCrossentropy(from_logits=True)"
   ]
  },
  {
   "cell_type": "code",
   "execution_count": null,
   "id": "ec92a22c-21f9-4654-b4b5-5842728189d0",
   "metadata": {},
   "outputs": [],
   "source": []
  }
 ],
 "metadata": {
  "kernelspec": {
   "display_name": "Python 3 (ipykernel)",
   "language": "python",
   "name": "python3"
  },
  "language_info": {
   "codemirror_mode": {
    "name": "ipython",
    "version": 3
   },
   "file_extension": ".py",
   "mimetype": "text/x-python",
   "name": "python",
   "nbconvert_exporter": "python",
   "pygments_lexer": "ipython3",
   "version": "3.11.0rc1"
  }
 },
 "nbformat": 4,
 "nbformat_minor": 5
}
