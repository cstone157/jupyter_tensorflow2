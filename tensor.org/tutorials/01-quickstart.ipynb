{
 "cells": [
  {
   "cell_type": "markdown",
   "id": "49996c54-168b-4711-bf10-e150f3687736",
   "metadata": {},
   "source": [
    "#### Pulled from : https://www.tensorflow.org/tutorials/quickstart/beginner"
   ]
  },
  {
   "cell_type": "markdown",
   "id": "b9004be6-a2cc-490e-90d2-19eafe8319fa",
   "metadata": {},
   "source": [
    "## Uses Keras (https://www.tensorflow.org/guide/keras/overview)\n",
    "\n",
    "1. Load prebuilt dataset\n",
    "2. Build neural network machine\n",
    "3. Train neural network\n",
    "4. Evaluate the machine"
   ]
  },
  {
   "cell_type": "markdown",
   "id": "0e713178-7b72-42ad-a69f-824434bbeb94",
   "metadata": {},
   "source": [
    "## Setup tensorflow"
   ]
  },
  {
   "cell_type": "code",
   "execution_count": 2,
   "id": "531e145b-a665-4047-83f6-ab6f36cd6f29",
   "metadata": {},
   "outputs": [
    {
     "name": "stdout",
     "output_type": "stream",
     "text": [
      "TensorFlow version: 2.18.0\n"
     ]
    }
   ],
   "source": [
    "import tensorflow as tf\n",
    "print(\"TensorFlow version:\", tf.__version__)"
   ]
  },
  {
   "cell_type": "markdown",
   "id": "3b71ad17-9426-4ab1-a4c2-d24d08bed9b7",
   "metadata": {},
   "source": [
    "## Load a dataset\n",
    "\n",
    "Load and prepare the MNIST dataset. The pixel values of the images range from 0 through 255. Scale these values to a range of 0 to 1 by dividing the values by 255.0. This also converts the sample data from integers to floating-point numbers:"
   ]
  },
  {
   "cell_type": "code",
   "execution_count": 6,
   "id": "db1b7dee-b09b-4f56-bd0b-f0850e3deae8",
   "metadata": {},
   "outputs": [],
   "source": [
    "mnist = tf.keras.datasets.mnist\n",
    "\n",
    "(x_train, y_train), (x_test, y_test) = mnist.load_data()\n",
    "x_train, x_test = x_train / 255.0, x_test / 255.0"
   ]
  },
  {
   "cell_type": "markdown",
   "id": "cf04df27-714e-41ba-bfce-1616d811bea5",
   "metadata": {},
   "source": [
    "## Build a machine learning model\n",
    "\n",
    "Using keras sequential (https://www.tensorflow.org/api_docs/python/tf/keras/Sequential) model"
   ]
  },
  {
   "cell_type": "code",
   "execution_count": 7,
   "id": "82e93d5a-ef96-4776-be78-440817b54f14",
   "metadata": {},
   "outputs": [],
   "source": [
    "model = tf.keras.models.Sequential([\n",
    "  tf.keras.layers.Flatten(input_shape=(28, 28)),\n",
    "  tf.keras.layers.Dense(128, activation='relu'),\n",
    "  tf.keras.layers.Dropout(0.2),\n",
    "  tf.keras.layers.Dense(10)\n",
    "])"
   ]
  },
  {
   "cell_type": "markdown",
   "id": "c22a0d50-9ad3-4daa-8260-340744e176cc",
   "metadata": {},
   "source": [
    "<a href=\"https://www.tensorflow.org/guide/keras/sequential_model\">Sequential</a> is useful for stacking layers where each layer has one input <a href=\"https://www.tensorflow.org/guide/tensor\">tensor</a> and one output tensor. Layers are functions with a known mathematical structure that can be reused and have trainable variables. Most TensorFlow models are composed of layers. This model uses the <a href=\"https://www.tensorflow.org/api_docs/python/tf/keras/layers/Flatten\">Flatten</a>, <a href=\"https://www.tensorflow.org/api_docs/python/tf/keras/layers/Dense\">Dense</a>, and <a href=\"https://www.tensorflow.org/api_docs/python/tf/keras/layers/Dropout\">Dropout</a> layers.\n",
    "\n",
    "For each example, the model returns a vector of <a href=\"https://developers.google.com/machine-learning/glossary#logits\">logits</a> or <a href=\"https://developers.google.com/machine-learning/glossary#log-odds\">log-odds</a> scores, one for each class."
   ]
  },
  {
   "cell_type": "code",
   "execution_count": 8,
   "id": "e2c8a4d9-6756-46a8-b533-5df7d24e0d18",
   "metadata": {},
   "outputs": [
    {
     "data": {
      "text/plain": [
       "array([[-0.08824034, -0.26079616, -0.07559998,  0.2138725 ,  0.1205364 ,\n",
       "        -0.33668992, -0.37281877, -0.14891198, -0.19410911,  0.1228098 ]],\n",
       "      dtype=float32)"
      ]
     },
     "execution_count": 8,
     "metadata": {},
     "output_type": "execute_result"
    }
   ],
   "source": [
    "predictions = model(x_train[:1]).numpy()\n",
    "predictions"
   ]
  },
  {
   "cell_type": "markdown",
   "id": "193c8145-8136-4b06-9d6c-52e6a8aaabf8",
   "metadata": {},
   "source": [
    "The <a href=\"https://www.tensorflow.org/api_docs/python/tf/nn/softmax\">tf.nn.softmax</a> function converts these logits to probabilities for each class: "
   ]
  },
  {
   "cell_type": "code",
   "execution_count": 9,
   "id": "c88ae442-aea5-4060-870b-92381b280fbb",
   "metadata": {},
   "outputs": [
    {
     "data": {
      "text/plain": [
       "array([[0.09953116, 0.08375659, 0.10079726, 0.13463718, 0.1226393 ,\n",
       "        0.07763521, 0.07488041, 0.09367198, 0.08953252, 0.12291842]],\n",
       "      dtype=float32)"
      ]
     },
     "execution_count": 9,
     "metadata": {},
     "output_type": "execute_result"
    }
   ],
   "source": [
    "tf.nn.softmax(predictions).numpy()"
   ]
  },
  {
   "cell_type": "markdown",
   "id": "a04bc1b1-e319-4e92-900e-75921c76c555",
   "metadata": {},
   "source": [
    "Define a loss function for training using <a href=\"https://www.tensorflow.org/api_docs/python/tf/keras/losses/SparseCategoricalCrossentropy\">losses.SparseCategoricalCrossentropy</a>:"
   ]
  },
  {
   "cell_type": "code",
   "execution_count": 10,
   "id": "1c6647fa-339b-4c61-b365-6cf436896df8",
   "metadata": {},
   "outputs": [],
   "source": [
    "loss_fn = tf.keras.losses.SparseCategoricalCrossentropy(from_logits=True)"
   ]
  },
  {
   "cell_type": "markdown",
   "id": "258425b5-93b2-4543-b3c2-4bdc5d757ad4",
   "metadata": {},
   "source": [
    "The loss function takes a vector of ground truth values and a vector of logits and returns a scalar loss for each example. This loss is equal to the negative log probability of the true class: The loss is zero if the model is sure of the correct class.\n",
    "\n",
    "This untrained model gives probabilities close to random (1/10 for each class), so the initial loss should be close to -tf.math.log(1/10) ~= 2.3."
   ]
  },
  {
   "cell_type": "code",
   "execution_count": 11,
   "id": "4f0b7f8b-eca7-48a3-9ea1-24a4b48580f8",
   "metadata": {},
   "outputs": [
    {
     "data": {
      "text/plain": [
       "np.float32(2.5557342)"
      ]
     },
     "execution_count": 11,
     "metadata": {},
     "output_type": "execute_result"
    }
   ],
   "source": [
    "loss_fn(y_train[:1], predictions).numpy()"
   ]
  },
  {
   "cell_type": "markdown",
   "id": "28362427-94d3-46d7-887d-e3f312a2a606",
   "metadata": {},
   "source": [
    "Before you start training, configure and compile the model using Keras <a href=\"https://www.tensorflow.org/api_docs/python/tf/keras/Model#compile\">Model.compile</a>. Set the <a href=\"https://www.tensorflow.org/api_docs/python/tf/keras/optimizers\">optimizer</a> class to adam, set the loss to the loss_fn function you defined earlier, and specify a metric to be evaluated for the model by setting the metrics parameter to accuracy."
   ]
  },
  {
   "cell_type": "code",
   "execution_count": 12,
   "id": "aaf6a94e-72e1-4c0a-ba79-0e163b7af1b0",
   "metadata": {},
   "outputs": [],
   "source": [
    "model.compile(optimizer='adam',\n",
    "              loss=loss_fn,\n",
    "              metrics=['accuracy'])"
   ]
  },
  {
   "cell_type": "markdown",
   "id": "b47227b1-a8cc-4293-b410-5af1a71314d6",
   "metadata": {},
   "source": [
    "### Train and evaluate your model\n",
    "\n",
    "Use the <a href=\"https://www.tensorflow.org/api_docs/python/tf/keras/Model#fit\">Model.fit</a> method to adjust your model parameters and minimize the loss: "
   ]
  },
  {
   "cell_type": "code",
   "execution_count": 13,
   "id": "1437e69c-78a7-42ca-89f3-4b9e68086744",
   "metadata": {},
   "outputs": [
    {
     "name": "stdout",
     "output_type": "stream",
     "text": [
      "Epoch 1/5\n"
     ]
    },
    {
     "name": "stderr",
     "output_type": "stream",
     "text": [
      "2025-03-11 02:56:17.365693: W external/local_xla/xla/tsl/framework/cpu_allocator_impl.cc:83] Allocation of 188160000 exceeds 10% of free system memory.\n"
     ]
    },
    {
     "name": "stdout",
     "output_type": "stream",
     "text": [
      "\u001b[1m1875/1875\u001b[0m \u001b[32m━━━━━━━━━━━━━━━━━━━━\u001b[0m\u001b[37m\u001b[0m \u001b[1m3s\u001b[0m 1ms/step - accuracy: 0.8593 - loss: 0.4743\n",
      "Epoch 2/5\n",
      "\u001b[1m1875/1875\u001b[0m \u001b[32m━━━━━━━━━━━━━━━━━━━━\u001b[0m\u001b[37m\u001b[0m \u001b[1m3s\u001b[0m 1ms/step - accuracy: 0.9524 - loss: 0.1549\n",
      "Epoch 3/5\n",
      "\u001b[1m1875/1875\u001b[0m \u001b[32m━━━━━━━━━━━━━━━━━━━━\u001b[0m\u001b[37m\u001b[0m \u001b[1m3s\u001b[0m 2ms/step - accuracy: 0.9673 - loss: 0.1064\n",
      "Epoch 4/5\n",
      "\u001b[1m1875/1875\u001b[0m \u001b[32m━━━━━━━━━━━━━━━━━━━━\u001b[0m\u001b[37m\u001b[0m \u001b[1m3s\u001b[0m 2ms/step - accuracy: 0.9732 - loss: 0.0849\n",
      "Epoch 5/5\n",
      "\u001b[1m1875/1875\u001b[0m \u001b[32m━━━━━━━━━━━━━━━━━━━━\u001b[0m\u001b[37m\u001b[0m \u001b[1m3s\u001b[0m 2ms/step - accuracy: 0.9762 - loss: 0.0742\n"
     ]
    },
    {
     "data": {
      "text/plain": [
       "<keras.src.callbacks.history.History at 0x7f093d577550>"
      ]
     },
     "execution_count": 13,
     "metadata": {},
     "output_type": "execute_result"
    }
   ],
   "source": [
    "model.fit(x_train, y_train, epochs=5)"
   ]
  },
  {
   "cell_type": "markdown",
   "id": "26e86062-531b-43db-b067-6842f496d7bb",
   "metadata": {},
   "source": [
    "The <a href=\"https://www.tensorflow.org/api_docs/python/tf/keras/Model#evaluate\">Model.evaluate</a> method checks the model's performance, usually on a <a href=\"https://developers.google.com/machine-learning/glossary#validation-set\">validation set</a> or <a href=\"https://developers.google.com/machine-learning/glossary#test-set\">test set</a>."
   ]
  },
  {
   "cell_type": "code",
   "execution_count": 14,
   "id": "15e242f6-3f65-4d01-acf1-8077efe322e3",
   "metadata": {},
   "outputs": [
    {
     "name": "stdout",
     "output_type": "stream",
     "text": [
      "313/313 - 0s - 845us/step - accuracy: 0.9782 - loss: 0.0778\n"
     ]
    },
    {
     "data": {
      "text/plain": [
       "[0.07780635356903076, 0.9782000184059143]"
      ]
     },
     "execution_count": 14,
     "metadata": {},
     "output_type": "execute_result"
    }
   ],
   "source": [
    "model.evaluate(x_test,  y_test, verbose=2)"
   ]
  },
  {
   "cell_type": "markdown",
   "id": "30b8239d-a1a8-40c5-b62e-5470b2414bb1",
   "metadata": {},
   "source": [
    "The image classifier is now trained to ~98% accuracy on this dataset. To learn more, read the <a href=\"https://www.tensorflow.org/tutorials/\">TensorFlow tutorials</a>.\n",
    "\n",
    "If you want your model to return a probability, you can wrap the trained model, and attach the softmax to it:"
   ]
  },
  {
   "cell_type": "code",
   "execution_count": 15,
   "id": "4495fa22-b8aa-4ded-b991-4d790f6bc63f",
   "metadata": {},
   "outputs": [],
   "source": [
    "probability_model = tf.keras.Sequential([\n",
    "  model,\n",
    "  tf.keras.layers.Softmax()\n",
    "])"
   ]
  },
  {
   "cell_type": "code",
   "execution_count": 16,
   "id": "a79f28a7-8d78-4e62-bac6-f93e1961ce7c",
   "metadata": {},
   "outputs": [
    {
     "data": {
      "text/plain": [
       "<tf.Tensor: shape=(5, 10), dtype=float32, numpy=\n",
       "array([[1.3448401e-06, 3.9514010e-08, 3.4590385e-06, 6.7980582e-05,\n",
       "        7.4244300e-10, 3.0320476e-07, 1.0773813e-10, 9.9991727e-01,\n",
       "        1.5647131e-06, 8.0695418e-06],\n",
       "       [1.2464202e-08, 9.7346242e-04, 9.9878961e-01, 2.3400983e-04,\n",
       "        8.3000494e-17, 9.9628562e-07, 8.9176361e-10, 9.0331458e-12,\n",
       "        1.8857233e-06, 4.2301134e-14],\n",
       "       [1.6381179e-08, 9.9951446e-01, 3.7102227e-06, 6.1771652e-06,\n",
       "        1.4960842e-05, 6.2500753e-06, 2.8570810e-06, 3.4796615e-04,\n",
       "        1.0335009e-04, 2.6391530e-07],\n",
       "       [9.9951851e-01, 4.6972211e-08, 5.4614491e-05, 4.1936628e-06,\n",
       "        8.3744487e-07, 1.0186117e-05, 2.0517473e-04, 7.9880527e-05,\n",
       "        8.7462087e-07, 1.2577689e-04],\n",
       "       [1.4571742e-06, 4.9718238e-09, 1.5038801e-06, 1.2369765e-08,\n",
       "        9.9835819e-01, 2.0660856e-07, 1.1225045e-06, 2.6037727e-04,\n",
       "        1.5591773e-06, 1.3755915e-03]], dtype=float32)>"
      ]
     },
     "execution_count": 16,
     "metadata": {},
     "output_type": "execute_result"
    }
   ],
   "source": [
    "probability_model(x_test[:5])"
   ]
  },
  {
   "cell_type": "markdown",
   "id": "01fa4c43-6cfd-4d3d-8d07-5978ca4c7e86",
   "metadata": {},
   "source": [
    "### Conclusion\n",
    "\n",
    "Congratulations! You have trained a machine learning model using a prebuilt dataset using the <a href=\"https://www.tensorflow.org/guide/keras/overview\">Keras API</a>.\n",
    "\n",
    "For more examples of using Keras, check out the <a href=\"https://www.tensorflow.org/tutorials/keras/\">tutorials</a>. To learn more about building models with Keras, read the <a href=\"https://www.tensorflow.org/guide/keras\">guides<a/>. If you want learn more about loading and preparing data, see the tutorials on <a href=\"https://www.tensorflow.org/tutorials/load_data/images\">image data loading</a> or <a href=\"https://www.tensorflow.org/tutorials/load_data/csv\">CSV data loading</a>."
   ]
  },
  {
   "cell_type": "code",
   "execution_count": null,
   "id": "e5508290-27b1-4b51-bca0-7dfb2b8ef8bc",
   "metadata": {},
   "outputs": [],
   "source": []
  }
 ],
 "metadata": {
  "kernelspec": {
   "display_name": "Python 3 (ipykernel)",
   "language": "python",
   "name": "python3"
  },
  "language_info": {
   "codemirror_mode": {
    "name": "ipython",
    "version": 3
   },
   "file_extension": ".py",
   "mimetype": "text/x-python",
   "name": "python",
   "nbconvert_exporter": "python",
   "pygments_lexer": "ipython3",
   "version": "3.11.0rc1"
  }
 },
 "nbformat": 4,
 "nbformat_minor": 5
}
