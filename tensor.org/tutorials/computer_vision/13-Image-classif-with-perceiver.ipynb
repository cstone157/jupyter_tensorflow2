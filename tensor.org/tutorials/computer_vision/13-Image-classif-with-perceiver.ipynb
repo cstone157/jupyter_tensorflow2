{
 "cells": [
  {
   "cell_type": "markdown",
   "id": "2c88038c-2032-4f5a-bbd9-67f91f9f7af2",
   "metadata": {},
   "source": [
    "# Image classification with Perceiver\n",
    "\n",
    "<hr />\n",
    "\n",
    "### Introduction\n",
    "\n",
    "This example implements the <a href=\"https://arxiv.org/abs/2103.03206\">Perceiver: General Perception with Iterative Attention</a> model by Andrew Jaegle et al. for image classification, and demonstrates it on the CIFAR-100 dataset.\n",
    "\n",
    "The Perceiver model leverages an asymmetric attention mechanism to iteratively distill inputs into a tight latent bottleneck, allowing it to scale to handle very large inputs.\n",
    "\n",
    "In other words: let's assume that your input data array (e.g. image) has M elements (i.e. patches), where M is large. In a standard Transformer model, a self-attention operation is performed for the M elements. The complexity of this operation is O(M^2). However, the Perceiver model creates a latent array of size N elements, where N << M, and performs two operations iteratively:\n",
    "\n",
    "<ul>\n",
    "    <li>Cross-attention Transformer between the latent array and the data array - The complexity of this operation is O(M.N).</li>\n",
    "    <li>Self-attention Transformer on the latent array - The complexity of this operation is O(N^2).</li>\n",
    "</ul>\n",
    "\n",
    "This example requires Keras 3.0 or higher.\n",
    "\n",
    "<hr />\n",
    "\n",
    "### Setup"
   ]
  },
  {
   "cell_type": "code",
   "execution_count": 1,
   "id": "1f151ca2-625d-4e75-bb4d-40eb0fb6fc67",
   "metadata": {},
   "outputs": [
    {
     "name": "stderr",
     "output_type": "stream",
     "text": [
      "2025-04-26 04:48:18.127437: E external/local_xla/xla/stream_executor/cuda/cuda_fft.cc:467] Unable to register cuFFT factory: Attempting to register factory for plugin cuFFT when one has already been registered\n",
      "WARNING: All log messages before absl::InitializeLog() is called are written to STDERR\n",
      "E0000 00:00:1745642898.142792  317667 cuda_dnn.cc:8579] Unable to register cuDNN factory: Attempting to register factory for plugin cuDNN when one has already been registered\n",
      "E0000 00:00:1745642898.147610  317667 cuda_blas.cc:1407] Unable to register cuBLAS factory: Attempting to register factory for plugin cuBLAS when one has already been registered\n",
      "W0000 00:00:1745642898.158412  317667 computation_placer.cc:177] computation placer already registered. Please check linkage and avoid linking the same target more than once.\n",
      "W0000 00:00:1745642898.158428  317667 computation_placer.cc:177] computation placer already registered. Please check linkage and avoid linking the same target more than once.\n",
      "W0000 00:00:1745642898.158429  317667 computation_placer.cc:177] computation placer already registered. Please check linkage and avoid linking the same target more than once.\n",
      "W0000 00:00:1745642898.158430  317667 computation_placer.cc:177] computation placer already registered. Please check linkage and avoid linking the same target more than once.\n",
      "2025-04-26 04:48:18.161773: I tensorflow/core/platform/cpu_feature_guard.cc:210] This TensorFlow binary is optimized to use available CPU instructions in performance-critical operations.\n",
      "To enable the following instructions: AVX2 FMA, in other operations, rebuild TensorFlow with the appropriate compiler flags.\n"
     ]
    }
   ],
   "source": [
    "import keras\n",
    "from keras import layers, activations, ops"
   ]
  },
  {
   "cell_type": "markdown",
   "id": "77526c1a-a431-43a6-915a-8d10fb164a23",
   "metadata": {},
   "source": [
    "<hr />\n",
    "\n",
    "### Prepare the data"
   ]
  },
  {
   "cell_type": "code",
   "execution_count": 2,
   "id": "0a360c91-7698-4a52-a4c9-c975b7ac77c5",
   "metadata": {},
   "outputs": [
    {
     "name": "stdout",
     "output_type": "stream",
     "text": [
      "x_train shape: (50000, 32, 32, 3) - y_train shape: (50000, 1)\n",
      "x_test shape: (10000, 32, 32, 3) - y_test shape: (10000, 1)\n"
     ]
    }
   ],
   "source": [
    "num_classes = 100\n",
    "input_shape = (32, 32, 3)\n",
    "\n",
    "(x_train, y_train), (x_test, y_test) = keras.datasets.cifar100.load_data()\n",
    "\n",
    "print(f\"x_train shape: {x_train.shape} - y_train shape: {y_train.shape}\")\n",
    "print(f\"x_test shape: {x_test.shape} - y_test shape: {y_test.shape}\")"
   ]
  },
  {
   "cell_type": "markdown",
   "id": "1150f20c-5923-4217-bec7-fb9e50482aad",
   "metadata": {},
   "source": [
    "<hr />\n",
    "\n",
    "### Configure the hyperparameters"
   ]
  },
  {
   "cell_type": "code",
   "execution_count": 3,
   "id": "524edceb-f388-46f7-bbb0-bd5b918633fb",
   "metadata": {},
   "outputs": [
    {
     "name": "stdout",
     "output_type": "stream",
     "text": [
      "Image size: 64 X 64 = 4096\n",
      "Patch size: 2 X 2 = 4 \n",
      "Patches per image: 1024\n",
      "Elements per patch (3 channels): 12\n",
      "Latent array shape: 256 X 256\n",
      "Data array shape: 1024 X 256\n"
     ]
    }
   ],
   "source": [
    "learning_rate = 0.001\n",
    "weight_decay = 0.0001\n",
    "batch_size = 64\n",
    "num_epochs = 2  # You should actually use 50 epochs!\n",
    "dropout_rate = 0.2\n",
    "image_size = 64  # We'll resize input images to this size.\n",
    "patch_size = 2  # Size of the patches to be extract from the input images.\n",
    "num_patches = (image_size // patch_size) ** 2  # Size of the data array.\n",
    "latent_dim = 256  # Size of the latent array.\n",
    "projection_dim = 256  # Embedding size of each element in the data and latent arrays.\n",
    "num_heads = 8  # Number of Transformer heads.\n",
    "ffn_units = [\n",
    "    projection_dim,\n",
    "    projection_dim,\n",
    "]  # Size of the Transformer Feedforward network.\n",
    "num_transformer_blocks = 4\n",
    "num_iterations = 2  # Repetitions of the cross-attention and Transformer modules.\n",
    "classifier_units = [\n",
    "    projection_dim,\n",
    "    num_classes,\n",
    "]  # Size of the Feedforward network of the final classifier.\n",
    "\n",
    "print(f\"Image size: {image_size} X {image_size} = {image_size ** 2}\")\n",
    "print(f\"Patch size: {patch_size} X {patch_size} = {patch_size ** 2} \")\n",
    "print(f\"Patches per image: {num_patches}\")\n",
    "print(f\"Elements per patch (3 channels): {(patch_size ** 2) * 3}\")\n",
    "print(f\"Latent array shape: {latent_dim} X {projection_dim}\")\n",
    "print(f\"Data array shape: {num_patches} X {projection_dim}\")"
   ]
  },
  {
   "cell_type": "markdown",
   "id": "5cf9bc42-fdc8-4418-9a34-1c2f9f35fe73",
   "metadata": {},
   "source": [
    "Note that, in order to use each pixel as an individual input in the data array, set patch_size to 1.\n",
    "\n",
    "<hr />\n",
    "\n",
    "### Use data augmentation"
   ]
  },
  {
   "cell_type": "code",
   "execution_count": 4,
   "id": "c3612723-48b0-491b-9993-cf6581057d5f",
   "metadata": {},
   "outputs": [
    {
     "name": "stderr",
     "output_type": "stream",
     "text": [
      "2025-04-26 04:48:23.116686: E external/local_xla/xla/stream_executor/cuda/cuda_platform.cc:51] failed call to cuInit: INTERNAL: CUDA error: Failed call to cuInit: UNKNOWN ERROR (303)\n"
     ]
    }
   ],
   "source": [
    "data_augmentation = keras.Sequential(\n",
    "    [\n",
    "        layers.Normalization(),\n",
    "        layers.Resizing(image_size, image_size),\n",
    "        layers.RandomFlip(\"horizontal\"),\n",
    "        layers.RandomZoom(height_factor=0.2, width_factor=0.2),\n",
    "    ],\n",
    "    name=\"data_augmentation\",\n",
    ")\n",
    "# Compute the mean and the variance of the training data for normalization.\n",
    "data_augmentation.layers[0].adapt(x_train)"
   ]
  },
  {
   "cell_type": "markdown",
   "id": "582db51a-5744-491d-9efe-33390b99a833",
   "metadata": {},
   "source": [
    "<hr />\n",
    "\n",
    "### Implement Feedforward network (FFN)"
   ]
  },
  {
   "cell_type": "code",
   "execution_count": 5,
   "id": "37443f61-db58-402a-ba3b-8b95127fd644",
   "metadata": {},
   "outputs": [],
   "source": [
    "def create_ffn(hidden_units, dropout_rate):\n",
    "    ffn_layers = []\n",
    "    for units in hidden_units[:-1]:\n",
    "        ffn_layers.append(layers.Dense(units, activation=activations.gelu))\n",
    "\n",
    "    ffn_layers.append(layers.Dense(units=hidden_units[-1]))\n",
    "    ffn_layers.append(layers.Dropout(dropout_rate))\n",
    "\n",
    "    ffn = keras.Sequential(ffn_layers)\n",
    "    return ffn"
   ]
  },
  {
   "cell_type": "markdown",
   "id": "eb0e4231-c603-4ea7-b649-29e5ba77ee21",
   "metadata": {},
   "source": [
    "<hr />\n",
    "\n",
    "### Implement patch creation as a layer"
   ]
  },
  {
   "cell_type": "code",
   "execution_count": 6,
   "id": "379bcfd7-ea0e-4da5-9625-516d9ddcb8b9",
   "metadata": {},
   "outputs": [],
   "source": [
    "class Patches(layers.Layer):\n",
    "    def __init__(self, patch_size):\n",
    "        super().__init__()\n",
    "        self.patch_size = patch_size\n",
    "\n",
    "    def call(self, images):\n",
    "        batch_size = ops.shape(images)[0]\n",
    "        patches = ops.image.extract_patches(\n",
    "            image=images,\n",
    "            size=(self.patch_size, self.patch_size),\n",
    "            strides=(self.patch_size, self.patch_size),\n",
    "            dilation_rate=1,\n",
    "            padding=\"valid\",\n",
    "        )\n",
    "        patch_dims = patches.shape[-1]\n",
    "        patches = ops.reshape(patches, [batch_size, -1, patch_dims])\n",
    "        return patches"
   ]
  },
  {
   "cell_type": "markdown",
   "id": "1a652fd5-6cfc-4a67-bf9f-d7d202b888e4",
   "metadata": {},
   "source": [
    "<hr />\n",
    "\n",
    "### Implement the patch encoding layer\n",
    "\n",
    "The PatchEncoder layer will linearly transform a patch by projecting it into a vector of size latent_dim. In addition, it adds a learnable position embedding to the projected vector.\n",
    "\n",
    "Note that the orginal Perceiver paper uses the Fourier feature positional encodings."
   ]
  },
  {
   "cell_type": "code",
   "execution_count": 7,
   "id": "518195b9-9cc9-4067-b80c-0bf5192fec90",
   "metadata": {},
   "outputs": [],
   "source": [
    "class PatchEncoder(layers.Layer):\n",
    "    def __init__(self, num_patches, projection_dim):\n",
    "        super().__init__()\n",
    "        self.num_patches = num_patches\n",
    "        self.projection = layers.Dense(units=projection_dim)\n",
    "        self.position_embedding = layers.Embedding(\n",
    "            input_dim=num_patches, output_dim=projection_dim\n",
    "        )\n",
    "\n",
    "    def call(self, patches):\n",
    "        positions = ops.arange(start=0, stop=self.num_patches, step=1)\n",
    "        encoded = self.projection(patches) + self.position_embedding(positions)\n",
    "        return encoded"
   ]
  },
  {
   "cell_type": "markdown",
   "id": "d4fd7823-a695-4fce-9f19-ab17af5bb985",
   "metadata": {},
   "source": [
    "<hr />\n",
    "\n",
    "### Build the Perceiver model\n",
    "\n",
    "The Perceiver consists of two modules: a cross-attention module and a standard Transformer with self-attention.\n",
    "\n",
    "#### Cross-attention module\n",
    "\n",
    "The cross-attention expects a (latent_dim, projection_dim) latent array, and the (data_dim, projection_dim) data array as inputs, to produce a (latent_dim, projection_dim) latent array as an output. To apply cross-attention, the query vectors are generated from the latent array, while the key and value vectors are generated from the encoded image.\n",
    "\n",
    "Note that the data array in this example is the image, where the data_dim is set to the num_patches."
   ]
  },
  {
   "cell_type": "code",
   "execution_count": 8,
   "id": "b1ed1c5d-b4f9-47ff-86c8-f2be85d4a7fc",
   "metadata": {},
   "outputs": [],
   "source": [
    "def create_cross_attention_module(\n",
    "    latent_dim, data_dim, projection_dim, ffn_units, dropout_rate\n",
    "):\n",
    "    inputs = {\n",
    "        # Recieve the latent array as an input of shape [1, latent_dim, projection_dim].\n",
    "        \"latent_array\": layers.Input(\n",
    "            shape=(latent_dim, projection_dim), name=\"latent_array\"\n",
    "        ),\n",
    "        # Recieve the data_array (encoded image) as an input of shape [batch_size, data_dim, projection_dim].\n",
    "        \"data_array\": layers.Input(shape=(data_dim, projection_dim), name=\"data_array\"),\n",
    "    }\n",
    "\n",
    "    # Apply layer norm to the inputs\n",
    "    latent_array = layers.LayerNormalization(epsilon=1e-6)(inputs[\"latent_array\"])\n",
    "    data_array = layers.LayerNormalization(epsilon=1e-6)(inputs[\"data_array\"])\n",
    "\n",
    "    # Create query tensor: [1, latent_dim, projection_dim].\n",
    "    query = layers.Dense(units=projection_dim)(latent_array)\n",
    "    # Create key tensor: [batch_size, data_dim, projection_dim].\n",
    "    key = layers.Dense(units=projection_dim)(data_array)\n",
    "    # Create value tensor: [batch_size, data_dim, projection_dim].\n",
    "    value = layers.Dense(units=projection_dim)(data_array)\n",
    "\n",
    "    # Generate cross-attention outputs: [batch_size, latent_dim, projection_dim].\n",
    "    attention_output = layers.Attention(use_scale=True, dropout=0.1)(\n",
    "        [query, key, value], return_attention_scores=False\n",
    "    )\n",
    "    # Skip connection 1.\n",
    "    attention_output = layers.Add()([attention_output, latent_array])\n",
    "\n",
    "    # Apply layer norm.\n",
    "    attention_output = layers.LayerNormalization(epsilon=1e-6)(attention_output)\n",
    "    # Apply Feedforward network.\n",
    "    ffn = create_ffn(hidden_units=ffn_units, dropout_rate=dropout_rate)\n",
    "    outputs = ffn(attention_output)\n",
    "    # Skip connection 2.\n",
    "    outputs = layers.Add()([outputs, attention_output])\n",
    "\n",
    "    # Create the Keras model.\n",
    "    model = keras.Model(inputs=inputs, outputs=outputs)\n",
    "    return model"
   ]
  },
  {
   "cell_type": "markdown",
   "id": "a63dcf40-69fe-491d-aefc-80bf60dd48be",
   "metadata": {},
   "source": [
    "### Transformer module\n",
    "\n",
    "The Transformer expects the output latent vector from the cross-attention module as an input, applies multi-head self-attention to its latent_dim elements, followed by feedforward network, to produce another (latent_dim, projection_dim) latent array."
   ]
  },
  {
   "cell_type": "code",
   "execution_count": 9,
   "id": "4223bf9d-2ec2-4421-b868-7a0af343aa36",
   "metadata": {},
   "outputs": [],
   "source": [
    "def create_transformer_module(\n",
    "    latent_dim,\n",
    "    projection_dim,\n",
    "    num_heads,\n",
    "    num_transformer_blocks,\n",
    "    ffn_units,\n",
    "    dropout_rate,\n",
    "):\n",
    "    # input_shape: [1, latent_dim, projection_dim]\n",
    "    inputs = layers.Input(shape=(latent_dim, projection_dim))\n",
    "\n",
    "    x0 = inputs\n",
    "    # Create multiple layers of the Transformer block.\n",
    "    for _ in range(num_transformer_blocks):\n",
    "        # Apply layer normalization 1.\n",
    "        x1 = layers.LayerNormalization(epsilon=1e-6)(x0)\n",
    "        # Create a multi-head self-attention layer.\n",
    "        attention_output = layers.MultiHeadAttention(\n",
    "            num_heads=num_heads, key_dim=projection_dim, dropout=0.1\n",
    "        )(x1, x1)\n",
    "        # Skip connection 1.\n",
    "        x2 = layers.Add()([attention_output, x0])\n",
    "        # Apply layer normalization 2.\n",
    "        x3 = layers.LayerNormalization(epsilon=1e-6)(x2)\n",
    "        # Apply Feedforward network.\n",
    "        ffn = create_ffn(hidden_units=ffn_units, dropout_rate=dropout_rate)\n",
    "        x3 = ffn(x3)\n",
    "        # Skip connection 2.\n",
    "        x0 = layers.Add()([x3, x2])\n",
    "\n",
    "    # Create the Keras model.\n",
    "    model = keras.Model(inputs=inputs, outputs=x0)\n",
    "    return model"
   ]
  },
  {
   "cell_type": "markdown",
   "id": "3d504352-add9-4ca3-af08-f15b3b0c6615",
   "metadata": {},
   "source": [
    "### Perceiver model\n",
    "\n",
    "The Perceiver model repeats the cross-attention and Transformer modules num_iterations times—with shared weights and skip connections—to allow the latent array to iteratively extract information from the input image as it is needed."
   ]
  },
  {
   "cell_type": "code",
   "execution_count": 10,
   "id": "7eaadcc4-5932-4a32-9dc9-7512986f6a48",
   "metadata": {},
   "outputs": [],
   "source": [
    "class Perceiver(keras.Model):\n",
    "    def __init__(\n",
    "        self,\n",
    "        patch_size,\n",
    "        data_dim,\n",
    "        latent_dim,\n",
    "        projection_dim,\n",
    "        num_heads,\n",
    "        num_transformer_blocks,\n",
    "        ffn_units,\n",
    "        dropout_rate,\n",
    "        num_iterations,\n",
    "        classifier_units,\n",
    "    ):\n",
    "        super().__init__()\n",
    "\n",
    "        self.latent_dim = latent_dim\n",
    "        self.data_dim = data_dim\n",
    "        self.patch_size = patch_size\n",
    "        self.projection_dim = projection_dim\n",
    "        self.num_heads = num_heads\n",
    "        self.num_transformer_blocks = num_transformer_blocks\n",
    "        self.ffn_units = ffn_units\n",
    "        self.dropout_rate = dropout_rate\n",
    "        self.num_iterations = num_iterations\n",
    "        self.classifier_units = classifier_units\n",
    "\n",
    "    def build(self, input_shape):\n",
    "        # Create latent array.\n",
    "        self.latent_array = self.add_weight(\n",
    "            shape=(self.latent_dim, self.projection_dim),\n",
    "            initializer=\"random_normal\",\n",
    "            trainable=True,\n",
    "        )\n",
    "\n",
    "        # Create patching module.war\n",
    "        self.patch_encoder = PatchEncoder(self.data_dim, self.projection_dim)\n",
    "\n",
    "        # Create cross-attenion module.\n",
    "        self.cross_attention = create_cross_attention_module(\n",
    "            self.latent_dim,\n",
    "            self.data_dim,\n",
    "            self.projection_dim,\n",
    "            self.ffn_units,\n",
    "            self.dropout_rate,\n",
    "        )\n",
    "\n",
    "        # Create Transformer module.\n",
    "        self.transformer = create_transformer_module(\n",
    "            self.latent_dim,\n",
    "            self.projection_dim,\n",
    "            self.num_heads,\n",
    "            self.num_transformer_blocks,\n",
    "            self.ffn_units,\n",
    "            self.dropout_rate,\n",
    "        )\n",
    "\n",
    "        # Create global average pooling layer.\n",
    "        self.global_average_pooling = layers.GlobalAveragePooling1D()\n",
    "\n",
    "        # Create a classification head.\n",
    "        self.classification_head = create_ffn(\n",
    "            hidden_units=self.classifier_units, dropout_rate=self.dropout_rate\n",
    "        )\n",
    "\n",
    "        super().build(input_shape)\n",
    "\n",
    "    def call(self, inputs):\n",
    "        # Augment data.\n",
    "        augmented = data_augmentation(inputs)\n",
    "        # Create patches.\n",
    "        patches = self.patcher(augmented)\n",
    "        # Encode patches.\n",
    "        encoded_patches = self.patch_encoder(patches)\n",
    "        # Prepare cross-attention inputs.\n",
    "        cross_attention_inputs = {\n",
    "            \"latent_array\": ops.expand_dims(self.latent_array, 0),\n",
    "            \"data_array\": encoded_patches,\n",
    "        }\n",
    "        # Apply the cross-attention and the Transformer modules iteratively.\n",
    "        for _ in range(self.num_iterations):\n",
    "            # Apply cross-attention from the latent array to the data array.\n",
    "            latent_array = self.cross_attention(cross_attention_inputs)\n",
    "            # Apply self-attention Transformer to the latent array.\n",
    "            latent_array = self.transformer(latent_array)\n",
    "            # Set the latent array of the next iteration.\n",
    "            cross_attention_inputs[\"latent_array\"] = latent_array\n",
    "\n",
    "        # Apply global average pooling to generate a [batch_size, projection_dim] repesentation tensor.\n",
    "        representation = self.global_average_pooling(latent_array)\n",
    "        # Generate logits.\n",
    "        logits = self.classification_head(representation)\n",
    "        return logits"
   ]
  },
  {
   "cell_type": "markdown",
   "id": "ccc3ba72-e50b-4442-bbc7-c7479fffb623",
   "metadata": {},
   "source": [
    "<hr />\n",
    "\n",
    "### Compile, train, and evaluate the mode"
   ]
  },
  {
   "cell_type": "code",
   "execution_count": 11,
   "id": "2eff2fb5-fabc-4bfc-96f5-c9cefeaa619c",
   "metadata": {},
   "outputs": [],
   "source": [
    "def run_experiment(model):\n",
    "    # Create ADAM instead of LAMB optimizer with weight decay. (LAMB isn't supported yet)\n",
    "    optimizer = keras.optimizers.Adam(learning_rate=learning_rate)\n",
    "\n",
    "    # Compile the model.\n",
    "    model.compile(\n",
    "        optimizer=optimizer,\n",
    "        loss=keras.losses.SparseCategoricalCrossentropy(from_logits=True),\n",
    "        metrics=[\n",
    "            keras.metrics.SparseCategoricalAccuracy(name=\"acc\"),\n",
    "            keras.metrics.SparseTopKCategoricalAccuracy(5, name=\"top5-acc\"),\n",
    "        ],\n",
    "    )\n",
    "\n",
    "    # Create a learning rate scheduler callback.\n",
    "    reduce_lr = keras.callbacks.ReduceLROnPlateau(\n",
    "        monitor=\"val_loss\", factor=0.2, patience=3\n",
    "    )\n",
    "\n",
    "    # Create an early stopping callback.\n",
    "    early_stopping = keras.callbacks.EarlyStopping(\n",
    "        monitor=\"val_loss\", patience=15, restore_best_weights=True\n",
    "    )\n",
    "\n",
    "    # Fit the model.\n",
    "    history = model.fit(\n",
    "        x=x_train,\n",
    "        y=y_train,\n",
    "        batch_size=batch_size,\n",
    "        epochs=num_epochs,\n",
    "        validation_split=0.1,\n",
    "        callbacks=[early_stopping, reduce_lr],\n",
    "    )\n",
    "\n",
    "    _, accuracy, top_5_accuracy = model.evaluate(x_test, y_test)\n",
    "    print(f\"Test accuracy: {round(accuracy * 100, 2)}%\")\n",
    "    print(f\"Test top 5 accuracy: {round(top_5_accuracy * 100, 2)}%\")\n",
    "\n",
    "    # Return history to plot learning curves.\n",
    "    return history"
   ]
  },
  {
   "cell_type": "markdown",
   "id": "64006009-7700-4e0c-ad8d-b21bc5629688",
   "metadata": {},
   "source": [
    "Note that training the perceiver model with the current settings on a V100 GPUs takes around 200 seconds."
   ]
  },
  {
   "cell_type": "code",
   "execution_count": 12,
   "id": "815dfae5-758c-4414-800c-d44c524a3b3c",
   "metadata": {},
   "outputs": [
    {
     "name": "stdout",
     "output_type": "stream",
     "text": [
      "Epoch 1/2\n"
     ]
    },
    {
     "name": "stderr",
     "output_type": "stream",
     "text": [
      "2025-04-26 04:48:24.927813: W external/local_xla/xla/tsl/framework/cpu_allocator_impl.cc:83] Allocation of 138240000 exceeds 10% of free system memory.\n"
     ]
    },
    {
     "ename": "AttributeError",
     "evalue": "Exception encountered when calling Perceiver.call().\n\n\u001b[1m'Perceiver' object has no attribute 'patcher'\u001b[0m\n\nArguments received by Perceiver.call():\n  • inputs=tf.Tensor(shape=(None, 32, 32, 3), dtype=uint8)",
     "output_type": "error",
     "traceback": [
      "\u001b[0;31m---------------------------------------------------------------------------\u001b[0m",
      "\u001b[0;31mAttributeError\u001b[0m                            Traceback (most recent call last)",
      "Cell \u001b[0;32mIn[12], line 15\u001b[0m\n\u001b[1;32m      1\u001b[0m perceiver_classifier \u001b[38;5;241m=\u001b[39m Perceiver(\n\u001b[1;32m      2\u001b[0m     patch_size,\n\u001b[1;32m      3\u001b[0m     num_patches,\n\u001b[0;32m   (...)\u001b[0m\n\u001b[1;32m     11\u001b[0m     classifier_units,\n\u001b[1;32m     12\u001b[0m )\n\u001b[0;32m---> 15\u001b[0m history \u001b[38;5;241m=\u001b[39m \u001b[43mrun_experiment\u001b[49m\u001b[43m(\u001b[49m\u001b[43mperceiver_classifier\u001b[49m\u001b[43m)\u001b[49m\n",
      "Cell \u001b[0;32mIn[11], line 26\u001b[0m, in \u001b[0;36mrun_experiment\u001b[0;34m(model)\u001b[0m\n\u001b[1;32m     21\u001b[0m early_stopping \u001b[38;5;241m=\u001b[39m keras\u001b[38;5;241m.\u001b[39mcallbacks\u001b[38;5;241m.\u001b[39mEarlyStopping(\n\u001b[1;32m     22\u001b[0m     monitor\u001b[38;5;241m=\u001b[39m\u001b[38;5;124m\"\u001b[39m\u001b[38;5;124mval_loss\u001b[39m\u001b[38;5;124m\"\u001b[39m, patience\u001b[38;5;241m=\u001b[39m\u001b[38;5;241m15\u001b[39m, restore_best_weights\u001b[38;5;241m=\u001b[39m\u001b[38;5;28;01mTrue\u001b[39;00m\n\u001b[1;32m     23\u001b[0m )\n\u001b[1;32m     25\u001b[0m \u001b[38;5;66;03m# Fit the model.\u001b[39;00m\n\u001b[0;32m---> 26\u001b[0m history \u001b[38;5;241m=\u001b[39m \u001b[43mmodel\u001b[49m\u001b[38;5;241;43m.\u001b[39;49m\u001b[43mfit\u001b[49m\u001b[43m(\u001b[49m\n\u001b[1;32m     27\u001b[0m \u001b[43m    \u001b[49m\u001b[43mx\u001b[49m\u001b[38;5;241;43m=\u001b[39;49m\u001b[43mx_train\u001b[49m\u001b[43m,\u001b[49m\n\u001b[1;32m     28\u001b[0m \u001b[43m    \u001b[49m\u001b[43my\u001b[49m\u001b[38;5;241;43m=\u001b[39;49m\u001b[43my_train\u001b[49m\u001b[43m,\u001b[49m\n\u001b[1;32m     29\u001b[0m \u001b[43m    \u001b[49m\u001b[43mbatch_size\u001b[49m\u001b[38;5;241;43m=\u001b[39;49m\u001b[43mbatch_size\u001b[49m\u001b[43m,\u001b[49m\n\u001b[1;32m     30\u001b[0m \u001b[43m    \u001b[49m\u001b[43mepochs\u001b[49m\u001b[38;5;241;43m=\u001b[39;49m\u001b[43mnum_epochs\u001b[49m\u001b[43m,\u001b[49m\n\u001b[1;32m     31\u001b[0m \u001b[43m    \u001b[49m\u001b[43mvalidation_split\u001b[49m\u001b[38;5;241;43m=\u001b[39;49m\u001b[38;5;241;43m0.1\u001b[39;49m\u001b[43m,\u001b[49m\n\u001b[1;32m     32\u001b[0m \u001b[43m    \u001b[49m\u001b[43mcallbacks\u001b[49m\u001b[38;5;241;43m=\u001b[39;49m\u001b[43m[\u001b[49m\u001b[43mearly_stopping\u001b[49m\u001b[43m,\u001b[49m\u001b[43m \u001b[49m\u001b[43mreduce_lr\u001b[49m\u001b[43m]\u001b[49m\u001b[43m,\u001b[49m\n\u001b[1;32m     33\u001b[0m \u001b[43m\u001b[49m\u001b[43m)\u001b[49m\n\u001b[1;32m     35\u001b[0m _, accuracy, top_5_accuracy \u001b[38;5;241m=\u001b[39m model\u001b[38;5;241m.\u001b[39mevaluate(x_test, y_test)\n\u001b[1;32m     36\u001b[0m \u001b[38;5;28mprint\u001b[39m(\u001b[38;5;124mf\u001b[39m\u001b[38;5;124m\"\u001b[39m\u001b[38;5;124mTest accuracy: \u001b[39m\u001b[38;5;132;01m{\u001b[39;00m\u001b[38;5;28mround\u001b[39m(accuracy\u001b[38;5;250m \u001b[39m\u001b[38;5;241m*\u001b[39m\u001b[38;5;250m \u001b[39m\u001b[38;5;241m100\u001b[39m,\u001b[38;5;250m \u001b[39m\u001b[38;5;241m2\u001b[39m)\u001b[38;5;132;01m}\u001b[39;00m\u001b[38;5;124m%\u001b[39m\u001b[38;5;124m\"\u001b[39m)\n",
      "File \u001b[0;32m/usr/local/lib/python3.11/dist-packages/keras/src/utils/traceback_utils.py:122\u001b[0m, in \u001b[0;36mfilter_traceback.<locals>.error_handler\u001b[0;34m(*args, **kwargs)\u001b[0m\n\u001b[1;32m    119\u001b[0m     filtered_tb \u001b[38;5;241m=\u001b[39m _process_traceback_frames(e\u001b[38;5;241m.\u001b[39m__traceback__)\n\u001b[1;32m    120\u001b[0m     \u001b[38;5;66;03m# To get the full stack trace, call:\u001b[39;00m\n\u001b[1;32m    121\u001b[0m     \u001b[38;5;66;03m# `keras.config.disable_traceback_filtering()`\u001b[39;00m\n\u001b[0;32m--> 122\u001b[0m     \u001b[38;5;28;01mraise\u001b[39;00m e\u001b[38;5;241m.\u001b[39mwith_traceback(filtered_tb) \u001b[38;5;28;01mfrom\u001b[39;00m \u001b[38;5;28;01mNone\u001b[39;00m\n\u001b[1;32m    123\u001b[0m \u001b[38;5;28;01mfinally\u001b[39;00m:\n\u001b[1;32m    124\u001b[0m     \u001b[38;5;28;01mdel\u001b[39;00m filtered_tb\n",
      "Cell \u001b[0;32mIn[10], line 72\u001b[0m, in \u001b[0;36mPerceiver.call\u001b[0;34m(self, inputs)\u001b[0m\n\u001b[1;32m     70\u001b[0m augmented \u001b[38;5;241m=\u001b[39m data_augmentation(inputs)\n\u001b[1;32m     71\u001b[0m \u001b[38;5;66;03m# Create patches.\u001b[39;00m\n\u001b[0;32m---> 72\u001b[0m patches \u001b[38;5;241m=\u001b[39m \u001b[38;5;28;43mself\u001b[39;49m\u001b[38;5;241;43m.\u001b[39;49m\u001b[43mpatcher\u001b[49m(augmented)\n\u001b[1;32m     73\u001b[0m \u001b[38;5;66;03m# Encode patches.\u001b[39;00m\n\u001b[1;32m     74\u001b[0m encoded_patches \u001b[38;5;241m=\u001b[39m \u001b[38;5;28mself\u001b[39m\u001b[38;5;241m.\u001b[39mpatch_encoder(patches)\n",
      "\u001b[0;31mAttributeError\u001b[0m: Exception encountered when calling Perceiver.call().\n\n\u001b[1m'Perceiver' object has no attribute 'patcher'\u001b[0m\n\nArguments received by Perceiver.call():\n  • inputs=tf.Tensor(shape=(None, 32, 32, 3), dtype=uint8)"
     ]
    }
   ],
   "source": [
    "perceiver_classifier = Perceiver(\n",
    "    patch_size,\n",
    "    num_patches,\n",
    "    latent_dim,\n",
    "    projection_dim,\n",
    "    num_heads,\n",
    "    num_transformer_blocks,\n",
    "    ffn_units,\n",
    "    dropout_rate,\n",
    "    num_iterations,\n",
    "    classifier_units,\n",
    ")\n",
    "\n",
    "\n",
    "history = run_experiment(perceiver_classifier)"
   ]
  },
  {
   "cell_type": "markdown",
   "id": "a1ce17a5-747f-4858-a02b-d9142511c477",
   "metadata": {},
   "source": [
    "After 40 epochs, the Perceiver model achieves around 53% accuracy and 81% top-5 accuracy on the test data.\n",
    "\n",
    "As mentioned in the ablations of the Perceiver paper, you can obtain better results by increasing the latent array size, increasing the (projection) dimensions of the latent array and data array elements, increasing the number of blocks in the Transformer module, and increasing the number of iterations of applying the cross-attention and the latent Transformer modules. You may also try to increase the size the input images and use different patch sizes.\n",
    "\n",
    "The Perceiver benefits from inceasing the model size. However, larger models needs bigger accelerators to fit in and train efficiently. This is why in the Perceiver paper they used 32 TPU cores to run the experiments."
   ]
  },
  {
   "cell_type": "code",
   "execution_count": null,
   "id": "7a86b42d-d9a5-4bfa-89eb-2f34c0297248",
   "metadata": {},
   "outputs": [],
   "source": []
  }
 ],
 "metadata": {
  "kernelspec": {
   "display_name": "Python 3 (ipykernel)",
   "language": "python",
   "name": "python3"
  },
  "language_info": {
   "codemirror_mode": {
    "name": "ipython",
    "version": 3
   },
   "file_extension": ".py",
   "mimetype": "text/x-python",
   "name": "python",
   "nbconvert_exporter": "python",
   "pygments_lexer": "ipython3",
   "version": "3.11.0rc1"
  }
 },
 "nbformat": 4,
 "nbformat_minor": 5
}
