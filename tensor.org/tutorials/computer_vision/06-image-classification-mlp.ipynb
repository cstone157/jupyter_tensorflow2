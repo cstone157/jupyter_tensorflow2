{
 "cells": [
  {
   "cell_type": "markdown",
   "id": "c3ac5b8f-adc8-4c26-9f97-6059c3680f1f",
   "metadata": {},
   "source": [
    "# Image classification with modern MLP models\n",
    "\n",
    "<hr />\n",
    "\n",
    "### Introduction\n",
    "\n",
    "This example implements three modern attention-free, multi-layer perceptron (MLP) based models for image classification, demonstrated on the CIFAR-100 dataset:\n",
    "\n",
    "<ul>\n",
    "    <li>The <a href=\"https://arxiv.org/abs/2105.01601\">MLP-Mixer</a> model, by Ilya Tolstikhin et al., based on two types of MLPs.</li>\n",
    "    <li>The <a href=\"https://arxiv.org/abs/2105.03824\">FNet</a> model, by James Lee-Thorp et al., based on unparameterized Fourier Transform.</li>\n",
    "    <li>The <a href=\"https://arxiv.org/abs/2105.08050\">gMLP</a> model, by Hanxiao Liu et al., based on MLP with gating.</li>\n",
    "</ul>\n",
    "\n",
    "The purpose of the example is not to compare between these models, as they might perform differently on different datasets with well-tuned hyperparameters. Rather, it is to show simple implementations of their main building blocks.\n",
    "\n",
    "<hr />\n",
    "\n",
    "### Setup"
   ]
  },
  {
   "cell_type": "code",
   "execution_count": 1,
   "id": "e5537c34-2ec8-4f13-9162-f2203b757b1d",
   "metadata": {},
   "outputs": [
    {
     "name": "stderr",
     "output_type": "stream",
     "text": [
      "2025-04-11 03:33:08.155606: E external/local_xla/xla/stream_executor/cuda/cuda_fft.cc:467] Unable to register cuFFT factory: Attempting to register factory for plugin cuFFT when one has already been registered\n",
      "WARNING: All log messages before absl::InitializeLog() is called are written to STDERR\n",
      "E0000 00:00:1744342388.230023  757039 cuda_dnn.cc:8579] Unable to register cuDNN factory: Attempting to register factory for plugin cuDNN when one has already been registered\n",
      "E0000 00:00:1744342388.264536  757039 cuda_blas.cc:1407] Unable to register cuBLAS factory: Attempting to register factory for plugin cuBLAS when one has already been registered\n",
      "W0000 00:00:1744342388.397603  757039 computation_placer.cc:177] computation placer already registered. Please check linkage and avoid linking the same target more than once.\n",
      "W0000 00:00:1744342388.397664  757039 computation_placer.cc:177] computation placer already registered. Please check linkage and avoid linking the same target more than once.\n",
      "W0000 00:00:1744342388.397670  757039 computation_placer.cc:177] computation placer already registered. Please check linkage and avoid linking the same target more than once.\n",
      "W0000 00:00:1744342388.397675  757039 computation_placer.cc:177] computation placer already registered. Please check linkage and avoid linking the same target more than once.\n",
      "2025-04-11 03:33:08.417231: I tensorflow/core/platform/cpu_feature_guard.cc:210] This TensorFlow binary is optimized to use available CPU instructions in performance-critical operations.\n",
      "To enable the following instructions: AVX2 FMA, in other operations, rebuild TensorFlow with the appropriate compiler flags.\n"
     ]
    }
   ],
   "source": [
    "import numpy as np\n",
    "import keras\n",
    "from keras import layers"
   ]
  },
  {
   "cell_type": "markdown",
   "id": "e2ecc7e9-24e1-49bd-bd40-23fad3738b6e",
   "metadata": {},
   "source": [
    "<hr />\n",
    "\n",
    "### Prepare the data"
   ]
  },
  {
   "cell_type": "code",
   "execution_count": 2,
   "id": "3da16cd3-39f1-49f7-a95d-dee3f0580361",
   "metadata": {},
   "outputs": [
    {
     "name": "stdout",
     "output_type": "stream",
     "text": [
      "x_train shape: (50000, 32, 32, 3) - y_train shape: (50000, 1)\n",
      "x_test shape: (10000, 32, 32, 3) - y_test shape: (10000, 1)\n"
     ]
    }
   ],
   "source": [
    "num_classes = 100\n",
    "input_shape = (32, 32, 3)\n",
    "\n",
    "(x_train, y_train), (x_test, y_test) = keras.datasets.cifar100.load_data()\n",
    "\n",
    "print(f\"x_train shape: {x_train.shape} - y_train shape: {y_train.shape}\")\n",
    "print(f\"x_test shape: {x_test.shape} - y_test shape: {y_test.shape}\")"
   ]
  },
  {
   "cell_type": "markdown",
   "id": "3bf06d2f-41c9-43b1-ad50-5beeac56ad2e",
   "metadata": {},
   "source": [
    "<hr />\n",
    "\n",
    "### Configure the hyperparameters"
   ]
  },
  {
   "cell_type": "code",
   "execution_count": 3,
   "id": "7e21c792-858e-41b3-ac45-9d23f56c00fc",
   "metadata": {},
   "outputs": [
    {
     "name": "stdout",
     "output_type": "stream",
     "text": [
      "Image size: 64 X 64 = 4096\n",
      "Patch size: 8 X 8 = 64 \n",
      "Patches per image: 64\n",
      "Elements per patch (3 channels): 192\n"
     ]
    }
   ],
   "source": [
    "weight_decay = 0.0001\n",
    "batch_size = 128\n",
    "num_epochs = 1  # Recommended num_epochs = 50\n",
    "dropout_rate = 0.2\n",
    "image_size = 64  # We'll resize input images to this size.\n",
    "patch_size = 8  # Size of the patches to be extracted from the input images.\n",
    "num_patches = (image_size // patch_size) ** 2  # Size of the data array.\n",
    "embedding_dim = 256  # Number of hidden units.\n",
    "num_blocks = 4  # Number of blocks.\n",
    "\n",
    "print(f\"Image size: {image_size} X {image_size} = {image_size ** 2}\")\n",
    "print(f\"Patch size: {patch_size} X {patch_size} = {patch_size ** 2} \")\n",
    "print(f\"Patches per image: {num_patches}\")\n",
    "print(f\"Elements per patch (3 channels): {(patch_size ** 2) * 3}\")"
   ]
  },
  {
   "cell_type": "markdown",
   "id": "d2cbb721-84a6-403c-abe0-6b78972aa8c7",
   "metadata": {},
   "source": [
    "<hr />\n",
    "\n",
    "### Build a classification model\n",
    "\n",
    "We implement a method that builds a classifier given the processing blocks."
   ]
  },
  {
   "cell_type": "code",
   "execution_count": 4,
   "id": "5bb4d7f5-ca77-4e6e-9f3c-699461d32578",
   "metadata": {},
   "outputs": [],
   "source": [
    "def build_classifier(blocks, positional_encoding=False):\n",
    "    inputs = layers.Input(shape=input_shape)\n",
    "    # Augment data.\n",
    "    augmented = data_augmentation(inputs)\n",
    "    # Create patches.\n",
    "    patches = Patches(patch_size)(augmented)\n",
    "    # Encode patches to generate a [batch_size, num_patches, embedding_dim] tensor.\n",
    "    x = layers.Dense(units=embedding_dim)(patches)\n",
    "    if positional_encoding:\n",
    "        x = x + PositionEmbedding(sequence_length=num_patches)(x)\n",
    "    # Process x using the module blocks.\n",
    "    x = blocks(x)\n",
    "    # Apply global average pooling to generate a [batch_size, embedding_dim] representation tensor.\n",
    "    representation = layers.GlobalAveragePooling1D()(x)\n",
    "    # Apply dropout.\n",
    "    representation = layers.Dropout(rate=dropout_rate)(representation)\n",
    "    # Compute logits outputs.\n",
    "    logits = layers.Dense(num_classes)(representation)\n",
    "    # Create the Keras model.\n",
    "    return keras.Model(inputs=inputs, outputs=logits)"
   ]
  },
  {
   "cell_type": "markdown",
   "id": "e25e1f68-4cb3-431b-bc07-e1efdd01f906",
   "metadata": {},
   "source": [
    "<hr />\n",
    "\n",
    "### Define an experiment\n",
    "\n",
    "We implement a utility function to compile, train, and evaluate a given model."
   ]
  },
  {
   "cell_type": "code",
   "execution_count": 5,
   "id": "4342e6d4-c047-4cf7-9319-e471a1ea5516",
   "metadata": {},
   "outputs": [],
   "source": [
    "def run_experiment(model):\n",
    "    # Create Adam optimizer with weight decay.\n",
    "    optimizer = keras.optimizers.AdamW(\n",
    "        learning_rate=learning_rate,\n",
    "        weight_decay=weight_decay,\n",
    "    )\n",
    "    # Compile the model.\n",
    "    model.compile(\n",
    "        optimizer=optimizer,\n",
    "        loss=keras.losses.SparseCategoricalCrossentropy(from_logits=True),\n",
    "        metrics=[\n",
    "            keras.metrics.SparseCategoricalAccuracy(name=\"acc\"),\n",
    "            keras.metrics.SparseTopKCategoricalAccuracy(5, name=\"top5-acc\"),\n",
    "        ],\n",
    "    )\n",
    "    # Create a learning rate scheduler callback.\n",
    "    reduce_lr = keras.callbacks.ReduceLROnPlateau(\n",
    "        monitor=\"val_loss\", factor=0.5, patience=5\n",
    "    )\n",
    "    # Create an early stopping callback.\n",
    "    early_stopping = keras.callbacks.EarlyStopping(\n",
    "        monitor=\"val_loss\", patience=10, restore_best_weights=True\n",
    "    )\n",
    "    # Fit the model.\n",
    "    history = model.fit(\n",
    "        x=x_train,\n",
    "        y=y_train,\n",
    "        batch_size=batch_size,\n",
    "        epochs=num_epochs,\n",
    "        validation_split=0.1,\n",
    "        callbacks=[early_stopping, reduce_lr],\n",
    "        verbose=0,\n",
    "    )\n",
    "\n",
    "    _, accuracy, top_5_accuracy = model.evaluate(x_test, y_test)\n",
    "    print(f\"Test accuracy: {round(accuracy * 100, 2)}%\")\n",
    "    print(f\"Test top 5 accuracy: {round(top_5_accuracy * 100, 2)}%\")\n",
    "\n",
    "    # Return history to plot learning curves.\n",
    "    return history"
   ]
  },
  {
   "cell_type": "markdown",
   "id": "59954d7b-3fd0-4853-9c76-e8bc1f81222b",
   "metadata": {},
   "source": [
    "<hr />\n",
    "\n",
    "### Use data augmentation"
   ]
  },
  {
   "cell_type": "code",
   "execution_count": 6,
   "id": "a02a5ba7-2482-4ec5-a45a-5da471aa085e",
   "metadata": {},
   "outputs": [
    {
     "name": "stderr",
     "output_type": "stream",
     "text": [
      "2025-04-13 04:25:42.467934: E external/local_xla/xla/stream_executor/cuda/cuda_platform.cc:51] failed call to cuInit: INTERNAL: CUDA error: Failed call to cuInit: UNKNOWN ERROR (303)\n"
     ]
    }
   ],
   "source": [
    "data_augmentation = keras.Sequential(\n",
    "    [\n",
    "        layers.Normalization(),\n",
    "        layers.Resizing(image_size, image_size),\n",
    "        layers.RandomFlip(\"horizontal\"),\n",
    "        layers.RandomZoom(height_factor=0.2, width_factor=0.2),\n",
    "    ],\n",
    "    name=\"data_augmentation\",\n",
    ")\n",
    "# Compute the mean and the variance of the training data for normalization.\n",
    "data_augmentation.layers[0].adapt(x_train)"
   ]
  },
  {
   "cell_type": "markdown",
   "id": "9416260a-dfd4-4cdb-846d-ab8276bdbd3e",
   "metadata": {},
   "source": [
    "<hr />\n",
    "\n",
    "### Implement patch extraction as a layer"
   ]
  },
  {
   "cell_type": "code",
   "execution_count": 7,
   "id": "f10c6c85-1037-4f53-aa38-7ef7b3aa77aa",
   "metadata": {},
   "outputs": [],
   "source": [
    "class Patches(layers.Layer):\n",
    "    def __init__(self, patch_size, **kwargs):\n",
    "        super().__init__(**kwargs)\n",
    "        self.patch_size = patch_size\n",
    "\n",
    "    def call(self, x):\n",
    "        patches = keras.ops.image.extract_patches(x, self.patch_size)\n",
    "        batch_size = keras.ops.shape(patches)[0]\n",
    "        num_patches = keras.ops.shape(patches)[1] * keras.ops.shape(patches)[2]\n",
    "        patch_dim = keras.ops.shape(patches)[3]\n",
    "        out = keras.ops.reshape(patches, (batch_size, num_patches, patch_dim))\n",
    "        return out"
   ]
  },
  {
   "cell_type": "markdown",
   "id": "5964f718-79f3-44c6-b9c6-e7358cd037bf",
   "metadata": {},
   "source": [
    "<hr />\n",
    "\n",
    "### Implement position embedding as a layer"
   ]
  },
  {
   "cell_type": "code",
   "execution_count": 8,
   "id": "e5cf0e1d-d023-4174-82e7-28eccacbd914",
   "metadata": {},
   "outputs": [],
   "source": [
    "class PositionEmbedding(keras.layers.Layer):\n",
    "    def __init__(\n",
    "        self,\n",
    "        sequence_length,\n",
    "        initializer=\"glorot_uniform\",\n",
    "        **kwargs,\n",
    "    ):\n",
    "        super().__init__(**kwargs)\n",
    "        if sequence_length is None:\n",
    "            raise ValueError(\"`sequence_length` must be an Integer, received `None`.\")\n",
    "        self.sequence_length = int(sequence_length)\n",
    "        self.initializer = keras.initializers.get(initializer)\n",
    "\n",
    "    def get_config(self):\n",
    "        config = super().get_config()\n",
    "        config.update(\n",
    "            {\n",
    "                \"sequence_length\": self.sequence_length,\n",
    "                \"initializer\": keras.initializers.serialize(self.initializer),\n",
    "            }\n",
    "        )\n",
    "        return config\n",
    "\n",
    "    def build(self, input_shape):\n",
    "        feature_size = input_shape[-1]\n",
    "        self.position_embeddings = self.add_weight(\n",
    "            name=\"embeddings\",\n",
    "            shape=[self.sequence_length, feature_size],\n",
    "            initializer=self.initializer,\n",
    "            trainable=True,\n",
    "        )\n",
    "\n",
    "        super().build(input_shape)\n",
    "\n",
    "    def call(self, inputs, start_index=0):\n",
    "        shape = keras.ops.shape(inputs)\n",
    "        feature_length = shape[-1]\n",
    "        sequence_length = shape[-2]\n",
    "        # trim to match the length of the input sequence, which might be less\n",
    "        # than the sequence_length of the layer.\n",
    "        position_embeddings = keras.ops.convert_to_tensor(self.position_embeddings)\n",
    "        position_embeddings = keras.ops.slice(\n",
    "            position_embeddings,\n",
    "            (start_index, 0),\n",
    "            (sequence_length, feature_length),\n",
    "        )\n",
    "        return keras.ops.broadcast_to(position_embeddings, shape)\n",
    "\n",
    "    def compute_output_shape(self, input_shape):\n",
    "        return input_shape"
   ]
  },
  {
   "cell_type": "markdown",
   "id": "0471b2c2-0c5d-4baf-99bc-a8c32b2fd850",
   "metadata": {},
   "source": [
    "<hr />\n",
    "\n",
    "### The MLP-Mixer model\n",
    "\n",
    "The MLP-Mixer is an architecture based exclusively on multi-layer perceptrons (MLPs), that contains two types of MLP layers:\n",
    "\n",
    "<ol>\n",
    "    <li>One applied independently to image patches, which mixes the per-location features.</li>\n",
    "    <li>The other applied across patches (along channels), which mixes spatial information.</li>\n",
    "</ol>\n",
    "\n",
    "This is similar to a <a href=\"https://arxiv.org/abs/1610.02357\">depthwise separable convolution based model</a> such as the Xception model, but with two chained dense transforms, no max pooling, and layer normalization instead of batch normalization.\n",
    "\n",
    "#### Implement the MLP-Mixer module"
   ]
  },
  {
   "cell_type": "code",
   "execution_count": 9,
   "id": "2b5d80fc-e1dd-45eb-a06c-c167d5f8b6de",
   "metadata": {},
   "outputs": [],
   "source": [
    "class MLPMixerLayer(layers.Layer):\n",
    "    def __init__(self, num_patches, hidden_units, dropout_rate, *args, **kwargs):\n",
    "        super().__init__(*args, **kwargs)\n",
    "\n",
    "        self.mlp1 = keras.Sequential(\n",
    "            [\n",
    "                layers.Dense(units=num_patches, activation=\"gelu\"),\n",
    "                layers.Dense(units=num_patches),\n",
    "                layers.Dropout(rate=dropout_rate),\n",
    "            ]\n",
    "        )\n",
    "        self.mlp2 = keras.Sequential(\n",
    "            [\n",
    "                layers.Dense(units=num_patches, activation=\"gelu\"),\n",
    "                layers.Dense(units=hidden_units),\n",
    "                layers.Dropout(rate=dropout_rate),\n",
    "            ]\n",
    "        )\n",
    "        self.normalize = layers.LayerNormalization(epsilon=1e-6)\n",
    "\n",
    "    def build(self, input_shape):\n",
    "        return super().build(input_shape)\n",
    "\n",
    "    def call(self, inputs):\n",
    "        # Apply layer normalization.\n",
    "        x = self.normalize(inputs)\n",
    "        # Transpose inputs from [num_batches, num_patches, hidden_units] to [num_batches, hidden_units, num_patches].\n",
    "        x_channels = keras.ops.transpose(x, axes=(0, 2, 1))\n",
    "        # Apply mlp1 on each channel independently.\n",
    "        mlp1_outputs = self.mlp1(x_channels)\n",
    "        # Transpose mlp1_outputs from [num_batches, hidden_dim, num_patches] to [num_batches, num_patches, hidden_units].\n",
    "        mlp1_outputs = keras.ops.transpose(mlp1_outputs, axes=(0, 2, 1))\n",
    "        # Add skip connection.\n",
    "        x = mlp1_outputs + inputs\n",
    "        # Apply layer normalization.\n",
    "        x_patches = self.normalize(x)\n",
    "        # Apply mlp2 on each patch independtenly.\n",
    "        mlp2_outputs = self.mlp2(x_patches)\n",
    "        # Add skip connection.\n",
    "        x = x + mlp2_outputs\n",
    "        return x"
   ]
  },
  {
   "cell_type": "markdown",
   "id": "418fcba8-6d1f-418d-a461-0481953da03f",
   "metadata": {},
   "source": [
    "#### Build, train, and evaluate the MLP-Mixer model\n",
    "\n",
    "Note that training the model with the current settings on a V100 GPUs takes around 8 seconds per epoch."
   ]
  },
  {
   "cell_type": "code",
   "execution_count": null,
   "id": "7f23f10b-4996-4329-b781-cb576662a3ce",
   "metadata": {},
   "outputs": [
    {
     "name": "stderr",
     "output_type": "stream",
     "text": [
      "2025-04-13 04:28:31.611176: W external/local_xla/xla/tsl/framework/cpu_allocator_impl.cc:83] Allocation of 138240000 exceeds 10% of free system memory.\n"
     ]
    }
   ],
   "source": [
    "mlpmixer_blocks = keras.Sequential(\n",
    "    [MLPMixerLayer(num_patches, embedding_dim, dropout_rate) for _ in range(num_blocks)]\n",
    ")\n",
    "learning_rate = 0.005\n",
    "mlpmixer_classifier = build_classifier(mlpmixer_blocks)\n",
    "history = run_experiment(mlpmixer_classifier)"
   ]
  },
  {
   "cell_type": "markdown",
   "id": "5c0a20df-5a77-4382-9ec1-239d25f1bebd",
   "metadata": {},
   "source": [
    "The MLP-Mixer model tends to have much less number of parameters compared to convolutional and transformer-based models, which leads to less training and serving computational cost.\n",
    "\n",
    "As mentioned in the <a href=\"https://arxiv.org/abs/2105.01601\">MLP-Mixer</a> paper, when pre-trained on large datasets, or with modern regularization schemes, the MLP-Mixer attains competitive scores to state-of-the-art models. You can obtain better results by increasing the embedding dimensions, increasing the number of mixer blocks, and training the model for longer. You may also try to increase the size of the input images and use different patch sizes.\n",
    "\n",
    "<hr />\n",
    "\n",
    "#### The FNet model\n",
    "\n",
    "The FNet uses a similar block to the Transformer block. However, FNet replaces the self-attention layer in the Transformer block with a parameter-free 2D Fourier transformation layer:\n",
    "\n",
    "<ul>\n",
    "    <li>One 1D Fourier Transform is applied along the patches.</li>\n",
    "    <li>One 1D Fourier Transform is applied along the channels.</li>\n",
    "</ul>\n",
    "\n",
    "#### Implement the FNet module"
   ]
  },
  {
   "cell_type": "code",
   "execution_count": null,
   "id": "c670c6b6-4c48-4c85-95f1-58f9dc561e45",
   "metadata": {},
   "outputs": [],
   "source": [
    "class FNetLayer(layers.Layer):\n",
    "    def __init__(self, embedding_dim, dropout_rate, *args, **kwargs):\n",
    "        super().__init__(*args, **kwargs)\n",
    "\n",
    "        self.ffn = keras.Sequential(\n",
    "            [\n",
    "                layers.Dense(units=embedding_dim, activation=\"gelu\"),\n",
    "                layers.Dropout(rate=dropout_rate),\n",
    "                layers.Dense(units=embedding_dim),\n",
    "            ]\n",
    "        )\n",
    "\n",
    "        self.normalize1 = layers.LayerNormalization(epsilon=1e-6)\n",
    "        self.normalize2 = layers.LayerNormalization(epsilon=1e-6)\n",
    "\n",
    "    def call(self, inputs):\n",
    "        # Apply fourier transformations.\n",
    "        real_part = inputs\n",
    "        im_part = keras.ops.zeros_like(inputs)\n",
    "        x = keras.ops.fft2((real_part, im_part))[0]\n",
    "        # Add skip connection.\n",
    "        x = x + inputs\n",
    "        # Apply layer normalization.\n",
    "        x = self.normalize1(x)\n",
    "        # Apply Feedfowrad network.\n",
    "        x_ffn = self.ffn(x)\n",
    "        # Add skip connection.\n",
    "        x = x + x_ffn\n",
    "        # Apply layer normalization.\n",
    "        return self.normalize2(x)"
   ]
  },
  {
   "cell_type": "markdown",
   "id": "f3f8eea0-5bc9-4e0b-996b-1b7730ba238a",
   "metadata": {},
   "source": [
    "### Build, train, and evaluate the FNet model\n",
    "\n",
    "Note that training the model with the current settings on a V100 GPUs takes around 8 seconds per epoch."
   ]
  },
  {
   "cell_type": "code",
   "execution_count": null,
   "id": "ccd77e14-7001-44f3-80b1-13afc3172146",
   "metadata": {},
   "outputs": [],
   "source": [
    "fnet_blocks = keras.Sequential(\n",
    "    [FNetLayer(embedding_dim, dropout_rate) for _ in range(num_blocks)]\n",
    ")\n",
    "learning_rate = 0.001\n",
    "fnet_classifier = build_classifier(fnet_blocks, positional_encoding=True)\n",
    "history = run_experiment(fnet_classifier)"
   ]
  },
  {
   "cell_type": "markdown",
   "id": "4b348b9b-8e04-42ae-8c8e-f846698ead31",
   "metadata": {},
   "source": [
    "As shown in the <a href=\"https://arxiv.org/abs/2105.03824\">FNet</a> paper, better results can be achieved by increasing the embedding dimensions, increasing the number of FNet blocks, and training the model for longer. You may also try to increase the size of the input images and use different patch sizes. The FNet scales very efficiently to long inputs, runs much faster than attention-based Transformer models, and produces competitive accuracy results.\n",
    "\n",
    "<hr />\n",
    "\n",
    "### The gMLP model\n",
    "\n",
    "The gMLP is a MLP architecture that features a Spatial Gating Unit (SGU). The SGU enables cross-patch interactions across the spatial (channel) dimension, by:\n",
    "\n",
    "<ul>\n",
    "    <li>Transforming the input spatially by applying linear projection across patches (along channels).</li>\n",
    "    <li>Applying element-wise multiplication of the input and its spatial transformation.</li>\n",
    "</ul>\n",
    "\n",
    "#### Implement the gMLP module"
   ]
  },
  {
   "cell_type": "code",
   "execution_count": null,
   "id": "665308e3-6c62-469a-abdf-1b22a9ad57c3",
   "metadata": {},
   "outputs": [],
   "source": [
    "class gMLPLayer(layers.Layer):\n",
    "    def __init__(self, num_patches, embedding_dim, dropout_rate, *args, **kwargs):\n",
    "        super().__init__(*args, **kwargs)\n",
    "\n",
    "        self.channel_projection1 = keras.Sequential(\n",
    "            [\n",
    "                layers.Dense(units=embedding_dim * 2, activation=\"gelu\"),\n",
    "                layers.Dropout(rate=dropout_rate),\n",
    "            ]\n",
    "        )\n",
    "\n",
    "        self.channel_projection2 = layers.Dense(units=embedding_dim)\n",
    "\n",
    "        self.spatial_projection = layers.Dense(\n",
    "            units=num_patches, bias_initializer=\"Ones\"\n",
    "        )\n",
    "\n",
    "        self.normalize1 = layers.LayerNormalization(epsilon=1e-6)\n",
    "        self.normalize2 = layers.LayerNormalization(epsilon=1e-6)\n",
    "\n",
    "    def spatial_gating_unit(self, x):\n",
    "        # Split x along the channel dimensions.\n",
    "        # Tensors u and v will in the shape of [batch_size, num_patchs, embedding_dim].\n",
    "        u, v = keras.ops.split(x, indices_or_sections=2, axis=2)\n",
    "        # Apply layer normalization.\n",
    "        v = self.normalize2(v)\n",
    "        # Apply spatial projection.\n",
    "        v_channels = keras.ops.transpose(v, axes=(0, 2, 1))\n",
    "        v_projected = self.spatial_projection(v_channels)\n",
    "        v_projected = keras.ops.transpose(v_projected, axes=(0, 2, 1))\n",
    "        # Apply element-wise multiplication.\n",
    "        return u * v_projected\n",
    "\n",
    "    def call(self, inputs):\n",
    "        # Apply layer normalization.\n",
    "        x = self.normalize1(inputs)\n",
    "        # Apply the first channel projection. x_projected shape: [batch_size, num_patches, embedding_dim * 2].\n",
    "        x_projected = self.channel_projection1(x)\n",
    "        # Apply the spatial gating unit. x_spatial shape: [batch_size, num_patches, embedding_dim].\n",
    "        x_spatial = self.spatial_gating_unit(x_projected)\n",
    "        # Apply the second channel projection. x_projected shape: [batch_size, num_patches, embedding_dim].\n",
    "        x_projected = self.channel_projection2(x_spatial)\n",
    "        # Add skip connection.\n",
    "        return x + x_projected"
   ]
  },
  {
   "cell_type": "markdown",
   "id": "54a906b9-60a6-4a09-a7f9-e89c47ef1e8c",
   "metadata": {},
   "source": [
    "#### Build, train, and evaluate the gMLP model\n",
    "\n",
    "Note that training the model with the current settings on a V100 GPUs takes around 9 seconds per epoch."
   ]
  },
  {
   "cell_type": "code",
   "execution_count": null,
   "id": "7abd0139-ab88-4920-8d56-d2a8f17a1cae",
   "metadata": {},
   "outputs": [],
   "source": [
    "gmlp_blocks = keras.Sequential(\n",
    "    [gMLPLayer(num_patches, embedding_dim, dropout_rate) for _ in range(num_blocks)]\n",
    ")\n",
    "learning_rate = 0.003\n",
    "gmlp_classifier = build_classifier(gmlp_blocks)\n",
    "history = run_experiment(gmlp_classifier)"
   ]
  },
  {
   "cell_type": "markdown",
   "id": "098e0203-c030-4be8-ab90-8b327657d153",
   "metadata": {},
   "source": [
    "As shown in the <a href=\"https://arxiv.org/abs/2105.08050\">gMLP</a> paper, better results can be achieved by increasing the embedding dimensions, increasing the number of gMLP blocks, and training the model for longer. You may also try to increase the size of the input images and use different patch sizes. Note that, the paper used advanced regularization strategies, such as MixUp and CutMix, as well as AutoAugment."
   ]
  },
  {
   "cell_type": "code",
   "execution_count": null,
   "id": "4e450b5d-ba61-4cee-8d32-d79db414925d",
   "metadata": {},
   "outputs": [],
   "source": []
  }
 ],
 "metadata": {
  "kernelspec": {
   "display_name": "Python 3 (ipykernel)",
   "language": "python",
   "name": "python3"
  },
  "language_info": {
   "codemirror_mode": {
    "name": "ipython",
    "version": 3
   },
   "file_extension": ".py",
   "mimetype": "text/x-python",
   "name": "python",
   "nbconvert_exporter": "python",
   "pygments_lexer": "ipython3",
   "version": "3.11.0rc1"
  }
 },
 "nbformat": 4,
 "nbformat_minor": 5
}
