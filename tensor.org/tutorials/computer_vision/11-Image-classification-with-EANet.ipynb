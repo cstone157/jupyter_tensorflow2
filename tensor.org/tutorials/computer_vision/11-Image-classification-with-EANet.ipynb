{
 "cells": [
  {
   "cell_type": "markdown",
   "id": "3eae2ab4-dc1c-4e35-8639-78ab13900433",
   "metadata": {},
   "source": [
    "# Image classification with EANet\n",
    "\n",
    "<hr />\n",
    "\n",
    "### Introduction\n",
    "\n",
    "This example implements the EANet model for image classification, and demonstrates it on the CIFAR-100 dataset. EANet introduces a novel attention mechanism named <b>external attention</import keras\n",
    "from keras import layers\n",
    "from keras import ops\n",
    "\n",
    "import matplotlib.pyplot as plt\n",
    "b>, based on two external, small, learnable, and shared memories, which can be implemented easily by simply using two cascaded linear layers and two normalization layers. It conveniently replaces self-attention as used in existing architectures. External attention has linear complexity, as it only implicitly considers the correlations between all samples.\n",
    "\n",
    "<hr />\n",
    "\n",
    "### Setup"
   ]
  },
  {
   "cell_type": "code",
   "execution_count": 1,
   "id": "4746f9ff-449a-4801-8414-1a7ae7127465",
   "metadata": {},
   "outputs": [
    {
     "name": "stderr",
     "output_type": "stream",
     "text": [
      "2025-04-22 03:17:49.326616: E external/local_xla/xla/stream_executor/cuda/cuda_fft.cc:467] Unable to register cuFFT factory: Attempting to register factory for plugin cuFFT when one has already been registered\n",
      "WARNING: All log messages before absl::InitializeLog() is called are written to STDERR\n",
      "E0000 00:00:1745291869.371854  153565 cuda_dnn.cc:8579] Unable to register cuDNN factory: Attempting to register factory for plugin cuDNN when one has already been registered\n",
      "E0000 00:00:1745291869.386645  153565 cuda_blas.cc:1407] Unable to register cuBLAS factory: Attempting to register factory for plugin cuBLAS when one has already been registered\n",
      "W0000 00:00:1745291869.422868  153565 computation_placer.cc:177] computation placer already registered. Please check linkage and avoid linking the same target more than once.\n",
      "W0000 00:00:1745291869.422910  153565 computation_placer.cc:177] computation placer already registered. Please check linkage and avoid linking the same target more than once.\n",
      "W0000 00:00:1745291869.422913  153565 computation_placer.cc:177] computation placer already registered. Please check linkage and avoid linking the same target more than once.\n",
      "W0000 00:00:1745291869.422915  153565 computation_placer.cc:177] computation placer already registered. Please check linkage and avoid linking the same target more than once.\n",
      "2025-04-22 03:17:49.431462: I tensorflow/core/platform/cpu_feature_guard.cc:210] This TensorFlow binary is optimized to use available CPU instructions in performance-critical operations.\n",
      "To enable the following instructions: AVX2 FMA, in other operations, rebuild TensorFlow with the appropriate compiler flags.\n"
     ]
    }
   ],
   "source": [
    "import keras\n",
    "from keras import layers\n",
    "from keras import ops\n",
    "\n",
    "import matplotlib.pyplot as plt"
   ]
  },
  {
   "cell_type": "markdown",
   "id": "648bc5ca-6b9c-4694-8d06-1e4d53227316",
   "metadata": {},
   "source": [
    "<hr />\n",
    "\n",
    "### Prepare the data"
   ]
  },
  {
   "cell_type": "code",
   "execution_count": 2,
   "id": "d07e44c8-beb3-401e-99c0-752e4a2809d6",
   "metadata": {},
   "outputs": [
    {
     "name": "stdout",
     "output_type": "stream",
     "text": [
      "x_train shape: (50000, 32, 32, 3) - y_train shape: (50000, 100)\n",
      "x_test shape: (10000, 32, 32, 3) - y_test shape: (10000, 100)\n"
     ]
    }
   ],
   "source": [
    "num_classes = 100\n",
    "input_shape = (32, 32, 3)\n",
    "\n",
    "(x_train, y_train), (x_test, y_test) = keras.datasets.cifar100.load_data()\n",
    "y_train = keras.utils.to_categorical(y_train, num_classes)\n",
    "y_test = keras.utils.to_categorical(y_test, num_classes)\n",
    "print(f\"x_train shape: {x_train.shape} - y_train shape: {y_train.shape}\")\n",
    "print(f\"x_test shape: {x_test.shape} - y_test shape: {y_test.shape}\")"
   ]
  },
  {
   "cell_type": "markdown",
   "id": "4122b1f5-4fa4-4228-b6e8-f3710c0e9ee2",
   "metadata": {},
   "source": [
    "<hr />\n",
    "\n",
    "### Configure the hyperparameters"
   ]
  },
  {
   "cell_type": "code",
   "execution_count": 3,
   "id": "938d9829-dfc7-42c0-a364-30f93e17af97",
   "metadata": {},
   "outputs": [
    {
     "name": "stdout",
     "output_type": "stream",
     "text": [
      "Patch size: 2 X 2 = 4 \n",
      "Patches per image: 256\n"
     ]
    }
   ],
   "source": [
    "weight_decay = 0.0001\n",
    "learning_rate = 0.001\n",
    "label_smoothing = 0.1\n",
    "validation_split = 0.2\n",
    "batch_size = 128\n",
    "num_epochs = 50\n",
    "patch_size = 2  # Size of the patches to be extracted from the input images.\n",
    "num_patches = (input_shape[0] // patch_size) ** 2  # Number of patch\n",
    "embedding_dim = 64  # Number of hidden units.\n",
    "mlp_dim = 64\n",
    "dim_coefficient = 4\n",
    "num_heads = 4\n",
    "attention_dropout = 0.2\n",
    "projection_dropout = 0.2\n",
    "num_transformer_blocks = 8  # Number of repetitions of the transformer layer\n",
    "\n",
    "print(f\"Patch size: {patch_size} X {patch_size} = {patch_size ** 2} \")\n",
    "print(f\"Patches per image: {num_patches}\")"
   ]
  },
  {
   "cell_type": "markdown",
   "id": "3be4ac4a-9272-4dfb-bae2-a6b2a3df5ba3",
   "metadata": {},
   "source": [
    "<hr />\n",
    "\n",
    "### Use data augmentation"
   ]
  },
  {
   "cell_type": "code",
   "execution_count": 4,
   "id": "acb08c04-95f2-46b2-905a-3d76756fd15c",
   "metadata": {},
   "outputs": [
    {
     "name": "stderr",
     "output_type": "stream",
     "text": [
      "2025-04-22 03:18:58.415288: E external/local_xla/xla/stream_executor/cuda/cuda_platform.cc:51] failed call to cuInit: INTERNAL: CUDA error: Failed call to cuInit: UNKNOWN ERROR (303)\n"
     ]
    }
   ],
   "source": [
    "data_augmentation = keras.Sequential(\n",
    "    [\n",
    "        layers.Normalization(),\n",
    "        layers.RandomFlip(\"horizontal\"),\n",
    "        layers.RandomRotation(factor=0.1),\n",
    "        layers.RandomContrast(factor=0.1),\n",
    "        layers.RandomZoom(height_factor=0.2, width_factor=0.2),\n",
    "    ],\n",
    "    name=\"data_augmentation\",\n",
    ")\n",
    "# Compute the mean and the variance of the training data for normalization.\n",
    "data_augmentation.layers[0].adapt(x_train)"
   ]
  },
  {
   "cell_type": "markdown",
   "id": "b13639db-96ae-4bdd-a7ae-3c82d6869d74",
   "metadata": {},
   "source": [
    "<hr />\n",
    "\n",
    "### Implement the patch extraction and encoding layer"
   ]
  },
  {
   "cell_type": "code",
   "execution_count": 5,
   "id": "2782e697-f6ea-4901-97d4-301f64697bb0",
   "metadata": {},
   "outputs": [],
   "source": [
    "class PatchExtract(layers.Layer):\n",
    "    def __init__(self, patch_size, **kwargs):\n",
    "        super().__init__(**kwargs)\n",
    "        self.patch_size = patch_size\n",
    "\n",
    "    def call(self, x):\n",
    "        B, C = ops.shape(x)[0], ops.shape(x)[-1]\n",
    "        x = ops.image.extract_patches(x, self.patch_size)\n",
    "        x = ops.reshape(x, (B, -1, self.patch_size * self.patch_size * C))\n",
    "        return x\n",
    "\n",
    "\n",
    "class PatchEmbedding(layers.Layer):\n",
    "    def __init__(self, num_patch, embed_dim, **kwargs):\n",
    "        super().__init__(**kwargs)\n",
    "        self.num_patch = num_patch\n",
    "        self.proj = layers.Dense(embed_dim)\n",
    "        self.pos_embed = layers.Embedding(input_dim=num_patch, output_dim=embed_dim)\n",
    "\n",
    "    def call(self, patch):\n",
    "        pos = ops.arange(start=0, stop=self.num_patch, step=1)\n",
    "        return self.proj(patch) + self.pos_embed(pos)"
   ]
  },
  {
   "cell_type": "markdown",
   "id": "cf3c93af-1a40-4a0e-99df-b665b373ac14",
   "metadata": {},
   "source": [
    "<hr />\n",
    "\n",
    "### Implement the external attention block"
   ]
  },
  {
   "cell_type": "code",
   "execution_count": 6,
   "id": "575b07bb-b706-44fe-9d69-2270e02130a1",
   "metadata": {},
   "outputs": [],
   "source": [
    "def external_attention(\n",
    "    x,\n",
    "    dim,\n",
    "    num_heads,\n",
    "    dim_coefficient=4,\n",
    "    attention_dropout=0,\n",
    "    projection_dropout=0,\n",
    "):\n",
    "    _, num_patch, channel = x.shape\n",
    "    assert dim % num_heads == 0\n",
    "    num_heads = num_heads * dim_coefficient\n",
    "\n",
    "    x = layers.Dense(dim * dim_coefficient)(x)\n",
    "    # create tensor [batch_size, num_patches, num_heads, dim*dim_coefficient//num_heads]\n",
    "    x = ops.reshape(x, (-1, num_patch, num_heads, dim * dim_coefficient // num_heads))\n",
    "    x = ops.transpose(x, axes=[0, 2, 1, 3])\n",
    "    # a linear layer M_k\n",
    "    attn = layers.Dense(dim // dim_coefficient)(x)\n",
    "    # normalize attention map\n",
    "    attn = layers.Softmax(axis=2)(attn)\n",
    "    # dobule-normalization\n",
    "    attn = layers.Lambda(\n",
    "        lambda attn: ops.divide(\n",
    "            attn,\n",
    "            ops.convert_to_tensor(1e-9) + ops.sum(attn, axis=-1, keepdims=True),\n",
    "        )\n",
    "    )(attn)\n",
    "    attn = layers.Dropout(attention_dropout)(attn)\n",
    "    # a linear layer M_v\n",
    "    x = layers.Dense(dim * dim_coefficient // num_heads)(attn)\n",
    "    x = ops.transpose(x, axes=[0, 2, 1, 3])\n",
    "    x = ops.reshape(x, [-1, num_patch, dim * dim_coefficient])\n",
    "    # a linear layer to project original dim\n",
    "    x = layers.Dense(dim)(x)\n",
    "    x = layers.Dropout(projection_dropout)(x)\n",
    "    return x"
   ]
  },
  {
   "cell_type": "markdown",
   "id": "4e54ef11-55d9-46b2-8639-07ef91281271",
   "metadata": {},
   "source": [
    "<hr />\n",
    "\n",
    "### Implement the MLP block"
   ]
  },
  {
   "cell_type": "code",
   "execution_count": 7,
   "id": "16693b30-7c0c-4f22-a833-02e5ebbd82de",
   "metadata": {},
   "outputs": [],
   "source": [
    "def mlp(x, embedding_dim, mlp_dim, drop_rate=0.2):\n",
    "    x = layers.Dense(mlp_dim, activation=ops.gelu)(x)\n",
    "    x = layers.Dropout(drop_rate)(x)\n",
    "    x = layers.Dense(embedding_dim)(x)\n",
    "    x = layers.Dropout(drop_rate)(x)\n",
    "    return x"
   ]
  },
  {
   "cell_type": "markdown",
   "id": "725ad8c9-7f69-4e2e-bc8f-c435bbcf3628",
   "metadata": {},
   "source": [
    "<hr />\n",
    "\n",
    "### Implement the Transformer block"
   ]
  },
  {
   "cell_type": "code",
   "execution_count": 8,
   "id": "6fe4e8dd-9655-4219-a405-e5dc8b57b7d9",
   "metadata": {},
   "outputs": [],
   "source": [
    "def transformer_encoder(\n",
    "    x,\n",
    "    embedding_dim,\n",
    "    mlp_dim,\n",
    "    num_heads,\n",
    "    dim_coefficient,\n",
    "    attention_dropout,\n",
    "    projection_dropout,\n",
    "    attention_type=\"external_attention\",\n",
    "):\n",
    "    residual_1 = x\n",
    "    x = layers.LayerNormalization(epsilon=1e-5)(x)\n",
    "    if attention_type == \"external_attention\":\n",
    "        x = external_attention(\n",
    "            x,\n",
    "            embedding_dim,\n",
    "            num_heads,\n",
    "            dim_coefficient,\n",
    "            attention_dropout,\n",
    "            projection_dropout,\n",
    "        )\n",
    "    elif attention_type == \"self_attention\":\n",
    "        x = layers.MultiHeadAttention(\n",
    "            num_heads=num_heads,\n",
    "            key_dim=embedding_dim,\n",
    "            dropout=attention_dropout,\n",
    "        )(x, x)\n",
    "    x = layers.add([x, residual_1])\n",
    "    residual_2 = x\n",
    "    x = layers.LayerNormalization(epsilon=1e-5)(x)\n",
    "    x = mlp(x, embedding_dim, mlp_dim)\n",
    "    x = layers.add([x, residual_2])\n",
    "    return x"
   ]
  },
  {
   "cell_type": "markdown",
   "id": "f9dbcd79-5273-4ce9-8ba4-5c342161b903",
   "metadata": {},
   "source": [
    "<hr />\n",
    "\n",
    "### Implement the EANet model\n",
    "\n",
    "The EANet model leverages external attention. The computational complexity of traditional self attention is O(d * N ** 2), where d is the embedding size, and N is the number of patch. the authors find that most pixels are closely related to just a few other pixels, and an N-to-N attention matrix may be redundant. So, they propose as an alternative an external attention module where the computational complexity of external attention is O(d * S * N). As d and S are hyper-parameters, the proposed algorithm is linear in the number of pixels. In fact, this is equivalent to a drop patch operation, because a lot of information contained in a patch in an image is redundant and unimportant."
   ]
  },
  {
   "cell_type": "code",
   "execution_count": 9,
   "id": "d63697de-cd35-47e8-8364-1981a9d6b8bb",
   "metadata": {},
   "outputs": [],
   "source": [
    "def get_model(attention_type=\"external_attention\"):\n",
    "    inputs = layers.Input(shape=input_shape)\n",
    "    # Image augment\n",
    "    x = data_augmentation(inputs)\n",
    "    # Extract patches.\n",
    "    x = PatchExtract(patch_size)(x)\n",
    "    # Create patch embedding.\n",
    "    x = PatchEmbedding(num_patches, embedding_dim)(x)\n",
    "    # Create Transformer block.\n",
    "    for _ in range(num_transformer_blocks):\n",
    "        x = transformer_encoder(\n",
    "            x,\n",
    "            embedding_dim,\n",
    "            mlp_dim,\n",
    "            num_heads,\n",
    "            dim_coefficient,\n",
    "            attention_dropout,\n",
    "            projection_dropout,\n",
    "            attention_type,\n",
    "        )\n",
    "\n",
    "    x = layers.GlobalAveragePooling1D()(x)\n",
    "    outputs = layers.Dense(num_classes, activation=\"softmax\")(x)\n",
    "    model = keras.Model(inputs=inputs, outputs=outputs)\n",
    "    return model"
   ]
  },
  {
   "cell_type": "markdown",
   "id": "75e751bc-bc25-4984-9c29-c79ffbe3ad21",
   "metadata": {},
   "source": [
    "<hr />\n",
    "\n",
    "### Train on CIFAR-100"
   ]
  },
  {
   "cell_type": "code",
   "execution_count": 10,
   "id": "a3b81648-2d61-48f9-815f-50437bf0e6cb",
   "metadata": {},
   "outputs": [
    {
     "name": "stdout",
     "output_type": "stream",
     "text": [
      "Epoch 1/50\n",
      "\u001b[1m313/313\u001b[0m \u001b[32m━━━━━━━━━━━━━━━━━━━━\u001b[0m\u001b[37m\u001b[0m \u001b[1m1074s\u001b[0m 3s/step - accuracy: 0.0379 - loss: 4.4870 - top-5-accuracy: 0.1401 - val_accuracy: 0.0565 - val_loss: 4.8227 - val_top-5-accuracy: 0.1943\n",
      "Epoch 2/50\n",
      "\u001b[1m313/313\u001b[0m \u001b[32m━━━━━━━━━━━━━━━━━━━━\u001b[0m\u001b[37m\u001b[0m \u001b[1m1083s\u001b[0m 3s/step - accuracy: 0.0972 - loss: 4.0488 - top-5-accuracy: 0.2945 - val_accuracy: 0.0895 - val_loss: 4.5374 - val_top-5-accuracy: 0.2703\n",
      "Epoch 3/50\n",
      "\u001b[1m313/313\u001b[0m \u001b[32m━━━━━━━━━━━━━━━━━━━━\u001b[0m\u001b[37m\u001b[0m \u001b[1m1792s\u001b[0m 6s/step - accuracy: 0.1402 - loss: 3.8403 - top-5-accuracy: 0.3781 - val_accuracy: 0.0984 - val_loss: 4.5305 - val_top-5-accuracy: 0.2966\n",
      "Epoch 4/50\n",
      "\u001b[1m313/313\u001b[0m \u001b[32m━━━━━━━━━━━━━━━━━━━━\u001b[0m\u001b[37m\u001b[0m \u001b[1m1076s\u001b[0m 3s/step - accuracy: 0.1607 - loss: 3.7454 - top-5-accuracy: 0.4092 - val_accuracy: 0.1193 - val_loss: 4.4033 - val_top-5-accuracy: 0.3372\n",
      "Epoch 5/50\n",
      "\u001b[1m313/313\u001b[0m \u001b[32m━━━━━━━━━━━━━━━━━━━━\u001b[0m\u001b[37m\u001b[0m \u001b[1m1073s\u001b[0m 3s/step - accuracy: 0.1815 - loss: 3.6410 - top-5-accuracy: 0.4459 - val_accuracy: 0.1082 - val_loss: 4.6859 - val_top-5-accuracy: 0.3290\n",
      "Epoch 6/50\n",
      "\u001b[1m313/313\u001b[0m \u001b[32m━━━━━━━━━━━━━━━━━━━━\u001b[0m\u001b[37m\u001b[0m \u001b[1m1066s\u001b[0m 3s/step - accuracy: 0.1947 - loss: 3.5834 - top-5-accuracy: 0.4669 - val_accuracy: 0.1272 - val_loss: 4.5126 - val_top-5-accuracy: 0.3473\n",
      "Epoch 7/50\n",
      "\u001b[1m313/313\u001b[0m \u001b[32m━━━━━━━━━━━━━━━━━━━━\u001b[0m\u001b[37m\u001b[0m \u001b[1m1070s\u001b[0m 3s/step - accuracy: 0.2192 - loss: 3.4967 - top-5-accuracy: 0.4947 - val_accuracy: 0.1345 - val_loss: 4.4699 - val_top-5-accuracy: 0.3574\n",
      "Epoch 8/50\n",
      "\u001b[1m313/313\u001b[0m \u001b[32m━━━━━━━━━━━━━━━━━━━━\u001b[0m\u001b[37m\u001b[0m \u001b[1m1077s\u001b[0m 3s/step - accuracy: 0.2297 - loss: 3.4440 - top-5-accuracy: 0.5121 - val_accuracy: 0.1358 - val_loss: 4.6395 - val_top-5-accuracy: 0.3420\n",
      "Epoch 9/50\n",
      "\u001b[1m313/313\u001b[0m \u001b[32m━━━━━━━━━━━━━━━━━━━━\u001b[0m\u001b[37m\u001b[0m \u001b[1m1080s\u001b[0m 3s/step - accuracy: 0.2387 - loss: 3.3970 - top-5-accuracy: 0.5248 - val_accuracy: 0.1280 - val_loss: 4.8018 - val_top-5-accuracy: 0.3480\n",
      "Epoch 10/50\n",
      "\u001b[1m313/313\u001b[0m \u001b[32m━━━━━━━━━━━━━━━━━━━━\u001b[0m\u001b[37m\u001b[0m \u001b[1m1081s\u001b[0m 3s/step - accuracy: 0.2534 - loss: 3.3439 - top-5-accuracy: 0.5441 - val_accuracy: 0.1314 - val_loss: 4.6747 - val_top-5-accuracy: 0.3636\n",
      "Epoch 11/50\n",
      "\u001b[1m313/313\u001b[0m \u001b[32m━━━━━━━━━━━━━━━━━━━━\u001b[0m\u001b[37m\u001b[0m \u001b[1m1077s\u001b[0m 3s/step - accuracy: 0.2581 - loss: 3.3293 - top-5-accuracy: 0.5451 - val_accuracy: 0.1260 - val_loss: 4.9829 - val_top-5-accuracy: 0.3464\n",
      "Epoch 12/50\n",
      "\u001b[1m313/313\u001b[0m \u001b[32m━━━━━━━━━━━━━━━━━━━━\u001b[0m\u001b[37m\u001b[0m \u001b[1m1079s\u001b[0m 3s/step - accuracy: 0.2672 - loss: 3.2828 - top-5-accuracy: 0.5611 - val_accuracy: 0.1459 - val_loss: 4.6587 - val_top-5-accuracy: 0.3812\n",
      "Epoch 13/50\n",
      "\u001b[1m313/313\u001b[0m \u001b[32m━━━━━━━━━━━━━━━━━━━━\u001b[0m\u001b[37m\u001b[0m \u001b[1m1079s\u001b[0m 3s/step - accuracy: 0.2740 - loss: 3.2472 - top-5-accuracy: 0.5715 - val_accuracy: 0.1395 - val_loss: 4.7483 - val_top-5-accuracy: 0.3833\n",
      "Epoch 14/50\n",
      "\u001b[1m313/313\u001b[0m \u001b[32m━━━━━━━━━━━━━━━━━━━━\u001b[0m\u001b[37m\u001b[0m \u001b[1m1076s\u001b[0m 3s/step - accuracy: 0.2834 - loss: 3.2146 - top-5-accuracy: 0.5839 - val_accuracy: 0.1503 - val_loss: 4.6301 - val_top-5-accuracy: 0.4013\n",
      "Epoch 15/50\n",
      "\u001b[1m313/313\u001b[0m \u001b[32m━━━━━━━━━━━━━━━━━━━━\u001b[0m\u001b[37m\u001b[0m \u001b[1m1085s\u001b[0m 3s/step - accuracy: 0.2925 - loss: 3.1675 - top-5-accuracy: 0.5965 - val_accuracy: 0.1502 - val_loss: 4.5826 - val_top-5-accuracy: 0.3896\n",
      "Epoch 16/50\n",
      "\u001b[1m313/313\u001b[0m \u001b[32m━━━━━━━━━━━━━━━━━━━━\u001b[0m\u001b[37m\u001b[0m \u001b[1m1078s\u001b[0m 3s/step - accuracy: 0.2960 - loss: 3.1584 - top-5-accuracy: 0.5992 - val_accuracy: 0.1436 - val_loss: 4.7112 - val_top-5-accuracy: 0.3887\n",
      "Epoch 17/50\n",
      "\u001b[1m313/313\u001b[0m \u001b[32m━━━━━━━━━━━━━━━━━━━━\u001b[0m\u001b[37m\u001b[0m \u001b[1m1079s\u001b[0m 3s/step - accuracy: 0.3032 - loss: 3.1354 - top-5-accuracy: 0.6068 - val_accuracy: 0.1599 - val_loss: 4.7118 - val_top-5-accuracy: 0.3887\n",
      "Epoch 18/50\n",
      "\u001b[1m313/313\u001b[0m \u001b[32m━━━━━━━━━━━━━━━━━━━━\u001b[0m\u001b[37m\u001b[0m \u001b[1m1072s\u001b[0m 3s/step - accuracy: 0.3126 - loss: 3.1019 - top-5-accuracy: 0.6147 - val_accuracy: 0.1547 - val_loss: 4.7282 - val_top-5-accuracy: 0.3905\n",
      "Epoch 19/50\n",
      "\u001b[1m313/313\u001b[0m \u001b[32m━━━━━━━━━━━━━━━━━━━━\u001b[0m\u001b[37m\u001b[0m \u001b[1m1084s\u001b[0m 3s/step - accuracy: 0.3156 - loss: 3.0844 - top-5-accuracy: 0.6176 - val_accuracy: 0.1649 - val_loss: 4.5625 - val_top-5-accuracy: 0.4022\n",
      "Epoch 20/50\n",
      "\u001b[1m313/313\u001b[0m \u001b[32m━━━━━━━━━━━━━━━━━━━━\u001b[0m\u001b[37m\u001b[0m \u001b[1m1084s\u001b[0m 3s/step - accuracy: 0.3187 - loss: 3.0759 - top-5-accuracy: 0.6210 - val_accuracy: 0.1632 - val_loss: 4.6567 - val_top-5-accuracy: 0.4077\n",
      "Epoch 21/50\n",
      "\u001b[1m313/313\u001b[0m \u001b[32m━━━━━━━━━━━━━━━━━━━━\u001b[0m\u001b[37m\u001b[0m \u001b[1m1081s\u001b[0m 3s/step - accuracy: 0.3304 - loss: 3.0361 - top-5-accuracy: 0.6327 - val_accuracy: 0.1532 - val_loss: 4.9000 - val_top-5-accuracy: 0.3881\n",
      "Epoch 22/50\n",
      "\u001b[1m313/313\u001b[0m \u001b[32m━━━━━━━━━━━━━━━━━━━━\u001b[0m\u001b[37m\u001b[0m \u001b[1m1081s\u001b[0m 3s/step - accuracy: 0.3352 - loss: 3.0163 - top-5-accuracy: 0.6385 - val_accuracy: 0.1552 - val_loss: 4.8397 - val_top-5-accuracy: 0.3908\n",
      "Epoch 23/50\n",
      "\u001b[1m313/313\u001b[0m \u001b[32m━━━━━━━━━━━━━━━━━━━━\u001b[0m\u001b[37m\u001b[0m \u001b[1m1079s\u001b[0m 3s/step - accuracy: 0.3360 - loss: 3.0086 - top-5-accuracy: 0.6423 - val_accuracy: 0.1580 - val_loss: 4.7761 - val_top-5-accuracy: 0.3874\n",
      "Epoch 24/50\n",
      "\u001b[1m313/313\u001b[0m \u001b[32m━━━━━━━━━━━━━━━━━━━━\u001b[0m\u001b[37m\u001b[0m \u001b[1m1082s\u001b[0m 3s/step - accuracy: 0.3426 - loss: 2.9764 - top-5-accuracy: 0.6485 - val_accuracy: 0.1582 - val_loss: 4.8366 - val_top-5-accuracy: 0.4006\n",
      "Epoch 25/50\n",
      "\u001b[1m313/313\u001b[0m \u001b[32m━━━━━━━━━━━━━━━━━━━━\u001b[0m\u001b[37m\u001b[0m \u001b[1m1077s\u001b[0m 3s/step - accuracy: 0.3485 - loss: 2.9663 - top-5-accuracy: 0.6564 - val_accuracy: 0.1599 - val_loss: 4.8359 - val_top-5-accuracy: 0.3933\n",
      "Epoch 26/50\n",
      "\u001b[1m313/313\u001b[0m \u001b[32m━━━━━━━━━━━━━━━━━━━━\u001b[0m\u001b[37m\u001b[0m \u001b[1m1073s\u001b[0m 3s/step - accuracy: 0.3507 - loss: 2.9578 - top-5-accuracy: 0.6569 - val_accuracy: 0.1658 - val_loss: 4.8097 - val_top-5-accuracy: 0.4038\n",
      "Epoch 27/50\n",
      "\u001b[1m313/313\u001b[0m \u001b[32m━━━━━━━━━━━━━━━━━━━━\u001b[0m\u001b[37m\u001b[0m \u001b[1m1079s\u001b[0m 3s/step - accuracy: 0.3620 - loss: 2.9153 - top-5-accuracy: 0.6694 - val_accuracy: 0.1702 - val_loss: 4.7166 - val_top-5-accuracy: 0.4020\n",
      "Epoch 28/50\n",
      "\u001b[1m313/313\u001b[0m \u001b[32m━━━━━━━━━━━━━━━━━━━━\u001b[0m\u001b[37m\u001b[0m \u001b[1m1079s\u001b[0m 3s/step - accuracy: 0.3615 - loss: 2.9151 - top-5-accuracy: 0.6699 - val_accuracy: 0.1622 - val_loss: 4.8604 - val_top-5-accuracy: 0.3987\n",
      "Epoch 29/50\n",
      "\u001b[1m313/313\u001b[0m \u001b[32m━━━━━━━━━━━━━━━━━━━━\u001b[0m\u001b[37m\u001b[0m \u001b[1m1077s\u001b[0m 3s/step - accuracy: 0.3625 - loss: 2.9045 - top-5-accuracy: 0.6717 - val_accuracy: 0.1643 - val_loss: 4.9103 - val_top-5-accuracy: 0.3898\n",
      "Epoch 30/50\n",
      "\u001b[1m313/313\u001b[0m \u001b[32m━━━━━━━━━━━━━━━━━━━━\u001b[0m\u001b[37m\u001b[0m \u001b[1m1080s\u001b[0m 3s/step - accuracy: 0.3719 - loss: 2.8810 - top-5-accuracy: 0.6801 - val_accuracy: 0.1608 - val_loss: 4.8741 - val_top-5-accuracy: 0.3941\n",
      "Epoch 31/50\n",
      "\u001b[1m313/313\u001b[0m \u001b[32m━━━━━━━━━━━━━━━━━━━━\u001b[0m\u001b[37m\u001b[0m \u001b[1m1075s\u001b[0m 3s/step - accuracy: 0.3695 - loss: 2.8830 - top-5-accuracy: 0.6796 - val_accuracy: 0.1653 - val_loss: 4.9381 - val_top-5-accuracy: 0.3868\n",
      "Epoch 32/50\n",
      "\u001b[1m313/313\u001b[0m \u001b[32m━━━━━━━━━━━━━━━━━━━━\u001b[0m\u001b[37m\u001b[0m \u001b[1m1080s\u001b[0m 3s/step - accuracy: 0.3767 - loss: 2.8690 - top-5-accuracy: 0.6827 - val_accuracy: 0.1785 - val_loss: 4.7672 - val_top-5-accuracy: 0.4151\n",
      "Epoch 33/50\n",
      "\u001b[1m313/313\u001b[0m \u001b[32m━━━━━━━━━━━━━━━━━━━━\u001b[0m\u001b[37m\u001b[0m \u001b[1m1080s\u001b[0m 3s/step - accuracy: 0.3846 - loss: 2.8312 - top-5-accuracy: 0.6903 - val_accuracy: 0.1619 - val_loss: 4.9044 - val_top-5-accuracy: 0.3941\n",
      "Epoch 34/50\n",
      "\u001b[1m313/313\u001b[0m \u001b[32m━━━━━━━━━━━━━━━━━━━━\u001b[0m\u001b[37m\u001b[0m \u001b[1m1086s\u001b[0m 3s/step - accuracy: 0.3802 - loss: 2.8313 - top-5-accuracy: 0.6947 - val_accuracy: 0.1594 - val_loss: 4.9863 - val_top-5-accuracy: 0.3851\n",
      "Epoch 35/50\n",
      "\u001b[1m313/313\u001b[0m \u001b[32m━━━━━━━━━━━━━━━━━━━━\u001b[0m\u001b[37m\u001b[0m \u001b[1m1076s\u001b[0m 3s/step - accuracy: 0.3829 - loss: 2.8222 - top-5-accuracy: 0.6926 - val_accuracy: 0.1619 - val_loss: 4.9828 - val_top-5-accuracy: 0.3865\n",
      "Epoch 36/50\n",
      "\u001b[1m313/313\u001b[0m \u001b[32m━━━━━━━━━━━━━━━━━━━━\u001b[0m\u001b[37m\u001b[0m \u001b[1m1083s\u001b[0m 3s/step - accuracy: 0.3927 - loss: 2.8027 - top-5-accuracy: 0.7018 - val_accuracy: 0.1723 - val_loss: 4.9478 - val_top-5-accuracy: 0.4032\n",
      "Epoch 37/50\n",
      "\u001b[1m313/313\u001b[0m \u001b[32m━━━━━━━━━━━━━━━━━━━━\u001b[0m\u001b[37m\u001b[0m \u001b[1m1084s\u001b[0m 3s/step - accuracy: 0.3962 - loss: 2.7879 - top-5-accuracy: 0.7067 - val_accuracy: 0.1596 - val_loss: 5.0568 - val_top-5-accuracy: 0.3884\n",
      "Epoch 38/50\n",
      "\u001b[1m313/313\u001b[0m \u001b[32m━━━━━━━━━━━━━━━━━━━━\u001b[0m\u001b[37m\u001b[0m \u001b[1m1084s\u001b[0m 3s/step - accuracy: 0.4019 - loss: 2.7624 - top-5-accuracy: 0.7120 - val_accuracy: 0.1739 - val_loss: 4.9195 - val_top-5-accuracy: 0.4058\n",
      "Epoch 39/50\n",
      "\u001b[1m313/313\u001b[0m \u001b[32m━━━━━━━━━━━━━━━━━━━━\u001b[0m\u001b[37m\u001b[0m \u001b[1m1081s\u001b[0m 3s/step - accuracy: 0.4022 - loss: 2.7565 - top-5-accuracy: 0.7130 - val_accuracy: 0.1574 - val_loss: 5.1326 - val_top-5-accuracy: 0.3760\n",
      "Epoch 40/50\n",
      "\u001b[1m313/313\u001b[0m \u001b[32m━━━━━━━━━━━━━━━━━━━━\u001b[0m\u001b[37m\u001b[0m \u001b[1m1081s\u001b[0m 3s/step - accuracy: 0.4067 - loss: 2.7483 - top-5-accuracy: 0.7104 - val_accuracy: 0.1720 - val_loss: 4.8527 - val_top-5-accuracy: 0.4012\n",
      "Epoch 41/50\n",
      "\u001b[1m313/313\u001b[0m \u001b[32m━━━━━━━━━━━━━━━━━━━━\u001b[0m\u001b[37m\u001b[0m \u001b[1m1082s\u001b[0m 3s/step - accuracy: 0.4130 - loss: 2.7346 - top-5-accuracy: 0.7189 - val_accuracy: 0.1743 - val_loss: 4.8593 - val_top-5-accuracy: 0.4081\n",
      "Epoch 42/50\n",
      "\u001b[1m313/313\u001b[0m \u001b[32m━━━━━━━━━━━━━━━━━━━━\u001b[0m\u001b[37m\u001b[0m \u001b[1m1084s\u001b[0m 3s/step - accuracy: 0.4108 - loss: 2.7222 - top-5-accuracy: 0.7237 - val_accuracy: 0.1740 - val_loss: 5.0563 - val_top-5-accuracy: 0.3934\n",
      "Epoch 43/50\n",
      "\u001b[1m313/313\u001b[0m \u001b[32m━━━━━━━━━━━━━━━━━━━━\u001b[0m\u001b[37m\u001b[0m \u001b[1m1076s\u001b[0m 3s/step - accuracy: 0.4115 - loss: 2.7142 - top-5-accuracy: 0.7253 - val_accuracy: 0.1709 - val_loss: 4.9923 - val_top-5-accuracy: 0.3944\n",
      "Epoch 44/50\n",
      "\u001b[1m313/313\u001b[0m \u001b[32m━━━━━━━━━━━━━━━━━━━━\u001b[0m\u001b[37m\u001b[0m \u001b[1m1085s\u001b[0m 3s/step - accuracy: 0.4177 - loss: 2.7093 - top-5-accuracy: 0.7268 - val_accuracy: 0.1636 - val_loss: 5.0502 - val_top-5-accuracy: 0.3872\n",
      "Epoch 45/50\n",
      "\u001b[1m313/313\u001b[0m \u001b[32m━━━━━━━━━━━━━━━━━━━━\u001b[0m\u001b[37m\u001b[0m \u001b[1m1089s\u001b[0m 3s/step - accuracy: 0.4228 - loss: 2.6939 - top-5-accuracy: 0.7307 - val_accuracy: 0.1778 - val_loss: 4.9476 - val_top-5-accuracy: 0.3994\n",
      "Epoch 46/50\n",
      "\u001b[1m313/313\u001b[0m \u001b[32m━━━━━━━━━━━━━━━━━━━━\u001b[0m\u001b[37m\u001b[0m \u001b[1m1082s\u001b[0m 3s/step - accuracy: 0.4280 - loss: 2.6716 - top-5-accuracy: 0.7352 - val_accuracy: 0.1806 - val_loss: 4.9619 - val_top-5-accuracy: 0.4095\n",
      "Epoch 47/50\n",
      "\u001b[1m313/313\u001b[0m \u001b[32m━━━━━━━━━━━━━━━━━━━━\u001b[0m\u001b[37m\u001b[0m \u001b[1m1082s\u001b[0m 3s/step - accuracy: 0.4293 - loss: 2.6674 - top-5-accuracy: 0.7383 - val_accuracy: 0.1749 - val_loss: 5.0460 - val_top-5-accuracy: 0.4003\n",
      "Epoch 48/50\n",
      "\u001b[1m313/313\u001b[0m \u001b[32m━━━━━━━━━━━━━━━━━━━━\u001b[0m\u001b[37m\u001b[0m \u001b[1m1076s\u001b[0m 3s/step - accuracy: 0.4338 - loss: 2.6536 - top-5-accuracy: 0.7370 - val_accuracy: 0.1778 - val_loss: 4.9964 - val_top-5-accuracy: 0.4072\n",
      "Epoch 49/50\n",
      "\u001b[1m313/313\u001b[0m \u001b[32m━━━━━━━━━━━━━━━━━━━━\u001b[0m\u001b[37m\u001b[0m \u001b[1m1078s\u001b[0m 3s/step - accuracy: 0.4324 - loss: 2.6513 - top-5-accuracy: 0.7422 - val_accuracy: 0.1675 - val_loss: 5.1545 - val_top-5-accuracy: 0.3915\n",
      "Epoch 50/50\n",
      "\u001b[1m313/313\u001b[0m \u001b[32m━━━━━━━━━━━━━━━━━━━━\u001b[0m\u001b[37m\u001b[0m \u001b[1m1081s\u001b[0m 3s/step - accuracy: 0.4418 - loss: 2.6361 - top-5-accuracy: 0.7414 - val_accuracy: 0.1745 - val_loss: 5.0803 - val_top-5-accuracy: 0.4009\n"
     ]
    }
   ],
   "source": [
    "model = get_model(attention_type=\"external_attention\")\n",
    "\n",
    "model.compile(\n",
    "    loss=keras.losses.CategoricalCrossentropy(label_smoothing=label_smoothing),\n",
    "    optimizer=keras.optimizers.AdamW(\n",
    "        learning_rate=learning_rate, weight_decay=weight_decay\n",
    "    ),\n",
    "    metrics=[\n",
    "        keras.metrics.CategoricalAccuracy(name=\"accuracy\"),\n",
    "        keras.metrics.TopKCategoricalAccuracy(5, name=\"top-5-accuracy\"),\n",
    "    ],\n",
    ")\n",
    "\n",
    "history = model.fit(\n",
    "    x_train,\n",
    "    y_train,\n",
    "    batch_size=batch_size,\n",
    "    epochs=num_epochs,\n",
    "    validation_split=validation_split,\n",
    ")"
   ]
  },
  {
   "cell_type": "markdown",
   "id": "dbc5daa0-8406-4043-8543-b4c9c2b97ce9",
   "metadata": {},
   "source": [
    "#### Let's visualize the training progress of the model."
   ]
  },
  {
   "cell_type": "code",
   "execution_count": 11,
   "id": "a64bebc6-78e7-4ef1-b7c4-b78e2452c797",
   "metadata": {},
   "outputs": [
    {
     "data": {
      "image/png": "[encoded data removed]",
      "text/plain": [
       "<Figure size 640x480 with 1 Axes>"
      ]
     },
     "metadata": {},
     "output_type": "display_data"
    }
   ],
   "source": [
    "plt.plot(history.history[\"loss\"], label=\"train_loss\")\n",
    "plt.plot(history.history[\"val_loss\"], label=\"val_loss\")\n",
    "plt.xlabel(\"Epochs\")\n",
    "plt.ylabel(\"Loss\")\n",
    "plt.title(\"Train and Validation Losses Over Epochs\", fontsize=14)\n",
    "plt.legend()\n",
    "plt.grid()\n",
    "plt.show()"
   ]
  },
  {
   "cell_type": "markdown",
   "id": "d34d423d-e61d-40f5-8d92-b2faba3c6293",
   "metadata": {},
   "source": [
    "#### Let's display the final results of the test on CIFAR-100."
   ]
  },
  {
   "cell_type": "code",
   "execution_count": 12,
   "id": "cb20df5b-24c6-42f5-b6b1-6771d8ae9903",
   "metadata": {},
   "outputs": [
    {
     "name": "stdout",
     "output_type": "stream",
     "text": [
      "\u001b[1m313/313\u001b[0m \u001b[32m━━━━━━━━━━━━━━━━━━━━\u001b[0m\u001b[37m\u001b[0m \u001b[1m62s\u001b[0m 198ms/step - accuracy: 0.1705 - loss: 5.0689 - top-5-accuracy: 0.4012\n",
      "Test loss: 5.08\n",
      "Test accuracy: 17.05%\n",
      "Test top 5 accuracy: 39.96%\n"
     ]
    }
   ],
   "source": [
    "loss, accuracy, top_5_accuracy = model.evaluate(x_test, y_test)\n",
    "print(f\"Test loss: {round(loss, 2)}\")\n",
    "print(f\"Test accuracy: {round(accuracy * 100, 2)}%\")\n",
    "print(f\"Test top 5 accuracy: {round(top_5_accuracy * 100, 2)}%\")"
   ]
  },
  {
   "cell_type": "markdown",
   "id": "c85f616d-108a-472f-b4fc-1a81f24e98f6",
   "metadata": {},
   "source": [
    "EANet just replaces self attention in Vit with external attention. The traditional Vit achieved a ~73% test top-5 accuracy and ~41 top-1 accuracy after training 50 epochs, but with 0.6M parameters. Under the same experimental environment and the same hyperparameters, The EANet model we just trained has just 0.3M parameters, and it gets us to ~73% test top-5 accuracy and ~43% top-1 accuracy. This fully demonstrates the effectiveness of external attention.\n",
    "\n",
    "We only show the training process of EANet, you can train Vit under the same experimental conditions and observe the test results."
   ]
  },
  {
   "cell_type": "code",
   "execution_count": null,
   "id": "1a262388-4772-4197-aa0b-893984900696",
   "metadata": {},
   "outputs": [],
   "source": []
  }
 ],
 "metadata": {
  "kernelspec": {
   "display_name": "Python 3 (ipykernel)",
   "language": "python",
   "name": "python3"
  },
  "language_info": {
   "codemirror_mode": {
    "name": "ipython",
    "version": 3
   },
   "file_extension": ".py",
   "mimetype": "text/x-python",
   "name": "python",
   "nbconvert_exporter": "python",
   "pygments_lexer": "ipython3",
   "version": "3.11.0rc1"
  }
 },
 "nbformat": 4,
 "nbformat_minor": 5
}
