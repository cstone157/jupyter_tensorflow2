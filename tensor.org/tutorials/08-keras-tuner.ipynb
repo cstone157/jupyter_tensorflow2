{
 "cells": [
  {
   "cell_type": "markdown",
   "id": "7c03a20e-315f-4c14-9f95-489e95735dd8",
   "metadata": {},
   "source": [
    "## Introduction to the Keras Tuner \n",
    "\n",
    "### Overview\n",
    "\n",
    "The Keras Tuner is a library that helps you pick the optimal set of hyperparameters for your TensorFlow program. The process of selecting the right set of hyperparameters for your machine learning (ML) application is called hyperparameter tuning or hypertuning.\n",
    "\n",
    "Hyperparameters are the variables that govern the training process and the topology of an ML model. These variables remain constant over the training process and directly impact the performance of your ML program. Hyperparameters are of two types:\n",
    "\n",
    "<ul>\n",
    "    <li>Model hyperparameters which influence model selection such as the number and width of hidden layers</li>\n",
    "    <li>Algorithm hyperparameters which influence the speed and quality of the learning algorithm such as the learning rate for Stochastic Gradient Descent (SGD) and the number of nearest neighbors for a k Nearest Neighbors (KNN) classifier</li>\n",
    "</ul>\n",
    "\n",
    "In this tutorial, you will use the Keras Tuner to perform hypertuning for an image classification application."
   ]
  },
  {
   "cell_type": "code",
   "execution_count": 2,
   "id": "48665750-c543-429d-9160-4fd7891be269",
   "metadata": {},
   "outputs": [],
   "source": [
    "import tensorflow as tf\n",
    "from tensorflow import keras"
   ]
  },
  {
   "cell_type": "markdown",
   "id": "fdb895d6-ac70-4b9c-a988-0ac9914d93a6",
   "metadata": {},
   "source": [
    "Install and import the Keras Tuner."
   ]
  },
  {
   "cell_type": "code",
   "execution_count": 3,
   "id": "1a582bc9-3268-4301-bee8-d4385a3a3eb8",
   "metadata": {},
   "outputs": [
    {
     "name": "stdout",
     "output_type": "stream",
     "text": [
      "\u001b[33mWARNING: Running pip as the 'root' user can result in broken permissions and conflicting behaviour with the system package manager, possibly rendering your system unusable. It is recommended to use a virtual environment instead: https://pip.pypa.io/warnings/venv. Use the --root-user-action option if you know what you are doing and want to suppress this warning.\u001b[0m\u001b[33m\n",
      "\u001b[0m"
     ]
    }
   ],
   "source": [
    "!pip install -q -U keras-tuner"
   ]
  },
  {
   "cell_type": "code",
   "execution_count": 4,
   "id": "e014a570-f5c7-4837-ae21-a3475399a01c",
   "metadata": {},
   "outputs": [],
   "source": [
    "import keras_tuner as kt"
   ]
  },
  {
   "cell_type": "markdown",
   "id": "be6d262b-6fc5-49ef-83ba-ba38e7f9a8fa",
   "metadata": {},
   "source": [
    "### Download and prepare the dataset\n",
    "\n",
    "In this tutorial, you will use the Keras Tuner to find the best hyperparameters for a machine learning model that classifies images of clothing from the <a href=\"https://github.com/zalandoresearch/fashion-mnist\">Fashion MNIST dataset</a>.\n",
    "\n",
    "Load the data."
   ]
  },
  {
   "cell_type": "code",
   "execution_count": 5,
   "id": "ba164b81-c5c6-4efb-989f-7ac3ea1fab14",
   "metadata": {},
   "outputs": [],
   "source": [
    "(img_train, label_train), (img_test, label_test) = keras.datasets.fashion_mnist.load_data()"
   ]
  },
  {
   "cell_type": "code",
   "execution_count": 6,
   "id": "1cc7ed46-891d-4b51-aaf0-ba233b194082",
   "metadata": {},
   "outputs": [],
   "source": [
    "# Normalize pixel values between 0 and 1\n",
    "img_train = img_train.astype('float32') / 255.0\n",
    "img_test = img_test.astype('float32') / 255.0"
   ]
  },
  {
   "cell_type": "markdown",
   "id": "59cea607-d74f-4c0f-ab4b-17166f27b26d",
   "metadata": {},
   "source": [
    "### Define the model\n",
    "\n",
    "When you build a model for hypertuning, you also define the hyperparameter search space in addition to the model architecture. The model you set up for hypertuning is called a hypermodel.\n",
    "\n",
    "You can define a hypermodel through two approaches:\n",
    "\n",
    "<ul>\n",
    "    <li>By using a model builder function</li>\n",
    "    <li>By subclassing the <code>HyperModel</code> class of the Keras Tuner API</li>\n",
    "</ul>\n",
    "\n",
    "You can also use two pre-defined <a href=\"https://keras.io/api/keras_tuner/hypermodels/\">HyperModel</a> classes - <a href=\"https://keras.io/api/keras_tuner/hypermodels/hyper_xception/\">HyperXception</a> and <a href=\"https://keras.io/api/keras_tuner/hypermodels/hyper_resnet/\">HyperResNet</a> for computer vision applications.\n",
    "\n",
    "In this tutorial, you use a model builder function to define the image classification model. The model builder function returns a compiled model and uses hyperparameters you define inline to hypertune the model."
   ]
  },
  {
   "cell_type": "code",
   "execution_count": null,
   "id": "ae5113d4-3aa1-460c-bf20-92bf24d980b0",
   "metadata": {},
   "outputs": [],
   "source": []
  }
 ],
 "metadata": {
  "kernelspec": {
   "display_name": "Python 3 (ipykernel)",
   "language": "python",
   "name": "python3"
  },
  "language_info": {
   "codemirror_mode": {
    "name": "ipython",
    "version": 3
   },
   "file_extension": ".py",
   "mimetype": "text/x-python",
   "name": "python",
   "nbconvert_exporter": "python",
   "pygments_lexer": "ipython3",
   "version": "3.11.0rc1"
  }
 },
 "nbformat": 4,
 "nbformat_minor": 5
}
