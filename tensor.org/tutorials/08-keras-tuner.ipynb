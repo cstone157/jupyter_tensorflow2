{
 "cells": [
  {
   "cell_type": "markdown",
   "id": "7c03a20e-315f-4c14-9f95-489e95735dd8",
   "metadata": {},
   "source": [
    "## Introduction to the Keras Tuner \n",
    "\n",
    "### Overview\n",
    "\n",
    "The Keras Tuner is a library that helps you pick the optimal set of hyperparameters for your TensorFlow program. The process of selecting the right set of hyperparameters for your machine learning (ML) application is called hyperparameter tuning or hypertuning.\n",
    "\n",
    "Hyperparameters are the variables that govern the training process and the topology of an ML model. These variables remain constant over the training process and directly impact the performance of your ML program. Hyperparameters are of two types:\n",
    "\n",
    "<ul>\n",
    "    <li>Model hyperparameters which influence model selection such as the number and width of hidden layers</li>\n",
    "    <li>Algorithm hyperparameters which influence the speed and quality of the learning algorithm such as the learning rate for Stochastic Gradient Descent (SGD) and the number of nearest neighbors for a k Nearest Neighbors (KNN) classifier</li>\n",
    "</ul>\n",
    "\n",
    "In this tutorial, you will use the Keras Tuner to perform hypertuning for an image classification application."
   ]
  },
  {
   "cell_type": "code",
   "execution_count": 2,
   "id": "48665750-c543-429d-9160-4fd7891be269",
   "metadata": {},
   "outputs": [],
   "source": [
    "import tensorflow as tf\n",
    "from tensorflow import keras"
   ]
  },
  {
   "cell_type": "markdown",
   "id": "fdb895d6-ac70-4b9c-a988-0ac9914d93a6",
   "metadata": {},
   "source": [
    "Install and import the Keras Tuner."
   ]
  },
  {
   "cell_type": "code",
   "execution_count": 3,
   "id": "1a582bc9-3268-4301-bee8-d4385a3a3eb8",
   "metadata": {},
   "outputs": [
    {
     "name": "stdout",
     "output_type": "stream",
     "text": [
      "\u001b[33mWARNING: Running pip as the 'root' user can result in broken permissions and conflicting behaviour with the system package manager, possibly rendering your system unusable. It is recommended to use a virtual environment instead: https://pip.pypa.io/warnings/venv. Use the --root-user-action option if you know what you are doing and want to suppress this warning.\u001b[0m\u001b[33m\n",
      "\u001b[0m"
     ]
    }
   ],
   "source": [
    "!pip install -q -U keras-tuner"
   ]
  },
  {
   "cell_type": "code",
   "execution_count": 4,
   "id": "e014a570-f5c7-4837-ae21-a3475399a01c",
   "metadata": {},
   "outputs": [],
   "source": [
    "import keras_tuner as kt"
   ]
  },
  {
   "cell_type": "markdown",
   "id": "be6d262b-6fc5-49ef-83ba-ba38e7f9a8fa",
   "metadata": {},
   "source": [
    "### Download and prepare the dataset\n",
    "\n",
    "In this tutorial, you will use the Keras Tuner to find the best hyperparameters for a machine learning model that classifies images of clothing from the <a href=\"https://github.com/zalandoresearch/fashion-mnist\">Fashion MNIST dataset</a>.\n",
    "\n",
    "Load the data."
   ]
  },
  {
   "cell_type": "code",
   "execution_count": 5,
   "id": "ba164b81-c5c6-4efb-989f-7ac3ea1fab14",
   "metadata": {},
   "outputs": [],
   "source": [
    "(img_train, label_train), (img_test, label_test) = keras.datasets.fashion_mnist.load_data()"
   ]
  },
  {
   "cell_type": "code",
   "execution_count": 6,
   "id": "1cc7ed46-891d-4b51-aaf0-ba233b194082",
   "metadata": {},
   "outputs": [],
   "source": [
    "# Normalize pixel values between 0 and 1\n",
    "img_train = img_train.astype('float32') / 255.0\n",
    "img_test = img_test.astype('float32') / 255.0"
   ]
  },
  {
   "cell_type": "markdown",
   "id": "59cea607-d74f-4c0f-ab4b-17166f27b26d",
   "metadata": {},
   "source": [
    "### Define the model\n",
    "\n",
    "When you build a model for hypertuning, you also define the hyperparameter search space in addition to the model architecture. The model you set up for hypertuning is called a hypermodel.\n",
    "\n",
    "You can define a hypermodel through two approaches:\n",
    "\n",
    "<ul>\n",
    "    <li>By using a model builder function</li>\n",
    "    <li>By subclassing the <code>HyperModel</code> class of the Keras Tuner API</li>\n",
    "</ul>\n",
    "\n",
    "You can also use two pre-defined <a href=\"https://keras.io/api/keras_tuner/hypermodels/\">HyperModel</a> classes - <a href=\"https://keras.io/api/keras_tuner/hypermodels/hyper_xception/\">HyperXception</a> and <a href=\"https://keras.io/api/keras_tuner/hypermodels/hyper_resnet/\">HyperResNet</a> for computer vision applications.\n",
    "\n",
    "In this tutorial, you use a model builder function to define the image classification model. The model builder function returns a compiled model and uses hyperparameters you define inline to hypertune the model."
   ]
  },
  {
   "cell_type": "code",
   "execution_count": 7,
   "id": "ae5113d4-3aa1-460c-bf20-92bf24d980b0",
   "metadata": {},
   "outputs": [],
   "source": [
    "def model_builder(hp):\n",
    "  model = keras.Sequential()\n",
    "  model.add(keras.layers.Flatten(input_shape=(28, 28)))\n",
    "\n",
    "  # Tune the number of units in the first Dense layer\n",
    "  # Choose an optimal value between 32-512\n",
    "  hp_units = hp.Int('units', min_value=32, max_value=512, step=32)\n",
    "  model.add(keras.layers.Dense(units=hp_units, activation='relu'))\n",
    "  model.add(keras.layers.Dense(10))\n",
    "\n",
    "  # Tune the learning rate for the optimizer\n",
    "  # Choose an optimal value from 0.01, 0.001, or 0.0001\n",
    "  hp_learning_rate = hp.Choice('learning_rate', values=[1e-2, 1e-3, 1e-4])\n",
    "\n",
    "  model.compile(optimizer=keras.optimizers.Adam(learning_rate=hp_learning_rate),\n",
    "                loss=keras.losses.SparseCategoricalCrossentropy(from_logits=True),\n",
    "                metrics=['accuracy'])\n",
    "\n",
    "  return model"
   ]
  },
  {
   "cell_type": "markdown",
   "id": "a5ff2e88-4502-4b2f-997e-1c100ad2a95d",
   "metadata": {},
   "source": [
    "### Instantiate the tuner and perform hypertuning\n",
    "\n",
    "Instantiate the tuner to perform the hypertuning. The Keras Tuner has four tuners available - <code>RandomSearch</code>, <code>Hyperband</code>, <code>BayesianOptimization</code>, and <code>Sklearn</code>. In this tutorial, you use the <a href=\"https://arxiv.org/pdf/1603.06560.pdf\">Hyperband</a> tuner.\n",
    "\n",
    "To instantiate the Hyperband tuner, you must specify the hypermodel, the objective to <code>optimize</code> and the maximum number of epochs to train (<code>max_epochs</code>)."
   ]
  },
  {
   "cell_type": "code",
   "execution_count": 8,
   "id": "0a37bf27-f5fc-4516-bbdf-1e6673881c63",
   "metadata": {},
   "outputs": [
    {
     "name": "stderr",
     "output_type": "stream",
     "text": [
      "2025-04-01 03:54:45.575252: E external/local_xla/xla/stream_executor/cuda/cuda_platform.cc:51] failed call to cuInit: INTERNAL: CUDA error: Failed call to cuInit: UNKNOWN ERROR (303)\n",
      "/usr/local/lib/python3.11/dist-packages/keras/src/layers/reshaping/flatten.py:37: UserWarning: Do not pass an `input_shape`/`input_dim` argument to a layer. When using Sequential models, prefer using an `Input(shape)` object as the first layer in the model instead.\n",
      "  super().__init__(**kwargs)\n"
     ]
    }
   ],
   "source": [
    "tuner = kt.Hyperband(model_builder,\n",
    "                     objective='val_accuracy',\n",
    "                     max_epochs=10,\n",
    "                     factor=3,\n",
    "                     directory='my_dir',\n",
    "                     project_name='intro_to_kt')"
   ]
  },
  {
   "cell_type": "markdown",
   "id": "fa9cddae-5008-4d9d-8273-2cc7e30699a2",
   "metadata": {},
   "source": [
    "The Hyperband tuning algorithm uses adaptive resource allocation and early-stopping to quickly converge on a high-performing model. This is done using a sports championship style bracket. The algorithm trains a large number of models for a few epochs and carries forward only the top-performing half of models to the next round. Hyperband determines the number of models to train in a bracket by computing 1 + log<sub><code>factor</code></sub>(<code>max_epochs</code>) and rounding it up to the nearest integer.\n",
    "\n",
    "Create a callback to stop training early after reaching a certain value for the validation loss."
   ]
  },
  {
   "cell_type": "code",
   "execution_count": 9,
   "id": "e357e276-3e54-4fab-a2c5-023cfd853073",
   "metadata": {},
   "outputs": [],
   "source": [
    "stop_early = tf.keras.callbacks.EarlyStopping(monitor='val_loss', patience=5)"
   ]
  },
  {
   "cell_type": "markdown",
   "id": "0931d6e2-3d0a-4a01-9b21-ac3cac3368e9",
   "metadata": {},
   "source": [
    "Run the hyperparameter search. The arguments for the search method are the same as those used for <code>tf.keras.model.fit</code> in addition to the callback above."
   ]
  },
  {
   "cell_type": "code",
   "execution_count": null,
   "id": "ac5a7d7c-0a69-4d1b-9877-65abe578bf64",
   "metadata": {},
   "outputs": [
    {
     "name": "stdout",
     "output_type": "stream",
     "text": [
      "Trial 21 Complete [00h 00m 14s]\n",
      "val_accuracy: 0.8817499876022339\n",
      "\n",
      "Best val_accuracy So Far: 0.8915833234786987\n",
      "Total elapsed time: 00h 03m 13s\n",
      "\n",
      "Search: Running Trial #22\n",
      "\n",
      "Value             |Best Value So Far |Hyperparameter\n",
      "448               |448               |units\n",
      "0.01              |0.001             |learning_rate\n",
      "4                 |10                |tuner/epochs\n",
      "0                 |4                 |tuner/initial_epoch\n",
      "1                 |2                 |tuner/bracket\n",
      "0                 |2                 |tuner/round\n",
      "\n",
      "Epoch 1/4\n",
      "\u001b[1m  22/1500\u001b[0m \u001b[37m━━━━━━━━━━━━━━━━━━━━\u001b[0m \u001b[1m3s\u001b[0m 2ms/step - accuracy: 0.3349 - loss: 4.3895     "
     ]
    }
   ],
   "source": [
    "tuner.search(img_train, label_train, epochs=50, validation_split=0.2, callbacks=[stop_early])\n",
    "\n",
    "# Get the optimal hyperparameters\n",
    "best_hps=tuner.get_best_hyperparameters(num_trials=1)[0]\n",
    "\n",
    "print(f\"\"\"\n",
    "The hyperparameter search is complete. The optimal number of units in the first densely-connected\n",
    "layer is {best_hps.get('units')} and the optimal learning rate for the optimizer\n",
    "is {best_hps.get('learning_rate')}.\n",
    "\"\"\")"
   ]
  },
  {
   "cell_type": "markdown",
   "id": "5b8aff04-e53b-4b2a-b8df-eeca73974256",
   "metadata": {},
   "source": [
    "### Train the model\n",
    "\n",
    "Find the optimal number of epochs to train the model with the hyperparameters obtained from the search."
   ]
  },
  {
   "cell_type": "code",
   "execution_count": null,
   "id": "41b408bb-fb64-4085-9c52-8f86aee5af8d",
   "metadata": {},
   "outputs": [],
   "source": [
    "# Build the model with the optimal hyperparameters and train it on the data for 50 epochs\n",
    "model = tuner.hypermodel.build(best_hps)\n",
    "history = model.fit(img_train, label_train, epochs=50, validation_split=0.2)\n",
    "\n",
    "val_acc_per_epoch = history.history['val_accuracy']\n",
    "best_epoch = val_acc_per_epoch.index(max(val_acc_per_epoch)) + 1\n",
    "print('Best epoch: %d' % (best_epoch,))"
   ]
  },
  {
   "cell_type": "markdown",
   "id": "472111d2-d2f5-439f-914e-cd5191c84c3b",
   "metadata": {},
   "source": [
    "Re-instantiate the hypermodel and train it with the optimal number of epochs from above."
   ]
  },
  {
   "cell_type": "code",
   "execution_count": null,
   "id": "3464888e-3d02-49dd-97e3-cc94848e4550",
   "metadata": {},
   "outputs": [],
   "source": [
    "hypermodel = tuner.hypermodel.build(best_hps)\n",
    "\n",
    "# Retrain the model\n",
    "hypermodel.fit(img_train, label_train, epochs=best_epoch, validation_split=0.2)"
   ]
  },
  {
   "cell_type": "markdown",
   "id": "d4da9eeb-aaf9-43e8-b0d9-3f93a1da33d5",
   "metadata": {},
   "source": [
    "To finish this tutorial, evaluate the hypermodel on the test data."
   ]
  },
  {
   "cell_type": "code",
   "execution_count": null,
   "id": "9f13c317-49d8-4593-ac43-6d0fe68650bb",
   "metadata": {},
   "outputs": [],
   "source": [
    "eval_result = hypermodel.evaluate(img_test, label_test)\n",
    "print(\"[test loss, test accuracy]:\", eval_result)"
   ]
  },
  {
   "cell_type": "markdown",
   "id": "10e80156-c5bb-4f8b-879a-55a94846ca5c",
   "metadata": {},
   "source": [
    "The <code>my_dir/intro_to_kt</code> directory contains detailed logs and checkpoints for every trial (model configuration) run during the hyperparameter search. If you re-run the hyperparameter search, the Keras Tuner uses the existing state from these logs to resume the search. To disable this behavior, pass an additional <code>overwrite=True</code> argument while instantiating the tuner.\n",
    "\n",
    "### Summary\n",
    "\n",
    "In this tutorial, you learned how to use the Keras Tuner to tune hyperparameters for a model. To learn more about the Keras Tuner, check out these additional resources:\n",
    "\n",
    "<ul>\n",
    "    <li><a href=\"https://blog.tensorflow.org/2020/01/hyperparameter-tuning-with-keras-tuner.html?_gl=1*1mthrdj*_ga*MTUyODQ2MzYwMS4xNjY5NzgyMDI2*_ga_W0YLR4190T*MTc0MzM5MTI3MS41Mi4xLjE3NDMzOTEyNzMuMC4wLjA.\">Keras Tuner on the TensorFlow blog</a></li>\n",
    "    <li><a href=\"https://keras-team.github.io/keras-tuner/\">Keras Tuner website</a></li>\n",
    "</ul>\n",
    "\n",
    "Also check out the <a href=\"https://www.tensorflow.org/tensorboard/hyperparameter_tuning_with_hparams\">HParams Dashboard</a> in TensorBoard to interactively tune your model hyperparameters."
   ]
  }
 ],
 "metadata": {
  "kernelspec": {
   "display_name": "Python 3 (ipykernel)",
   "language": "python",
   "name": "python3"
  },
  "language_info": {
   "codemirror_mode": {
    "name": "ipython",
    "version": 3
   },
   "file_extension": ".py",
   "mimetype": "text/x-python",
   "name": "python",
   "nbconvert_exporter": "python",
   "pygments_lexer": "ipython3",
   "version": "3.11.0rc1"
  }
 },
 "nbformat": 4,
 "nbformat_minor": 5
}
