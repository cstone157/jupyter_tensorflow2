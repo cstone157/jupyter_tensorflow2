{
 "cells": [
  {
   "cell_type": "code",
   "execution_count": 2,
   "metadata": {
    "id": "GIG4IP30tx8x"
   },
   "outputs": [],
   "source": [
    "import numpy as np\n",
    "import pandas as pd\n",
    "\n",
    "import random"
   ]
  },
  {
   "cell_type": "markdown",
   "metadata": {
    "id": "wj1I33S2vUBV"
   },
   "source": [
    "## ARC Prize prototyping code\n",
    "https://www.kaggle.com/competitions/arc-prize-2024"
   ]
  },
  {
   "cell_type": "code",
   "execution_count": 3,
   "metadata": {
    "id": "WF4F9ghx415B"
   },
   "outputs": [],
   "source": [
    "def generate_example(min_array_size=3, max_matrix_size=20):\n",
    "  # Problem array size\n",
    "  array_size = random.randint(min_matrix_size, max_matrix_size)\n"
   ]
  },
  {
   "cell_type": "code",
   "execution_count": null,
   "metadata": {
    "id": "3OhJxyK_41vC"
   },
   "outputs": [],
   "source": []
  },
  {
   "cell_type": "code",
   "execution_count": null,
   "metadata": {
    "id": "FCLfmjsB40OK"
   },
   "outputs": [],
   "source": []
  },
  {
   "cell_type": "markdown",
   "metadata": {
    "id": "7IWPGVLQ4vRS"
   },
   "source": [
    "### Step 1\n",
    "\n",
    "The first step I'm going to take is to try and build a series of example problems that are just resizeing the matrixes."
   ]
  },
  {
   "cell_type": "code",
   "execution_count": 4,
   "metadata": {
    "id": "f_T5oiqGvkBz"
   },
   "outputs": [],
   "source": [
    "def generate_example(sample_num=3, min_matrix_size=3, max_matrix_size=20, min_matrix_resize=0, max_matrix_resize=3):\n",
    "  # Problem matrix size\n",
    "  matrix1 = random.randint(min_matrix_size, max_matrix_size)\n",
    "  # Solution matrix size\n",
    "  matrix2 = matrix1\n",
    "  resize = random.randint(min_matrix_resize, max_matrix_resize)\n",
    "\n",
    "  ## Flip a coin, if we get a zero, increase the size of the matrix.  Otherwise, decrease the size\n",
    "  if random.randint(0, 1) == 0:\n",
    "    matrix2 -= resize\n",
    "    if matrix2 > max_matrix_size:\n",
    "      matrix2 = max_matrix_size\n",
    "\n",
    "  else:\n",
    "    matrix2 += resize\n",
    "    if matrix2 < min_matrix_size:\n",
    "      matrix2 = min_matrix_size\n",
    "\n",
    "  ## Start building our samples to return\n",
    "  # CHANGE-ME: replace\n",
    "  to_return = {\"problem_size\": matrix1, \"solution_size\": matrix2, \"sample\": []}\n",
    "  #to_return = {\"sample\": []}\n",
    "\n",
    "  for i in range(sample_num):\n",
    "    problem = np.zeros([matrix1, matrix1])\n",
    "    solution = np.zeros([matrix2, matrix2])\n",
    "    to_return[\"sample\"].append({\"problem\": problem, \"solution\": solution})\n",
    "\n",
    "  # add our question and answer to our example\n",
    "  to_return[\"problem\"] = np.zeros([matrix1, matrix1])\n",
    "  solution = np.zeros([matrix2, matrix2])\n",
    "\n",
    "  return to_return, solution"
   ]
  },
  {
   "cell_type": "markdown",
   "metadata": {
    "id": "r4_eTMVrWdkE"
   },
   "source": [
    "### Step 2\n",
    "Generate a bunch of example data for us to work with for training our example AI, that should simply be able to figure out how to resize our matrix based upon the pattern passed to it"
   ]
  },
  {
   "cell_type": "code",
   "execution_count": 5,
   "metadata": {
    "id": "vBtXc5CQUdIy"
   },
   "outputs": [],
   "source": [
    "X = []\n",
    "Y = []\n",
    "\n",
    "for i in range(1000):\n",
    "  x, y = generate_example()\n",
    "  X.append(x)\n",
    "  Y.append(y)"
   ]
  },
  {
   "cell_type": "code",
   "execution_count": 6,
   "metadata": {
    "id": "Fks_dHaeUiPV"
   },
   "outputs": [
    {
     "name": "stderr",
     "output_type": "stream",
     "text": [
      "2024-06-25 04:06:39.933584: E external/local_xla/xla/stream_executor/cuda/cuda_dnn.cc:9261] Unable to register cuDNN factory: Attempting to register factory for plugin cuDNN when one has already been registered\n",
      "2024-06-25 04:06:39.933762: E external/local_xla/xla/stream_executor/cuda/cuda_fft.cc:607] Unable to register cuFFT factory: Attempting to register factory for plugin cuFFT when one has already been registered\n",
      "2024-06-25 04:06:40.019041: E external/local_xla/xla/stream_executor/cuda/cuda_blas.cc:1515] Unable to register cuBLAS factory: Attempting to register factory for plugin cuBLAS when one has already been registered\n",
      "2024-06-25 04:06:40.222995: I tensorflow/core/platform/cpu_feature_guard.cc:182] This TensorFlow binary is optimized to use available CPU instructions in performance-critical operations.\n",
      "To enable the following instructions: AVX2 FMA, in other operations, rebuild TensorFlow with the appropriate compiler flags.\n"
     ]
    }
   ],
   "source": [
    "import tensorflow as tf\n",
    "from tensorflow import keras"
   ]
  },
  {
   "cell_type": "code",
   "execution_count": null,
   "metadata": {
    "id": "MTVtZ9Ir3qB1"
   },
   "outputs": [],
   "source": []
  }
 ],
 "metadata": {
  "colab": {
   "provenance": [],
   "toc_visible": true
  },
  "kernelspec": {
   "display_name": "Python 3 (ipykernel)",
   "language": "python",
   "name": "python3"
  },
  "language_info": {
   "codemirror_mode": {
    "name": "ipython",
    "version": 3
   },
   "file_extension": ".py",
   "mimetype": "text/x-python",
   "name": "python",
   "nbconvert_exporter": "python",
   "pygments_lexer": "ipython3",
   "version": "3.11.0rc1"
  }
 },
 "nbformat": 4,
 "nbformat_minor": 4
}
