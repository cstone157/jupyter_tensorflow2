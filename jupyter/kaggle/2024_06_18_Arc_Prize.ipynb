{
  "nbformat": 4,
  "nbformat_minor": 0,
  "metadata": {
    "colab": {
      "provenance": [],
      "toc_visible": true
    },
    "kernelspec": {
      "name": "python3",
      "display_name": "Python 3"
    },
    "language_info": {
      "name": "python"
    }
  },
  "cells": [
    {
      "cell_type": "code",
      "execution_count": null,
      "metadata": {
        "id": "GIG4IP30tx8x"
      },
      "outputs": [],
      "source": [
        "import numpy as np\n",
        "import pandas as pd\n",
        "\n",
        "import random"
      ]
    },
    {
      "cell_type": "markdown",
      "source": [
        "## ARC Prize prototyping code\n",
        "https://www.kaggle.com/competitions/arc-prize-2024"
      ],
      "metadata": {
        "id": "wj1I33S2vUBV"
      }
    },
    {
      "cell_type": "code",
      "source": [
        "def generate_example(min_array_size=3, max_matrix_size=20):\n",
        "  # Problem array size\n",
        "  array_size = random.randint(min_matrix_size, max_matrix_size)\n"
      ],
      "metadata": {
        "id": "WF4F9ghx415B"
      },
      "execution_count": null,
      "outputs": []
    },
    {
      "cell_type": "code",
      "source": [],
      "metadata": {
        "id": "3OhJxyK_41vC"
      },
      "execution_count": null,
      "outputs": []
    },
    {
      "cell_type": "code",
      "source": [],
      "metadata": {
        "id": "FCLfmjsB40OK"
      },
      "execution_count": null,
      "outputs": []
    },
    {
      "cell_type": "markdown",
      "source": [
        "### Step 1\n",
        "\n",
        "The first step I'm going to take is to try and build a series of example problems that are just resizeing the matrixes."
      ],
      "metadata": {
        "id": "7IWPGVLQ4vRS"
      }
    },
    {
      "cell_type": "code",
      "source": [
        "def generate_example(sample_num=3, min_matrix_size=3, max_matrix_size=20, min_matrix_resize=0, max_matrix_resize=3):\n",
        "  # Problem matrix size\n",
        "  matrix1 = random.randint(min_matrix_size, max_matrix_size)\n",
        "  # Solution matrix size\n",
        "  matrix2 = matrix1\n",
        "  resize = random.randint(min_matrix_resize, max_matrix_resize)\n",
        "\n",
        "  ## Flip a coin, if we get a zero, increase the size of the matrix.  Otherwise, decrease the size\n",
        "  if random.randint(0, 1) == 0:\n",
        "    matrix2 -= resize\n",
        "    if matrix2 > max_matrix_size:\n",
        "      matrix2 = max_matrix_size\n",
        "\n",
        "  else:\n",
        "    matrix2 += resize\n",
        "    if matrix2 < min_matrix_size:\n",
        "      matrix2 = min_matrix_size\n",
        "\n",
        "  ## Start building our samples to return\n",
        "  # CHANGE-ME: replace\n",
        "  to_return = {\"problem_size\": matrix1, \"solution_size\": matrix2, \"sample\": []}\n",
        "  #to_return = {\"sample\": []}\n",
        "\n",
        "  for i in range(sample_num):\n",
        "    problem = np.zeros([matrix1, matrix1])\n",
        "    solution = np.zeros([matrix2, matrix2])\n",
        "    to_return[\"sample\"].append({\"problem\": problem, \"solution\": solution})\n",
        "\n",
        "  # add our question and answer to our example\n",
        "  to_return[\"problem\"] = np.zeros([matrix1, matrix1])\n",
        "  solution = np.zeros([matrix2, matrix2])\n",
        "\n",
        "  return to_return, solution"
      ],
      "metadata": {
        "id": "f_T5oiqGvkBz"
      },
      "execution_count": null,
      "outputs": []
    },
    {
      "cell_type": "markdown",
      "source": [
        "### Step 2\n",
        "Generate a bunch of example data for us to work with for training our example AI, that should simply be able to figure out how to resize our matrix based upon the pattern passed to it"
      ],
      "metadata": {
        "id": "r4_eTMVrWdkE"
      }
    },
    {
      "cell_type": "code",
      "source": [
        "X = []\n",
        "Y = []\n",
        "\n",
        "for i in range(1000):\n",
        "  x, y = generate_example()\n",
        "  X.append(x)\n",
        "  Y.append(y)"
      ],
      "metadata": {
        "id": "vBtXc5CQUdIy"
      },
      "execution_count": null,
      "outputs": []
    },
    {
      "cell_type": "code",
      "source": [
        "import tensorflow as tf\n",
        "from tensorflow import keras\n",
        "\n"
      ],
      "metadata": {
        "id": "Fks_dHaeUiPV"
      },
      "execution_count": null,
      "outputs": []
    },
    {
      "cell_type": "code",
      "source": [],
      "metadata": {
        "id": "MTVtZ9Ir3qB1"
      },
      "execution_count": null,
      "outputs": []
    }
  ]
}