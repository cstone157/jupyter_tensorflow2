{
 "cells": [
  {
   "cell_type": "markdown",
   "id": "e4140a7d-e33a-42eb-b6bd-6f1eb34d052f",
   "metadata": {},
   "source": [
    "https://keras.io/examples/vision/mnist_convnet/"
   ]
  },
  {
   "cell_type": "markdown",
   "id": "a48fa38f-1f62-4d80-99ca-b90c5de01111",
   "metadata": {},
   "source": [
    "## Simple MNIST convnet\n",
    "\n",
    "<b>Author</b>: <a href=\"https://twitter.com/fchollet\">fchollet</a> <br/>\n",
    "<b>Date created</b>: 2015/06/19 <br/>\n",
    "<b>Last modified</b>: 2020/04/21 <br/>\n",
    "<b>Description</b>: A simple convnet that achieves ~99% test accuracy on MNIST.\n",
    "\n",
    "<hr />\n",
    "\n",
    "### Setup"
   ]
  },
  {
   "cell_type": "code",
   "execution_count": 1,
   "id": "dc1e1257-625f-4d93-a949-ac991f9b8875",
   "metadata": {},
   "outputs": [
    {
     "name": "stderr",
     "output_type": "stream",
     "text": [
      "2024-06-01 05:19:48.841186: I tensorflow/core/platform/cpu_feature_guard.cc:182] This TensorFlow binary is optimized to use available CPU instructions in performance-critical operations.\n",
      "To enable the following instructions: AVX2 FMA, in other operations, rebuild TensorFlow with the appropriate compiler flags.\n"
     ]
    }
   ],
   "source": [
    "import numpy as np\n",
    "import keras\n",
    "from keras import layers"
   ]
  },
  {
   "cell_type": "markdown",
   "id": "f6e5ff6f-a1f6-45a4-aa43-9f90499c1261",
   "metadata": {},
   "source": [
    "<hr />\n",
    "\n",
    "### Prepare the data"
   ]
  },
  {
   "cell_type": "code",
   "execution_count": 2,
   "id": "e2342e26-9ce5-45e6-8b6a-aaf9665e9f7c",
   "metadata": {},
   "outputs": [
    {
     "name": "stdout",
     "output_type": "stream",
     "text": [
      "x_train shape: (60000, 28, 28, 1)\n",
      "60000 train samples\n",
      "10000 test samples\n"
     ]
    }
   ],
   "source": [
    "# Model / data parameters\n",
    "num_classes = 10\n",
    "input_shape = (28, 28, 1)\n",
    "\n",
    "# Load the data and split it between train and test sets\n",
    "(x_train, y_train), (x_test, y_test) = keras.datasets.mnist.load_data()\n",
    "\n",
    "# Scale images to the [0, 1] range\n",
    "x_train = x_train.astype(\"float32\") / 255\n",
    "x_test = x_test.astype(\"float32\") / 255\n",
    "# Make sure images have shape (28, 28, 1)\n",
    "x_train = np.expand_dims(x_train, -1)\n",
    "x_test = np.expand_dims(x_test, -1)\n",
    "print(\"x_train shape:\", x_train.shape)\n",
    "print(x_train.shape[0], \"train samples\")\n",
    "print(x_test.shape[0], \"test samples\")\n",
    "\n",
    "\n",
    "# convert class vectors to binary class matrices\n",
    "y_train = keras.utils.to_categorical(y_train, num_classes)\n",
    "y_test = keras.utils.to_categorical(y_test, num_classes)"
   ]
  },
  {
   "cell_type": "markdown",
   "id": "2dfc234f-4260-4a9a-962e-c800616bddd3",
   "metadata": {},
   "source": [
    "<hr/>\n",
    "\n",
    "### Build the model"
   ]
  },
  {
   "cell_type": "code",
   "execution_count": 3,
   "id": "a7f36be0-6c3a-4ad1-98da-0a53ee585c2c",
   "metadata": {},
   "outputs": [
    {
     "name": "stdout",
     "output_type": "stream",
     "text": [
      "Model: \"sequential\"\n",
      "_________________________________________________________________\n",
      " Layer (type)                Output Shape              Param #   \n",
      "=================================================================\n",
      " conv2d (Conv2D)             (None, 26, 26, 32)        320       \n",
      "                                                                 \n",
      " max_pooling2d (MaxPooling2  (None, 13, 13, 32)        0         \n",
      " D)                                                              \n",
      "                                                                 \n",
      " conv2d_1 (Conv2D)           (None, 11, 11, 64)        18496     \n",
      "                                                                 \n",
      " max_pooling2d_1 (MaxPoolin  (None, 5, 5, 64)          0         \n",
      " g2D)                                                            \n",
      "                                                                 \n",
      " flatten (Flatten)           (None, 1600)              0         \n",
      "                                                                 \n",
      " dropout (Dropout)           (None, 1600)              0         \n",
      "                                                                 \n",
      " dense (Dense)               (None, 10)                16010     \n",
      "                                                                 \n",
      "=================================================================\n",
      "Total params: 34826 (136.04 KB)\n",
      "Trainable params: 34826 (136.04 KB)\n",
      "Non-trainable params: 0 (0.00 Byte)\n",
      "_________________________________________________________________\n"
     ]
    }
   ],
   "source": [
    "model = keras.Sequential(\n",
    "    [\n",
    "        keras.Input(shape=input_shape),\n",
    "        layers.Conv2D(32, kernel_size=(3, 3), activation=\"relu\"),\n",
    "        layers.MaxPooling2D(pool_size=(2, 2)),\n",
    "        layers.Conv2D(64, kernel_size=(3, 3), activation=\"relu\"),\n",
    "        layers.MaxPooling2D(pool_size=(2, 2)),\n",
    "        layers.Flatten(),\n",
    "        layers.Dropout(0.5),\n",
    "        layers.Dense(num_classes, activation=\"softmax\"),\n",
    "    ]\n",
    ")\n",
    "\n",
    "model.summary()"
   ]
  },
  {
   "cell_type": "markdown",
   "id": "b01d678e-396c-49d5-b04c-e8b55f7ea0f5",
   "metadata": {},
   "source": [
    "<hr />\n",
    "\n",
    "### Train the model"
   ]
  },
  {
   "cell_type": "code",
   "execution_count": 4,
   "id": "95da8834-47be-46c8-835d-c357fa8a9b62",
   "metadata": {},
   "outputs": [
    {
     "name": "stdout",
     "output_type": "stream",
     "text": [
      "Epoch 1/15\n",
      "422/422 [==============================] - 33s 74ms/step - loss: 0.3689 - accuracy: 0.8907 - val_loss: 0.0764 - val_accuracy: 0.9802\n",
      "Epoch 2/15\n",
      "422/422 [==============================] - 28s 66ms/step - loss: 0.1078 - accuracy: 0.9676 - val_loss: 0.0537 - val_accuracy: 0.9863\n",
      "Epoch 3/15\n",
      "422/422 [==============================] - 28s 66ms/step - loss: 0.0790 - accuracy: 0.9759 - val_loss: 0.0403 - val_accuracy: 0.9890\n",
      "Epoch 4/15\n",
      "422/422 [==============================] - 28s 66ms/step - loss: 0.0689 - accuracy: 0.9786 - val_loss: 0.0418 - val_accuracy: 0.9870\n",
      "Epoch 5/15\n",
      "422/422 [==============================] - 27s 64ms/step - loss: 0.0595 - accuracy: 0.9812 - val_loss: 0.0358 - val_accuracy: 0.9898\n",
      "Epoch 6/15\n",
      "422/422 [==============================] - 27s 64ms/step - loss: 0.0535 - accuracy: 0.9833 - val_loss: 0.0355 - val_accuracy: 0.9902\n",
      "Epoch 7/15\n",
      "422/422 [==============================] - 26s 63ms/step - loss: 0.0490 - accuracy: 0.9849 - val_loss: 0.0338 - val_accuracy: 0.9910\n",
      "Epoch 8/15\n",
      "422/422 [==============================] - 26s 62ms/step - loss: 0.0453 - accuracy: 0.9854 - val_loss: 0.0295 - val_accuracy: 0.9922\n",
      "Epoch 9/15\n",
      "422/422 [==============================] - 27s 63ms/step - loss: 0.0439 - accuracy: 0.9863 - val_loss: 0.0314 - val_accuracy: 0.9912\n",
      "Epoch 10/15\n",
      "422/422 [==============================] - 27s 64ms/step - loss: 0.0416 - accuracy: 0.9870 - val_loss: 0.0288 - val_accuracy: 0.9930\n",
      "Epoch 11/15\n",
      "422/422 [==============================] - 27s 64ms/step - loss: 0.0385 - accuracy: 0.9874 - val_loss: 0.0300 - val_accuracy: 0.9908\n",
      "Epoch 12/15\n",
      "422/422 [==============================] - 27s 64ms/step - loss: 0.0366 - accuracy: 0.9883 - val_loss: 0.0268 - val_accuracy: 0.9932\n",
      "Epoch 13/15\n",
      "422/422 [==============================] - 27s 63ms/step - loss: 0.0347 - accuracy: 0.9883 - val_loss: 0.0278 - val_accuracy: 0.9932\n",
      "Epoch 14/15\n",
      "422/422 [==============================] - 27s 63ms/step - loss: 0.0328 - accuracy: 0.9893 - val_loss: 0.0285 - val_accuracy: 0.9917\n",
      "Epoch 15/15\n",
      "422/422 [==============================] - 27s 64ms/step - loss: 0.0334 - accuracy: 0.9889 - val_loss: 0.0282 - val_accuracy: 0.9930\n"
     ]
    },
    {
     "data": {
      "text/plain": [
       "<keras.src.callbacks.History at 0x7ffb739cd790>"
      ]
     },
     "execution_count": 4,
     "metadata": {},
     "output_type": "execute_result"
    }
   ],
   "source": [
    "batch_size = 128\n",
    "epochs = 15\n",
    "\n",
    "model.compile(loss=\"categorical_crossentropy\", optimizer=\"adam\", metrics=[\"accuracy\"])\n",
    "\n",
    "model.fit(x_train, y_train, batch_size=batch_size, epochs=epochs, validation_split=0.1)"
   ]
  },
  {
   "cell_type": "markdown",
   "id": "9e7d9fa6-5748-4ec5-b129-b52cb90befc9",
   "metadata": {},
   "source": [
    "<hr />\n",
    "\n",
    "### Evaluate the trained model"
   ]
  },
  {
   "cell_type": "code",
   "execution_count": 5,
   "id": "c2047d0f-fe14-4653-ac5f-36c27fad39b9",
   "metadata": {},
   "outputs": [
    {
     "name": "stdout",
     "output_type": "stream",
     "text": [
      "Test loss: 0.025224842131137848\n",
      "Test accuracy: 0.9914000034332275\n"
     ]
    }
   ],
   "source": [
    "score = model.evaluate(x_test, y_test, verbose=0)\n",
    "print(\"Test loss:\", score[0])\n",
    "print(\"Test accuracy:\", score[1])"
   ]
  },
  {
   "cell_type": "code",
   "execution_count": null,
   "id": "934de722-90f6-4da8-9229-9fddbe0b599c",
   "metadata": {},
   "outputs": [],
   "source": []
  }
 ],
 "metadata": {
  "kernelspec": {
   "display_name": "Python 3 (ipykernel)",
   "language": "python",
   "name": "python3"
  },
  "language_info": {
   "codemirror_mode": {
    "name": "ipython",
    "version": 3
   },
   "file_extension": ".py",
   "mimetype": "text/x-python",
   "name": "python",
   "nbconvert_exporter": "python",
   "pygments_lexer": "ipython3",
   "version": "3.11.0rc1"
  }
 },
 "nbformat": 4,
 "nbformat_minor": 5
}
