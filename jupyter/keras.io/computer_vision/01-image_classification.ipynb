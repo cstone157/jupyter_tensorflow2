{
 "cells": [
  {
   "cell_type": "markdown",
   "id": "79c12ba4-fd1d-4bba-8fbc-e851aa6d0c5c",
   "metadata": {},
   "source": [
    "## Image classification from scratch\n",
    "<b>Author</b>: <a href=\"https://twitter.com/fchollet\">fchollet</a> <br/>\n",
    "<b>Date created</b>: 2020/04/27 <br/>\n",
    "<b>Last modified</b>: 2023/11/09 <br/>\n",
    "<b>Description</b>: Training an image classifier from scratch on the Kaggle Cats vs Dogs dataset."
   ]
  },
  {
   "cell_type": "markdown",
   "id": "3623e22f-82c3-4111-b5a7-2ba8876baa96",
   "metadata": {},
   "source": [
    "#### Introduction\n",
    "\n",
    "This example shows how to do image classification from scratch, starting from JPEG image files on disk, without leveraging pre-trained weights or a pre-made Keras Application model. We demonstrate the workflow on the Kaggle Cats vs Dogs binary classification dataset.\n",
    "\n",
    "We use the <font color=\"red\">image_dataset_from_directory</font> utility to generate the datasets, and we use Keras image preprocessing layers for image standardization and data augmentation.\n",
    "\n",
    "<hr/>\n",
    "\n",
    "#### Setup"
   ]
  },
  {
   "cell_type": "code",
   "execution_count": 1,
   "id": "5698fa43-e85a-4045-bacd-8bfc07e1f0aa",
   "metadata": {},
   "outputs": [
    {
     "name": "stderr",
     "output_type": "stream",
     "text": [
      "2024-06-01 05:00:12.833591: I tensorflow/core/platform/cpu_feature_guard.cc:182] This TensorFlow binary is optimized to use available CPU instructions in performance-critical operations.\n",
      "To enable the following instructions: AVX2 FMA, in other operations, rebuild TensorFlow with the appropriate compiler flags.\n"
     ]
    }
   ],
   "source": [
    "import os\n",
    "import numpy as np\n",
    "import keras\n",
    "from keras import layers\n",
    "from tensorflow import data as tf_data\n",
    "import matplotlib.pyplot as plt"
   ]
  },
  {
   "cell_type": "markdown",
   "id": "638be5b9-8988-4a2e-85bc-3312061189e0",
   "metadata": {},
   "source": [
    "<hr/>\n",
    "\n",
    "### Load the data: the Cats vs Dogs dataset\n",
    "#### Raw data download\n",
    "First, let's download the 786M ZIP archive of the raw data:"
   ]
  },
  {
   "cell_type": "code",
   "execution_count": 2,
   "id": "7ab28a74-9d27-4f7f-b27e-bc6f71c5d3a3",
   "metadata": {},
   "outputs": [
    {
     "name": "stdout",
     "output_type": "stream",
     "text": [
      "  % Total    % Received % Xferd  Average Speed   Time    Time     Time  Current\n",
      "                                 Dload  Upload   Total   Spent    Left  Speed\n",
      "100  786M  100  786M    0     0  16.6M      0  0:00:47  0:00:47 --:--:-- 27.7M0     0  20.5M      0  0:00:38  0:00:03  0:00:35 20.5M\n"
     ]
    }
   ],
   "source": [
    "!mkdir -p downloads\n",
    "!curl -O --output-dir downloads https://download.microsoft.com/download/3/E/1/3E1C3F21-ECDB-4869-8368-6DEBA77B919F/kagglecatsanddogs_5340.zip"
   ]
  },
  {
   "cell_type": "code",
   "execution_count": null,
   "id": "47ddfa48-433d-4959-86fa-1cb14d832d41",
   "metadata": {},
   "outputs": [
    {
     "name": "stdout",
     "output_type": "stream",
     "text": [
      "replace PetImages/Cat/0.jpg? [y]es, [n]o, [A]ll, [N]one, [r]ename: "
     ]
    }
   ],
   "source": [
    "!cd downloads && unzip -q kagglecatsanddogs_5340.zip\n",
    "!cd downloads && ls"
   ]
  },
  {
   "cell_type": "markdown",
   "id": "601a7b84-75c9-4f32-8073-57b4464804d4",
   "metadata": {},
   "source": [
    "Now we have a <font color=\"red\">PetImages</font> folder which contain two subfolders, <font color=\"red\">Cat</font> and <font color=\"red\">Dog</font>. Each subfolder contains image files for each category."
   ]
  },
  {
   "cell_type": "code",
   "execution_count": null,
   "id": "f12bf80a-fd6a-43c7-b9bb-23eaa00adf6b",
   "metadata": {},
   "outputs": [],
   "source": [
    "!ls downloads/PetImages"
   ]
  },
  {
   "cell_type": "markdown",
   "id": "566b17e4-4cd2-468b-a0e8-74e3420269d0",
   "metadata": {},
   "source": [
    "### Filter out corrupted images\n",
    "\n",
    "When working with lots of real-world image data, corrupted images are a common occurence. Let's filter out badly-encoded images that do not feature the string \"JFIF\" in their header."
   ]
  },
  {
   "cell_type": "code",
   "execution_count": null,
   "id": "15872546-ba4b-4aa1-972f-0c9148e3b89f",
   "metadata": {},
   "outputs": [],
   "source": [
    "num_skipped = 0\n",
    "for folder_name in (\"Cat\", \"Dog\"):\n",
    "    folder_path = os.path.join(\"downloads/PetImages\", folder_name)\n",
    "    for fname in os.listdir(folder_path):\n",
    "        fpath = os.path.join(folder_path, fname)\n",
    "        try:\n",
    "            fobj = open(fpath, \"rb\")\n",
    "            is_jfif = b\"JFIF\" in fobj.peek(10)\n",
    "        finally:\n",
    "            fobj.close()\n",
    "\n",
    "        if not is_jfif:\n",
    "            num_skipped += 1\n",
    "            # Delete corrupted image\n",
    "            os.remove(fpath)\n",
    "\n",
    "print(f\"Deleted {num_skipped} images.\")"
   ]
  },
  {
   "cell_type": "markdown",
   "id": "a04da386-26e9-40ba-835e-3b53d6a43b29",
   "metadata": {},
   "source": [
    "<hr/>\n",
    "\n",
    "### Generate a <font color=\"red\">Dataset</font>"
   ]
  },
  {
   "cell_type": "code",
   "execution_count": null,
   "id": "4211f99f-987e-4f5e-a249-b6c30eabc30e",
   "metadata": {},
   "outputs": [],
   "source": [
    "image_size = (180, 180)\n",
    "batch_size = 128\n",
    "\n",
    "train_ds, val_ds = keras.utils.image_dataset_from_directory(\n",
    "    \"downloads/PetImages\",\n",
    "    validation_split=0.2,\n",
    "    subset=\"both\",\n",
    "    seed=1337,\n",
    "    image_size=image_size,\n",
    "    batch_size=batch_size,\n",
    ")"
   ]
  },
  {
   "cell_type": "markdown",
   "id": "d46d27d9-6b33-417a-b196-d2d764031e3f",
   "metadata": {},
   "source": [
    "<hr/>\n",
    "\n",
    "### Visualize the data\n",
    "\n",
    "Here are the first 9 images in the training dataset."
   ]
  },
  {
   "cell_type": "code",
   "execution_count": null,
   "id": "7b8660fa-b1e8-494d-a392-1c879b570ecd",
   "metadata": {},
   "outputs": [],
   "source": [
    "plt.figure(figsize=(10, 10))\n",
    "for images, labels in train_ds.take(1):\n",
    "    for i in range(9):\n",
    "        ax = plt.subplot(3, 3, i + 1)\n",
    "        plt.imshow(np.array(images[i]).astype(\"uint8\"))\n",
    "        plt.title(int(labels[i]))\n",
    "        plt.axis(\"off\")\n"
   ]
  },
  {
   "cell_type": "markdown",
   "id": "d24ac609-e22e-4d7f-ba4a-f42c745146d5",
   "metadata": {},
   "source": [
    "<hr />\n",
    "\n",
    "### Using image data augmentation\n",
    "\n",
    "When you don't have a large image dataset, it's a good practice to artificially introduce sample diversity by applying random yet realistic transformations to the training images, such as random horizontal flipping or small random rotations. This helps expose the model to different aspects of the training data while slowing down overfitting."
   ]
  },
  {
   "cell_type": "code",
   "execution_count": null,
   "id": "469396c4-a8a9-4818-8cee-8fd602b65878",
   "metadata": {},
   "outputs": [],
   "source": [
    "data_augmentation_layers = [\n",
    "    layers.RandomFlip(\"horizontal\"),\n",
    "    layers.RandomRotation(0.1),\n",
    "]\n",
    "\n",
    "\n",
    "def data_augmentation(images):\n",
    "    for layer in data_augmentation_layers:\n",
    "        images = layer(images)\n",
    "    return images"
   ]
  },
  {
   "cell_type": "markdown",
   "id": "8ea1430f-1218-4b3b-9856-47b8d961254d",
   "metadata": {},
   "source": [
    "Let's visualize what the augmented samples look like, by applying data_augmentation repeatedly to the first few images in the dataset:"
   ]
  },
  {
   "cell_type": "code",
   "execution_count": null,
   "id": "17134e2f-f4ba-4b86-88a5-bc14bdfb4915",
   "metadata": {},
   "outputs": [],
   "source": [
    "plt.figure(figsize=(10, 10))\n",
    "for images, _ in train_ds.take(1):\n",
    "    for i in range(9):\n",
    "        augmented_images = data_augmentation(images)\n",
    "        ax = plt.subplot(3, 3, i + 1)\n",
    "        plt.imshow(np.array(augmented_images[0]).astype(\"uint8\"))\n",
    "        plt.axis(\"off\")"
   ]
  },
  {
   "cell_type": "markdown",
   "id": "a2e9bd4b-4e42-418d-b7e7-84052b1362bb",
   "metadata": {},
   "source": [
    "<hr />\n",
    "\n",
    "### Standardizing the data\n",
    "\n",
    "Our image are already in a standard size (180x180), as they are being yielded as contiguous <font color=\"red\">float32</font> batches by our dataset. However, their RGB channel values are in the <font color=\"red\">[0, 255]</font> range. This is not ideal for a neural network; in general you should seek to make your input values small. Here, we will standardize values to be in the <font color=\"red\">[0, 1]</font> by using a <font color=\"red\">Rescaling</font> layer at the start of our model.\n",
    "\n",
    "<hr />\n",
    "\n",
    "### Two options to preprocess the data\n",
    "\n",
    "There are two ways you could be using the <font color=\"red\">data_augmentation</font> preprocessor:\n",
    "\n",
    "Option 1: Make it part of the model, like this:"
   ]
  },
  {
   "cell_type": "code",
   "execution_count": null,
   "id": "a33576d9-4b5f-4b87-bf85-ca28bdcd7043",
   "metadata": {},
   "outputs": [],
   "source": [
    "inputs = keras.Input(shape=input_shape)\n",
    "x = data_augmentation(inputs)\n",
    "x = layers.Rescaling(1./255)(x)\n",
    "#...  # Rest of the model"
   ]
  },
  {
   "cell_type": "markdown",
   "id": "26054ed2-31ea-4a64-8cb5-a898490443a2",
   "metadata": {},
   "source": [
    "With this option, your data augmentation will happen on device, synchronously with the rest of the model execution, meaning that it will benefit from GPU acceleration.\n",
    "\n",
    "Note that data augmentation is inactive at test time, so the input samples will only be augmented during <font color=\"red\">fit()</font>, not when calling <font color=\"red\">evaluate()</font> or <font color=\"red\">predict()</font>.\n",
    "\n",
    "If you're training on GPU, this may be a good option.\n",
    "\n",
    "### Option 2: apply it to the dataset, \n",
    "so as to obtain a dataset that yields batches of augmented images, like this:"
   ]
  },
  {
   "cell_type": "code",
   "execution_count": null,
   "id": "b33ef5f0-2fe6-46c5-a52f-878fb89a25de",
   "metadata": {},
   "outputs": [],
   "source": [
    "augmented_train_ds = train_ds.map(\n",
    "    lambda x, y: (data_augmentation(x, training=True), y))"
   ]
  },
  {
   "cell_type": "markdown",
   "id": "e7a1fd54-fe47-40de-a029-038134c6deaa",
   "metadata": {},
   "source": [
    "With this option, your data augmentation will happen <b>on CPU</b>, asynchronously, and will be buffered before going into the model.\n",
    "\n",
    "If you're training on CPU, this is the better option, since it makes data augmentation asynchronous and non-blocking.\n",
    "\n",
    "In our case, we'll go with the second option. If you're not sure which one to pick, this second option (asynchronous preprocessing) is always a solid choice.\n",
    "\n",
    "<hr />\n",
    "\n",
    "### Configure the dataset for performance\n",
    "\n",
    "Let's apply data augmentation to our training dataset, and let's make sure to use buffered prefetching so we can yield data from disk without having I/O becoming blocking:"
   ]
  },
  {
   "cell_type": "code",
   "execution_count": null,
   "id": "9df05c77-f052-4ad2-a236-4c634b2633f2",
   "metadata": {},
   "outputs": [],
   "source": [
    "# Apply `data_augmentation` to the training images.\n",
    "train_ds = train_ds.map(\n",
    "    lambda img, label: (data_augmentation(img), label),\n",
    "    num_parallel_calls=tf_data.AUTOTUNE,\n",
    ")\n",
    "# Prefetching samples in GPU memory helps maximize GPU utilization.\n",
    "train_ds = train_ds.prefetch(tf_data.AUTOTUNE)\n",
    "val_ds = val_ds.prefetch(tf_data.AUTOTUNE)"
   ]
  },
  {
   "cell_type": "markdown",
   "id": "fb352c54-f9c8-4781-8bfe-7799c187a283",
   "metadata": {},
   "source": [
    "<hr />\n",
    "\n",
    "### Build a model\n",
    "\n",
    "We'll build a small version of the Xception network. We haven't particularly tried to optimize the architecture; if you want to do a systematic search for the best model configuration, consider using <a href=\"https://github.com/keras-team/keras-tuner\">KerasTuner</a>.\n",
    "\n",
    "Note that:\n",
    "\n",
    "<ul>\n",
    "    <li>We start the model with the <font color=\"red\">data_augmentation</font> preprocessor, followed by a <font color=\"red\">Rescaling</font> layer.</li>\n",
    "    <li>We include a <font color=\"red\">Dropout</font> layer before the final classification layer.</li>\n",
    "</ul>"
   ]
  },
  {
   "cell_type": "code",
   "execution_count": null,
   "id": "8e9d4135-cd96-4e78-929a-3640539f262e",
   "metadata": {},
   "outputs": [],
   "source": [
    "def make_model(input_shape, num_classes):\n",
    "    inputs = keras.Input(shape=input_shape)\n",
    "\n",
    "    # Entry block\n",
    "    x = layers.Rescaling(1.0 / 255)(inputs)\n",
    "    x = layers.Conv2D(128, 3, strides=2, padding=\"same\")(x)\n",
    "    x = layers.BatchNormalization()(x)\n",
    "    x = layers.Activation(\"relu\")(x)\n",
    "\n",
    "    previous_block_activation = x  # Set aside residual\n",
    "\n",
    "    for size in [256, 512, 728]:\n",
    "        x = layers.Activation(\"relu\")(x)\n",
    "        x = layers.SeparableConv2D(size, 3, padding=\"same\")(x)\n",
    "        x = layers.BatchNormalization()(x)\n",
    "\n",
    "        x = layers.Activation(\"relu\")(x)\n",
    "        x = layers.SeparableConv2D(size, 3, padding=\"same\")(x)\n",
    "        x = layers.BatchNormalization()(x)\n",
    "\n",
    "        x = layers.MaxPooling2D(3, strides=2, padding=\"same\")(x)\n",
    "\n",
    "        # Project residual\n",
    "        residual = layers.Conv2D(size, 1, strides=2, padding=\"same\")(\n",
    "            previous_block_activation\n",
    "        )\n",
    "        x = layers.add([x, residual])  # Add back residual\n",
    "        previous_block_activation = x  # Set aside next residual\n",
    "\n",
    "    x = layers.SeparableConv2D(1024, 3, padding=\"same\")(x)\n",
    "    x = layers.BatchNormalization()(x)\n",
    "    x = layers.Activation(\"relu\")(x)\n",
    "\n",
    "    x = layers.GlobalAveragePooling2D()(x)\n",
    "    if num_classes == 2:\n",
    "        units = 1\n",
    "    else:\n",
    "        units = num_classes\n",
    "\n",
    "    x = layers.Dropout(0.25)(x)\n",
    "    # We specify activation=None so as to return logits\n",
    "    outputs = layers.Dense(units, activation=None)(x)\n",
    "    return keras.Model(inputs, outputs)\n",
    "\n",
    "\n",
    "model = make_model(input_shape=image_size + (3,), num_classes=2)\n",
    "keras.utils.plot_model(model, show_shapes=True)"
   ]
  },
  {
   "cell_type": "markdown",
   "id": "732e60f7-3c59-4c9d-a07f-c352439d9f9a",
   "metadata": {},
   "source": [
    "<hr />\n",
    "\n",
    "### Train the model"
   ]
  },
  {
   "cell_type": "code",
   "execution_count": null,
   "id": "1026e3a4-1c7b-4363-9579-38786f10b00d",
   "metadata": {},
   "outputs": [],
   "source": [
    "epochs = 25\n",
    "\n",
    "callbacks = [\n",
    "    keras.callbacks.ModelCheckpoint(\"save_at_{epoch}.keras\"),\n",
    "]\n",
    "model.compile(\n",
    "    optimizer=keras.optimizers.Adam(3e-4),\n",
    "    loss=keras.losses.BinaryCrossentropy(from_logits=True),\n",
    "    metrics=[keras.metrics.BinaryAccuracy(name=\"acc\")],\n",
    ")\n",
    "model.fit(\n",
    "    train_ds,\n",
    "    epochs=epochs,\n",
    "    callbacks=callbacks,\n",
    "    validation_data=val_ds,\n",
    ")"
   ]
  },
  {
   "cell_type": "markdown",
   "id": "38e62006-96c1-47b3-ba6a-cce40ae66cb3",
   "metadata": {},
   "source": [
    "We get to >90% validation accuracy after training for 25 epochs on the full dataset (in practice, you can train for 50+ epochs before validation performance starts degrading).\n",
    "\n",
    "<hr />\n",
    "\n",
    "### Run inference on new data\n",
    "\n",
    "Note that data augmentation and dropout are inactive at inference time."
   ]
  },
  {
   "cell_type": "code",
   "execution_count": null,
   "id": "43c311f6-b663-4f72-b6c7-82eae26426fa",
   "metadata": {},
   "outputs": [],
   "source": [
    "img = keras.utils.load_img(\"PetImages/Cat/6779.jpg\", target_size=image_size)\n",
    "plt.imshow(img)\n",
    "\n",
    "img_array = keras.utils.img_to_array(img)\n",
    "img_array = keras.ops.expand_dims(img_array, 0)  # Create batch axis\n",
    "\n",
    "predictions = model.predict(img_array)\n",
    "score = float(keras.ops.sigmoid(predictions[0][0]))\n",
    "print(f\"This image is {100 * (1 - score):.2f}% cat and {100 * score:.2f}% dog.\")"
   ]
  },
  {
   "cell_type": "code",
   "execution_count": null,
   "id": "cd2d8186-06cb-44a6-8267-e586ae44c275",
   "metadata": {},
   "outputs": [],
   "source": []
  }
 ],
 "metadata": {
  "kernelspec": {
   "display_name": "Python 3 (ipykernel)",
   "language": "python",
   "name": "python3"
  },
  "language_info": {
   "codemirror_mode": {
    "name": "ipython",
    "version": 3
   },
   "file_extension": ".py",
   "mimetype": "text/x-python",
   "name": "python",
   "nbconvert_exporter": "python",
   "pygments_lexer": "ipython3",
   "version": "3.11.0rc1"
  }
 },
 "nbformat": 4,
 "nbformat_minor": 5
}
