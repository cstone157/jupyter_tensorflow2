{
 "cells": [
  {
   "cell_type": "markdown",
   "id": "79c12ba4-fd1d-4bba-8fbc-e851aa6d0c5c",
   "metadata": {},
   "source": [
    "## Image classification from scratch\n",
    "<b>Author</b>: <a href=\"https://twitter.com/fchollet\">fchollet</a> <br/>\n",
    "<b>Date created</b>: 2020/04/27 <br/>\n",
    "<b>Last modified</b>: 2023/11/09 <br/>\n",
    "<b>Description</b>: Training an image classifier from scratch on the Kaggle Cats vs Dogs dataset."
   ]
  },
  {
   "cell_type": "markdown",
   "id": "3623e22f-82c3-4111-b5a7-2ba8876baa96",
   "metadata": {},
   "source": [
    "#### Introduction\n",
    "\n",
    "This example shows how to do image classification from scratch, starting from JPEG image files on disk, without leveraging pre-trained weights or a pre-made Keras Application model. We demonstrate the workflow on the Kaggle Cats vs Dogs binary classification dataset.\n",
    "\n",
    "We use the <font color=\"red\">image_dataset_from_directory</font> utility to generate the datasets, and we use Keras image preprocessing layers for image standardization and data augmentation.\n",
    "\n",
    "<hr/>\n",
    "\n",
    "#### Setup"
   ]
  },
  {
   "cell_type": "code",
   "execution_count": 1,
   "id": "5698fa43-e85a-4045-bacd-8bfc07e1f0aa",
   "metadata": {},
   "outputs": [
    {
     "name": "stderr",
     "output_type": "stream",
     "text": [
      "2024-05-31 04:31:24.477943: I tensorflow/core/platform/cpu_feature_guard.cc:182] This TensorFlow binary is optimized to use available CPU instructions in performance-critical operations.\n",
      "To enable the following instructions: AVX2 FMA, in other operations, rebuild TensorFlow with the appropriate compiler flags.\n"
     ]
    }
   ],
   "source": [
    "import os\n",
    "import numpy as np\n",
    "import keras\n",
    "from keras import layers\n",
    "from tensorflow import data as tf_data\n",
    "import matplotlib.pyplot as plt"
   ]
  },
  {
   "cell_type": "markdown",
   "id": "638be5b9-8988-4a2e-85bc-3312061189e0",
   "metadata": {},
   "source": [
    "<hr/>\n",
    "\n",
    "### Load the data: the Cats vs Dogs dataset\n",
    "#### Raw data download\n",
    "First, let's download the 786M ZIP archive of the raw data:"
   ]
  },
  {
   "cell_type": "code",
   "execution_count": 5,
   "id": "7ab28a74-9d27-4f7f-b27e-bc6f71c5d3a3",
   "metadata": {},
   "outputs": [
    {
     "name": "stdout",
     "output_type": "stream",
     "text": [
      "  % Total    % Received % Xferd  Average Speed   Time    Time     Time  Current\n",
      "                                 Dload  Upload   Total   Spent    Left  Speed\n",
      "100  786M  100  786M    0     0  8817k      0  0:01:31  0:01:31 --:--:--  9.8Mk      0  0:01:26  0:00:45  0:00:41 2853k\n"
     ]
    }
   ],
   "source": [
    "!mkdir -p downloads\n",
    "!curl -O --output-dir downloads https://download.microsoft.com/download/3/E/1/3E1C3F21-ECDB-4869-8368-6DEBA77B919F/kagglecatsanddogs_5340.zip"
   ]
  },
  {
   "cell_type": "code",
   "execution_count": 8,
   "id": "47ddfa48-433d-4959-86fa-1cb14d832d41",
   "metadata": {},
   "outputs": [
    {
     "name": "stdout",
     "output_type": "stream",
     "text": [
      " CDLA-Permissive-2.0.pdf   kagglecatsanddogs_5340.zip\n",
      " PetImages\t\t  'readme[1].txt'\n"
     ]
    }
   ],
   "source": [
    "!cd downloads && unzip -q kagglecatsanddogs_5340.zip\n",
    "!cd downloads && ls"
   ]
  },
  {
   "cell_type": "markdown",
   "id": "601a7b84-75c9-4f32-8073-57b4464804d4",
   "metadata": {},
   "source": [
    "Now we have a <font color=\"red\">PetImages</font> folder which contain two subfolders, <font color=\"red\">Cat</font> and <font color=\"red\">Dog</font>. Each subfolder contains image files for each category."
   ]
  },
  {
   "cell_type": "code",
   "execution_count": 9,
   "id": "f12bf80a-fd6a-43c7-b9bb-23eaa00adf6b",
   "metadata": {},
   "outputs": [
    {
     "name": "stdout",
     "output_type": "stream",
     "text": [
      "Cat  Dog\n"
     ]
    }
   ],
   "source": [
    "!ls downloads/PetImages"
   ]
  },
  {
   "cell_type": "markdown",
   "id": "566b17e4-4cd2-468b-a0e8-74e3420269d0",
   "metadata": {},
   "source": [
    "### Filter out corrupted images\n",
    "\n",
    "When working with lots of real-world image data, corrupted images are a common occurence. Let's filter out badly-encoded images that do not feature the string \"JFIF\" in their header."
   ]
  },
  {
   "cell_type": "code",
   "execution_count": 10,
   "id": "15872546-ba4b-4aa1-972f-0c9148e3b89f",
   "metadata": {},
   "outputs": [
    {
     "name": "stdout",
     "output_type": "stream",
     "text": [
      "Deleted 1590 images.\n"
     ]
    }
   ],
   "source": [
    "num_skipped = 0\n",
    "for folder_name in (\"Cat\", \"Dog\"):\n",
    "    folder_path = os.path.join(\"downloads/PetImages\", folder_name)\n",
    "    for fname in os.listdir(folder_path):\n",
    "        fpath = os.path.join(folder_path, fname)\n",
    "        try:\n",
    "            fobj = open(fpath, \"rb\")\n",
    "            is_jfif = b\"JFIF\" in fobj.peek(10)\n",
    "        finally:\n",
    "            fobj.close()\n",
    "\n",
    "        if not is_jfif:\n",
    "            num_skipped += 1\n",
    "            # Delete corrupted image\n",
    "            os.remove(fpath)\n",
    "\n",
    "print(f\"Deleted {num_skipped} images.\")"
   ]
  },
  {
   "cell_type": "markdown",
   "id": "a04da386-26e9-40ba-835e-3b53d6a43b29",
   "metadata": {},
   "source": [
    "<hr/>\n",
    "\n",
    "### Generate a <font color=\"red\">Dataset</font>"
   ]
  },
  {
   "cell_type": "code",
   "execution_count": null,
   "id": "4211f99f-987e-4f5e-a249-b6c30eabc30e",
   "metadata": {},
   "outputs": [],
   "source": [
    "image_size = (180, 180)\n",
    "batch_size = 128\n",
    "\n",
    "train_ds, val_ds = keras.utils.image_dataset_from_directory(\n",
    "    \"downPetImages\",\n",
    "    validation_split=0.2,\n",
    "    subset=\"both\",\n",
    "    seed=1337,\n",
    "    image_size=image_size,\n",
    "    batch_size=batch_size,\n",
    ")"
   ]
  }
 ],
 "metadata": {
  "kernelspec": {
   "display_name": "Python 3 (ipykernel)",
   "language": "python",
   "name": "python3"
  },
  "language_info": {
   "codemirror_mode": {
    "name": "ipython",
    "version": 3
   },
   "file_extension": ".py",
   "mimetype": "text/x-python",
   "name": "python",
   "nbconvert_exporter": "python",
   "pygments_lexer": "ipython3",
   "version": "3.11.0rc1"
  }
 },
 "nbformat": 4,
 "nbformat_minor": 5
}
