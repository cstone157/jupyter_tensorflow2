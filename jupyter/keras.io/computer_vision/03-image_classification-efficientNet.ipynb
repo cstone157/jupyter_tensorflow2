{
 "cells": [
  {
   "cell_type": "markdown",
   "id": "cd194152-fbb9-465e-9c97-c6951b6af217",
   "metadata": {},
   "source": [
    "https://keras.io/examples/vision/image_classification_efficientnet_fine_tuning/"
   ]
  },
  {
   "cell_type": "markdown",
   "id": "1550d0ac-8099-4471-8fa0-b45ac259a14e",
   "metadata": {},
   "source": [
    "## Image classification via fine-tuning with EfficientNet\n",
    "\n",
    "<b>Author</b>: <a href=\"https://github.com/yixingfu\">fchollet</a> <br/>\n",
    "<b>Date created</b>: 2020/06/30 <br/>\n",
    "<b>Last modified</b>: 2023/07/10 <br/>\n",
    "<b>Description</b>: Use EfficientNet with weights pre-trained on imagenet for Stanford Dogs classification.\n",
    "\n",
    "<hr />\n",
    "\n",
    "### Introduction: what is EfficientNet\n",
    "\n",
    "EfficientNet, first introduced in <a href=\"https://arxiv.org/abs/1905.11946\">Tan and Le, 2019</a> is among the most efficient models (i.e. requiring least FLOPS for inference) that reaches State-of-the-Art accuracy on both imagenet and common image classification transfer learning tasks.\n",
    "\n",
    "The smallest base model is similar to <a href=\"https://arxiv.org/abs/1807.11626\">MnasNet</a>, which reached near-SOTA with a significantly smaller model. By introducing a heuristic way to scale the model, EfficientNet provides a family of models (B0 to B7) that represents a good combination of efficiency and accuracy on a variety of scales. Such a scaling heuristics (compound-scaling, details see <a href=\"https://arxiv.org/abs/1905.11946\">Tan and Le, 2019</a>) allows the efficiency-oriented base model (B0) to surpass models at every scale, while avoiding extensive grid-search of hyperparameters.\n",
    "\n",
    "A summary of the latest updates on the model is available at <a href=\"https://github.com/tensorflow/tpu/tree/master/models/official/efficientnet\">here</a>, where various augmentation schemes and semi-supervised learning approaches are applied to further improve the imagenet performance of the models. These extensions of the model can be used by updating weights without changing model architecture.\n",
    "\n",
    "<hr/>\n",
    "\n",
    "### B0 to B7 variants of EfficientNet\n",
    "\n",
    "<i>(This section provides some details on \"compound scaling\", and can be skipped if you're only interested in using the models)</i>\n",
    "\n",
    "Based on the <a href=\"https://arxiv.org/abs/1905.11946\">original paper</a> people may have the impression that EfficientNet is a continuous family of models created by arbitrarily choosing scaling factor in as Eq.(3) of the paper. However, choice of resolution, depth and width are also restricted by many factors:\n",
    "\n",
    "<ul>\n",
    "    <li>Resolution: Resolutions not divisible by 8, 16, etc. cause zero-padding near boundaries of some layers which wastes computational resources. This especially applies to smaller variants of the model, hence the input resolution for B0 and B1 are chosen as 224 and 240.</li>\n",
    "    <li>Depth and width: The building blocks of EfficientNet demands channel size to be multiples of 8.</li>\n",
    "    <li>Resource limit: Memory limitation may bottleneck resolution when depth and width can still increase. In such a situation, increasing depth and/or width but keep resolution can still improve performance.</li>\n",
    "</ul>\n",
    "\n",
    "As a result, the depth, width and resolution of each variant of the EfficientNet models are hand-picked and proven to produce good results, though they may be significantly off from the compound scaling formula. Therefore, the keras implementation (detailed below) only provide these 8 models, B0 to B7, instead of allowing arbitray choice of width / depth / resolution parameters.\n",
    "\n",
    "<hr/>\n",
    "\n",
    "### Keras implementation of EfficientNet\n",
    "\n",
    "An implementation of EfficientNet B0 to B7 has been shipped with Keras since v2.3. To use EfficientNetB0 for classifying 1000 classes of images from ImageNet, run:"
   ]
  },
  {
   "cell_type": "code",
   "execution_count": 1,
   "id": "e42e6c98-448f-45b1-8089-7289798f3cdd",
   "metadata": {},
   "outputs": [
    {
     "name": "stderr",
     "output_type": "stream",
     "text": [
      "2024-06-02 04:07:11.701267: I tensorflow/core/platform/cpu_feature_guard.cc:182] This TensorFlow binary is optimized to use available CPU instructions in performance-critical operations.\n",
      "To enable the following instructions: AVX2 FMA, in other operations, rebuild TensorFlow with the appropriate compiler flags.\n"
     ]
    },
    {
     "name": "stdout",
     "output_type": "stream",
     "text": [
      "Downloading data from https://storage.googleapis.com/keras-applications/efficientnetb0.h5\n",
      "21834768/21834768 [==============================] - 2s 0us/step\n"
     ]
    }
   ],
   "source": [
    "from tensorflow.keras.applications import EfficientNetB0\n",
    "model = EfficientNetB0(weights='imagenet')"
   ]
  },
  {
   "cell_type": "markdown",
   "id": "06ca76b3-d1a9-4b95-875d-43c24faac615",
   "metadata": {},
   "source": [
    "This model takes input images of shape <font color=\"red\">(224, 224, 3)</font>, and the input data should be in the range <font color=\"red\">[0, 255]</font>. Normalization is included as part of the model.\n",
    "\n",
    "Because training EfficientNet on ImageNet takes a tremendous amount of resources and several techniques that are not a part of the model architecture itself. Hence the Keras implementation by default loads pre-trained weights obtained via training with <a href=\"https://arxiv.org/abs/1805.09501\">AutoAugment</a>.\n",
    "\n",
    "For B0 to B7 base models, the input shapes are different. Here is a list of input shape expected for each model:\n",
    "\n",
    "<table width=\"100%\">\n",
    "<tr><th>Base model</th> <th>resolution</th></tr>\n",
    "<tr><td>EfficientNetB0</td><td>224</td></tr>\n",
    "<tr><td>EfficientNetB1</td><td>240</td></tr>\n",
    "<tr><td>EfficientNetB2</td><td>260</td></tr>\n",
    "<tr><td>EfficientNetB3</td><td>300</td></tr>\n",
    "<tr><td>EfficientNetB4</td><td>380</td></tr>\n",
    "<tr><td>EfficientNetB5</td><td>456</td></tr>\n",
    "<tr><td>EfficientNetB6</td><td>528</td></tr>\n",
    "<tr><td>EfficientNetB7</td><td>600</td></tr>\n",
    "</table>\n",
    "\n",
    "When the model is intended for transfer learning, the Keras implementation provides a option to remove the top layers:"
   ]
  },
  {
   "cell_type": "code",
   "execution_count": 2,
   "id": "d09444d9-21d9-456b-a770-892a79ec8684",
   "metadata": {},
   "outputs": [
    {
     "name": "stdout",
     "output_type": "stream",
     "text": [
      "Downloading data from https://storage.googleapis.com/keras-applications/efficientnetb0_notop.h5\n",
      "16705208/16705208 [==============================] - 1s 0us/step\n"
     ]
    }
   ],
   "source": [
    "model = EfficientNetB0(include_top=False, weights='imagenet')"
   ]
  },
  {
   "cell_type": "markdown",
   "id": "683cb285-2152-4f32-aa73-0fb5deb0f163",
   "metadata": {},
   "source": [
    "This option excludes the final <font color=\"red\">Dense layer</font> that turns 1280 features on the penultimate layer into prediction of the 1000 ImageNet classes. Replacing the top layer with custom layers allows using EfficientNet as a feature extractor in a transfer learning workflow.\n",
    "\n",
    "Another argument in the model constructor worth noticing is <font color=\"red\">drop_connect_rate</font> which controls the dropout rate responsible for <a href=\"https://arxiv.org/abs/1603.09382\">stochastic depth</a>. This parameter serves as a toggle for extra regularization in finetuning, but does not affect loaded weights. For example, when stronger regularization is desired, try:"
   ]
  },
  {
   "cell_type": "code",
   "execution_count": 3,
   "id": "123fda02-0486-4516-bc36-d2cf8048669f",
   "metadata": {},
   "outputs": [],
   "source": [
    "model = EfficientNetB0(weights='imagenet', drop_connect_rate=0.4)"
   ]
  },
  {
   "cell_type": "markdown",
   "id": "529a456d-20c0-43e3-ac06-05e7813094a4",
   "metadata": {},
   "source": [
    "The default value is 0.2.\n",
    "\n",
    "<hr />\n",
    "\n",
    "### Example: EfficientNetB0 for Stanford Dogs.\n",
    "\n",
    "EfficientNet is capable of a wide range of image classification tasks. This makes it a good model for transfer learning. As an end-to-end example, we will show using pre-trained EfficientNetB0 on <a href=\"http://vision.stanford.edu/aditya86/ImageNetDogs/main.html\">Stanford Dogs</a> dataset.\n",
    "\n",
    "<hr />\n",
    "\n",
    "### Setup and data loading"
   ]
  },
  {
   "cell_type": "code",
   "execution_count": 5,
   "id": "c04adc45-dd5a-40ef-ba9a-30737e6e6c6b",
   "metadata": {},
   "outputs": [],
   "source": [
    "import numpy as np\n",
    "import tensorflow_datasets as tfds\n",
    "import tensorflow as tf  # For tf.data\n",
    "import matplotlib.pyplot as plt\n",
    "import keras\n",
    "from keras import layers\n",
    "from keras.applications import EfficientNetB0\n",
    "\n",
    "# IMG_SIZE is determined by EfficientNet model choice\n",
    "IMG_SIZE = 224\n",
    "BATCH_SIZE = 64"
   ]
  },
  {
   "cell_type": "markdown",
   "id": "5e7196b5-5066-47b3-8a2f-8e0bafaadb8f",
   "metadata": {},
   "source": [
    "### Loading data\n",
    "\n",
    "Here we load data from <a href=\"https://www.tensorflow.org/datasets\">tensorflow_datasets</a> (hereafter TFDS). Stanford Dogs dataset is provided in TFDS as <a href=\"https://www.tensorflow.org/datasets/catalog/stanford_dogs\">stanford_dogs</a>. It features 20,580 images that belong to 120 classes of dog breeds (12,000 for training and 8,580 for testing).\n",
    "\n",
    "By simply changing <font color=\"red\">dataset_name</font> below, you may also try this notebook for other datasets in TFDS such as <a href=\"https://www.tensorflow.org/datasets/catalog/cifar10\">cifar10</a>, <a href=\"https://www.tensorflow.org/datasets/catalog/cifar100\">cifar100</a>, <a href=\"https://www.tensorflow.org/datasets/catalog/food101\">food101</a>, etc. When the images are much smaller than the size of EfficientNet input, we can simply upsample the input images. It has been shown in <a href=\"https://arxiv.org/abs/1905.11946\">Tan and Le, 2019</a> that transfer learning result is better for increased resolution even if input images remain small."
   ]
  },
  {
   "cell_type": "code",
   "execution_count": null,
   "id": "a7fdd530-9a31-4812-9639-302721355755",
   "metadata": {},
   "outputs": [
    {
     "name": "stderr",
     "output_type": "stream",
     "text": [
      "2024-06-02 04:21:44.429108: W external/local_tsl/tsl/platform/cloud/google_auth_provider.cc:184] All attempts to get a Google authentication bearer token failed, returning an empty token. Retrieving token from files failed with \"NOT_FOUND: Could not locate the credentials file.\". Retrieving token from GCE failed with \"FAILED_PRECONDITION: Error executing an HTTP request: libcurl code 6 meaning 'Couldn't resolve host name', error details: Could not resolve host: metadata.google.internal\".\n"
     ]
    },
    {
     "name": "stdout",
     "output_type": "stream",
     "text": [
      "\u001b[1mDownloading and preparing dataset 778.12 MiB (download: 778.12 MiB, generated: Unknown size, total: 778.12 MiB) to /root/tensorflow_datasets/stanford_dogs/0.2.0...\u001b[0m\n"
     ]
    },
    {
     "data": {
      "application/vnd.jupyter.widget-view+json": {
       "model_id": "d8972208375d49c6aab55fccc62ce88e",
       "version_major": 2,
       "version_minor": 0
      },
      "text/plain": [
       "Dl Completed...: 0 url [00:00, ? url/s]"
      ]
     },
     "metadata": {},
     "output_type": "display_data"
    },
    {
     "data": {
      "application/vnd.jupyter.widget-view+json": {
       "model_id": "ab27a83bba8a4e9ba22add8adeb1d9db",
       "version_major": 2,
       "version_minor": 0
      },
      "text/plain": [
       "Dl Size...: 0 MiB [00:00, ? MiB/s]"
      ]
     },
     "metadata": {},
     "output_type": "display_data"
    }
   ],
   "source": [
    "dataset_name = \"stanford_dogs\"\n",
    "(ds_train, ds_test), ds_info = tfds.load(\n",
    "    dataset_name, split=[\"train\", \"test\"], with_info=True, as_supervised=True\n",
    ")\n",
    "NUM_CLASSES = ds_info.features[\"label\"].num_classes"
   ]
  },
  {
   "cell_type": "markdown",
   "id": "1149cf3f-efc7-4ea9-bf2e-5660be529b9d",
   "metadata": {},
   "source": [
    "When the dataset include images with various size, we need to resize them into a shared size. The Stanford Dogs dataset includes only images at least 200x200 pixels in size. Here we resize the images to the input size needed for EfficientNet."
   ]
  },
  {
   "cell_type": "code",
   "execution_count": null,
   "id": "96f9b4de-3d1d-4585-9bac-da903a0ea6c7",
   "metadata": {},
   "outputs": [],
   "source": [
    "size = (IMG_SIZE, IMG_SIZE)\n",
    "ds_train = ds_train.map(lambda image, label: (tf.image.resize(image, size), label))\n",
    "ds_test = ds_test.map(lambda image, label: (tf.image.resize(image, size), label))"
   ]
  },
  {
   "cell_type": "markdown",
   "id": "d9046006-aa68-4c02-8b2c-553ed889b3f1",
   "metadata": {},
   "source": [
    "### Visualizing the data\n",
    "\n",
    "The following code shows the first 9 images with their labels."
   ]
  },
  {
   "cell_type": "code",
   "execution_count": null,
   "id": "3cceb061-0c05-41de-b76b-e509b6464903",
   "metadata": {},
   "outputs": [],
   "source": [
    "def format_label(label):\n",
    "    string_label = label_info.int2str(label)\n",
    "    return string_label.split(\"-\")[1]\n",
    "\n",
    "\n",
    "label_info = ds_info.features[\"label\"]\n",
    "for i, (image, label) in enumerate(ds_train.take(9)):\n",
    "    ax = plt.subplot(3, 3, i + 1)\n",
    "    plt.imshow(image.numpy().astype(\"uint8\"))\n",
    "    plt.title(\"{}\".format(format_label(label)))\n",
    "    plt.axis(\"off\")"
   ]
  },
  {
   "cell_type": "markdown",
   "id": "13703f57-812b-4711-9422-0e5f56992ca1",
   "metadata": {},
   "source": [
    "### Data augmentation\n",
    "\n",
    "We can use the preprocessing layers APIs for image augmentation."
   ]
  },
  {
   "cell_type": "code",
   "execution_count": null,
   "id": "bc2d5ff6-104b-421e-8929-9411e80c516f",
   "metadata": {},
   "outputs": [],
   "source": [
    "img_augmentation_layers = [\n",
    "    layers.RandomRotation(factor=0.15),\n",
    "    layers.RandomTranslation(height_factor=0.1, width_factor=0.1),\n",
    "    layers.RandomFlip(),\n",
    "    layers.RandomContrast(factor=0.1),\n",
    "]\n",
    "\n",
    "\n",
    "def img_augmentation(images):\n",
    "    for layer in img_augmentation_layers:\n",
    "        images = layer(images)\n",
    "    return images"
   ]
  },
  {
   "cell_type": "markdown",
   "id": "03dccb28-0f11-4cc6-92ab-19f4f38fce5b",
   "metadata": {},
   "source": [
    "This <font color=\"red\">Sequential</font> model object can be used both as a part of the model we later build, and as a function to preprocess data before feeding into the model. Using them as function makes it easy to visualize the augmented images. Here we plot 9 examples of augmentation result of a given figure."
   ]
  },
  {
   "cell_type": "code",
   "execution_count": null,
   "id": "9e81756f-697a-48a2-a6bb-2385d4d126e5",
   "metadata": {},
   "outputs": [],
   "source": [
    "for image, label in ds_train.take(1):\n",
    "    for i in range(9):\n",
    "        ax = plt.subplot(3, 3, i + 1)\n",
    "        aug_img = img_augmentation(np.expand_dims(image.numpy(), axis=0))\n",
    "        aug_img = np.array(aug_img)\n",
    "        plt.imshow(aug_img[0].astype(\"uint8\"))\n",
    "        plt.title(\"{}\".format(format_label(label)))\n",
    "        plt.axis(\"off\")"
   ]
  },
  {
   "cell_type": "markdown",
   "id": "5ee21acd-5fe7-42dd-b0e1-9553e87414ea",
   "metadata": {},
   "source": [
    "### Prepare inputs\n",
    "\n",
    "Once we verify the input data and augmentation are working correctly, we prepare dataset for training. The input data are resized to uniform <font color=\"red\">IMG_SIZE</font>. The labels are put into one-hot (a.k.a. categorical) encoding. The dataset is batched.\n",
    "\n",
    "Note: <font color=\"red\">prefetch</font> and <font color=\"red\">AUTOTUNE</font> may in some situation improve performance, but depends on environment and the specific dataset used. See this <a href=\"https://www.tensorflow.org/guide/data_performance\">guide</a> for more information on data pipeline performance."
   ]
  },
  {
   "cell_type": "code",
   "execution_count": null,
   "id": "e1038092-a1ef-4408-aee7-1a5e6c0dd046",
   "metadata": {},
   "outputs": [],
   "source": [
    "# One-hot / categorical encoding\n",
    "def input_preprocess_train(image, label):\n",
    "    image = img_augmentation(image)\n",
    "    label = tf.one_hot(label, NUM_CLASSES)\n",
    "    return image, label\n",
    "\n",
    "\n",
    "def input_preprocess_test(image, label):\n",
    "    label = tf.one_hot(label, NUM_CLASSES)\n",
    "    return image, label\n",
    "\n",
    "\n",
    "ds_train = ds_train.map(input_preprocess_train, num_parallel_calls=tf.data.AUTOTUNE)\n",
    "ds_train = ds_train.batch(batch_size=BATCH_SIZE, drop_remainder=True)\n",
    "ds_train = ds_train.prefetch(tf.data.AUTOTUNE)\n",
    "\n",
    "ds_test = ds_test.map(input_preprocess_test, num_parallel_calls=tf.data.AUTOTUNE)\n",
    "ds_test = ds_test.batch(batch_size=BATCH_SIZE, drop_remainder=True)"
   ]
  },
  {
   "cell_type": "markdown",
   "id": "5c46cc8f-42cb-4869-85fb-29f106c00861",
   "metadata": {},
   "source": [
    "<hr />\n",
    "\n",
    "### Training a model from scratch\n",
    "\n",
    "We build an EfficientNetB0 with 120 output classes, that is initialized from scratch:\n",
    "\n",
    "Note: the accuracy will increase very slowly and may overfit."
   ]
  },
  {
   "cell_type": "code",
   "execution_count": null,
   "id": "1edf7786-2f12-48b2-b821-2c41b96d0a57",
   "metadata": {},
   "outputs": [],
   "source": [
    "model = EfficientNetB0(\n",
    "    include_top=True,\n",
    "    weights=None,\n",
    "    classes=NUM_CLASSES,\n",
    "    input_shape=(IMG_SIZE, IMG_SIZE, 3),\n",
    ")\n",
    "model.compile(optimizer=\"adam\", loss=\"categorical_crossentropy\", metrics=[\"accuracy\"])\n",
    "\n",
    "model.summary()\n",
    "\n",
    "epochs = 40  # @param {type: \"slider\", min:10, max:100}\n",
    "hist = model.fit(ds_train, epochs=epochs, validation_data=ds_test)"
   ]
  },
  {
   "cell_type": "markdown",
   "id": "a2fc4d0c-c9c0-44f8-a83b-285f6705f094",
   "metadata": {},
   "source": [
    "Training the model is relatively fast. This might make it sounds easy to simply train EfficientNet on any dataset wanted from scratch. However, training EfficientNet on smaller datasets, especially those with lower resolution like CIFAR-100, faces the significant challenge of overfitting.\n",
    "\n",
    "Hence training from scratch requires very careful choice of hyperparameters and is difficult to find suitable regularization. It would also be much more demanding in resources. Plotting the training and validation accuracy makes it clear that validation accuracy stagnates at a low value."
   ]
  },
  {
   "cell_type": "code",
   "execution_count": null,
   "id": "54386498-ce10-48dc-93bd-1f2fc0851fd9",
   "metadata": {},
   "outputs": [],
   "source": [
    "import matplotlib.pyplot as plt\n",
    "\n",
    "\n",
    "def plot_hist(hist):\n",
    "    plt.plot(hist.history[\"accuracy\"])\n",
    "    plt.plot(hist.history[\"val_accuracy\"])\n",
    "    plt.title(\"model accuracy\")\n",
    "    plt.ylabel(\"accuracy\")\n",
    "    plt.xlabel(\"epoch\")\n",
    "    plt.legend([\"train\", \"validation\"], loc=\"upper left\")\n",
    "    plt.show()\n",
    "\n",
    "\n",
    "plot_hist(hist)"
   ]
  },
  {
   "cell_type": "markdown",
   "id": "c9e5b494-d659-4d12-b7ae-c0f9888fc7ce",
   "metadata": {},
   "source": [
    "<hr />\n",
    "\n",
    "Transfer learning from pre-trained weights\n",
    "\n",
    "Here we initialize the model with pre-trained ImageNet weights, and we fine-tune it on our own dataset."
   ]
  },
  {
   "cell_type": "code",
   "execution_count": null,
   "id": "7205ab64-ef66-44c2-a277-54440da95f79",
   "metadata": {},
   "outputs": [],
   "source": [
    "def build_model(num_classes):\n",
    "    inputs = layers.Input(shape=(IMG_SIZE, IMG_SIZE, 3))\n",
    "    model = EfficientNetB0(include_top=False, input_tensor=inputs, weights=\"imagenet\")\n",
    "\n",
    "    # Freeze the pretrained weights\n",
    "    model.trainable = False\n",
    "\n",
    "    # Rebuild top\n",
    "    x = layers.GlobalAveragePooling2D(name=\"avg_pool\")(model.output)\n",
    "    x = layers.BatchNormalization()(x)\n",
    "\n",
    "    top_dropout_rate = 0.2\n",
    "    x = layers.Dropout(top_dropout_rate, name=\"top_dropout\")(x)\n",
    "    outputs = layers.Dense(num_classes, activation=\"softmax\", name=\"pred\")(x)\n",
    "\n",
    "    # Compile\n",
    "    model = keras.Model(inputs, outputs, name=\"EfficientNet\")\n",
    "    optimizer = keras.optimizers.Adam(learning_rate=1e-2)\n",
    "    model.compile(\n",
    "        optimizer=optimizer, loss=\"categorical_crossentropy\", metrics=[\"accuracy\"]\n",
    "    )\n",
    "    return model"
   ]
  },
  {
   "cell_type": "markdown",
   "id": "4014f10a-fc45-45f7-bd0c-388f862d4a81",
   "metadata": {},
   "source": [
    "The first step to transfer learning is to freeze all layers and train only the top layers. For this step, a relatively large learning rate (1e-2) can be used. Note that validation accuracy and loss will usually be better than training accuracy and loss. This is because the regularization is strong, which only suppresses training-time metrics.\n",
    "\n",
    "Note that the convergence may take up to 50 epochs depending on choice of learning rate. If image augmentation layers were not applied, the validation accuracy may only reach ~60%."
   ]
  },
  {
   "cell_type": "code",
   "execution_count": null,
   "id": "f37a7999-673b-49e5-92d5-14f3eb45a3e8",
   "metadata": {},
   "outputs": [],
   "source": [
    "model = build_model(num_classes=NUM_CLASSES)\n",
    "\n",
    "epochs = 25  # @param {type: \"slider\", min:8, max:80}\n",
    "hist = model.fit(ds_train, epochs=epochs, validation_data=ds_test)\n",
    "plot_hist(hist)"
   ]
  },
  {
   "cell_type": "markdown",
   "id": "b6dbfa84-b025-43f6-b92a-250352b09199",
   "metadata": {},
   "source": [
    "The second step is to unfreeze a number of layers and fit the model using smaller learning rate. In this example we show unfreezing all layers, but depending on specific dataset it may be desireble to only unfreeze a fraction of all layers.\n",
    "\n",
    "When the feature extraction with pretrained model works good enough, this step would give a very limited gain on validation accuracy. In our case we only see a small improvement, as ImageNet pretraining already exposed the model to a good amount of dogs.\n",
    "\n",
    "On the other hand, when we use pretrained weights on a dataset that is more different from ImageNet, this fine-tuning step can be crucial as the feature extractor also needs to be adjusted by a considerable amount. Such a situation can be demonstrated if choosing CIFAR-100 dataset instead, where fine-tuning boosts validation accuracy by about 10% to pass 80% on <font color=\"red\">EfficientNetB0</font>.\n",
    "\n",
    "A side note on freezing/unfreezing models: setting <font color=\"red\">trainable</font> of a <font color=\"red\">Model</font> will simultaneously set all layers belonging to the <font color=\"red\">Model</font> to the same <font color=\"red\">trainable</font> attribute. Each layer is trainable only if both the layer itself and the model containing it are trainable. Hence when we need to partially freeze/unfreeze a model, we need to make sure the <font color=\"red\">trainable</font> attribute of the model is set to <font color=\"red\">True</font>."
   ]
  },
  {
   "cell_type": "code",
   "execution_count": null,
   "id": "253d83fa-a45d-4d37-ac91-00b92f1f4c03",
   "metadata": {},
   "outputs": [],
   "source": [
    "def unfreeze_model(model):\n",
    "    # We unfreeze the top 20 layers while leaving BatchNorm layers frozen\n",
    "    for layer in model.layers[-20:]:\n",
    "        if not isinstance(layer, layers.BatchNormalization):\n",
    "            layer.trainable = True\n",
    "\n",
    "    optimizer = keras.optimizers.Adam(learning_rate=1e-5)\n",
    "    model.compile(\n",
    "        optimizer=optimizer, loss=\"categorical_crossentropy\", metrics=[\"accuracy\"]\n",
    "    )\n",
    "\n",
    "\n",
    "unfreeze_model(model)\n",
    "\n",
    "epochs = 4  # @param {type: \"slider\", min:4, max:10}\n",
    "hist = model.fit(ds_train, epochs=epochs, validation_data=ds_test)\n",
    "plot_hist(hist)"
   ]
  },
  {
   "cell_type": "markdown",
   "id": "97146efc-9c0a-488b-9f5e-929bf353795e",
   "metadata": {},
   "source": [
    "### Tips for fine tuning EfficientNet\n",
    "\n",
    "On unfreezing layers:\n",
    "\n",
    "<ul>\n",
    "    <li>The BatchNormalization layers need to be kept frozen (more details). If they are also turned to trainable, the first epoch after unfreezing will significantly reduce accuracy.</li>\n",
    "    <li>In some cases it may be beneficial to open up only a portion of layers instead of unfreezing all. This will make fine tuning much faster when going to larger models like B7.</li>\n",
    "    <li>Each block needs to be all turned on or off. This is because the architecture includes a shortcut from the first layer to the last layer for each block. Not respecting blocks also significantly harms the final performance.</li>\n",
    "</ul>\n",
    "\n",
    "Some other tips for utilizing EfficientNet:\n",
    "\n",
    "<ul>\n",
    "    <li>Larger variants of EfficientNet do not guarantee improved performance, especially for tasks with less data or fewer classes. In such a case, the larger variant of EfficientNet chosen, the harder it is to tune hyperparameters.</li>\n",
    "    <li>EMA (Exponential Moving Average) is very helpful in training EfficientNet from scratch, but not so much for transfer learning.</li>\n",
    "    <li>Do not use the RMSprop setup as in the original paper for transfer learning. The momentum and learning rate are too high for transfer learning. It will easily corrupt the pretrained weight and blow up the loss. A quick check is to see if loss (as categorical cross entropy) is getting significantly larger than log(NUM_CLASSES) after the same epoch. If so, the initial learning rate/momentum is too high.</li>\n",
    "    <li>Smaller batch size benefit validation accuracy, possibly due to effectively providing regularization.</li>\n",
    "</ul>"
   ]
  },
  {
   "cell_type": "code",
   "execution_count": null,
   "id": "0048b63a-cce4-497b-a5f0-9562484f8f63",
   "metadata": {},
   "outputs": [],
   "source": []
  }
 ],
 "metadata": {
  "kernelspec": {
   "display_name": "Python 3 (ipykernel)",
   "language": "python",
   "name": "python3"
  },
  "language_info": {
   "codemirror_mode": {
    "name": "ipython",
    "version": 3
   },
   "file_extension": ".py",
   "mimetype": "text/x-python",
   "name": "python",
   "nbconvert_exporter": "python",
   "pygments_lexer": "ipython3",
   "version": "3.11.0rc1"
  }
 },
 "nbformat": 4,
 "nbformat_minor": 5
}
