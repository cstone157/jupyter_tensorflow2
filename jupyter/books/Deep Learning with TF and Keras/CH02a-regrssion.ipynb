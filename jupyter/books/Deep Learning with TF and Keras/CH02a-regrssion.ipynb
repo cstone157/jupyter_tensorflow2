{
 "cells": [
  {
   "cell_type": "markdown",
   "id": "8d9a9f1f-f822-424e-9a14-4d129ada3b04",
   "metadata": {},
   "source": [
    "## What is regression\n",
    "\n",
    "- Regression is used to make prediction from data by learning about the relationship between a given set of dependent and independent variables.\n",
    "\n",
    "### Prediction using linear regression\n",
    "\n",
    "- <b>Linear regression</b> is one of the most widely known modeling techniques.\n",
    "- <b>Simple linear regression</b> is an example of linear regression with only one independent variable and on dependent variable."
   ]
  }
 ],
 "metadata": {
  "kernelspec": {
   "display_name": "Python 3 (ipykernel)",
   "language": "python",
   "name": "python3"
  },
  "language_info": {
   "codemirror_mode": {
    "name": "ipython",
    "version": 3
   },
   "file_extension": ".py",
   "mimetype": "text/x-python",
   "name": "python",
   "nbconvert_exporter": "python",
   "pygments_lexer": "ipython3",
   "version": "3.11.0rc1"
  }
 },
 "nbformat": 4,
 "nbformat_minor": 5
}
