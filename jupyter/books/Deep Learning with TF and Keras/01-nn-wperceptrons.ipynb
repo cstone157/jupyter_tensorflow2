{
 "cells": [
  {
   "cell_type": "markdown",
   "id": "2e4236e5-90c8-4221-b30a-3476ec4d689d",
   "metadata": {},
   "source": [
    "## Example of TensorFlow Code\n",
    "\n",
    "The first example is a sequential model, which is a linear pipelines of neural network layers."
   ]
  },
  {
   "cell_type": "code",
   "execution_count": 5,
   "id": "8f03307b-43e9-4f06-bf2d-566ac12ff100",
   "metadata": {},
   "outputs": [],
   "source": [
    "import tensorflow as tf\n",
    "from tensorflow import keras\n",
    "\n",
    "NB_CLASSES = 10\n",
    "RESHAPED = 784\n",
    "\n",
    "model = tf.keras.models.Sequential()\n",
    "model.add(keras.layers.Dense(NB_CLASSES,\n",
    "                             input_shape=(RESHAPED,), \n",
    "                             kernel_initializer='zeros', # how do we want to initialize the perceptros.\n",
    "                                                         # zeros, initalize as zero\n",
    "                                                         # random_uniform, uniform randomized small values in the range(-0.5, 0.5)\n",
    "                                                         # random_normal, initialized according to gaussian distribution, with \n",
    "                                                         #     0 as the mean, and 0.05 as the standard deviation\n",
    "                             name='dense_layer',         # all neurons in a layer are connection to all neurons in the previous layer\n",
    "                             activation='softmax'))"
   ]
  },
  {
   "cell_type": "markdown",
   "id": "57620016-4dc7-40f0-b6b2-d4a1a3478708",
   "metadata": {},
   "source": [
    "### Defining a simple neural net in TensorFlow\n",
    "\n",
    "<ul>\n",
    "    <li>epoch - how long the training should last</li>\n",
    "    <li>batch_size - is the number of sample you feed a network at a time</li>\n",
    "    <li>validation sample - amount of data reservered for checking if our network is valid</li>\n",
    "</ul>\n",
    "\n",
    "#### One hot encoding - \n",
    "encode the data into categorical format, using an array of possible categories"
   ]
  },
  {
   "cell_type": "code",
   "execution_count": 9,
   "id": "5452293c-8e98-46a7-b22c-9362c38a9f5c",
   "metadata": {},
   "outputs": [
    {
     "name": "stdout",
     "output_type": "stream",
     "text": [
      "60000 train samples\n",
      "10000 test samples\n"
     ]
    }
   ],
   "source": [
    "import tensorflow as tf\n",
    "import numpy as np\n",
    "from tensorflow import keras\n",
    "\n",
    "# Network and training parameters\n",
    "EPOCHS = 200\n",
    "BATCH_SIZE = 128\n",
    "VERBOSE = 1\n",
    "NB_CLASSES = 10 # number of outputs = in this chase the number of digits\n",
    "VALIDATION_SLIT = 0.2 # how much training data is reserved for validation\n",
    "\n",
    "# Load the MNIST dataset\n",
    "# Labels have one-hot representation, automatically applied\n",
    "mnist = keras.datasets.mnist\n",
    "\n",
    "(X_train, Y_train), (X_test, Y_test) = mnist.load_data()\n",
    "\n",
    "# X_train is 60000 rows of 28x28 values, resahe it to 600000 x 784\n",
    "RESHAPED = 784\n",
    "\n",
    "X_train = X_train.reshape(60000, RESHAPED)\n",
    "X_test = X_test.reshape(10000, RESHAPED)\n",
    "X_train = X_train.astype('float32')\n",
    "X_test = X_test.astype('float32')\n",
    "\n",
    "# Normalize inputs to be within [0,1]\n",
    "X_train /= 255\n",
    "X_test /= 255\n",
    "print(X_train.shape[0], \"train samples\")\n",
    "print(X_test.shape[0], \"test samples\")\n",
    "\n",
    "# One-hot representation of the labels.\n",
    "Y_train = tf.keras.utils.to_categorical(Y_train, NB_CLASSES)\n",
    "Y_test = tf.keras.utils.to_categorical(Y_test, NB_CLASSES)"
   ]
  },
  {
   "cell_type": "code",
   "execution_count": null,
   "id": "e73fe8e1-7427-429f-8fe3-80a155b6ca55",
   "metadata": {},
   "outputs": [],
   "source": []
  }
 ],
 "metadata": {
  "kernelspec": {
   "display_name": "Python 3 (ipykernel)",
   "language": "python",
   "name": "python3"
  },
  "language_info": {
   "codemirror_mode": {
    "name": "ipython",
    "version": 3
   },
   "file_extension": ".py",
   "mimetype": "text/x-python",
   "name": "python",
   "nbconvert_exporter": "python",
   "pygments_lexer": "ipython3",
   "version": "3.11.0rc1"
  }
 },
 "nbformat": 4,
 "nbformat_minor": 5
}
