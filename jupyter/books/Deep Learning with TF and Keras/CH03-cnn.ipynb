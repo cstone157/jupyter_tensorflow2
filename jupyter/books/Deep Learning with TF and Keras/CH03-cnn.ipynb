{
 "cells": [
  {
   "cell_type": "markdown",
   "id": "fa3b86dd-4fb3-4307-babb-387b04400397",
   "metadata": {},
   "source": [
    "# Convolutional Neural Networks (CNN)\n",
    "\n",
    "- Convolutional neural networks leverage spatial information, making them good for classifying images.\n",
    "\n",
    "## Deep Convolutional Neural networks\n",
    "\n",
    "- Deep Convolutional Neural Network (DCNN) consists of man neural network layers.\n",
    "\n",
    "### local receptive fields\n",
    "\n",
    "- To perserve spatial information of an image, it is often convenient to represent each image with a matrix of pixels.\n",
    "- Ti accinokusg a sunoke wat ti accinokusg us ti ebcide tge kycal structure into a submatrix of adjacent input neurons.\n",
    "\n",
    "### Shared weights and bias\n",
    "### A mathematical example\n",
    "### ConvNets in TensorFlow\n",
    "\n",
    "- Add convolutional layer with 32 parallel features and filter"
   ]
  },
  {
   "cell_type": "code",
   "execution_count": 1,
   "id": "46f723b9-9eca-4996-9c6d-7848381c9d99",
   "metadata": {
    "scrolled": true
   },
   "outputs": [
    {
     "name": "stderr",
     "output_type": "stream",
     "text": [
      "2024-07-02 02:35:23.249993: E external/local_xla/xla/stream_executor/cuda/cuda_dnn.cc:9261] Unable to register cuDNN factory: Attempting to register factory for plugin cuDNN when one has already been registered\n",
      "2024-07-02 02:35:23.250018: E external/local_xla/xla/stream_executor/cuda/cuda_fft.cc:607] Unable to register cuFFT factory: Attempting to register factory for plugin cuFFT when one has already been registered\n",
      "2024-07-02 02:35:23.250714: E external/local_xla/xla/stream_executor/cuda/cuda_blas.cc:1515] Unable to register cuBLAS factory: Attempting to register factory for plugin cuBLAS when one has already been registered\n",
      "2024-07-02 02:35:23.256077: I tensorflow/core/platform/cpu_feature_guard.cc:182] This TensorFlow binary is optimized to use available CPU instructions in performance-critical operations.\n",
      "To enable the following instructions: AVX2 FMA, in other operations, rebuild TensorFlow with the appropriate compiler flags.\n",
      "2024-07-02 02:35:24.955112: E external/local_xla/xla/stream_executor/cuda/cuda_driver.cc:274] failed call to cuInit: CUDA_ERROR_COMPAT_NOT_SUPPORTED_ON_DEVICE: forward compatibility was attempted on non supported HW\n",
      "2024-07-02 02:35:24.955136: I external/local_xla/xla/stream_executor/cuda/cuda_diagnostics.cc:129] retrieving CUDA diagnostic information for host: 6c059fea88aa\n",
      "2024-07-02 02:35:24.955142: I external/local_xla/xla/stream_executor/cuda/cuda_diagnostics.cc:136] hostname: 6c059fea88aa\n",
      "2024-07-02 02:35:24.955177: I external/local_xla/xla/stream_executor/cuda/cuda_diagnostics.cc:159] libcuda reported version is: 545.23.6\n",
      "2024-07-02 02:35:24.955191: I external/local_xla/xla/stream_executor/cuda/cuda_diagnostics.cc:163] kernel reported version is: 535.183.1\n",
      "2024-07-02 02:35:24.955195: E external/local_xla/xla/stream_executor/cuda/cuda_diagnostics.cc:244] kernel version 535.183.1 does not match DSO version 545.23.6 -- cannot find working devices in this configuration\n"
     ]
    }
   ],
   "source": [
    "import tensorflow as tf\n",
    "from tensorflow.keras import datasets, layers, models\n",
    "\n",
    "model = models.Sequential()\n",
    "model.add(layers.Conv2D(32, (3, 3), activation='relu', input_shape=(28, 28, 1)))"
   ]
  },
  {
   "cell_type": "markdown",
   "id": "c689d878-1058-41c1-b84b-3af1d3de6912",
   "metadata": {},
   "source": [
    "### Pooling layers\n",
    "- Summarize the output of a feature map.\n",
    "\n",
    "### Max pooling\n",
    "- Max pooling operator, it outputs the maximum activation as observed in the region"
   ]
  },
  {
   "cell_type": "code",
   "execution_count": 3,
   "id": "a01698d2-da58-483d-9a24-33fab51b99ea",
   "metadata": {},
   "outputs": [],
   "source": [
    "model.add(layers.MaxPooling2D((2, 2)))"
   ]
  },
  {
   "cell_type": "markdown",
   "id": "d072963e-5144-4795-9877-8fca1a5ce843",
   "metadata": {},
   "source": [
    "### Average pooling\n",
    "- Another choice is to aggregate the region into the average of the values.\n",
    "\n",
    "### An example of DCNN: LeNet\n",
    "- Another example of the MNIST dataset, but using convolution.  LeNet has lower layers alternating convolution operations with max-pooling operations."
   ]
  },
  {
   "cell_type": "code",
   "execution_count": 8,
   "id": "04c99108-89df-4308-8f14-e6d1d6b51530",
   "metadata": {},
   "outputs": [],
   "source": [
    "## to define a LeNet, we will use layers.Convolution2D.\n",
    "##     where the first parameter is the number of output filters, and the next\n",
    "##     tuble is the extension for each filter.\n",
    "\n",
    "import tensorflow as tf\n",
    "from tensorflow.keras import datasets, layers, models, optimizers\n",
    "\n",
    "# network and training\n",
    "EPOCHS = 5\n",
    "BATCH_SIZE = 128\n",
    "VERBOSE = 1\n",
    "OPTIMIZER = tf.keras.optimizers.Adam()\n",
    "VALIDATION_SPLIT = 0.90\n",
    "\n",
    "IMG_ROWS, IMG_COLS = 28, 28 # input image dimensions\n",
    "INPUT_SHAPE = (IMG_ROWS, IMG_COLS, 1)\n",
    "NB_CLASSES = 10 # number of output = number of digits\n",
    "\n",
    "## Define the LeNet network\n",
    "class LeNet:\n",
    "    def build(input_shape, classes):\n",
    "        model = models.Sequential()\n",
    "    \n",
    "        ## Max pooling implements a sliding window, over the layer and takes maximum\n",
    "        # CONV => RELU => POOL\n",
    "        model.add(layers.Convolution2D(50, (5, 5), activation='relu',\n",
    "                                      input_shape=input_shape))\n",
    "        model.add(layers.MaxPooling2D(pool_size=(2, 2), strides=(2, 2)))\n",
    "    \n",
    "        ##Add second convolution stage\n",
    "        # CONV => RELU => POOL\n",
    "        model.add(layers.Convolution2D(50, (5, 5), activation='relu'))\n",
    "        model.add(layers.MaxPooling2D(pool_size=(2, 2), strides=(2, 2)))\n",
    "    \n",
    "        ## Flatten and run a standard dense network\n",
    "        # Flatten => RELU Layers\n",
    "        model.add(layers.Flatten())\n",
    "        model.add(layers.Dense(500, activation='relu'))\n",
    "        # a softmax classifier\n",
    "        model.add(layers.Dense(classes, activation='softmax'))\n",
    "        return model    "
   ]
  },
  {
   "cell_type": "code",
   "execution_count": 10,
   "id": "261f319f-cb01-4e46-81b3-adbad6eb6e64",
   "metadata": {},
   "outputs": [
    {
     "name": "stdout",
     "output_type": "stream",
     "text": [
      "Model: \"sequential_3\"\n",
      "_________________________________________________________________\n",
      " Layer (type)                Output Shape              Param #   \n",
      "=================================================================\n",
      " conv2d_4 (Conv2D)           (None, 24, 24, 50)        1300      \n",
      "                                                                 \n",
      " max_pooling2d_5 (MaxPoolin  (None, 12, 12, 50)        0         \n",
      " g2D)                                                            \n",
      "                                                                 \n",
      " conv2d_5 (Conv2D)           (None, 8, 8, 50)          62550     \n",
      "                                                                 \n",
      " max_pooling2d_6 (MaxPoolin  (None, 4, 4, 50)          0         \n",
      " g2D)                                                            \n",
      "                                                                 \n",
      " flatten_1 (Flatten)         (None, 800)               0         \n",
      "                                                                 \n",
      " dense_2 (Dense)             (None, 500)               400500    \n",
      "                                                                 \n",
      " dense_3 (Dense)             (None, 10)                5010      \n",
      "                                                                 \n",
      "=================================================================\n",
      "Total params: 469360 (1.79 MB)\n",
      "Trainable params: 469360 (1.79 MB)\n",
      "Non-trainable params: 0 (0.00 Byte)\n",
      "_________________________________________________________________\n",
      "Epoch 1/5\n",
      "47/47 [==============================] - 6s 125ms/step - loss: 0.7120 - accuracy: 0.7890 - val_loss: 0.2874 - val_accuracy: 0.9121\n",
      "Epoch 2/5\n",
      "47/47 [==============================] - 6s 125ms/step - loss: 0.1881 - accuracy: 0.9457 - val_loss: 0.1727 - val_accuracy: 0.9443\n",
      "Epoch 3/5\n",
      "47/47 [==============================] - 5s 118ms/step - loss: 0.1168 - accuracy: 0.9663 - val_loss: 0.1446 - val_accuracy: 0.9558\n",
      "Epoch 4/5\n",
      "47/47 [==============================] - 6s 125ms/step - loss: 0.0820 - accuracy: 0.9760 - val_loss: 0.1192 - val_accuracy: 0.9635\n",
      "Epoch 5/5\n",
      "47/47 [==============================] - 6s 134ms/step - loss: 0.0531 - accuracy: 0.9850 - val_loss: 0.0972 - val_accuracy: 0.9701\n",
      "313/313 [==============================] - 2s 5ms/step - loss: 0.0770 - accuracy: 0.9752\n",
      "\n",
      "Test score:  0.07698854058980942\n",
      "Test accuracy: 0.9751999974250793\n"
     ]
    }
   ],
   "source": [
    "## Train the network\n",
    "(X_train, y_train), (X_test, y_test) = datasets.mnist.load_data()\n",
    "\n",
    "# reshape\n",
    "X_train = X_train.reshape((60000, 28, 28, 1))\n",
    "X_test = X_test.reshape((10000, 28, 28, 1))\n",
    "\n",
    "# normalize\n",
    "X_train, X_test = X_train / 255.0, X_test / 255.0\n",
    "\n",
    "# cast\n",
    "X_train = X_train.astype('float32')\n",
    "X_test = X_test.astype('float32')\n",
    "\n",
    "# convert class vectors to binary class matices\n",
    "y_train = tf.keras.utils.to_categorical(y_train, NB_CLASSES)\n",
    "y_test = tf.keras.utils.to_categorical(y_test, NB_CLASSES)\n",
    "\n",
    "# intalize the optimizer and model\n",
    "model = LeNet.build(input_shape=INPUT_SHAPE, classes=NB_CLASSES)\n",
    "model.compile(loss=\"categorical_crossentropy\", optimizer=OPTIMIZER,\n",
    "              metrics=[\"accuracy\"])\n",
    "model.summary()\n",
    "\n",
    "# I've had the damndest time getting tensorboard to work, skipping\n",
    "#callbacks = [\n",
    "#    # Write TensorBoard logs to './logs' directory\n",
    "#    tf.keras.callbacks.TensorBoard(log_dir='./logs')\n",
    "#]\n",
    "\n",
    "# fit\n",
    "history = model.fit(X_train, y_train,\n",
    "                    batch_size=BATCH_SIZE, epochs=EPOCHS,\n",
    "                    verbose=VERBOSE, validation_split=VALIDATION_SPLIT,\n",
    "                    #callbacks=callbacks)\n",
    "                   )\n",
    "\n",
    "score = model.evaluate(X_test, y_test, verbose=VERBOSE)\n",
    "print(\"\\nTest score: \", score[0])\n",
    "print(\"Test accuracy:\", score[1])"
   ]
  },
  {
   "cell_type": "code",
   "execution_count": 15,
   "id": "e82680be-8fdd-4db1-ac97-a858dd035a69",
   "metadata": {},
   "outputs": [
    {
     "data": {
      "image/png": "[encoded data removed]",
      "text/plain": [
       "<Figure size 640x480 with 1 Axes>"
      ]
     },
     "metadata": {},
     "output_type": "display_data"
    }
   ],
   "source": [
    "import matplotlib.pyplot as plt\n",
    "\n",
    "#plt.plot(history.history['loss'], label='loss')\n",
    "#plt.plot(history.history['val_loss'], label='val_loss')\n",
    "plt.plot(history.history['accuracy'], label='accuracy')\n",
    "plt.plot(history.history['val_accuracy'], label='val_accuracy')\n",
    "plt.xlabel('Epoch')\n",
    "plt.legend()\n",
    "plt.grid(True)\n",
    "plt.show()"
   ]
  },
  {
   "cell_type": "markdown",
   "id": "7417fc11-8490-4564-9157-b703abb6d5da",
   "metadata": {},
   "source": [
    "### recognizing CIFAR-10 images with deep learning\n",
    "\n",
    "- CIFAR-10 contains 60000 color images of 32*32 pixels in three channels.  Divided into 10 classes, with each class containing 6000 images."
   ]
  },
  {
   "cell_type": "code",
   "execution_count": 24,
   "id": "190a2a08-e956-477c-8316-1e999051e3ea",
   "metadata": {},
   "outputs": [],
   "source": [
    "import tensorflow as tf\n",
    "from tensorflow.keras import datasets, layers, models, optimizers\n",
    "\n",
    "# CIFAR_10 is a set of 60k images 32*32 pixels on 3 channels\n",
    "IMG_CHANNELS = 3\n",
    "IMG_ROWS = 32\n",
    "IMG_COLS = 32\n",
    "\n",
    "# Constants\n",
    "BATCH_SIZE = 128\n",
    "EPOCHS = 20\n",
    "CLASSES = 10\n",
    "BERBOSE = 1\n",
    "VALIDATION_SPLIT = 0.2\n",
    "OPTIM = tf.keras.optimizers.RMSprop()"
   ]
  },
  {
   "cell_type": "markdown",
   "id": "05bf674d-e7bd-4cd8-a651-d68ba42c5c7e",
   "metadata": {},
   "source": [
    "- Out net will lear 32 convolutional filters, each of size 3*3.  The output dimension is the same as the input shape, so 32*32."
   ]
  },
  {
   "cell_type": "code",
   "execution_count": 25,
   "id": "4d365ccb-9102-4aaa-bffb-cfae26ca9eed",
   "metadata": {},
   "outputs": [],
   "source": [
    "# defin the convnet\n",
    "def build(input_shape, classes):\n",
    "    model = models.Sequential()\n",
    "    model.add(layers.Convolution2D(32, (3, 3), activation='relu',\n",
    "            input_shape=input_shape))\n",
    "    model.add(layers.MaxPooling2D(pool_size=(2, 2)))\n",
    "    model.add(layers.Dropout(0.25))\n",
    "    # Deep pipline is a dense network with 512 units and ReLU activation\n",
    "    model.add(layers.Flatten())\n",
    "    model.add(layers.Dense(512, activation='relu'))\n",
    "    model.add(layers.Dropout(0.5))\n",
    "    model.add(layers.Dense(classes, activation='softmax'))\n",
    "    return model"
   ]
  },
  {
   "cell_type": "markdown",
   "id": "3cf032b9-e5b0-4859-b378-843c5920b171",
   "metadata": {},
   "source": [
    "- Now train the model (parts of code not included into the book"
   ]
  },
  {
   "cell_type": "code",
   "execution_count": 26,
   "id": "6aee2821-e621-4559-823a-e8908a046c85",
   "metadata": {},
   "outputs": [
    {
     "name": "stdout",
     "output_type": "stream",
     "text": [
      "Model: \"sequential_6\"\n",
      "_________________________________________________________________\n",
      " Layer (type)                Output Shape              Param #   \n",
      "=================================================================\n",
      " conv2d_8 (Conv2D)           (None, 30, 30, 32)        896       \n",
      "                                                                 \n",
      " max_pooling2d_9 (MaxPoolin  (None, 15, 15, 32)        0         \n",
      " g2D)                                                            \n",
      "                                                                 \n",
      " dropout_4 (Dropout)         (None, 15, 15, 32)        0         \n",
      "                                                                 \n",
      " flatten_4 (Flatten)         (None, 7200)              0         \n",
      "                                                                 \n",
      " dense_8 (Dense)             (None, 512)               3686912   \n",
      "                                                                 \n",
      " dropout_5 (Dropout)         (None, 512)               0         \n",
      "                                                                 \n",
      " dense_9 (Dense)             (None, 10)                5130      \n",
      "                                                                 \n",
      "=================================================================\n",
      "Total params: 3692938 (14.09 MB)\n",
      "Trainable params: 3692938 (14.09 MB)\n",
      "Non-trainable params: 0 (0.00 Byte)\n",
      "_________________________________________________________________\n"
     ]
    }
   ],
   "source": [
    "(X_train, y_train), (X_test, y_test) = datasets.cifar10.load_data()\n",
    "\n",
    "# Normalize the dataset\n",
    "X_train, X_test = X_train / 255.0, X_test / 255.0\n",
    "\n",
    "# Convert the y_train and y_test to categorical\n",
    "y_train = tf.keras.utils.to_categorical(y_train, CLASSES)\n",
    "y_test = tf.keras.utils.to_categorical(y_test, CLASSES)\n",
    "\n",
    "model = build((IMG_ROWS, IMG_COLS, IMG_CHANNELS), CLASSES)\n",
    "model.summary()"
   ]
  },
  {
   "cell_type": "code",
   "execution_count": 28,
   "id": "9e454ebe-90b0-406d-b306-f864e21a8319",
   "metadata": {
    "scrolled": true
   },
   "outputs": [
    {
     "name": "stdout",
     "output_type": "stream",
     "text": [
      "Epoch 1/20\n"
     ]
    },
    {
     "name": "stderr",
     "output_type": "stream",
     "text": [
      "2024-07-03 04:34:52.256124: W external/local_tsl/tsl/framework/cpu_allocator_impl.cc:83] Allocation of 491520000 exceeds 10% of free system memory.\n"
     ]
    },
    {
     "name": "stdout",
     "output_type": "stream",
     "text": [
      "313/313 [==============================] - 16s 49ms/step - loss: 0.5302 - accuracy: 0.8180 - val_loss: 0.9606 - val_accuracy: 0.6818\n",
      "Epoch 2/20\n",
      "313/313 [==============================] - 15s 49ms/step - loss: 0.5066 - accuracy: 0.8253 - val_loss: 1.1103 - val_accuracy: 0.6712\n",
      "Epoch 3/20\n",
      "313/313 [==============================] - 15s 49ms/step - loss: 0.4907 - accuracy: 0.8299 - val_loss: 1.0468 - val_accuracy: 0.6872\n",
      "Epoch 4/20\n",
      "313/313 [==============================] - 16s 50ms/step - loss: 0.4648 - accuracy: 0.8394 - val_loss: 1.0722 - val_accuracy: 0.6796\n",
      "Epoch 5/20\n",
      "313/313 [==============================] - 15s 49ms/step - loss: 0.4462 - accuracy: 0.8457 - val_loss: 1.0726 - val_accuracy: 0.6763\n",
      "Epoch 6/20\n",
      "313/313 [==============================] - 16s 51ms/step - loss: 0.4333 - accuracy: 0.8506 - val_loss: 1.0706 - val_accuracy: 0.6852\n",
      "Epoch 7/20\n",
      "313/313 [==============================] - 16s 51ms/step - loss: 0.4164 - accuracy: 0.8557 - val_loss: 1.0799 - val_accuracy: 0.6852\n",
      "Epoch 8/20\n",
      "313/313 [==============================] - 16s 50ms/step - loss: 0.3953 - accuracy: 0.8649 - val_loss: 1.0456 - val_accuracy: 0.6948\n",
      "Epoch 9/20\n",
      "313/313 [==============================] - 16s 50ms/step - loss: 0.3885 - accuracy: 0.8670 - val_loss: 1.1049 - val_accuracy: 0.6874\n",
      "Epoch 10/20\n",
      "313/313 [==============================] - 15s 49ms/step - loss: 0.3635 - accuracy: 0.8757 - val_loss: 1.1234 - val_accuracy: 0.6898\n",
      "Epoch 11/20\n",
      "313/313 [==============================] - 15s 49ms/step - loss: 0.3557 - accuracy: 0.8773 - val_loss: 1.0983 - val_accuracy: 0.6878\n",
      "Epoch 12/20\n",
      "313/313 [==============================] - 16s 50ms/step - loss: 0.3443 - accuracy: 0.8840 - val_loss: 1.1104 - val_accuracy: 0.6913\n",
      "Epoch 13/20\n",
      "313/313 [==============================] - 15s 50ms/step - loss: 0.3394 - accuracy: 0.8840 - val_loss: 1.1830 - val_accuracy: 0.6820\n",
      "Epoch 14/20\n",
      "313/313 [==============================] - 15s 49ms/step - loss: 0.3212 - accuracy: 0.8903 - val_loss: 1.1994 - val_accuracy: 0.6988\n",
      "Epoch 15/20\n",
      "313/313 [==============================] - 15s 49ms/step - loss: 0.3159 - accuracy: 0.8920 - val_loss: 1.0860 - val_accuracy: 0.6944\n",
      "Epoch 16/20\n",
      "313/313 [==============================] - 16s 50ms/step - loss: 0.3111 - accuracy: 0.8927 - val_loss: 1.2033 - val_accuracy: 0.6932\n",
      "Epoch 17/20\n",
      "313/313 [==============================] - 16s 50ms/step - loss: 0.3045 - accuracy: 0.8957 - val_loss: 1.2270 - val_accuracy: 0.7025\n",
      "Epoch 18/20\n",
      "313/313 [==============================] - 16s 50ms/step - loss: 0.2940 - accuracy: 0.9009 - val_loss: 1.1762 - val_accuracy: 0.6871\n",
      "Epoch 19/20\n",
      "313/313 [==============================] - 15s 48ms/step - loss: 0.2729 - accuracy: 0.9069 - val_loss: 1.2628 - val_accuracy: 0.6943\n",
      "Epoch 20/20\n",
      "313/313 [==============================] - 16s 50ms/step - loss: 0.2764 - accuracy: 0.9075 - val_loss: 1.1885 - val_accuracy: 0.6956\n",
      "79/79 [==============================] - 1s 8ms/step - loss: 1.2059 - accuracy: 0.6870\n",
      "\n",
      "Test score:  1.2058805227279663\n",
      "Test accuracy:  0.6869999766349792\n"
     ]
    }
   ],
   "source": [
    "## Skipping the TensorBoard\n",
    "#callbacks = [\n",
    "#  # Write TensorBoard logs to `./logs` directory\n",
    "#    tf.keras.callbacks.TensorBoard(log_dir='./logs')\n",
    "#]\n",
    "\n",
    "# Train the model\n",
    "model.compile(loss='categorical_crossentropy',\n",
    "              optimizer=OPTIM,\n",
    "              metrics=['accuracy'])\n",
    "history = model.fit(X_train, y_train, batch_size=BATCH_SIZE,\n",
    "          epochs=EPOCHS,\n",
    "          validation_split=VALIDATION_SPLIT,\n",
    "          verbose=VERBOSE,\n",
    "          #callbacks=callbacks)\n",
    "         )\n",
    "score = model.evaluate(X_test, y_test,\n",
    "                       batch_size=BATCH_SIZE,\n",
    "                       verbose=VERBOSE)\n",
    "\n",
    "print('\\nTest score: ', score[0])\n",
    "print('Test accuracy: ', score[1])"
   ]
  },
  {
   "cell_type": "code",
   "execution_count": 34,
   "id": "ed2c260c-d6d9-4ce3-93ae-673a9f76c1fc",
   "metadata": {},
   "outputs": [
    {
     "data": {
      "image/png": "[encoded data removed]",
      "text/plain": [
       "<Figure size 640x480 with 1 Axes>"
      ]
     },
     "metadata": {},
     "output_type": "display_data"
    }
   ],
   "source": [
    "import matplotlib.pyplot as plt\n",
    "\n",
    "plt.plot(history.history['accuracy'], label='accuracy')\n",
    "plt.plot(history.history['val_accuracy'], label='val_accuracy')\n",
    "plt.xlabel('Epoch')\n",
    "plt.legend()\n",
    "plt.grid(True)\n",
    "plt.show()"
   ]
  },
  {
   "cell_type": "markdown",
   "id": "cda5337f-7067-46aa-bfb6-b36a2594d47d",
   "metadata": {},
   "source": [
    "### Improving the CIFAR-10 performance with deeper network\n",
    "\n",
    "- 1st module: (CONV+CONV+MaxPool+Droupout)\n",
    "- 2nd module: (CONV+CONV+MaxPool+Droupout)\n",
    "- 3rd module: (CONV+CONV+MaxPool+Droupout)"
   ]
  },
  {
   "cell_type": "code",
   "execution_count": 35,
   "id": "5d12a00a-1e7c-4e9d-a9f1-f50eb22ebf39",
   "metadata": {},
   "outputs": [],
   "source": [
    "def build_model():\n",
    "    model = models.Sequential()\n",
    "\n",
    "    # 1st block\n",
    "    model.add(layers.Conv2D(32, (3, 3), padding='same',\n",
    "            input_shape=x_train.shape[1:],\n",
    "            activation='relu'))\n",
    "    model.add(layers.BatchNormalization())\n",
    "    model.add(layers.Conv2D(32, (3, 3), padding='same', activation='relu'))\n",
    "    model.add(layers.BatchNormalization())\n",
    "    model.add(layers.MaxPooling2D(pool_size=(2, 2)))\n",
    "    model.add(layers.Dropout(0.2))\n",
    "\n",
    "    # 2nd block\n",
    "    model.add(layers.Conv2D(64, (3, 3), padding='same', activation='relu'))\n",
    "    model.add(layers.BatchNormalization())\n",
    "    model.add(layers.Conv2D(64, (3, 3), padding='same', activation='relu'))\n",
    "    model.add(layers.BatchNormalization())\n",
    "    model.add(layers.MaxPooling2D(pool_size=(2, 2)))\n",
    "    model.add(layers.Dropout(0.3))\n",
    "\n",
    "    # 3rd block\n",
    "    model.add(layers.Conv2D(128, (3, 3), padding='same', activation='relu'))\n",
    "    model.add(layers.BatchNormalization())\n",
    "    model.add(layers.Conv2D(128, (3, 3), padding='same', activation='relu'))\n",
    "    model.add(layers.BatchNormalization())\n",
    "    model.add(layers.MaxPooling2D(pool_size=(2, 2)))\n",
    "    model.add(layers.Dropout(0.4))\n",
    "\n",
    "    # Dense\n",
    "    model.add(layers.Flatten())\n",
    "    model.add(layers.Dense(NUM_CLASSES, activation='softmax'))\n",
    "\n",
    "    return model"
   ]
  },
  {
   "cell_type": "code",
   "execution_count": 36,
   "id": "dc348420-43ca-4093-80e2-326a4602ca8b",
   "metadata": {},
   "outputs": [],
   "source": [
    "import tensorflow as tf\n",
    "from tensorflow.keras import datasets, layers, models, regularizers, optimizers\n",
    "from tensorflow.keras.preprocessing.image import ImageDataGenerator\n",
    "import numpy as np\n",
    "\n",
    "EPOCHS = 50\n",
    "NUM_CLASSES = 10\n",
    "\n",
    "def load_data():\n",
    "    (x_train, y_train), (x_test, y_test) = datasets.cifar10.load_data()\n",
    "    x_train = x_train.astype('float32')\n",
    "    x_test = x_test.astype('float32')\n",
    "\n",
    "    # Normalize\n",
    "    mean = np.mean(x_train, axis = (0, 1, 2, 3))\n",
    "    std = np.std(x_train, axis=(0, 1, 2, 3))\n",
    "    x_train = (x_train - mean) / (std + 1e-7)\n",
    "    x_test = (x_test - mean) / (std + 1e-7)\n",
    "    \n",
    "    y_train = tf.keras.utils.to_categorical(y_train, NUM_CLASSES)\n",
    "    y_test = tf.keras.utils.to_categorical(y_test, NUM_CLASSES)\n",
    "\n",
    "    return x_train, y_train, x_test, y_test"
   ]
  },
  {
   "cell_type": "code",
   "execution_count": 37,
   "id": "982cd533-2b70-4592-8460-096b3f0ce9fa",
   "metadata": {
    "scrolled": true
   },
   "outputs": [
    {
     "name": "stdout",
     "output_type": "stream",
     "text": [
      "Epoch 1/50\n"
     ]
    },
    {
     "name": "stderr",
     "output_type": "stream",
     "text": [
      "2024-07-03 04:51:22.080281: W external/local_tsl/tsl/framework/cpu_allocator_impl.cc:83] Allocation of 614400000 exceeds 10% of free system memory.\n"
     ]
    },
    {
     "name": "stdout",
     "output_type": "stream",
     "text": [
      "782/782 [==============================] - 107s 135ms/step - loss: 1.7202 - accuracy: 0.4840 - val_loss: 1.1634 - val_accuracy: 0.6143\n",
      "Epoch 2/50\n",
      "782/782 [==============================] - 114s 146ms/step - loss: 1.0767 - accuracy: 0.6546 - val_loss: 1.0221 - val_accuracy: 0.6630\n",
      "Epoch 3/50\n",
      "782/782 [==============================] - 115s 147ms/step - loss: 0.8716 - accuracy: 0.7123 - val_loss: 0.8915 - val_accuracy: 0.7108\n",
      "Epoch 4/50\n",
      "782/782 [==============================] - 114s 146ms/step - loss: 0.7422 - accuracy: 0.7476 - val_loss: 0.7022 - val_accuracy: 0.7639\n",
      "Epoch 5/50\n",
      "782/782 [==============================] - 113s 145ms/step - loss: 0.6576 - accuracy: 0.7769 - val_loss: 0.6943 - val_accuracy: 0.7640\n",
      "Epoch 6/50\n",
      "782/782 [==============================] - 113s 145ms/step - loss: 0.5923 - accuracy: 0.7958 - val_loss: 0.6588 - val_accuracy: 0.7866\n",
      "Epoch 7/50\n",
      "782/782 [==============================] - 114s 146ms/step - loss: 0.5503 - accuracy: 0.8118 - val_loss: 0.5845 - val_accuracy: 0.8072\n",
      "Epoch 8/50\n",
      "782/782 [==============================] - 126s 161ms/step - loss: 0.5110 - accuracy: 0.8223 - val_loss: 0.6164 - val_accuracy: 0.7954\n",
      "Epoch 9/50\n",
      "782/782 [==============================] - 129s 165ms/step - loss: 0.4745 - accuracy: 0.8366 - val_loss: 0.5597 - val_accuracy: 0.8143\n",
      "Epoch 10/50\n",
      "782/782 [==============================] - 134s 171ms/step - loss: 0.4484 - accuracy: 0.8452 - val_loss: 0.5223 - val_accuracy: 0.8221\n",
      "Epoch 11/50\n",
      "782/782 [==============================] - 134s 171ms/step - loss: 0.4258 - accuracy: 0.8521 - val_loss: 0.5764 - val_accuracy: 0.8106\n",
      "Epoch 12/50\n",
      "782/782 [==============================] - 133s 170ms/step - loss: 0.4017 - accuracy: 0.8603 - val_loss: 0.5359 - val_accuracy: 0.8214\n",
      "Epoch 13/50\n",
      "782/782 [==============================] - 128s 163ms/step - loss: 0.3810 - accuracy: 0.8659 - val_loss: 0.4997 - val_accuracy: 0.8322\n",
      "Epoch 14/50\n",
      "782/782 [==============================] - 128s 163ms/step - loss: 0.3684 - accuracy: 0.8701 - val_loss: 0.4831 - val_accuracy: 0.8442\n",
      "Epoch 15/50\n",
      "782/782 [==============================] - 127s 163ms/step - loss: 0.3532 - accuracy: 0.8772 - val_loss: 0.5106 - val_accuracy: 0.8311\n",
      "Epoch 16/50\n",
      "782/782 [==============================] - 127s 162ms/step - loss: 0.3355 - accuracy: 0.8796 - val_loss: 0.5116 - val_accuracy: 0.8345\n",
      "Epoch 17/50\n",
      "782/782 [==============================] - 131s 167ms/step - loss: 0.3169 - accuracy: 0.8861 - val_loss: 0.4982 - val_accuracy: 0.8408\n",
      "Epoch 18/50\n",
      "782/782 [==============================] - 128s 163ms/step - loss: 0.3101 - accuracy: 0.8913 - val_loss: 0.4838 - val_accuracy: 0.8480\n",
      "Epoch 19/50\n",
      "782/782 [==============================] - 126s 161ms/step - loss: 0.2950 - accuracy: 0.8946 - val_loss: 0.5052 - val_accuracy: 0.8404\n",
      "Epoch 20/50\n",
      "782/782 [==============================] - 128s 164ms/step - loss: 0.2892 - accuracy: 0.8973 - val_loss: 0.4884 - val_accuracy: 0.8378\n",
      "Epoch 21/50\n",
      "782/782 [==============================] - 126s 160ms/step - loss: 0.2800 - accuracy: 0.9003 - val_loss: 0.4882 - val_accuracy: 0.8457\n",
      "Epoch 22/50\n",
      "782/782 [==============================] - 132s 168ms/step - loss: 0.2710 - accuracy: 0.9046 - val_loss: 0.4668 - val_accuracy: 0.8511\n",
      "Epoch 23/50\n",
      "782/782 [==============================] - 133s 170ms/step - loss: 0.2601 - accuracy: 0.9075 - val_loss: 0.4952 - val_accuracy: 0.8479\n",
      "Epoch 24/50\n",
      "782/782 [==============================] - 133s 170ms/step - loss: 0.2564 - accuracy: 0.9086 - val_loss: 0.4791 - val_accuracy: 0.8523\n",
      "Epoch 25/50\n",
      "782/782 [==============================] - 134s 171ms/step - loss: 0.2462 - accuracy: 0.9119 - val_loss: 0.4570 - val_accuracy: 0.8571\n",
      "Epoch 26/50\n",
      "782/782 [==============================] - 132s 168ms/step - loss: 0.2423 - accuracy: 0.9125 - val_loss: 0.5065 - val_accuracy: 0.8477\n",
      "Epoch 27/50\n",
      "782/782 [==============================] - 139s 177ms/step - loss: 0.2282 - accuracy: 0.9190 - val_loss: 0.4647 - val_accuracy: 0.8563\n",
      "Epoch 28/50\n",
      "782/782 [==============================] - 134s 172ms/step - loss: 0.2280 - accuracy: 0.9194 - val_loss: 0.4779 - val_accuracy: 0.8564\n",
      "Epoch 29/50\n",
      "782/782 [==============================] - 127s 162ms/step - loss: 0.2229 - accuracy: 0.9204 - val_loss: 0.4700 - val_accuracy: 0.8556\n",
      "Epoch 30/50\n",
      "782/782 [==============================] - 126s 162ms/step - loss: 0.2222 - accuracy: 0.9208 - val_loss: 0.4724 - val_accuracy: 0.8564\n",
      "Epoch 31/50\n",
      "782/782 [==============================] - 126s 161ms/step - loss: 0.2146 - accuracy: 0.9233 - val_loss: 0.4858 - val_accuracy: 0.8562\n",
      "Epoch 32/50\n",
      "782/782 [==============================] - 126s 161ms/step - loss: 0.2090 - accuracy: 0.9247 - val_loss: 0.4540 - val_accuracy: 0.8629\n",
      "Epoch 33/50\n",
      "782/782 [==============================] - 126s 161ms/step - loss: 0.2065 - accuracy: 0.9262 - val_loss: 0.4638 - val_accuracy: 0.8645\n",
      "Epoch 34/50\n",
      "782/782 [==============================] - 128s 164ms/step - loss: 0.2065 - accuracy: 0.9266 - val_loss: 0.5049 - val_accuracy: 0.8559\n",
      "Epoch 35/50\n",
      "782/782 [==============================] - 130s 166ms/step - loss: 0.1977 - accuracy: 0.9300 - val_loss: 0.4749 - val_accuracy: 0.8566\n",
      "Epoch 36/50\n",
      "782/782 [==============================] - 130s 166ms/step - loss: 0.1943 - accuracy: 0.9299 - val_loss: 0.4744 - val_accuracy: 0.8610\n",
      "Epoch 37/50\n",
      "782/782 [==============================] - 130s 166ms/step - loss: 0.1909 - accuracy: 0.9328 - val_loss: 0.4705 - val_accuracy: 0.8619\n",
      "Epoch 38/50\n",
      "782/782 [==============================] - 129s 165ms/step - loss: 0.1835 - accuracy: 0.9338 - val_loss: 0.4864 - val_accuracy: 0.8587\n",
      "Epoch 39/50\n",
      "782/782 [==============================] - 130s 166ms/step - loss: 0.1789 - accuracy: 0.9353 - val_loss: 0.4751 - val_accuracy: 0.8610\n",
      "Epoch 40/50\n",
      "782/782 [==============================] - 129s 165ms/step - loss: 0.1835 - accuracy: 0.9346 - val_loss: 0.4673 - val_accuracy: 0.8618\n",
      "Epoch 41/50\n",
      "782/782 [==============================] - 130s 167ms/step - loss: 0.1788 - accuracy: 0.9364 - val_loss: 0.4774 - val_accuracy: 0.8609\n",
      "Epoch 42/50\n",
      "782/782 [==============================] - 130s 166ms/step - loss: 0.1801 - accuracy: 0.9354 - val_loss: 0.4681 - val_accuracy: 0.8619\n",
      "Epoch 43/50\n",
      "782/782 [==============================] - 127s 163ms/step - loss: 0.1693 - accuracy: 0.9400 - val_loss: 0.4758 - val_accuracy: 0.8628\n",
      "Epoch 44/50\n",
      "782/782 [==============================] - 124s 158ms/step - loss: 0.1693 - accuracy: 0.9398 - val_loss: 0.4956 - val_accuracy: 0.8585\n",
      "Epoch 45/50\n",
      "782/782 [==============================] - 131s 168ms/step - loss: 0.1682 - accuracy: 0.9408 - val_loss: 0.5019 - val_accuracy: 0.8575\n",
      "Epoch 46/50\n",
      "782/782 [==============================] - 131s 167ms/step - loss: 0.1653 - accuracy: 0.9418 - val_loss: 0.4914 - val_accuracy: 0.8613\n",
      "Epoch 47/50\n",
      "782/782 [==============================] - 131s 167ms/step - loss: 0.1639 - accuracy: 0.9405 - val_loss: 0.4877 - val_accuracy: 0.8643\n",
      "Epoch 48/50\n",
      "782/782 [==============================] - 129s 165ms/step - loss: 0.1634 - accuracy: 0.9416 - val_loss: 0.4862 - val_accuracy: 0.8671\n",
      "Epoch 49/50\n",
      "782/782 [==============================] - 119s 152ms/step - loss: 0.1560 - accuracy: 0.9442 - val_loss: 0.5210 - val_accuracy: 0.8580\n",
      "Epoch 50/50\n",
      "782/782 [==============================] - 114s 146ms/step - loss: 0.1578 - accuracy: 0.9429 - val_loss: 0.4789 - val_accuracy: 0.8693\n",
      "157/157 [==============================] - 5s 34ms/step - loss: 0.4789 - accuracy: 0.8693\n",
      "\n",
      "Test score:  0.47888481616973877\n",
      "Test accuracy:  0.8693000078201294\n"
     ]
    },
    {
     "data": {
      "image/png": "[encoded data removed]",
      "text/plain": [
       "<Figure size 640x480 with 1 Axes>"
      ]
     },
     "metadata": {},
     "output_type": "display_data"
    }
   ],
   "source": [
    "(x_train, y_train, x_test, y_test) = load_data()\n",
    "model = build_model()\n",
    "\n",
    "model.compile(loss = 'categorical_crossentropy',\n",
    "              optimizer = 'RMSprop',\n",
    "              metrics = ['accuracy'])\n",
    "\n",
    "# Train\n",
    "batch_size = 64\n",
    "\n",
    "history = model.fit(x_train, y_train, batch_size = batch_size,\n",
    "          epochs = EPOCHS,\n",
    "          validation_data = (x_test, y_test))\n",
    "score = model.evaluate(x_test, y_test,\n",
    "                       batch_size=batch_size)\n",
    "\n",
    "print('\\nTest score: ', score[0])\n",
    "print('Test accuracy: ', score[1])\n",
    "\n",
    "import matplotlib.pyplot as plt\n",
    "plt.plot(history.history['accuracy'], label='accuracy')\n",
    "plt.plot(history.history['val_accuracy'], label='val_accuracy')\n",
    "plt.xlabel('Epoch')\n",
    "plt.legend()\n",
    "plt.grid(True)\n",
    "plt.show()"
   ]
  },
  {
   "cell_type": "markdown",
   "id": "315830c7-7a24-4145-bc03-d6400380439d",
   "metadata": {},
   "source": [
    "### Improving the CIFAR-10 performance with data augentations\n",
    "\n",
    "- We can improve our model by generating more images, take the training set and augment this set with multiple types of transformations"
   ]
  },
  {
   "cell_type": "code",
   "execution_count": 38,
   "id": "92a5e908-849c-4cce-a8cd-01fdc39a2f0d",
   "metadata": {},
   "outputs": [],
   "source": [
    "from tensorflow.keras.preprocessing.image import ImageDataGenerator\n",
    "\n",
    "# image augementation\n",
    "datagen = ImageDataGenerator(\n",
    "    rotation_range = 30,\n",
    "    width_shift_range = 0.2,\n",
    "    height_shift_range = 0.2,\n",
    "    horizontal_flip = True\n",
    ")\n",
    "datagen.fit(x_train)"
   ]
  },
  {
   "cell_type": "code",
   "execution_count": 42,
   "id": "ec75180d-cc0a-4d11-88a2-3e1c54de35fc",
   "metadata": {},
   "outputs": [
    {
     "name": "stderr",
     "output_type": "stream",
     "text": [
      "/tmp/ipykernel_106389/2473487061.py:5: UserWarning: `Model.fit_generator` is deprecated and will be removed in a future version. Please use `Model.fit`, which supports generators.\n",
      "  model.fit_generator(datagen.flow(x_train, y_train, batch_size = batch_size),\n"
     ]
    },
    {
     "ename": "NameError",
     "evalue": "name 'scipy' is not defined",
     "output_type": "error",
     "traceback": [
      "\u001b[0;31m---------------------------------------------------------------------------\u001b[0m",
      "\u001b[0;31mNameError\u001b[0m                                 Traceback (most recent call last)",
      "Cell \u001b[0;32mIn[42], line 5\u001b[0m\n\u001b[1;32m      3\u001b[0m \u001b[38;5;66;03m# train \u001b[39;00m\n\u001b[1;32m      4\u001b[0m batch_size \u001b[38;5;241m=\u001b[39m \u001b[38;5;241m64\u001b[39m\n\u001b[0;32m----> 5\u001b[0m \u001b[43mmodel\u001b[49m\u001b[38;5;241;43m.\u001b[39;49m\u001b[43mfit_generator\u001b[49m\u001b[43m(\u001b[49m\u001b[43mdatagen\u001b[49m\u001b[38;5;241;43m.\u001b[39;49m\u001b[43mflow\u001b[49m\u001b[43m(\u001b[49m\u001b[43mx_train\u001b[49m\u001b[43m,\u001b[49m\u001b[43m \u001b[49m\u001b[43my_train\u001b[49m\u001b[43m,\u001b[49m\u001b[43m \u001b[49m\u001b[43mbatch_size\u001b[49m\u001b[43m \u001b[49m\u001b[38;5;241;43m=\u001b[39;49m\u001b[43m \u001b[49m\u001b[43mbatch_size\u001b[49m\u001b[43m)\u001b[49m\u001b[43m,\u001b[49m\n\u001b[1;32m      6\u001b[0m \u001b[43m                    \u001b[49m\u001b[43mepochs\u001b[49m\u001b[43m \u001b[49m\u001b[38;5;241;43m=\u001b[39;49m\u001b[43m \u001b[49m\u001b[43mEPOCHS\u001b[49m\u001b[43m,\u001b[49m\n\u001b[1;32m      7\u001b[0m \u001b[43m                    \u001b[49m\u001b[43mverbose\u001b[49m\u001b[43m \u001b[49m\u001b[38;5;241;43m=\u001b[39;49m\u001b[43m \u001b[49m\u001b[38;5;241;43m1\u001b[39;49m\u001b[43m,\u001b[49m\u001b[43m \u001b[49m\u001b[43mvalidation_data\u001b[49m\u001b[43m \u001b[49m\u001b[38;5;241;43m=\u001b[39;49m\u001b[43m \u001b[49m\u001b[43m(\u001b[49m\u001b[43mx_test\u001b[49m\u001b[43m,\u001b[49m\u001b[43m \u001b[49m\u001b[43my_test\u001b[49m\u001b[43m)\u001b[49m\u001b[43m)\u001b[49m\n\u001b[1;32m      9\u001b[0m \u001b[38;5;66;03m# save to dist\u001b[39;00m\n\u001b[1;32m     10\u001b[0m model_json \u001b[38;5;241m=\u001b[39m model\u001b[38;5;241m.\u001b[39mto_json()\n",
      "File \u001b[0;32m/usr/local/lib/python3.11/dist-packages/keras/src/engine/training.py:2913\u001b[0m, in \u001b[0;36mModel.fit_generator\u001b[0;34m(self, generator, steps_per_epoch, epochs, verbose, callbacks, validation_data, validation_steps, validation_freq, class_weight, max_queue_size, workers, use_multiprocessing, shuffle, initial_epoch)\u001b[0m\n\u001b[1;32m   2901\u001b[0m \u001b[38;5;250m\u001b[39m\u001b[38;5;124;03m\"\"\"Fits the model on data yielded batch-by-batch by a Python generator.\u001b[39;00m\n\u001b[1;32m   2902\u001b[0m \n\u001b[1;32m   2903\u001b[0m \u001b[38;5;124;03mDEPRECATED:\u001b[39;00m\n\u001b[1;32m   2904\u001b[0m \u001b[38;5;124;03m  `Model.fit` now supports generators, so there is no longer any need to\u001b[39;00m\n\u001b[1;32m   2905\u001b[0m \u001b[38;5;124;03m  use this endpoint.\u001b[39;00m\n\u001b[1;32m   2906\u001b[0m \u001b[38;5;124;03m\"\"\"\u001b[39;00m\n\u001b[1;32m   2907\u001b[0m warnings\u001b[38;5;241m.\u001b[39mwarn(\n\u001b[1;32m   2908\u001b[0m     \u001b[38;5;124m\"\u001b[39m\u001b[38;5;124m`Model.fit_generator` is deprecated and \u001b[39m\u001b[38;5;124m\"\u001b[39m\n\u001b[1;32m   2909\u001b[0m     \u001b[38;5;124m\"\u001b[39m\u001b[38;5;124mwill be removed in a future version. \u001b[39m\u001b[38;5;124m\"\u001b[39m\n\u001b[1;32m   2910\u001b[0m     \u001b[38;5;124m\"\u001b[39m\u001b[38;5;124mPlease use `Model.fit`, which supports generators.\u001b[39m\u001b[38;5;124m\"\u001b[39m,\n\u001b[1;32m   2911\u001b[0m     stacklevel\u001b[38;5;241m=\u001b[39m\u001b[38;5;241m2\u001b[39m,\n\u001b[1;32m   2912\u001b[0m )\n\u001b[0;32m-> 2913\u001b[0m \u001b[38;5;28;01mreturn\u001b[39;00m \u001b[38;5;28;43mself\u001b[39;49m\u001b[38;5;241;43m.\u001b[39;49m\u001b[43mfit\u001b[49m\u001b[43m(\u001b[49m\n\u001b[1;32m   2914\u001b[0m \u001b[43m    \u001b[49m\u001b[43mgenerator\u001b[49m\u001b[43m,\u001b[49m\n\u001b[1;32m   2915\u001b[0m \u001b[43m    \u001b[49m\u001b[43msteps_per_epoch\u001b[49m\u001b[38;5;241;43m=\u001b[39;49m\u001b[43msteps_per_epoch\u001b[49m\u001b[43m,\u001b[49m\n\u001b[1;32m   2916\u001b[0m \u001b[43m    \u001b[49m\u001b[43mepochs\u001b[49m\u001b[38;5;241;43m=\u001b[39;49m\u001b[43mepochs\u001b[49m\u001b[43m,\u001b[49m\n\u001b[1;32m   2917\u001b[0m \u001b[43m    \u001b[49m\u001b[43mverbose\u001b[49m\u001b[38;5;241;43m=\u001b[39;49m\u001b[43mverbose\u001b[49m\u001b[43m,\u001b[49m\n\u001b[1;32m   2918\u001b[0m \u001b[43m    \u001b[49m\u001b[43mcallbacks\u001b[49m\u001b[38;5;241;43m=\u001b[39;49m\u001b[43mcallbacks\u001b[49m\u001b[43m,\u001b[49m\n\u001b[1;32m   2919\u001b[0m \u001b[43m    \u001b[49m\u001b[43mvalidation_data\u001b[49m\u001b[38;5;241;43m=\u001b[39;49m\u001b[43mvalidation_data\u001b[49m\u001b[43m,\u001b[49m\n\u001b[1;32m   2920\u001b[0m \u001b[43m    \u001b[49m\u001b[43mvalidation_steps\u001b[49m\u001b[38;5;241;43m=\u001b[39;49m\u001b[43mvalidation_steps\u001b[49m\u001b[43m,\u001b[49m\n\u001b[1;32m   2921\u001b[0m \u001b[43m    \u001b[49m\u001b[43mvalidation_freq\u001b[49m\u001b[38;5;241;43m=\u001b[39;49m\u001b[43mvalidation_freq\u001b[49m\u001b[43m,\u001b[49m\n\u001b[1;32m   2922\u001b[0m \u001b[43m    \u001b[49m\u001b[43mclass_weight\u001b[49m\u001b[38;5;241;43m=\u001b[39;49m\u001b[43mclass_weight\u001b[49m\u001b[43m,\u001b[49m\n\u001b[1;32m   2923\u001b[0m \u001b[43m    \u001b[49m\u001b[43mmax_queue_size\u001b[49m\u001b[38;5;241;43m=\u001b[39;49m\u001b[43mmax_queue_size\u001b[49m\u001b[43m,\u001b[49m\n\u001b[1;32m   2924\u001b[0m \u001b[43m    \u001b[49m\u001b[43mworkers\u001b[49m\u001b[38;5;241;43m=\u001b[39;49m\u001b[43mworkers\u001b[49m\u001b[43m,\u001b[49m\n\u001b[1;32m   2925\u001b[0m \u001b[43m    \u001b[49m\u001b[43muse_multiprocessing\u001b[49m\u001b[38;5;241;43m=\u001b[39;49m\u001b[43muse_multiprocessing\u001b[49m\u001b[43m,\u001b[49m\n\u001b[1;32m   2926\u001b[0m \u001b[43m    \u001b[49m\u001b[43mshuffle\u001b[49m\u001b[38;5;241;43m=\u001b[39;49m\u001b[43mshuffle\u001b[49m\u001b[43m,\u001b[49m\n\u001b[1;32m   2927\u001b[0m \u001b[43m    \u001b[49m\u001b[43minitial_epoch\u001b[49m\u001b[38;5;241;43m=\u001b[39;49m\u001b[43minitial_epoch\u001b[49m\u001b[43m,\u001b[49m\n\u001b[1;32m   2928\u001b[0m \u001b[43m\u001b[49m\u001b[43m)\u001b[49m\n",
      "File \u001b[0;32m/usr/local/lib/python3.11/dist-packages/keras/src/utils/traceback_utils.py:70\u001b[0m, in \u001b[0;36mfilter_traceback.<locals>.error_handler\u001b[0;34m(*args, **kwargs)\u001b[0m\n\u001b[1;32m     67\u001b[0m     filtered_tb \u001b[38;5;241m=\u001b[39m _process_traceback_frames(e\u001b[38;5;241m.\u001b[39m__traceback__)\n\u001b[1;32m     68\u001b[0m     \u001b[38;5;66;03m# To get the full stack trace, call:\u001b[39;00m\n\u001b[1;32m     69\u001b[0m     \u001b[38;5;66;03m# `tf.debugging.disable_traceback_filtering()`\u001b[39;00m\n\u001b[0;32m---> 70\u001b[0m     \u001b[38;5;28;01mraise\u001b[39;00m e\u001b[38;5;241m.\u001b[39mwith_traceback(filtered_tb) \u001b[38;5;28;01mfrom\u001b[39;00m \u001b[38;5;28;01mNone\u001b[39;00m\n\u001b[1;32m     71\u001b[0m \u001b[38;5;28;01mfinally\u001b[39;00m:\n\u001b[1;32m     72\u001b[0m     \u001b[38;5;28;01mdel\u001b[39;00m filtered_tb\n",
      "File \u001b[0;32m/usr/local/lib/python3.11/dist-packages/keras/src/preprocessing/image.py:2526\u001b[0m, in \u001b[0;36mapply_affine_transform\u001b[0;34m(x, theta, tx, ty, shear, zx, zy, row_axis, col_axis, channel_axis, fill_mode, cval, order)\u001b[0m\n\u001b[1;32m   2482\u001b[0m \u001b[38;5;129m@keras_export\u001b[39m(\u001b[38;5;124m\"\u001b[39m\u001b[38;5;124mkeras.preprocessing.image.apply_affine_transform\u001b[39m\u001b[38;5;124m\"\u001b[39m)\n\u001b[1;32m   2483\u001b[0m \u001b[38;5;28;01mdef\u001b[39;00m \u001b[38;5;21mapply_affine_transform\u001b[39m(\n\u001b[1;32m   2484\u001b[0m     x,\n\u001b[0;32m   (...)\u001b[0m\n\u001b[1;32m   2496\u001b[0m     order\u001b[38;5;241m=\u001b[39m\u001b[38;5;241m1\u001b[39m,\n\u001b[1;32m   2497\u001b[0m ):\n\u001b[1;32m   2498\u001b[0m \u001b[38;5;250m    \u001b[39m\u001b[38;5;124;03m\"\"\"Applies an affine transformation specified by the parameters given.\u001b[39;00m\n\u001b[1;32m   2499\u001b[0m \n\u001b[1;32m   2500\u001b[0m \u001b[38;5;124;03m    Args:\u001b[39;00m\n\u001b[0;32m   (...)\u001b[0m\n\u001b[1;32m   2524\u001b[0m \u001b[38;5;124;03m        ImportError: if SciPy is not available.\u001b[39;00m\n\u001b[1;32m   2525\u001b[0m \u001b[38;5;124;03m    \"\"\"\u001b[39;00m\n\u001b[0;32m-> 2526\u001b[0m     \u001b[38;5;28;01mif\u001b[39;00m \u001b[43mscipy\u001b[49m \u001b[38;5;129;01mis\u001b[39;00m \u001b[38;5;28;01mNone\u001b[39;00m:\n\u001b[1;32m   2527\u001b[0m         \u001b[38;5;28;01mraise\u001b[39;00m \u001b[38;5;167;01mImportError\u001b[39;00m(\u001b[38;5;124m\"\u001b[39m\u001b[38;5;124mImage transformations require SciPy. Install SciPy.\u001b[39m\u001b[38;5;124m\"\u001b[39m)\n\u001b[1;32m   2529\u001b[0m     \u001b[38;5;66;03m# Input sanity checks:\u001b[39;00m\n\u001b[1;32m   2530\u001b[0m     \u001b[38;5;66;03m# 1. x must 2D image with one or more channels (i.e., a 3D tensor)\u001b[39;00m\n\u001b[1;32m   2531\u001b[0m     \u001b[38;5;66;03m# 2. channels must be either first or last dimension\u001b[39;00m\n",
      "\u001b[0;31mNameError\u001b[0m: name 'scipy' is not defined"
     ]
    }
   ],
   "source": [
    "import scipy\n",
    "\n",
    "# train \n",
    "batch_size = 64\n",
    "model.fit_generator(datagen.flow(x_train, y_train, batch_size = batch_size),\n",
    "                    epochs = EPOCHS,\n",
    "                    verbose = 1, validation_data = (x_test, y_test))\n",
    "\n",
    "# save to dist\n",
    "model_json = model.to_json()\n",
    "with open('./logs/model.json', 'w') as json_file:\n",
    "    json_file.write(model_json)\n",
    "model.save_weights('./logs/model.h5')\n",
    "\n",
    "# test\n",
    "scores = model.evaluate(x_test, y_test, batch_size = 128,\n",
    "                        verbose = 1)\n",
    "print('\\nTest result: %.3f loss: %.3f' % (scores[1]*100, scores[0]))"
   ]
  },
  {
   "cell_type": "code",
   "execution_count": null,
   "id": "f704b888-11d8-4373-817e-c8431b31426b",
   "metadata": {},
   "outputs": [],
   "source": []
  }
 ],
 "metadata": {
  "kernelspec": {
   "display_name": "Python 3 (ipykernel)",
   "language": "python",
   "name": "python3"
  },
  "language_info": {
   "codemirror_mode": {
    "name": "ipython",
    "version": 3
   },
   "file_extension": ".py",
   "mimetype": "text/x-python",
   "name": "python",
   "nbconvert_exporter": "python",
   "pygments_lexer": "ipython3",
   "version": "3.11.0rc1"
  }
 },
 "nbformat": 4,
 "nbformat_minor": 5
}
