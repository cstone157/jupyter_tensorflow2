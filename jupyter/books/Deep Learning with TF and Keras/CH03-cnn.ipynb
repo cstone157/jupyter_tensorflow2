{
 "cells": [
  {
   "cell_type": "markdown",
   "id": "fa3b86dd-4fb3-4307-babb-387b04400397",
   "metadata": {},
   "source": [
    "# Convolutional Neural Networks (CNN)\n",
    "\n",
    "- Convolutional neural networks leverage spatial information, making them good for classifying images.\n",
    "\n",
    "## Deep Convolutional Neural networks\n",
    "\n",
    "- Deep Convolutional Neural Network (DCNN) consists of man neural network layers.\n",
    "\n",
    "### local receptive fields\n",
    "\n",
    "- To perserve spatial information of an image, it is often convenient to represent each image with a matrix of pixels.\n",
    "- Ti accinokusg a sunoke wat ti accinokusg us ti ebcide tge kycal structure into a submatrix of adjacent input neurons.\n",
    "\n",
    "### Shared weights and bias\n",
    "### A mathematical example\n",
    "### ConvNets in TensorFlow\n",
    "\n",
    "- Add convolutional layer with 32 parallel features and filter"
   ]
  },
  {
   "cell_type": "code",
   "execution_count": 1,
   "id": "46f723b9-9eca-4996-9c6d-7848381c9d99",
   "metadata": {
    "scrolled": true
   },
   "outputs": [
    {
     "name": "stderr",
     "output_type": "stream",
     "text": [
      "2024-07-02 02:35:23.249993: E external/local_xla/xla/stream_executor/cuda/cuda_dnn.cc:9261] Unable to register cuDNN factory: Attempting to register factory for plugin cuDNN when one has already been registered\n",
      "2024-07-02 02:35:23.250018: E external/local_xla/xla/stream_executor/cuda/cuda_fft.cc:607] Unable to register cuFFT factory: Attempting to register factory for plugin cuFFT when one has already been registered\n",
      "2024-07-02 02:35:23.250714: E external/local_xla/xla/stream_executor/cuda/cuda_blas.cc:1515] Unable to register cuBLAS factory: Attempting to register factory for plugin cuBLAS when one has already been registered\n",
      "2024-07-02 02:35:23.256077: I tensorflow/core/platform/cpu_feature_guard.cc:182] This TensorFlow binary is optimized to use available CPU instructions in performance-critical operations.\n",
      "To enable the following instructions: AVX2 FMA, in other operations, rebuild TensorFlow with the appropriate compiler flags.\n",
      "2024-07-02 02:35:24.955112: E external/local_xla/xla/stream_executor/cuda/cuda_driver.cc:274] failed call to cuInit: CUDA_ERROR_COMPAT_NOT_SUPPORTED_ON_DEVICE: forward compatibility was attempted on non supported HW\n",
      "2024-07-02 02:35:24.955136: I external/local_xla/xla/stream_executor/cuda/cuda_diagnostics.cc:129] retrieving CUDA diagnostic information for host: 6c059fea88aa\n",
      "2024-07-02 02:35:24.955142: I external/local_xla/xla/stream_executor/cuda/cuda_diagnostics.cc:136] hostname: 6c059fea88aa\n",
      "2024-07-02 02:35:24.955177: I external/local_xla/xla/stream_executor/cuda/cuda_diagnostics.cc:159] libcuda reported version is: 545.23.6\n",
      "2024-07-02 02:35:24.955191: I external/local_xla/xla/stream_executor/cuda/cuda_diagnostics.cc:163] kernel reported version is: 535.183.1\n",
      "2024-07-02 02:35:24.955195: E external/local_xla/xla/stream_executor/cuda/cuda_diagnostics.cc:244] kernel version 535.183.1 does not match DSO version 545.23.6 -- cannot find working devices in this configuration\n"
     ]
    }
   ],
   "source": [
    "import tensorflow as tf\n",
    "from tensorflow.keras import datasets, layers, models\n",
    "\n",
    "model = models.Sequential()\n",
    "model.add(layers.Conv2D(32, (3, 3), activation='relu', input_shape=(28, 28, 1)))"
   ]
  },
  {
   "cell_type": "markdown",
   "id": "c689d878-1058-41c1-b84b-3af1d3de6912",
   "metadata": {},
   "source": [
    "### Pooling layers\n",
    "- Summarize the output of a feature map.\n",
    "\n",
    "### Max pooling\n",
    "- Max pooling operator, it outputs the maximum activation as observed in the region"
   ]
  },
  {
   "cell_type": "code",
   "execution_count": 3,
   "id": "a01698d2-da58-483d-9a24-33fab51b99ea",
   "metadata": {},
   "outputs": [],
   "source": [
    "model.add(layers.MaxPooling2D((2, 2)))"
   ]
  },
  {
   "cell_type": "markdown",
   "id": "d072963e-5144-4795-9877-8fca1a5ce843",
   "metadata": {},
   "source": [
    "### Average pooling\n",
    "- Another choice is to aggregate the region into the average of the values.\n",
    "\n",
    "### An example of DCNN: LeNet\n",
    "- Another example of the MNIST dataset, but using convolution.  LeNet has lower layers alternating convolution operations with max-pooling operations."
   ]
  },
  {
   "cell_type": "code",
   "execution_count": 8,
   "id": "04c99108-89df-4308-8f14-e6d1d6b51530",
   "metadata": {},
   "outputs": [],
   "source": [
    "## to define a LeNet, we will use layers.Convolution2D.\n",
    "##     where the first parameter is the number of output filters, and the next\n",
    "##     tuble is the extension for each filter.\n",
    "\n",
    "import tensorflow as tf\n",
    "from tensorflow.keras import datasets, layers, models, optimizers\n",
    "\n",
    "# network and training\n",
    "EPOCHS = 5\n",
    "BATCH_SIZE = 128\n",
    "VERBOSE = 1\n",
    "OPTIMIZER = tf.keras.optimizers.Adam()\n",
    "VALIDATION_SPLIT = 0.90\n",
    "\n",
    "IMG_ROWS, IMG_COLS = 28, 28 # input image dimensions\n",
    "INPUT_SHAPE = (IMG_ROWS, IMG_COLS, 1)\n",
    "NB_CLASSES = 10 # number of output = number of digits\n",
    "\n",
    "## Define the LeNet network\n",
    "class LeNet:\n",
    "    def build(input_shape, classes):\n",
    "        model = models.Sequential()\n",
    "    \n",
    "        ## Max pooling implements a sliding window, over the layer and takes maximum\n",
    "        # CONV => RELU => POOL\n",
    "        model.add(layers.Convolution2D(50, (5, 5), activation='relu',\n",
    "                                      input_shape=input_shape))\n",
    "        model.add(layers.MaxPooling2D(pool_size=(2, 2), strides=(2, 2)))\n",
    "    \n",
    "        ##Add second convolution stage\n",
    "        # CONV => RELU => POOL\n",
    "        model.add(layers.Convolution2D(50, (5, 5), activation='relu'))\n",
    "        model.add(layers.MaxPooling2D(pool_size=(2, 2), strides=(2, 2)))\n",
    "    \n",
    "        ## Flatten and run a standard dense network\n",
    "        # Flatten => RELU Layers\n",
    "        model.add(layers.Flatten())\n",
    "        model.add(layers.Dense(500, activation='relu'))\n",
    "        # a softmax classifier\n",
    "        model.add(layers.Dense(classes, activation='softmax'))\n",
    "        return model    "
   ]
  },
  {
   "cell_type": "code",
   "execution_count": 10,
   "id": "261f319f-cb01-4e46-81b3-adbad6eb6e64",
   "metadata": {},
   "outputs": [
    {
     "name": "stdout",
     "output_type": "stream",
     "text": [
      "Model: \"sequential_3\"\n",
      "_________________________________________________________________\n",
      " Layer (type)                Output Shape              Param #   \n",
      "=================================================================\n",
      " conv2d_4 (Conv2D)           (None, 24, 24, 50)        1300      \n",
      "                                                                 \n",
      " max_pooling2d_5 (MaxPoolin  (None, 12, 12, 50)        0         \n",
      " g2D)                                                            \n",
      "                                                                 \n",
      " conv2d_5 (Conv2D)           (None, 8, 8, 50)          62550     \n",
      "                                                                 \n",
      " max_pooling2d_6 (MaxPoolin  (None, 4, 4, 50)          0         \n",
      " g2D)                                                            \n",
      "                                                                 \n",
      " flatten_1 (Flatten)         (None, 800)               0         \n",
      "                                                                 \n",
      " dense_2 (Dense)             (None, 500)               400500    \n",
      "                                                                 \n",
      " dense_3 (Dense)             (None, 10)                5010      \n",
      "                                                                 \n",
      "=================================================================\n",
      "Total params: 469360 (1.79 MB)\n",
      "Trainable params: 469360 (1.79 MB)\n",
      "Non-trainable params: 0 (0.00 Byte)\n",
      "_________________________________________________________________\n",
      "Epoch 1/5\n",
      "47/47 [==============================] - 6s 125ms/step - loss: 0.7120 - accuracy: 0.7890 - val_loss: 0.2874 - val_accuracy: 0.9121\n",
      "Epoch 2/5\n",
      "47/47 [==============================] - 6s 125ms/step - loss: 0.1881 - accuracy: 0.9457 - val_loss: 0.1727 - val_accuracy: 0.9443\n",
      "Epoch 3/5\n",
      "47/47 [==============================] - 5s 118ms/step - loss: 0.1168 - accuracy: 0.9663 - val_loss: 0.1446 - val_accuracy: 0.9558\n",
      "Epoch 4/5\n",
      "47/47 [==============================] - 6s 125ms/step - loss: 0.0820 - accuracy: 0.9760 - val_loss: 0.1192 - val_accuracy: 0.9635\n",
      "Epoch 5/5\n",
      "47/47 [==============================] - 6s 134ms/step - loss: 0.0531 - accuracy: 0.9850 - val_loss: 0.0972 - val_accuracy: 0.9701\n",
      "313/313 [==============================] - 2s 5ms/step - loss: 0.0770 - accuracy: 0.9752\n",
      "\n",
      "Test score:  0.07698854058980942\n",
      "Test accuracy: 0.9751999974250793\n"
     ]
    }
   ],
   "source": [
    "## Train the network\n",
    "(X_train, y_train), (X_test, y_test) = datasets.mnist.load_data()\n",
    "\n",
    "# reshape\n",
    "X_train = X_train.reshape((60000, 28, 28, 1))\n",
    "X_test = X_test.reshape((10000, 28, 28, 1))\n",
    "\n",
    "# normalize\n",
    "X_train, X_test = X_train / 255.0, X_test / 255.0\n",
    "\n",
    "# cast\n",
    "X_train = X_train.astype('float32')\n",
    "X_test = X_test.astype('float32')\n",
    "\n",
    "# convert class vectors to binary class matices\n",
    "y_train = tf.keras.utils.to_categorical(y_train, NB_CLASSES)\n",
    "y_test = tf.keras.utils.to_categorical(y_test, NB_CLASSES)\n",
    "\n",
    "# intalize the optimizer and model\n",
    "model = LeNet.build(input_shape=INPUT_SHAPE, classes=NB_CLASSES)\n",
    "model.compile(loss=\"categorical_crossentropy\", optimizer=OPTIMIZER,\n",
    "              metrics=[\"accuracy\"])\n",
    "model.summary()\n",
    "\n",
    "# I've had the damndest time getting tensorboard to work, skipping\n",
    "#callbacks = [\n",
    "#    # Write TensorBoard logs to './logs' directory\n",
    "#    tf.keras.callbacks.TensorBoard(log_dir='./logs')\n",
    "#]\n",
    "\n",
    "# fit\n",
    "history = model.fit(X_train, y_train,\n",
    "                    batch_size=BATCH_SIZE, epochs=EPOCHS,\n",
    "                    verbose=VERBOSE, validation_split=VALIDATION_SPLIT,\n",
    "                    #callbacks=callbacks)\n",
    "                   )\n",
    "\n",
    "score = model.evaluate(X_test, y_test, verbose=VERBOSE)\n",
    "print(\"\\nTest score: \", score[0])\n",
    "print(\"Test accuracy:\", score[1])"
   ]
  },
  {
   "cell_type": "code",
   "execution_count": 15,
   "id": "e82680be-8fdd-4db1-ac97-a858dd035a69",
   "metadata": {},
   "outputs": [
    {
     "data": {
      "image/png": "[encoded data removed]",
      "text/plain": [
       "<Figure size 640x480 with 1 Axes>"
      ]
     },
     "metadata": {},
     "output_type": "display_data"
    }
   ],
   "source": [
    "import matplotlib.pyplot as plt\n",
    "\n",
    "#plt.plot(history.history['loss'], label='loss')\n",
    "#plt.plot(history.history['val_loss'], label='val_loss')\n",
    "plt.plot(history.history['accuracy'], label='accuracy')\n",
    "plt.plot(history.history['val_accuracy'], label='val_accuracy')\n",
    "plt.xlabel('Epoch')\n",
    "plt.legend()\n",
    "plt.grid(True)\n",
    "plt.show()"
   ]
  },
  {
   "cell_type": "code",
   "execution_count": null,
   "id": "578cda54-4533-4f3d-9c86-98196e54cffa",
   "metadata": {},
   "outputs": [],
   "source": []
  },
  {
   "cell_type": "code",
   "execution_count": null,
   "id": "4f3a3796-e215-4e9b-b151-7b5dab4c9dd0",
   "metadata": {},
   "outputs": [],
   "source": []
  },
  {
   "cell_type": "code",
   "execution_count": null,
   "id": "a4404500-6346-467e-bae0-e13331491952",
   "metadata": {},
   "outputs": [],
   "source": []
  }
 ],
 "metadata": {
  "kernelspec": {
   "display_name": "Python 3 (ipykernel)",
   "language": "python",
   "name": "python3"
  },
  "language_info": {
   "codemirror_mode": {
    "name": "ipython",
    "version": 3
   },
   "file_extension": ".py",
   "mimetype": "text/x-python",
   "name": "python",
   "nbconvert_exporter": "python",
   "pygments_lexer": "ipython3",
   "version": "3.11.0rc1"
  }
 },
 "nbformat": 4,
 "nbformat_minor": 5
}
