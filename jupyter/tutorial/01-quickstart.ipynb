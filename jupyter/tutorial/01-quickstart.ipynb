{
 "cells": [
  {
   "cell_type": "markdown",
   "id": "492611e1-11d9-41d4-a6bd-6137972ed976",
   "metadata": {},
   "source": [
    "#### This short introduction uses <a href=\"https://www.tensorflow.org/guide/keras/overview\">Keras</a> to:\n",
    "\n",
    "    - Load a prebuilt dataset.\n",
    "    - Build a neural network machine learning model that classifies images.\n",
    "    - Train this neural network.\n",
    "    - Evaluate the accuracy of the model.\n",
    "\n",
    "#### This tutorial is a <a href=\"https://colab.research.google.com/notebooks/welcome.ipynb\">Google Colaboratory</a> notebook. Python programs are run directly in the browser—a great way to learn and use TensorFlow. To follow this tutorial, run the notebook in Google Colab by clicking the button at the top of this page.\n",
    "\n",
    "    - In Colab, connect to a Python runtime: At the top-right of the menu bar, select CONNECT.\n",
    "    - To run all the code in the notebook, select Runtime > Run all. To run the code cells one at a time, hover over each cell and select the Run cell icon."
   ]
  },
  {
   "cell_type": "markdown",
   "id": "f7f23ffd-de1b-42c7-9ac7-ab9ff4039743",
   "metadata": {},
   "source": [
    "### Set up TensorFlow\n",
    "\n",
    "Import TensorFlow into your program to get started:"
   ]
  },
  {
   "cell_type": "code",
   "execution_count": 1,
   "id": "b0cce0fa-efee-4b3b-bd51-dc4884d9b605",
   "metadata": {},
   "outputs": [
    {
     "name": "stderr",
     "output_type": "stream",
     "text": [
      "2024-05-20 03:43:56.519010: I tensorflow/tsl/cuda/cudart_stub.cc:28] Could not find cuda drivers on your machine, GPU will not be used.\n",
      "2024-05-20 03:43:56.569276: E tensorflow/compiler/xla/stream_executor/cuda/cuda_dnn.cc:9342] Unable to register cuDNN factory: Attempting to register factory for plugin cuDNN when one has already been registered\n",
      "2024-05-20 03:43:56.569309: E tensorflow/compiler/xla/stream_executor/cuda/cuda_fft.cc:609] Unable to register cuFFT factory: Attempting to register factory for plugin cuFFT when one has already been registered\n",
      "2024-05-20 03:43:56.569337: E tensorflow/compiler/xla/stream_executor/cuda/cuda_blas.cc:1518] Unable to register cuBLAS factory: Attempting to register factory for plugin cuBLAS when one has already been registered\n",
      "2024-05-20 03:43:56.575624: I tensorflow/tsl/cuda/cudart_stub.cc:28] Could not find cuda drivers on your machine, GPU will not be used.\n",
      "2024-05-20 03:43:56.576150: I tensorflow/core/platform/cpu_feature_guard.cc:182] This TensorFlow binary is optimized to use available CPU instructions in performance-critical operations.\n",
      "To enable the following instructions: AVX2 FMA, in other operations, rebuild TensorFlow with the appropriate compiler flags.\n",
      "2024-05-20 03:43:57.640290: W tensorflow/compiler/tf2tensorrt/utils/py_utils.cc:38] TF-TRT Warning: Could not find TensorRT\n"
     ]
    },
    {
     "name": "stdout",
     "output_type": "stream",
     "text": [
      "TensorFlow version: 2.14.0\n"
     ]
    }
   ],
   "source": [
    "#import tensorrt\n",
    "import tensorflow as tf\n",
    "print(\"TensorFlow version:\", tf.__version__)"
   ]
  },
  {
   "cell_type": "code",
   "execution_count": 2,
   "id": "beeed811-ffa9-4d19-aac4-abc91e97af56",
   "metadata": {},
   "outputs": [
    {
     "data": {
      "text/plain": [
       "'11.8'"
      ]
     },
     "execution_count": 2,
     "metadata": {},
     "output_type": "execute_result"
    }
   ],
   "source": [
    "sys_details = tf.sysconfig.get_build_info()\n",
    "sys_details[\"cuda_version\"]"
   ]
  },
  {
   "cell_type": "code",
   "execution_count": null,
   "id": "3f76b691-0f95-4ff6-b61c-2c3e3f7b3e2d",
   "metadata": {},
   "outputs": [],
   "source": []
  }
 ],
 "metadata": {
  "kernelspec": {
   "display_name": "Python 3 (ipykernel)",
   "language": "python",
   "name": "python3"
  },
  "language_info": {
   "codemirror_mode": {
    "name": "ipython",
    "version": 3
   },
   "file_extension": ".py",
   "mimetype": "text/x-python",
   "name": "python",
   "nbconvert_exporter": "python",
   "pygments_lexer": "ipython3",
   "version": "3.11.6"
  }
 },
 "nbformat": 4,
 "nbformat_minor": 5
}
