{
 "cells": [
  {
   "cell_type": "markdown",
   "id": "5306eb41-d215-44c4-bcd7-6854d5bc2870",
   "metadata": {},
   "source": [
    "Pulled from: https://www.tensorflow.org/tutorials/quickstart/beginner <br/>\n",
    "In particular this is https://www.tensorflow.org/tutorials/quickstart/beginner <br/>\n",
    "Use's the Keras (https://www.tensorflow.org/guide/keras/overview) "
   ]
  },
  {
   "cell_type": "markdown",
   "id": "492611e1-11d9-41d4-a6bd-6137972ed976",
   "metadata": {},
   "source": [
    "#### This short introduction uses <a href=\"https://www.tensorflow.org/guide/keras/overview\">Keras</a> to:\n",
    "\n",
    "    - Load a prebuilt dataset.\n",
    "    - Build a neural network machine learning model that classifies images.\n",
    "    - Train this neural network.\n",
    "    - Evaluate the accuracy of the model.\n",
    "\n",
    "#### This tutorial is a <a href=\"https://colab.research.google.com/notebooks/welcome.ipynb\">Google Colaboratory</a> notebook. Python programs are run directly in the browser—a great way to learn and use TensorFlow. To follow this tutorial, run the notebook in Google Colab by clicking the button at the top of this page.\n",
    "\n",
    "    - In Colab, connect to a Python runtime: At the top-right of the menu bar, select CONNECT.\n",
    "    - To run all the code in the notebook, select Runtime > Run all. To run the code cells one at a time, hover over each cell and select the Run cell icon."
   ]
  },
  {
   "cell_type": "markdown",
   "id": "f7f23ffd-de1b-42c7-9ac7-ab9ff4039743",
   "metadata": {},
   "source": [
    "### Set up TensorFlow\n",
    "\n",
    "Import TensorFlow into your program to get started:"
   ]
  },
  {
   "cell_type": "code",
   "execution_count": 1,
   "id": "b0cce0fa-efee-4b3b-bd51-dc4884d9b605",
   "metadata": {},
   "outputs": [
    {
     "name": "stderr",
     "output_type": "stream",
     "text": [
      "2024-05-21 04:02:01.652153: I tensorflow/core/platform/cpu_feature_guard.cc:210] This TensorFlow binary is optimized to use available CPU instructions in performance-critical operations.\n",
      "To enable the following instructions: AVX2 FMA, in other operations, rebuild TensorFlow with the appropriate compiler flags.\n"
     ]
    },
    {
     "name": "stdout",
     "output_type": "stream",
     "text": [
      "TensorFlow version: 2.16.1\n"
     ]
    }
   ],
   "source": [
    "#import tensorrt\n",
    "import tensorflow as tf\n",
    "print(\"TensorFlow version:\", tf.__version__)"
   ]
  },
  {
   "cell_type": "markdown",
   "id": "ece27017-d28e-4ed0-b742-1b6f617c9fb3",
   "metadata": {},
   "source": [
    "### Load a dataset\n",
    "\n",
    "Load and prepare the MNIST dataset. The pixel values of the images range from 0 through 255. Scale these values to a range of 0 to 1 by dividing the values by 255.0. This also converts the sample data from integers to floating-point numbers:"
   ]
  },
  {
   "cell_type": "code",
   "execution_count": 3,
   "id": "3f76b691-0f95-4ff6-b61c-2c3e3f7b3e2d",
   "metadata": {},
   "outputs": [
    {
     "name": "stdout",
     "output_type": "stream",
     "text": [
      "Downloading data from https://storage.googleapis.com/tensorflow/tf-keras-datasets/mnist.npz\n",
      "\u001b[1m11490434/11490434\u001b[0m \u001b[32m━━━━━━━━━━━━━━━━━━━━\u001b[0m\u001b[37m\u001b[0m \u001b[1m0s\u001b[0m 0us/step\n"
     ]
    }
   ],
   "source": [
    "mnist = tf.keras.datasets.mnist\n",
    "\n",
    "(x_train, y_train), (x_test, y_test) = mnist.load_data()\n",
    "x_train, x_test = x_train / 255.0, x_test / 255.0"
   ]
  },
  {
   "cell_type": "markdown",
   "id": "261fe841-f90c-4a78-b1d7-e210bd5430ec",
   "metadata": {},
   "source": [
    "### Build a machine learning model\n",
    "\n",
    "Build a <a href=\"https://www.tensorflow.org/api_docs/python/tf/keras/Sequential\">tf.keras.Sequential</a> model:"
   ]
  },
  {
   "cell_type": "code",
   "execution_count": 4,
   "id": "6b89ca02-8a2b-42be-be9d-b004940b7982",
   "metadata": {},
   "outputs": [
    {
     "name": "stderr",
     "output_type": "stream",
     "text": [
      "/usr/local/lib/python3.11/dist-packages/keras/src/layers/reshaping/flatten.py:37: UserWarning: Do not pass an `input_shape`/`input_dim` argument to a layer. When using Sequential models, prefer using an `Input(shape)` object as the first layer in the model instead.\n",
      "  super().__init__(**kwargs)\n"
     ]
    }
   ],
   "source": [
    "model = tf.keras.models.Sequential([\n",
    "  tf.keras.layers.Flatten(input_shape=(28, 28)),\n",
    "  tf.keras.layers.Dense(128, activation='relu'),\n",
    "  tf.keras.layers.Dropout(0.2),\n",
    "  tf.keras.layers.Dense(10)\n",
    "])"
   ]
  },
  {
   "cell_type": "markdown",
   "id": "df8129f7-b4db-4aaa-b39b-749858e4c17a",
   "metadata": {},
   "source": [
    "<a href=\"https://www.tensorflow.org/guide/keras/sequential_model\">Sequential</a> is useful for stacking layers where each layer has one input <a href=\"https://www.tensorflow.org/guide/tensor\">tensor</a> and one output tensor. Layers are functions with a known mathematical structure that can be reused and have trainable variables. Most TensorFlow models are composed of layers. This model uses the <a href=\"https://www.tensorflow.org/api_docs/python/tf/keras/layers/Flatten\">Flatten</a>, <a href=\"https://www.tensorflow.org/api_docs/python/tf/keras/layers/Dense\">Dense</a>, and <a href=\"https://www.tensorflow.org/api_docs/python/tf/keras/layers/Dropout\">Dropout</a> layers. <br/>\n",
    "\n",
    "For each example, the model returns a vector of <a href=\"https://developers.google.com/machine-learning/glossary#logits\">logits</a> or <a href=\"https://developers.google.com/machine-learning/glossary#log-odds\">log-odds</a> scores, one for each class."
   ]
  },
  {
   "cell_type": "code",
   "execution_count": 5,
   "id": "e9b019b4-adc7-4ab1-a6a7-b3a61e487981",
   "metadata": {},
   "outputs": [
    {
     "data": {
      "text/plain": [
       "array([[-0.6886557 ,  0.5581003 , -0.35942563, -0.09931029,  0.42984626,\n",
       "         0.16283825,  0.38603568, -0.03345186, -0.12695028,  0.08354276]],\n",
       "      dtype=float32)"
      ]
     },
     "execution_count": 5,
     "metadata": {},
     "output_type": "execute_result"
    }
   ],
   "source": [
    "predictions = model(x_train[:1]).numpy()\n",
    "predictions"
   ]
  },
  {
   "cell_type": "markdown",
   "id": "6c899be8-237b-4017-83fc-ac10e5f8222a",
   "metadata": {},
   "source": [
    "The <a href=\"https://www.tensorflow.org/api_docs/python/tf/nn/softmax\">tf.nn.softmax</a> function converts these logits to probabilities for each class: "
   ]
  },
  {
   "cell_type": "code",
   "execution_count": 6,
   "id": "05fe9254-4401-4dc6-82ca-8809dd621964",
   "metadata": {},
   "outputs": [
    {
     "data": {
      "text/plain": [
       "array([[0.04577086, 0.1592386 , 0.06361682, 0.08251607, 0.14007103,\n",
       "        0.10724777, 0.13406692, 0.0881334 , 0.08026657, 0.09907194]],\n",
       "      dtype=float32)"
      ]
     },
     "execution_count": 6,
     "metadata": {},
     "output_type": "execute_result"
    }
   ],
   "source": [
    "tf.nn.softmax(predictions).numpy()"
   ]
  },
  {
   "cell_type": "markdown",
   "id": "39c367b6-59b4-4072-a109-774ecc3185b5",
   "metadata": {},
   "source": [
    "Define a loss function for training using <a href=\"https://www.tensorflow.org/api_docs/python/tf/keras/losses/SparseCategoricalCrossentropy\">losses.SparseCategoricalCrossentropy</a>:"
   ]
  },
  {
   "cell_type": "code",
   "execution_count": 7,
   "id": "f9b512a7-fd36-46a1-9dc5-1c2388ac9114",
   "metadata": {},
   "outputs": [],
   "source": [
    "loss_fn = tf.keras.losses.SparseCategoricalCrossentropy(from_logits=True)"
   ]
  },
  {
   "cell_type": "markdown",
   "id": "5aa992aa-1de4-46a7-9cf7-6cd22342cd59",
   "metadata": {},
   "source": [
    "The loss function takes a vector of ground truth values and a vector of logits and returns a scalar loss for each example. This loss is equal to the negative log probability of the true class: The loss is zero if the model is sure of the correct class.\n",
    "<br />&nbsp;<br />\n",
    "This untrained model gives probabilities close to random (1/10 for each class), so the initial loss should be close to -tf.math.log(1/10) ~= 2.3."
   ]
  },
  {
   "cell_type": "code",
   "execution_count": 8,
   "id": "895936d6-1936-4e74-a7c3-53be8f8aa23f",
   "metadata": {},
   "outputs": [
    {
     "data": {
      "text/plain": [
       "2.2326136"
      ]
     },
     "execution_count": 8,
     "metadata": {},
     "output_type": "execute_result"
    }
   ],
   "source": [
    "loss_fn(y_train[:1], predictions).numpy()"
   ]
  },
  {
   "cell_type": "markdown",
   "id": "2d3d86ad-51ed-49b2-874a-29b8d7d783af",
   "metadata": {},
   "source": [
    "Before you start training, configure and compile the model using Keras <a href=\"https://www.tensorflow.org/api_docs/python/tf/keras/Model#compile\">Model.compile</a>. Set the <a href=\"https://www.tensorflow.org/api_docs/python/tf/keras/optimizers\">optimizer</a> class to adam, set the loss to the loss_fn function you defined earlier, and specify a metric to be evaluated for the model by setting the metrics parameter to accuracy."
   ]
  },
  {
   "cell_type": "code",
   "execution_count": 9,
   "id": "0a8284c0-2d75-4b40-a786-46e158181a4f",
   "metadata": {},
   "outputs": [],
   "source": [
    "model.compile(optimizer='adam',\n",
    "              loss=loss_fn,\n",
    "              metrics=['accuracy'])"
   ]
  },
  {
   "cell_type": "markdown",
   "id": "4e37b9dc-473a-4a31-af0b-f08b36cf03fc",
   "metadata": {},
   "source": [
    "### Train and evaluate your model\n",
    "\n",
    "Use the <a href=\"https://www.tensorflow.org/api_docs/python/tf/keras/Model#fit\">Model.fit</a> method to adjust your model parameters and minimize the loss: "
   ]
  },
  {
   "cell_type": "code",
   "execution_count": 10,
   "id": "383232cb-0303-441a-9ccb-e50f4e256f35",
   "metadata": {},
   "outputs": [
    {
     "name": "stdout",
     "output_type": "stream",
     "text": [
      "Epoch 1/5\n",
      "\u001b[1m1875/1875\u001b[0m \u001b[32m━━━━━━━━━━━━━━━━━━━━\u001b[0m\u001b[37m\u001b[0m \u001b[1m3s\u001b[0m 1ms/step - accuracy: 0.8621 - loss: 0.4753\n",
      "Epoch 2/5\n",
      "\u001b[1m1875/1875\u001b[0m \u001b[32m━━━━━━━━━━━━━━━━━━━━\u001b[0m\u001b[37m\u001b[0m \u001b[1m2s\u001b[0m 1ms/step - accuracy: 0.9583 - loss: 0.1428\n",
      "Epoch 3/5\n",
      "\u001b[1m1875/1875\u001b[0m \u001b[32m━━━━━━━━━━━━━━━━━━━━\u001b[0m\u001b[37m\u001b[0m \u001b[1m2s\u001b[0m 1ms/step - accuracy: 0.9674 - loss: 0.1089\n",
      "Epoch 4/5\n",
      "\u001b[1m1875/1875\u001b[0m \u001b[32m━━━━━━━━━━━━━━━━━━━━\u001b[0m\u001b[37m\u001b[0m \u001b[1m3s\u001b[0m 1ms/step - accuracy: 0.9723 - loss: 0.0882\n",
      "Epoch 5/5\n",
      "\u001b[1m1875/1875\u001b[0m \u001b[32m━━━━━━━━━━━━━━━━━━━━\u001b[0m\u001b[37m\u001b[0m \u001b[1m3s\u001b[0m 1ms/step - accuracy: 0.9769 - loss: 0.0747\n"
     ]
    },
    {
     "data": {
      "text/plain": [
       "<keras.src.callbacks.history.History at 0x7f8c6e510490>"
      ]
     },
     "execution_count": 10,
     "metadata": {},
     "output_type": "execute_result"
    }
   ],
   "source": [
    "model.fit(x_train, y_train, epochs=5)"
   ]
  },
  {
   "cell_type": "markdown",
   "id": "f7f33f2b-446f-4adf-a002-1c161a252750",
   "metadata": {},
   "source": [
    "The <a href=\"https://www.tensorflow.org/api_docs/python/tf/keras/Model#evaluate\">Model.evaluate method</a> checks the model's performance, usually on a <a href=\"https://developers.google.com/machine-learning/glossary#validation-set\">validation set</a> or <a href=\"https://developers.google.com/machine-learning/glossary#test-set\">test set</a>."
   ]
  },
  {
   "cell_type": "code",
   "execution_count": 11,
   "id": "e94245a2-3919-4eb8-aacf-55b6c095c05b",
   "metadata": {},
   "outputs": [
    {
     "name": "stdout",
     "output_type": "stream",
     "text": [
      "313/313 - 0s - 955us/step - accuracy: 0.9768 - loss: 0.0767\n"
     ]
    },
    {
     "data": {
      "text/plain": [
       "[0.07671322673559189, 0.9768000245094299]"
      ]
     },
     "execution_count": 11,
     "metadata": {},
     "output_type": "execute_result"
    }
   ],
   "source": [
    "model.evaluate(x_test,  y_test, verbose=2)"
   ]
  },
  {
   "cell_type": "markdown",
   "id": "fd6d6df4-938f-4cda-baac-cf5ca1248359",
   "metadata": {},
   "source": [
    "The image classifier is now trained to ~98% accuracy on this dataset. To learn more, read the <a href=\"https://www.tensorflow.org/tutorials/\">TensorFlow tutorials</a>.\n",
    "<br/> &nbsp; <br/>\n",
    "If you want your model to return a probability, you can wrap the trained model, and attach the softmax to it:"
   ]
  },
  {
   "cell_type": "code",
   "execution_count": 12,
   "id": "770cbbef-534a-4bf3-86bc-858f310fe7fd",
   "metadata": {},
   "outputs": [],
   "source": [
    "probability_model = tf.keras.Sequential([\n",
    "  model,\n",
    "  tf.keras.layers.Softmax()\n",
    "])"
   ]
  },
  {
   "cell_type": "code",
   "execution_count": 13,
   "id": "561d30ea-2524-4bc5-81bd-7d8f21d91a6a",
   "metadata": {},
   "outputs": [
    {
     "data": {
      "text/plain": [
       "<tf.Tensor: shape=(5, 10), dtype=float32, numpy=\n",
       "array([[7.6793390e-07, 1.2574103e-08, 3.3460394e-05, 1.7217894e-03,\n",
       "        2.5024826e-11, 1.1242750e-05, 4.4609715e-14, 9.9821353e-01,\n",
       "        8.4939006e-07, 1.8349845e-05],\n",
       "       [3.3119282e-08, 1.4355188e-06, 9.9999809e-01, 2.1350881e-07,\n",
       "        4.6124929e-15, 2.3581952e-08, 9.2790184e-09, 2.9719960e-14,\n",
       "        2.0133879e-07, 1.5613985e-14],\n",
       "       [2.1069566e-06, 9.9678051e-01, 3.3129542e-04, 2.5011628e-05,\n",
       "        1.6017948e-05, 2.2500690e-05, 9.9518846e-05, 2.2309059e-03,\n",
       "        4.8583068e-04, 6.3430284e-06],\n",
       "       [9.9995863e-01, 1.8415207e-09, 1.2948097e-05, 3.5824254e-07,\n",
       "        1.7207165e-07, 1.5732432e-05, 9.5769738e-06, 1.7492753e-06,\n",
       "        2.6927237e-08, 8.5806226e-07],\n",
       "       [1.0297903e-06, 2.7294245e-09, 2.3051641e-06, 2.4559424e-07,\n",
       "        9.9981338e-01, 8.9006420e-07, 2.6420216e-06, 3.4762466e-05,\n",
       "        4.6724685e-07, 1.4418938e-04]], dtype=float32)>"
      ]
     },
     "execution_count": 13,
     "metadata": {},
     "output_type": "execute_result"
    }
   ],
   "source": [
    "probability_model(x_test[:5])"
   ]
  },
  {
   "cell_type": "markdown",
   "id": "6f878d63-185e-4a71-8d77-3cfab124206b",
   "metadata": {},
   "source": [
    "### Conclusion\n",
    "\n",
    "Congratulations! You have trained a machine learning model using a prebuilt dataset using the <a href=\"https://www.tensorflow.org/guide/keras/overview\">Keras</a> API.\n",
    "\n",
    "For more examples of using Keras, check out the <a href=\"https://www.tensorflow.org/tutorials/keras/\">tutorials</a>. To learn more about building models with Keras, read the <a href=\"https://www.tensorflow.org/guide/keras\">guides</a>. If you want learn more about loading and preparing data, see the tutorials on <a href=\"https://www.tensorflow.org/tutorials/load_data/images\">image data loading</a> or <a href=\"https://www.tensorflow.org/tutorials/load_data/csv\">CSV data loading</a>."
   ]
  },
  {
   "cell_type": "code",
   "execution_count": null,
   "id": "ecd40a1e-b27b-4a8d-8234-eeb7473043e7",
   "metadata": {},
   "outputs": [],
   "source": []
  }
 ],
 "metadata": {
  "kernelspec": {
   "display_name": "Python 3 (ipykernel)",
   "language": "python",
   "name": "python3"
  },
  "language_info": {
   "codemirror_mode": {
    "name": "ipython",
    "version": 3
   },
   "file_extension": ".py",
   "mimetype": "text/x-python",
   "name": "python",
   "nbconvert_exporter": "python",
   "pygments_lexer": "ipython3",
   "version": "3.11.0rc1"
  }
 },
 "nbformat": 4,
 "nbformat_minor": 5
}
