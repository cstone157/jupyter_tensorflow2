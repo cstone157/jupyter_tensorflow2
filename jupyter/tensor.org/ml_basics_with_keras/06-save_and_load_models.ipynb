{
 "cells": [
  {
   "cell_type": "markdown",
   "id": "40304d21-8cc6-40ba-b15c-669d24b1d98c",
   "metadata": {},
   "source": [
    "https://www.tensorflow.org/tutorials/keras/save_and_load"
   ]
  },
  {
   "cell_type": "markdown",
   "id": "d66653b8-46e0-47ba-9e5b-8d6e76db5362",
   "metadata": {},
   "source": [
    "### Save and load models\n",
    "\n",
    "Model progress can be saved during and after training. This means a model can resume where it left off and avoid long training times. Saving also means you can share your model and others can recreate your work. When publishing research models and techniques, most machine learning practitioners share:\n",
    "\n",
    "<ul>\n",
    "    <li>code to create the model, and</li>\n",
    "    <li>the trained weights, or parameters, for the model</li>\n",
    "</ul>\n",
    "\n",
    "Sharing this data helps others understand how the model works and try it themselves with new data."
   ]
  },
  {
   "cell_type": "markdown",
   "id": "710f6b44-d164-43ca-82dd-c8a71a5fd964",
   "metadata": {},
   "source": [
    "### Options\n",
    "\n",
    "There are different ways to save TensorFlow models depending on the API you're using. This guide uses <a href=\"https://www.tensorflow.org/guide/keras\">tf.keras</a>—a high-level API to build and train models in TensorFlow. The new, high-level .keras format used in this tutorial is recommended for saving Keras objects, as it provides robust, efficient name-based saving that is often easier to debug than low-level or legacy formats. For more advanced saving or serialization workflows, especially those involving custom objects, please refer to the <a href=\"https://www.tensorflow.org/guide/keras/save_and_serialize\">Save and load Keras models guide</a>. For other approaches, refer to the <a href=\"https://www.tensorflow.org/guide/saved_model\">Using the SavedModel format guide</a>.\n",
    "\n",
    "### Setup\n",
    "\n",
    "#### Installs and imports\n",
    "\n",
    "Install and import TensorFlow and dependencies:"
   ]
  },
  {
   "cell_type": "code",
   "execution_count": 2,
   "id": "532f0911-f311-4a03-8942-3b61b372e5dc",
   "metadata": {},
   "outputs": [
    {
     "name": "stdout",
     "output_type": "stream",
     "text": [
      "Requirement already satisfied: pyyaml in /usr/local/lib/python3.11/dist-packages (6.0.1)\n",
      "Requirement already satisfied: h5py in /usr/local/lib/python3.11/dist-packages (3.10.0)\n",
      "Requirement already satisfied: numpy>=1.17.3 in /usr/local/lib/python3.11/dist-packages (from h5py) (1.26.2)\n",
      "\u001b[33mWARNING: Running pip as the 'root' user can result in broken permissions and conflicting behaviour with the system package manager. It is recommended to use a virtual environment instead: https://pip.pypa.io/warnings/venv\u001b[0m\u001b[33m\n",
      "\u001b[0m\n",
      "\u001b[1m[\u001b[0m\u001b[34;49mnotice\u001b[0m\u001b[1;39;49m]\u001b[0m\u001b[39;49m A new release of pip is available: \u001b[0m\u001b[31;49m23.3.1\u001b[0m\u001b[39;49m -> \u001b[0m\u001b[32;49m24.0\u001b[0m\n",
      "\u001b[1m[\u001b[0m\u001b[34;49mnotice\u001b[0m\u001b[1;39;49m]\u001b[0m\u001b[39;49m To update, run: \u001b[0m\u001b[32;49mpython3 -m pip install --upgrade pip\u001b[0m\n"
     ]
    }
   ],
   "source": [
    "!pip install pyyaml h5py  # Required to save models in HDF5 format"
   ]
  },
  {
   "cell_type": "code",
   "execution_count": 3,
   "id": "33ac82e2-4b1c-417c-9645-5b3cf28f6034",
   "metadata": {},
   "outputs": [
    {
     "name": "stderr",
     "output_type": "stream",
     "text": [
      "2024-05-31 03:12:06.822049: I tensorflow/core/platform/cpu_feature_guard.cc:182] This TensorFlow binary is optimized to use available CPU instructions in performance-critical operations.\n",
      "To enable the following instructions: AVX2 FMA, in other operations, rebuild TensorFlow with the appropriate compiler flags.\n"
     ]
    },
    {
     "name": "stdout",
     "output_type": "stream",
     "text": [
      "2.15.0\n"
     ]
    }
   ],
   "source": [
    "import os\n",
    "\n",
    "import tensorflow as tf\n",
    "from tensorflow import keras\n",
    "\n",
    "print(tf.version.VERSION)"
   ]
  },
  {
   "cell_type": "markdown",
   "id": "67bf76a3-04be-4b71-a967-172f5f031735",
   "metadata": {},
   "source": [
    "### Get an example dataset\n",
    "\n",
    "To demonstrate how to save and load weights, you'll use the <a href=\"http://yann.lecun.com/exdb/mnist/\">MNIST dataset</a>. To speed up these runs, use the first 1000 examples:"
   ]
  },
  {
   "cell_type": "code",
   "execution_count": 4,
   "id": "b4b9572c-c1f4-4c18-8e3b-ebbf6333d01e",
   "metadata": {},
   "outputs": [
    {
     "name": "stdout",
     "output_type": "stream",
     "text": [
      "Downloading data from https://storage.googleapis.com/tensorflow/tf-keras-datasets/mnist.npz\n",
      "11490434/11490434 [==============================] - 1s 0us/step\n"
     ]
    }
   ],
   "source": [
    "(train_images, train_labels), (test_images, test_labels) = tf.keras.datasets.mnist.load_data()\n",
    "\n",
    "train_labels = train_labels[:1000]\n",
    "test_labels = test_labels[:1000]\n",
    "\n",
    "train_images = train_images[:1000].reshape(-1, 28 * 28) / 255.0\n",
    "test_images = test_images[:1000].reshape(-1, 28 * 28) / 255.0"
   ]
  },
  {
   "cell_type": "markdown",
   "id": "9f340c78-a928-49ea-8319-76d56c6ce664",
   "metadata": {},
   "source": [
    "### Define a model\n",
    "Start by building a simple sequential model:"
   ]
  },
  {
   "cell_type": "code",
   "execution_count": 5,
   "id": "f1663e81-8e66-4f46-ac61-e8893da16bbe",
   "metadata": {},
   "outputs": [
    {
     "name": "stdout",
     "output_type": "stream",
     "text": [
      "Model: \"sequential\"\n",
      "_________________________________________________________________\n",
      " Layer (type)                Output Shape              Param #   \n",
      "=================================================================\n",
      " dense (Dense)               (None, 512)               401920    \n",
      "                                                                 \n",
      " dropout (Dropout)           (None, 512)               0         \n",
      "                                                                 \n",
      " dense_1 (Dense)             (None, 10)                5130      \n",
      "                                                                 \n",
      "=================================================================\n",
      "Total params: 407050 (1.55 MB)\n",
      "Trainable params: 407050 (1.55 MB)\n",
      "Non-trainable params: 0 (0.00 Byte)\n",
      "_________________________________________________________________\n"
     ]
    }
   ],
   "source": [
    "# Define a simple sequential model\n",
    "def create_model():\n",
    "  model = tf.keras.Sequential([\n",
    "    keras.layers.Dense(512, activation='relu', input_shape=(784,)),\n",
    "    keras.layers.Dropout(0.2),\n",
    "    keras.layers.Dense(10)\n",
    "  ])\n",
    "\n",
    "  model.compile(optimizer='adam',\n",
    "                loss=tf.keras.losses.SparseCategoricalCrossentropy(from_logits=True),\n",
    "                metrics=[tf.keras.metrics.SparseCategoricalAccuracy()])\n",
    "\n",
    "  return model\n",
    "\n",
    "# Create a basic model instance\n",
    "model = create_model()\n",
    "\n",
    "# Display the model's architecture\n",
    "model.summary()"
   ]
  },
  {
   "cell_type": "markdown",
   "id": "861fbe54-35b5-4ce0-8d78-c99a00c7c6cd",
   "metadata": {},
   "source": [
    "### Save checkpoints during training\n",
    "\n",
    "You can use a trained model without having to retrain it, or pick-up training where you left off in case the training process was interrupted. The <a href=\"https://www.tensorflow.org/api_docs/python/tf/keras/callbacks/ModelCheckpoint\">tf.keras.callbacks.ModelCheckpoint</a> callback allows you to continually save the model both during and at the end of training.\n",
    "\n",
    "### Checkpoint callback usage\n",
    "\n",
    "Create a <a href=\"https://www.tensorflow.org/api_docs/python/tf/keras/callbacks/ModelCheckpoint\">tf.keras.callbacks.ModelCheckpoint</a> callback that saves weights only during training:"
   ]
  },
  {
   "cell_type": "code",
   "execution_count": 6,
   "id": "8a2afdad-a3a6-4e13-9522-e9e20ea75654",
   "metadata": {},
   "outputs": [
    {
     "name": "stdout",
     "output_type": "stream",
     "text": [
      "Epoch 1/10\n",
      "25/32 [======================>.......] - ETA: 0s - loss: 1.2749 - sparse_categorical_accuracy: 0.6463\n",
      "Epoch 1: saving model to training_1/cp.ckpt\n",
      "32/32 [==============================] - 1s 12ms/step - loss: 1.1412 - sparse_categorical_accuracy: 0.6870 - val_loss: 0.7272 - val_sparse_categorical_accuracy: 0.7770\n",
      "Epoch 2/10\n",
      "29/32 [==========================>...] - ETA: 0s - loss: 0.4331 - sparse_categorical_accuracy: 0.8804\n",
      "Epoch 2: saving model to training_1/cp.ckpt\n",
      "32/32 [==============================] - 0s 6ms/step - loss: 0.4216 - sparse_categorical_accuracy: 0.8820 - val_loss: 0.5347 - val_sparse_categorical_accuracy: 0.8380\n",
      "Epoch 3/10\n",
      "28/32 [=========================>....] - ETA: 0s - loss: 0.2758 - sparse_categorical_accuracy: 0.9308\n",
      "Epoch 3: saving model to training_1/cp.ckpt\n",
      "32/32 [==============================] - 0s 7ms/step - loss: 0.2808 - sparse_categorical_accuracy: 0.9250 - val_loss: 0.4581 - val_sparse_categorical_accuracy: 0.8500\n",
      "Epoch 4/10\n",
      "24/32 [=====================>........] - ETA: 0s - loss: 0.1922 - sparse_categorical_accuracy: 0.9583\n",
      "Epoch 4: saving model to training_1/cp.ckpt\n",
      "32/32 [==============================] - 0s 7ms/step - loss: 0.2015 - sparse_categorical_accuracy: 0.9520 - val_loss: 0.4399 - val_sparse_categorical_accuracy: 0.8540\n",
      "Epoch 5/10\n",
      "22/32 [===================>..........] - ETA: 0s - loss: 0.1633 - sparse_categorical_accuracy: 0.9616\n",
      "Epoch 5: saving model to training_1/cp.ckpt\n",
      "32/32 [==============================] - 0s 7ms/step - loss: 0.1620 - sparse_categorical_accuracy: 0.9620 - val_loss: 0.4190 - val_sparse_categorical_accuracy: 0.8580\n",
      "Epoch 6/10\n",
      "24/32 [=====================>........] - ETA: 0s - loss: 0.1050 - sparse_categorical_accuracy: 0.9818\n",
      "Epoch 6: saving model to training_1/cp.ckpt\n",
      "32/32 [==============================] - 0s 8ms/step - loss: 0.1142 - sparse_categorical_accuracy: 0.9780 - val_loss: 0.4129 - val_sparse_categorical_accuracy: 0.8700\n",
      "Epoch 7/10\n",
      "26/32 [=======================>......] - ETA: 0s - loss: 0.0890 - sparse_categorical_accuracy: 0.9844\n",
      "Epoch 7: saving model to training_1/cp.ckpt\n",
      "32/32 [==============================] - 0s 7ms/step - loss: 0.0871 - sparse_categorical_accuracy: 0.9870 - val_loss: 0.4103 - val_sparse_categorical_accuracy: 0.8640\n",
      "Epoch 8/10\n",
      "25/32 [======================>.......] - ETA: 0s - loss: 0.0701 - sparse_categorical_accuracy: 0.9925\n",
      "Epoch 8: saving model to training_1/cp.ckpt\n",
      "32/32 [==============================] - 0s 8ms/step - loss: 0.0671 - sparse_categorical_accuracy: 0.9930 - val_loss: 0.4098 - val_sparse_categorical_accuracy: 0.8690\n",
      "Epoch 9/10\n",
      "29/32 [==========================>...] - ETA: 0s - loss: 0.0544 - sparse_categorical_accuracy: 0.9957\n",
      "Epoch 9: saving model to training_1/cp.ckpt\n",
      "32/32 [==============================] - 0s 7ms/step - loss: 0.0527 - sparse_categorical_accuracy: 0.9960 - val_loss: 0.4150 - val_sparse_categorical_accuracy: 0.8660\n",
      "Epoch 10/10\n",
      "24/32 [=====================>........] - ETA: 0s - loss: 0.0401 - sparse_categorical_accuracy: 0.9974\n",
      "Epoch 10: saving model to training_1/cp.ckpt\n",
      "32/32 [==============================] - 0s 7ms/step - loss: 0.0374 - sparse_categorical_accuracy: 0.9980 - val_loss: 0.4153 - val_sparse_categorical_accuracy: 0.8690\n"
     ]
    },
    {
     "data": {
      "text/plain": [
       "<keras.src.callbacks.History at 0x7f19437e8b90>"
      ]
     },
     "execution_count": 6,
     "metadata": {},
     "output_type": "execute_result"
    }
   ],
   "source": [
    "checkpoint_path = \"training_1/cp.ckpt\"\n",
    "checkpoint_dir = os.path.dirname(checkpoint_path)\n",
    "\n",
    "# Create a callback that saves the model's weights\n",
    "cp_callback = tf.keras.callbacks.ModelCheckpoint(filepath=checkpoint_path,\n",
    "                                                 save_weights_only=True,\n",
    "                                                 verbose=1)\n",
    "\n",
    "# Train the model with the new callback\n",
    "model.fit(train_images, \n",
    "          train_labels,  \n",
    "          epochs=10,\n",
    "          validation_data=(test_images, test_labels),\n",
    "          callbacks=[cp_callback])  # Pass callback to training\n",
    "\n",
    "# This may generate warnings related to saving the state of the optimizer.\n",
    "# These warnings (and similar warnings throughout this notebook)\n",
    "# are in place to discourage outdated usage, and can be ignored."
   ]
  },
  {
   "cell_type": "markdown",
   "id": "d1016676-c94f-4118-8b3c-7a7b14b765e2",
   "metadata": {},
   "source": [
    "This creates a single collection of TensorFlow checkpoint files that are updated at the end of each epoch:"
   ]
  },
  {
   "cell_type": "code",
   "execution_count": 7,
   "id": "2e21837b-7391-42e9-a303-4f149682a6f5",
   "metadata": {},
   "outputs": [
    {
     "data": {
      "text/plain": [
       "['checkpoint', 'cp.ckpt.index', 'cp.ckpt.data-00000-of-00001']"
      ]
     },
     "execution_count": 7,
     "metadata": {},
     "output_type": "execute_result"
    }
   ],
   "source": [
    "os.listdir(checkpoint_dir)"
   ]
  },
  {
   "cell_type": "markdown",
   "id": "060bedf3-56b4-47a1-8254-1a4ab412ae78",
   "metadata": {},
   "source": [
    "As long as two models share the same architecture you can share weights between them. So, when restoring a model from weights-only, create a model with the same architecture as the original model and then set its weights.\n",
    "\n",
    "Now rebuild a fresh, untrained model and evaluate it on the test set. An untrained model will perform at chance levels (~10% accuracy):"
   ]
  },
  {
   "cell_type": "code",
   "execution_count": 8,
   "id": "a1b28f45-df3d-4e37-a3bf-be621c8b6894",
   "metadata": {},
   "outputs": [
    {
     "name": "stdout",
     "output_type": "stream",
     "text": [
      "32/32 - 0s - loss: 2.3038 - sparse_categorical_accuracy: 0.1400 - 136ms/epoch - 4ms/step\n",
      "Untrained model, accuracy: 14.00%\n"
     ]
    }
   ],
   "source": [
    "# Create a basic model instance\n",
    "model = create_model()\n",
    "\n",
    "# Evaluate the model\n",
    "loss, acc = model.evaluate(test_images, test_labels, verbose=2)\n",
    "print(\"Untrained model, accuracy: {:5.2f}%\".format(100 * acc))"
   ]
  },
  {
   "cell_type": "markdown",
   "id": "e7812387-44c5-4984-b9a4-3c306fd83947",
   "metadata": {},
   "source": [
    "Then load the weights from the checkpoint and re-evaluate:"
   ]
  },
  {
   "cell_type": "code",
   "execution_count": 9,
   "id": "5eeb4e9e-0c32-4e84-a31f-0f640225a9bd",
   "metadata": {},
   "outputs": [
    {
     "name": "stdout",
     "output_type": "stream",
     "text": [
      "32/32 - 0s - loss: 0.4153 - sparse_categorical_accuracy: 0.8690 - 55ms/epoch - 2ms/step\n",
      "Restored model, accuracy: 86.90%\n"
     ]
    }
   ],
   "source": [
    "# Loads the weights\n",
    "model.load_weights(checkpoint_path)\n",
    "\n",
    "# Re-evaluate the model\n",
    "loss, acc = model.evaluate(test_images, test_labels, verbose=2)\n",
    "print(\"Restored model, accuracy: {:5.2f}%\".format(100 * acc))"
   ]
  },
  {
   "cell_type": "markdown",
   "id": "00f90d46-bcc1-43b0-8c50-3f99bdb34d71",
   "metadata": {},
   "source": [
    "Checkpoint callback options\n",
    "\n",
    "The callback provides several options to provide unique names for checkpoints and adjust the checkpointing frequency.\n",
    "\n",
    "Train a new model, and save uniquely named checkpoints once every five epochs:"
   ]
  },
  {
   "cell_type": "code",
   "execution_count": 10,
   "id": "496177df-35f2-484c-9769-880688d94821",
   "metadata": {},
   "outputs": [
    {
     "name": "stdout",
     "output_type": "stream",
     "text": [
      "\n",
      "Epoch 5: saving model to training_2/cp-0005.ckpt\n",
      "\n",
      "Epoch 10: saving model to training_2/cp-0010.ckpt\n",
      "\n",
      "Epoch 15: saving model to training_2/cp-0015.ckpt\n",
      "\n",
      "Epoch 20: saving model to training_2/cp-0020.ckpt\n",
      "\n",
      "Epoch 25: saving model to training_2/cp-0025.ckpt\n",
      "\n",
      "Epoch 30: saving model to training_2/cp-0030.ckpt\n",
      "\n",
      "Epoch 35: saving model to training_2/cp-0035.ckpt\n",
      "\n",
      "Epoch 40: saving model to training_2/cp-0040.ckpt\n",
      "\n",
      "Epoch 45: saving model to training_2/cp-0045.ckpt\n",
      "\n",
      "Epoch 50: saving model to training_2/cp-0050.ckpt\n"
     ]
    },
    {
     "data": {
      "text/plain": [
       "<keras.src.callbacks.History at 0x7f1938330890>"
      ]
     },
     "execution_count": 10,
     "metadata": {},
     "output_type": "execute_result"
    }
   ],
   "source": [
    "# Include the epoch in the file name (uses `str.format`)\n",
    "checkpoint_path = \"training_2/cp-{epoch:04d}.ckpt\"\n",
    "checkpoint_dir = os.path.dirname(checkpoint_path)\n",
    "\n",
    "batch_size = 32\n",
    "\n",
    "# Calculate the number of batches per epoch\n",
    "import math\n",
    "n_batches = len(train_images) / batch_size\n",
    "n_batches = math.ceil(n_batches)    # round up the number of batches to the nearest whole integer\n",
    "\n",
    "# Create a callback that saves the model's weights every 5 epochs\n",
    "cp_callback = tf.keras.callbacks.ModelCheckpoint(\n",
    "    filepath=checkpoint_path, \n",
    "    verbose=1, \n",
    "    save_weights_only=True,\n",
    "    save_freq=5*n_batches)\n",
    "\n",
    "# Create a new model instance\n",
    "model = create_model()\n",
    "\n",
    "# Save the weights using the `checkpoint_path` format\n",
    "model.save_weights(checkpoint_path.format(epoch=0))\n",
    "\n",
    "# Train the model with the new callback\n",
    "model.fit(train_images, \n",
    "          train_labels,\n",
    "          epochs=50, \n",
    "          batch_size=batch_size, \n",
    "          callbacks=[cp_callback],\n",
    "          validation_data=(test_images, test_labels),\n",
    "          verbose=0)"
   ]
  },
  {
   "cell_type": "markdown",
   "id": "146453b6-d64d-4b17-aea3-935e7522b95e",
   "metadata": {},
   "source": [
    "Now, review the resulting checkpoints and choose the latest one:"
   ]
  },
  {
   "cell_type": "code",
   "execution_count": 11,
   "id": "08628685-06c6-4a1c-b37a-c13179daf71e",
   "metadata": {},
   "outputs": [
    {
     "data": {
      "text/plain": [
       "['cp-0045.ckpt.index',\n",
       " 'cp-0050.ckpt.data-00000-of-00001',\n",
       " 'cp-0015.ckpt.data-00000-of-00001',\n",
       " 'cp-0035.ckpt.index',\n",
       " 'cp-0000.ckpt.index',\n",
       " 'checkpoint',\n",
       " 'cp-0020.ckpt.data-00000-of-00001',\n",
       " 'cp-0010.ckpt.data-00000-of-00001',\n",
       " 'cp-0015.ckpt.index',\n",
       " 'cp-0000.ckpt.data-00000-of-00001',\n",
       " 'cp-0035.ckpt.data-00000-of-00001',\n",
       " 'cp-0020.ckpt.index',\n",
       " 'cp-0030.ckpt.data-00000-of-00001',\n",
       " 'cp-0010.ckpt.index',\n",
       " 'cp-0025.ckpt.data-00000-of-00001',\n",
       " 'cp-0030.ckpt.index',\n",
       " 'cp-0040.ckpt.index',\n",
       " 'cp-0005.ckpt.index',\n",
       " 'cp-0050.ckpt.index',\n",
       " 'cp-0005.ckpt.data-00000-of-00001',\n",
       " 'cp-0025.ckpt.index',\n",
       " 'cp-0040.ckpt.data-00000-of-00001',\n",
       " 'cp-0045.ckpt.data-00000-of-00001']"
      ]
     },
     "execution_count": 11,
     "metadata": {},
     "output_type": "execute_result"
    }
   ],
   "source": [
    "os.listdir(checkpoint_dir)"
   ]
  },
  {
   "cell_type": "code",
   "execution_count": 12,
   "id": "365d321e-30a8-458a-b209-6edba0876bfa",
   "metadata": {},
   "outputs": [
    {
     "data": {
      "text/plain": [
       "'training_2/cp-0050.ckpt'"
      ]
     },
     "execution_count": 12,
     "metadata": {},
     "output_type": "execute_result"
    }
   ],
   "source": [
    "latest = tf.train.latest_checkpoint(checkpoint_dir)\n",
    "latest"
   ]
  },
  {
   "cell_type": "markdown",
   "id": "121fcfd8-9552-4d5c-8e82-971a608128d2",
   "metadata": {},
   "source": [
    "To test, reset the model, and load the latest checkpoint:"
   ]
  },
  {
   "cell_type": "code",
   "execution_count": 13,
   "id": "cbc12a27-d972-4ded-bdfe-e14a9f704b37",
   "metadata": {},
   "outputs": [
    {
     "name": "stdout",
     "output_type": "stream",
     "text": [
      "32/32 - 0s - loss: 0.5008 - sparse_categorical_accuracy: 0.8700 - 123ms/epoch - 4ms/step\n",
      "Restored model, accuracy: 87.00%\n"
     ]
    }
   ],
   "source": [
    "# Create a new model instance\n",
    "model = create_model()\n",
    "\n",
    "# Load the previously saved weights\n",
    "model.load_weights(latest)\n",
    "\n",
    "# Re-evaluate the model\n",
    "loss, acc = model.evaluate(test_images, test_labels, verbose=2)\n",
    "print(\"Restored model, accuracy: {:5.2f}%\".format(100 * acc))"
   ]
  },
  {
   "cell_type": "markdown",
   "id": "20740d8e-5181-496f-b661-473e78e657a5",
   "metadata": {},
   "source": [
    "### What are these files?\n",
    "\n",
    "The above code stores the weights to a collection of <a href=\"https://www.tensorflow.org/guide/checkpoint\">checkpoint</a>-formatted files that contain only the trained weights in a binary format. Checkpoints contain:\n",
    "\n",
    "<ul>\n",
    "    <li>One or more shards that contain your model's weights.</li>\n",
    "    <li>An index file that indicates which weights are stored in which shard.</li>\n",
    "</ul>\n",
    "\n",
    "If you are training a model on a single machine, you'll have one shard with the suffix: .data-00000-of-00001\n",
    "\n",
    "### Manually save weights\n",
    "\n",
    "To save weights manually, use <a href=\"https://www.tensorflow.org/api_docs/python/tf/keras/Model#save_weights\">tf.keras.Model.save_weights</a>. By default, <a href=\"https://www.tensorflow.org/api_docs/python/tf/keras\">tf.keras</a>—and the <a href=\"https://www.tensorflow.org/api_docs/python/tf/keras/Model#save_weights\">Model.save_weights</a> method in particular—uses the TensorFlow <a href=\"https://www.tensorflow.org/guide/checkpoint\">Checkpoint</a> format with a .ckpt extension. To save in the HDF5 format with a .h5 extension, refer to the <a href=\"https://www.tensorflow.org/guide/keras/save_and_serialize\">Save and load models</a> guide."
   ]
  },
  {
   "cell_type": "code",
   "execution_count": 14,
   "id": "d8e88334-b420-4f03-bde3-2ec5789fdf51",
   "metadata": {},
   "outputs": [
    {
     "name": "stdout",
     "output_type": "stream",
     "text": [
      "32/32 - 0s - loss: 0.5008 - sparse_categorical_accuracy: 0.8700 - 116ms/epoch - 4ms/step\n",
      "Restored model, accuracy: 87.00%\n"
     ]
    }
   ],
   "source": [
    "# Save the weights\n",
    "model.save_weights('./checkpoints/my_checkpoint')\n",
    "\n",
    "# Create a new model instance\n",
    "model = create_model()\n",
    "\n",
    "# Restore the weights\n",
    "model.load_weights('./checkpoints/my_checkpoint')\n",
    "\n",
    "# Evaluate the model\n",
    "loss, acc = model.evaluate(test_images, test_labels, verbose=2)\n",
    "print(\"Restored model, accuracy: {:5.2f}%\".format(100 * acc))"
   ]
  },
  {
   "cell_type": "markdown",
   "id": "5fd66789-6734-463e-b69a-6998b8c7682d",
   "metadata": {},
   "source": [
    "### Save the entire model\n",
    "\n",
    "Call <a href=\"https://www.tensorflow.org/api_docs/python/tf/keras/Model#save\">tf.keras.Model.save</a> to save a model's architecture, weights, and training configuration in a single model.keras zip archive.\n",
    "\n",
    "An entire model can be saved in three different file formats (the new .keras format and two legacy formats: SavedModel, and HDF5). Saving a model as path/to/model.keras automatically saves in the latest format."
   ]
  },
  {
   "cell_type": "markdown",
   "id": "256fb517-ac52-4dd8-a9f0-b366e5dd9989",
   "metadata": {},
   "source": [
    "You can switch to the SavedModel format by:\n",
    "\n",
    "<ul>\n",
    "    <li>Passing save_format='tf' to save()</li>\n",
    "    <li>Passing a filename without an extension</li>\n",
    "</ul>\n",
    "\n",
    "You can switch to the H5 format by:\n",
    "\n",
    "<ul>\n",
    "    <li>Passing save_format='h5' to save()</li>\n",
    "    <li>Passing a filename that ends in .h5</li>\n",
    "</ul>\n",
    "\n",
    "Saving a fully-functional model is very useful—you can load them in TensorFlow.js (<a href=\"https://www.tensorflow.org/js/tutorials/conversion/import_saved_model\">Saved Model</a>, <a href=\"https://www.tensorflow.org/js/tutorials/conversion/import_keras\">HDF5</a>) and then train and run them in web browsers, or convert them to run on mobile devices using TensorFlow Lite (<a href=\"https://www.tensorflow.org/lite/models/convert/#convert_a_savedmodel_recommended_\">Saved Model</a>, <a href=\"https://www.tensorflow.org/lite/models/convert/#convert_a_keras_model_\">HDF5</a>)\n",
    "\n",
    "*Custom objects (for example, subclassed models or layers) require special attention when saving and loading. Refer to the Saving custom objects section below.\n",
    "\n",
    "### New high-level .keras format\n",
    "\n",
    "The new Keras v3 saving format, marked by the .keras extension, is a more simple, efficient format that implements name-based saving, ensuring what you load is exactly what you saved, from Python's perspective. This makes debugging much easier, and it is the recommended format for Keras.\n",
    "\n",
    "The section below illustrates how to save and restore the model in the .keras format."
   ]
  },
  {
   "cell_type": "code",
   "execution_count": 15,
   "id": "53f10ef9-f324-4525-aa0e-fde6477b1d8b",
   "metadata": {},
   "outputs": [
    {
     "name": "stdout",
     "output_type": "stream",
     "text": [
      "Epoch 1/5\n",
      "32/32 [==============================] - 1s 4ms/step - loss: 1.1601 - sparse_categorical_accuracy: 0.6570\n",
      "Epoch 2/5\n",
      "32/32 [==============================] - 0s 5ms/step - loss: 0.4195 - sparse_categorical_accuracy: 0.8870\n",
      "Epoch 3/5\n",
      "32/32 [==============================] - 0s 4ms/step - loss: 0.2768 - sparse_categorical_accuracy: 0.9300\n",
      "Epoch 4/5\n",
      "32/32 [==============================] - 0s 5ms/step - loss: 0.2079 - sparse_categorical_accuracy: 0.9530\n",
      "Epoch 5/5\n",
      "32/32 [==============================] - 0s 5ms/step - loss: 0.1555 - sparse_categorical_accuracy: 0.9650\n"
     ]
    }
   ],
   "source": [
    "# Create and train a new model instance.\n",
    "model = create_model()\n",
    "model.fit(train_images, train_labels, epochs=5)\n",
    "\n",
    "# Save the entire model as a `.keras` zip archive.\n",
    "model.save('my_model.keras')"
   ]
  },
  {
   "cell_type": "markdown",
   "id": "e56047cd-622d-428c-9cfe-06e0642f8bbe",
   "metadata": {},
   "source": [
    "Reload a fresh Keras model from the .keras zip archive:"
   ]
  },
  {
   "cell_type": "code",
   "execution_count": 16,
   "id": "655d0158-4acf-40c6-846a-a81aa61ba158",
   "metadata": {},
   "outputs": [
    {
     "name": "stdout",
     "output_type": "stream",
     "text": [
      "Model: \"sequential_5\"\n",
      "_________________________________________________________________\n",
      " Layer (type)                Output Shape              Param #   \n",
      "=================================================================\n",
      " dense_10 (Dense)            (None, 512)               401920    \n",
      "                                                                 \n",
      " dropout_5 (Dropout)         (None, 512)               0         \n",
      "                                                                 \n",
      " dense_11 (Dense)            (None, 10)                5130      \n",
      "                                                                 \n",
      "=================================================================\n",
      "Total params: 407050 (1.55 MB)\n",
      "Trainable params: 407050 (1.55 MB)\n",
      "Non-trainable params: 0 (0.00 Byte)\n",
      "_________________________________________________________________\n"
     ]
    }
   ],
   "source": [
    "new_model = tf.keras.models.load_model('my_model.keras')\n",
    "\n",
    "# Show the model architecture\n",
    "new_model.summary()"
   ]
  },
  {
   "cell_type": "markdown",
   "id": "e45d74d7-62a3-4845-b00d-8b6394684248",
   "metadata": {},
   "source": [
    "Try running evaluate and predict with the loaded model:"
   ]
  },
  {
   "cell_type": "code",
   "execution_count": 17,
   "id": "a9853d46-b431-46f8-a961-1766a9cc4936",
   "metadata": {},
   "outputs": [
    {
     "name": "stdout",
     "output_type": "stream",
     "text": [
      "WARNING:tensorflow:Detecting that an object or model or tf.train.Checkpoint is being deleted with unrestored values. See the following logs for the specific values in question. To silence these warnings, use `status.expect_partial()`. See https://www.tensorflow.org/api_docs/python/tf/train/Checkpoint#restorefor details about the status object returned by the restore function.\n",
      "WARNING:tensorflow:Value in checkpoint could not be found in the restored object: (root).optimizer._variables.1\n",
      "WARNING:tensorflow:Value in checkpoint could not be found in the restored object: (root).optimizer._variables.2\n",
      "WARNING:tensorflow:Value in checkpoint could not be found in the restored object: (root).optimizer._variables.3\n",
      "WARNING:tensorflow:Value in checkpoint could not be found in the restored object: (root).optimizer._variables.4\n",
      "WARNING:tensorflow:Value in checkpoint could not be found in the restored object: (root).optimizer._variables.5\n",
      "WARNING:tensorflow:Value in checkpoint could not be found in the restored object: (root).optimizer._variables.6\n",
      "WARNING:tensorflow:Value in checkpoint could not be found in the restored object: (root).optimizer._variables.7\n",
      "WARNING:tensorflow:Value in checkpoint could not be found in the restored object: (root).optimizer._variables.8\n",
      "WARNING:tensorflow:Detecting that an object or model or tf.train.Checkpoint is being deleted with unrestored values. See the following logs for the specific values in question. To silence these warnings, use `status.expect_partial()`. See https://www.tensorflow.org/api_docs/python/tf/train/Checkpoint#restorefor details about the status object returned by the restore function.\n",
      "WARNING:tensorflow:Value in checkpoint could not be found in the restored object: (root).optimizer._variables.1\n",
      "WARNING:tensorflow:Value in checkpoint could not be found in the restored object: (root).optimizer._variables.2\n",
      "WARNING:tensorflow:Value in checkpoint could not be found in the restored object: (root).optimizer._variables.3\n",
      "WARNING:tensorflow:Value in checkpoint could not be found in the restored object: (root).optimizer._variables.4\n",
      "WARNING:tensorflow:Value in checkpoint could not be found in the restored object: (root).optimizer._variables.5\n",
      "WARNING:tensorflow:Value in checkpoint could not be found in the restored object: (root).optimizer._variables.6\n",
      "WARNING:tensorflow:Value in checkpoint could not be found in the restored object: (root).optimizer._variables.7\n",
      "WARNING:tensorflow:Value in checkpoint could not be found in the restored object: (root).optimizer._variables.8\n",
      "32/32 - 0s - loss: 0.4159 - sparse_categorical_accuracy: 0.8660 - 135ms/epoch - 4ms/step\n",
      "Restored model, accuracy: 86.60%\n",
      "32/32 [==============================] - 0s 1ms/step\n",
      "(1000, 10)\n"
     ]
    }
   ],
   "source": [
    "# Evaluate the restored model\n",
    "loss, acc = new_model.evaluate(test_images, test_labels, verbose=2)\n",
    "print('Restored model, accuracy: {:5.2f}%'.format(100 * acc))\n",
    "\n",
    "print(new_model.predict(test_images).shape)"
   ]
  },
  {
   "cell_type": "markdown",
   "id": "c208e6e0-aeef-45d6-addc-6dc4f016fb7e",
   "metadata": {},
   "source": [
    "### SavedModel format\n",
    "\n",
    "The SavedModel format is another way to serialize models. Models saved in this format can be restored using <a href=\"https://www.tensorflow.org/api_docs/python/tf/keras/models/load_model\">tf.keras.models.load_model</a> and are compatible with TensorFlow Serving. The <a href=\"https://www.tensorflow.org/guide/saved_model\">SavedModel guide</a> goes into detail about how to serve/inspect the SavedModel. The section below illustrates the steps to save and restore the model."
   ]
  },
  {
   "cell_type": "code",
   "execution_count": 18,
   "id": "6de52285-0c83-4a00-a7c9-8c0a804498be",
   "metadata": {},
   "outputs": [
    {
     "name": "stdout",
     "output_type": "stream",
     "text": [
      "Epoch 1/5\n",
      "32/32 [==============================] - 1s 4ms/step - loss: 1.1898 - sparse_categorical_accuracy: 0.6630\n",
      "Epoch 2/5\n",
      "32/32 [==============================] - 0s 4ms/step - loss: 0.4549 - sparse_categorical_accuracy: 0.8720\n",
      "Epoch 3/5\n",
      "32/32 [==============================] - 0s 5ms/step - loss: 0.2956 - sparse_categorical_accuracy: 0.9170\n",
      "Epoch 4/5\n",
      "32/32 [==============================] - 0s 5ms/step - loss: 0.2191 - sparse_categorical_accuracy: 0.9470\n",
      "Epoch 5/5\n",
      "32/32 [==============================] - 0s 5ms/step - loss: 0.1611 - sparse_categorical_accuracy: 0.9650\n",
      "INFO:tensorflow:Assets written to: saved_model/my_model/assets\n"
     ]
    },
    {
     "name": "stderr",
     "output_type": "stream",
     "text": [
      "INFO:tensorflow:Assets written to: saved_model/my_model/assets\n"
     ]
    }
   ],
   "source": [
    "# Create and train a new model instance.\n",
    "model = create_model()\n",
    "model.fit(train_images, train_labels, epochs=5)\n",
    "\n",
    "# Save the entire model as a SavedModel.\n",
    "!mkdir -p saved_model\n",
    "model.save('saved_model/my_model')"
   ]
  },
  {
   "cell_type": "markdown",
   "id": "4d2dc8ed-00b1-447a-af56-2af45b2a49bb",
   "metadata": {},
   "source": [
    "The SavedModel format is a directory containing a protobuf binary and a TensorFlow checkpoint. Inspect the saved model directory:"
   ]
  },
  {
   "cell_type": "code",
   "execution_count": 19,
   "id": "a241d960-e02c-444d-bed4-e76f1d5347b4",
   "metadata": {},
   "outputs": [
    {
     "name": "stdout",
     "output_type": "stream",
     "text": [
      "my_model\n"
     ]
    }
   ],
   "source": [
    "# my_model directory\n",
    "!ls saved_model"
   ]
  },
  {
   "cell_type": "code",
   "execution_count": 20,
   "id": "057ababc-afe2-41b4-92ad-3dc6726f1f65",
   "metadata": {},
   "outputs": [
    {
     "name": "stdout",
     "output_type": "stream",
     "text": [
      "assets\tfingerprint.pb\tkeras_metadata.pb  saved_model.pb  variables\n"
     ]
    }
   ],
   "source": [
    "# Contains an assets folder, saved_model.pb, and variables folder.\n",
    "!ls saved_model/my_model"
   ]
  },
  {
   "cell_type": "markdown",
   "id": "2b88029e-9af3-4ef4-afdc-f529c8b11e4f",
   "metadata": {},
   "source": [
    "Reload a fresh Keras model from the saved model:"
   ]
  },
  {
   "cell_type": "code",
   "execution_count": 21,
   "id": "e154d0a3-1f2e-4ab8-b89d-f0d67f722328",
   "metadata": {},
   "outputs": [
    {
     "name": "stdout",
     "output_type": "stream",
     "text": [
      "Model: \"sequential_6\"\n",
      "_________________________________________________________________\n",
      " Layer (type)                Output Shape              Param #   \n",
      "=================================================================\n",
      " dense_12 (Dense)            (None, 512)               401920    \n",
      "                                                                 \n",
      " dropout_6 (Dropout)         (None, 512)               0         \n",
      "                                                                 \n",
      " dense_13 (Dense)            (None, 10)                5130      \n",
      "                                                                 \n",
      "=================================================================\n",
      "Total params: 407050 (1.55 MB)\n",
      "Trainable params: 407050 (1.55 MB)\n",
      "Non-trainable params: 0 (0.00 Byte)\n",
      "_________________________________________________________________\n"
     ]
    }
   ],
   "source": [
    "new_model = tf.keras.models.load_model('saved_model/my_model')\n",
    "\n",
    "# Check its architecture\n",
    "new_model.summary()"
   ]
  },
  {
   "cell_type": "markdown",
   "id": "529fa431-5cad-4733-a3f4-f8a2d8d189fa",
   "metadata": {},
   "source": [
    "The restored model is compiled with the same arguments as the original model. Try running evaluate and predict with the loaded model:"
   ]
  },
  {
   "cell_type": "code",
   "execution_count": 22,
   "id": "f9559dbb-ac6c-454c-9cdb-6911727fde74",
   "metadata": {},
   "outputs": [
    {
     "name": "stdout",
     "output_type": "stream",
     "text": [
      "32/32 - 0s - loss: 0.4249 - sparse_categorical_accuracy: 0.8640 - 135ms/epoch - 4ms/step\n",
      "Restored model, accuracy: 86.40%\n",
      "32/32 [==============================] - 0s 1ms/step\n",
      "(1000, 10)\n"
     ]
    }
   ],
   "source": [
    "# Evaluate the restored model\n",
    "loss, acc = new_model.evaluate(test_images, test_labels, verbose=2)\n",
    "print('Restored model, accuracy: {:5.2f}%'.format(100 * acc))\n",
    "\n",
    "print(new_model.predict(test_images).shape)"
   ]
  },
  {
   "cell_type": "markdown",
   "id": "de1c597a-d485-4663-9562-3cb758385159",
   "metadata": {},
   "source": [
    "### HDF5 format\n",
    "\n",
    "Keras provides a basic legacy high-level save format using the <a href=\"https://en.wikipedia.org/wiki/Hierarchical_Data_Format\">HDF5</a> standard. "
   ]
  },
  {
   "cell_type": "code",
   "execution_count": 23,
   "id": "5274432d-eca6-4967-a91a-0851450c814a",
   "metadata": {},
   "outputs": [
    {
     "name": "stdout",
     "output_type": "stream",
     "text": [
      "Epoch 1/5\n",
      "32/32 [==============================] - 1s 5ms/step - loss: 1.1639 - sparse_categorical_accuracy: 0.6690\n",
      "Epoch 2/5\n",
      "32/32 [==============================] - 0s 5ms/step - loss: 0.4150 - sparse_categorical_accuracy: 0.8930\n",
      "Epoch 3/5\n",
      "32/32 [==============================] - 0s 4ms/step - loss: 0.2933 - sparse_categorical_accuracy: 0.9210\n",
      "Epoch 4/5\n",
      "32/32 [==============================] - 0s 6ms/step - loss: 0.2066 - sparse_categorical_accuracy: 0.9500\n",
      "Epoch 5/5\n",
      "32/32 [==============================] - 0s 4ms/step - loss: 0.1450 - sparse_categorical_accuracy: 0.9740\n"
     ]
    },
    {
     "name": "stderr",
     "output_type": "stream",
     "text": [
      "/usr/local/lib/python3.11/dist-packages/keras/src/engine/training.py:3103: UserWarning: You are saving your model as an HDF5 file via `model.save()`. This file format is considered legacy. We recommend using instead the native Keras format, e.g. `model.save('my_model.keras')`.\n",
      "  saving_api.save_model(\n"
     ]
    }
   ],
   "source": [
    "# Create and train a new model instance.\n",
    "model = create_model()\n",
    "model.fit(train_images, train_labels, epochs=5)\n",
    "\n",
    "# Save the entire model to a HDF5 file.\n",
    "# The '.h5' extension indicates that the model should be saved to HDF5.\n",
    "model.save('my_model.h5')"
   ]
  },
  {
   "cell_type": "markdown",
   "id": "f4742eab-e681-449d-b17f-22813ba7d041",
   "metadata": {},
   "source": [
    "Now, recreate the model from that file:"
   ]
  },
  {
   "cell_type": "code",
   "execution_count": 24,
   "id": "d7d9ff9a-707a-41e0-afa4-0057c03257c5",
   "metadata": {},
   "outputs": [
    {
     "name": "stdout",
     "output_type": "stream",
     "text": [
      "Model: \"sequential_7\"\n",
      "_________________________________________________________________\n",
      " Layer (type)                Output Shape              Param #   \n",
      "=================================================================\n",
      " dense_14 (Dense)            (None, 512)               401920    \n",
      "                                                                 \n",
      " dropout_7 (Dropout)         (None, 512)               0         \n",
      "                                                                 \n",
      " dense_15 (Dense)            (None, 10)                5130      \n",
      "                                                                 \n",
      "=================================================================\n",
      "Total params: 407050 (1.55 MB)\n",
      "Trainable params: 407050 (1.55 MB)\n",
      "Non-trainable params: 0 (0.00 Byte)\n",
      "_________________________________________________________________\n"
     ]
    }
   ],
   "source": [
    "# Recreate the exact same model, including its weights and the optimizer\n",
    "new_model = tf.keras.models.load_model('my_model.h5')\n",
    "\n",
    "# Show the model architecture\n",
    "new_model.summary()"
   ]
  },
  {
   "cell_type": "markdown",
   "id": "e3f0be0a-5cbd-4e83-aa4c-a6ea776ae596",
   "metadata": {},
   "source": [
    "Check its accuracy:"
   ]
  },
  {
   "cell_type": "code",
   "execution_count": 25,
   "id": "da6ed15f-7ca5-4c8d-bda0-3988d271617f",
   "metadata": {},
   "outputs": [
    {
     "name": "stdout",
     "output_type": "stream",
     "text": [
      "32/32 - 0s - loss: 0.4258 - sparse_categorical_accuracy: 0.8650 - 134ms/epoch - 4ms/step\n",
      "Restored model, accuracy: 86.50%\n"
     ]
    }
   ],
   "source": [
    "loss, acc = new_model.evaluate(test_images, test_labels, verbose=2)\n",
    "print('Restored model, accuracy: {:5.2f}%'.format(100 * acc))"
   ]
  },
  {
   "cell_type": "markdown",
   "id": "e7f5c4ca-d5b9-4905-ba74-a8f914c38de1",
   "metadata": {},
   "source": [
    "Keras saves models by inspecting their architectures. This technique saves everything:\n",
    "\n",
    "<ul>\n",
    "    <li>The weight values</li>\n",
    "    <li>The model's architecture</li>\n",
    "    <li>The model's training configuration (what you pass to the .compile() method)</li>\n",
    "    <li>The optimizer and its state, if any (this enables you to restart training where you left off)</li>\n",
    "</ul>\n",
    "\n",
    "Keras is not able to save the v1.x optimizers (from <a href=\"https://www.tensorflow.org/api_docs/python/tf/compat/v1/train\">tf.compat.v1.train</a>) since they aren't compatible with checkpoints. For v1.x optimizers, you need to re-compile the model after loading—losing the state of the optimizer.\n",
    "\n",
    "### Saving custom objects\n",
    "\n",
    "If you are using the SavedModel format, you can skip this section. The key difference between high-level .keras/HDF5 formats and the low-level SavedModel format is that the .keras/HDF5 formats uses object configs to save the model architecture, while SavedModel saves the execution graph. Thus, SavedModels are able to save custom objects like subclassed models and custom layers without requiring the original code. However, debugging low-level SavedModels can be more difficult as a result, and we recommend using the high-level .keras format instead due to its name-based, Keras-native nature.\n",
    "\n",
    "To save custom objects to .keras and HDF5, you must do the following:\n",
    "\n",
    "<ol>\n",
    "    <li>\n",
    "        Define a get_config method in your object, and optionally a from_config classmethod.\n",
    "        <ul>\n",
    "            <li>get_config(self) returns a JSON-serializable dictionary of parameters needed to recreate the object.</li>\n",
    "            <li>from_config(cls, config) uses the returned config from get_config to create a new object. By default, this function will use the config as initialization kwargs (return cls(**config)).</li>\n",
    "        </ul>\n",
    "    </li>\n",
    "    <li>\n",
    "        Pass the custom objects to the model in one of three ways:\n",
    "        <ul>\n",
    "            <li>Register the custom object with the <a href=\"https://www.tensorflow.org/api_docs/python/tf/keras/utils/register_keras_serializable\">@tf.keras.utils.register_keras_serializable</a> decorator. (recommended)</li>\n",
    "            <li>Directly pass the object to the custom_objects argument when loading the model. The argument must be a dictionary mapping the string class name to the Python class. E.g., tf.keras.models.load_model(path, custom_objects={'CustomLayer': CustomLayer})</li>\n",
    "            <li>Use a <a href=\"https://www.tensorflow.org/api_docs/python/tf/keras/utils/CustomObjectScope\">tf.keras.utils.custom_object_scope</a> with the object included in the custom_objects dictionary argument, and place a <a href=\"https://www.tensorflow.org/api_docs/python/tf/keras/models/load_model\">tf.keras.models.load_model(path)</a> call within the scope.</li>\n",
    "        </ul>\n",
    "    </li>\n",
    "</ol>\n",
    "\n",
    "Refer to the <a href=\"https://www.tensorflow.org/guide/keras/custom_layers_and_models\">Writing layers and models from scratch</a> tutorial for examples of custom objects and get_config."
   ]
  },
  {
   "cell_type": "code",
   "execution_count": null,
   "id": "6725d2fa-08c1-4424-be1c-68443fa83995",
   "metadata": {},
   "outputs": [],
   "source": []
  }
 ],
 "metadata": {
  "kernelspec": {
   "display_name": "Python 3 (ipykernel)",
   "language": "python",
   "name": "python3"
  },
  "language_info": {
   "codemirror_mode": {
    "name": "ipython",
    "version": 3
   },
   "file_extension": ".py",
   "mimetype": "text/x-python",
   "name": "python",
   "nbconvert_exporter": "python",
   "pygments_lexer": "ipython3",
   "version": "3.11.0rc1"
  }
 },
 "nbformat": 4,
 "nbformat_minor": 5
}
