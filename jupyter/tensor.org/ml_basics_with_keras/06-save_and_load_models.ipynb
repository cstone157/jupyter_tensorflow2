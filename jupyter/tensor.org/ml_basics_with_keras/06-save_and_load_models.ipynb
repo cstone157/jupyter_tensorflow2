{
 "cells": [
  {
   "cell_type": "markdown",
   "id": "40304d21-8cc6-40ba-b15c-669d24b1d98c",
   "metadata": {},
   "source": [
    "https://www.tensorflow.org/tutorials/keras/save_and_load"
   ]
  },
  {
   "cell_type": "markdown",
   "id": "d66653b8-46e0-47ba-9e5b-8d6e76db5362",
   "metadata": {},
   "source": [
    "### Save and load models\n",
    "\n",
    "Model progress can be saved during and after training. This means a model can resume where it left off and avoid long training times. Saving also means you can share your model and others can recreate your work. When publishing research models and techniques, most machine learning practitioners share:\n",
    "\n",
    "<ul>\n",
    "    <li>code to create the model, and</li>\n",
    "    <li>the trained weights, or parameters, for the model</li>\n",
    "</ul>\n",
    "\n",
    "Sharing this data helps others understand how the model works and try it themselves with new data."
   ]
  },
  {
   "cell_type": "markdown",
   "id": "710f6b44-d164-43ca-82dd-c8a71a5fd964",
   "metadata": {},
   "source": [
    "### Options\n",
    "\n",
    "There are different ways to save TensorFlow models depending on the API you're using. This guide uses <a href=\"https://www.tensorflow.org/guide/keras\">tf.keras</a>—a high-level API to build and train models in TensorFlow. The new, high-level .keras format used in this tutorial is recommended for saving Keras objects, as it provides robust, efficient name-based saving that is often easier to debug than low-level or legacy formats. For more advanced saving or serialization workflows, especially those involving custom objects, please refer to the <a href=\"https://www.tensorflow.org/guide/keras/save_and_serialize\">Save and load Keras models guide</a>. For other approaches, refer to the <a href=\"https://www.tensorflow.org/guide/saved_model\">Using the SavedModel format guide</a>.\n",
    "\n",
    "### Setup\n",
    "\n",
    "#### Installs and imports\n",
    "\n",
    "Install and import TensorFlow and dependencies:"
   ]
  },
  {
   "cell_type": "code",
   "execution_count": null,
   "id": "532f0911-f311-4a03-8942-3b61b372e5dc",
   "metadata": {},
   "outputs": [],
   "source": [
    "!pip install pyyaml h5py  # Required to save models in HDF5 format"
   ]
  },
  {
   "cell_type": "code",
   "execution_count": null,
   "id": "33ac82e2-4b1c-417c-9645-5b3cf28f6034",
   "metadata": {},
   "outputs": [],
   "source": []
  }
 ],
 "metadata": {
  "kernelspec": {
   "display_name": "Python 3 (ipykernel)",
   "language": "python",
   "name": "python3"
  },
  "language_info": {
   "codemirror_mode": {
    "name": "ipython",
    "version": 3
   },
   "file_extension": ".py",
   "mimetype": "text/x-python",
   "name": "python",
   "nbconvert_exporter": "python",
   "pygments_lexer": "ipython3",
   "version": "3.11.0rc1"
  }
 },
 "nbformat": 4,
 "nbformat_minor": 5
}
