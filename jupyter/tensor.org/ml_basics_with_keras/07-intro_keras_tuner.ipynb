{
 "cells": [
  {
   "cell_type": "code",
   "execution_count": null,
   "id": "71b4f146-b9d1-4d89-b6cd-a0876dee74a1",
   "metadata": {},
   "outputs": [],
   "source": [
    "https://www.tensorflow.org/tutorials/keras/keras_tuner"
   ]
  },
  {
   "cell_type": "markdown",
   "id": "43c80c48-92cb-4480-911a-9e93a41cb89d",
   "metadata": {},
   "source": [
    "## Introduction to the Keras Tuner\n",
    "\n",
    "### Overview\n",
    "\n",
    "The Keras Tuner is a library that helps you pick the optimal set of hyperparameters for your TensorFlow program. The process of selecting the right set of hyperparameters for your machine learning (ML) application is called hyperparameter tuning or hypertuning.\n",
    "\n",
    "Hyperparameters are the variables that govern the training process and the topology of an ML model. These variables remain constant over the training process and directly impact the performance of your ML program. Hyperparameters are of two types:\n",
    "\n",
    "<ol>\n",
    "    <li><b>Model hyperparameters</b> which influence model selection such as the number and width of hidden layers</li>\n",
    "    <li><b>Algorithm hyperparameters</b> which influence the speed and quality of the learning algorithm such as the learning rate for Stochastic Gradient Descent (SGD) and the number of nearest neighbors for a k Nearest Neighbors (KNN) classifier</li>\n",
    "</ol>\n",
    "\n",
    "In this tutorial, you will use the Keras Tuner to perform hypertuning for an image classification application.\n",
    "\n",
    "### Setup"
   ]
  },
  {
   "cell_type": "code",
   "execution_count": 1,
   "id": "99203913-a3b8-471f-b858-545558696b61",
   "metadata": {},
   "outputs": [
    {
     "name": "stderr",
     "output_type": "stream",
     "text": [
      "2024-05-31 03:36:35.756151: I tensorflow/core/platform/cpu_feature_guard.cc:182] This TensorFlow binary is optimized to use available CPU instructions in performance-critical operations.\n",
      "To enable the following instructions: AVX2 FMA, in other operations, rebuild TensorFlow with the appropriate compiler flags.\n"
     ]
    }
   ],
   "source": [
    "import tensorflow as tf\n",
    "from tensorflow import keras"
   ]
  },
  {
   "cell_type": "markdown",
   "id": "02d61978-086c-40af-8835-ebfdc0f241c7",
   "metadata": {},
   "source": [
    "Install and import the Keras Tuner."
   ]
  },
  {
   "cell_type": "code",
   "execution_count": 2,
   "id": "9e0a8289-d091-43b9-83aa-daca798cf1db",
   "metadata": {},
   "outputs": [
    {
     "name": "stdout",
     "output_type": "stream",
     "text": [
      "\u001b[33mWARNING: Running pip as the 'root' user can result in broken permissions and conflicting behaviour with the system package manager. It is recommended to use a virtual environment instead: https://pip.pypa.io/warnings/venv\u001b[0m\u001b[33m\n",
      "\u001b[0m\n",
      "\u001b[1m[\u001b[0m\u001b[34;49mnotice\u001b[0m\u001b[1;39;49m]\u001b[0m\u001b[39;49m A new release of pip is available: \u001b[0m\u001b[31;49m23.3.1\u001b[0m\u001b[39;49m -> \u001b[0m\u001b[32;49m24.0\u001b[0m\n",
      "\u001b[1m[\u001b[0m\u001b[34;49mnotice\u001b[0m\u001b[1;39;49m]\u001b[0m\u001b[39;49m To update, run: \u001b[0m\u001b[32;49mpython3 -m pip install --upgrade pip\u001b[0m\n"
     ]
    }
   ],
   "source": [
    "!pip install -q -U keras-tuner"
   ]
  },
  {
   "cell_type": "code",
   "execution_count": 3,
   "id": "a5e70a6c-05d7-48de-ae11-a4818a07aafd",
   "metadata": {},
   "outputs": [],
   "source": [
    "import keras_tuner as kt"
   ]
  },
  {
   "cell_type": "markdown",
   "id": "bd5e5d26-e614-4f2e-a468-3f989c95b399",
   "metadata": {},
   "source": [
    "### Download and prepare the dataset\n",
    "\n",
    "In this tutorial, you will use the Keras Tuner to find the best hyperparameters for a machine learning model that classifies images of clothing from the <a href=\"https://github.com/zalandoresearch/fashion-mnist\">Fashion MNIST dataset</a>.\n",
    "\n",
    "Load the data."
   ]
  },
  {
   "cell_type": "code",
   "execution_count": 4,
   "id": "b46212ae-d1eb-47b9-85c9-d6065899d0da",
   "metadata": {},
   "outputs": [
    {
     "name": "stdout",
     "output_type": "stream",
     "text": [
      "Downloading data from https://storage.googleapis.com/tensorflow/tf-keras-datasets/train-labels-idx1-ubyte.gz\n",
      "29515/29515 [==============================] - 0s 1us/step\n",
      "Downloading data from https://storage.googleapis.com/tensorflow/tf-keras-datasets/train-images-idx3-ubyte.gz\n",
      "26421880/26421880 [==============================] - 1s 0us/step\n",
      "Downloading data from https://storage.googleapis.com/tensorflow/tf-keras-datasets/t10k-labels-idx1-ubyte.gz\n",
      "5148/5148 [==============================] - 0s 0us/step\n",
      "Downloading data from https://storage.googleapis.com/tensorflow/tf-keras-datasets/t10k-images-idx3-ubyte.gz\n",
      "4422102/4422102 [==============================] - 0s 0us/step\n"
     ]
    }
   ],
   "source": [
    "(img_train, label_train), (img_test, label_test) = keras.datasets.fashion_mnist.load_data()"
   ]
  },
  {
   "cell_type": "code",
   "execution_count": 5,
   "id": "8d53b5c3-7b72-4021-91d0-bd1772585047",
   "metadata": {},
   "outputs": [],
   "source": [
    "# Normalize pixel values between 0 and 1\n",
    "img_train = img_train.astype('float32') / 255.0\n",
    "img_test = img_test.astype('float32') / 255.0"
   ]
  },
  {
   "cell_type": "markdown",
   "id": "867c9321-7065-44ef-a1e7-a423df3f108e",
   "metadata": {},
   "source": [
    "### Define the model\n",
    "\n",
    "When you build a model for hypertuning, you also define the hyperparameter search space in addition to the model architecture. The model you set up for hypertuning is called a hypermodel.\n",
    "\n",
    "You can define a hypermodel through two approaches:\n",
    "\n",
    "<ul>\n",
    "    <li>By using a model builder function</li>\n",
    "    <li>By subclassing the HyperModel class of the Keras Tuner API</li>\n",
    "</ul>\n",
    "\n",
    "You can also use two pre-defined <a href=\"https://keras.io/api/keras_tuner/hypermodels/\">HyperModel</a> classes - <a href=\"https://keras.io/api/keras_tuner/hypermodels/hyper_xception/\">HyperXception</a> and <a href=\"https://keras.io/api/keras_tuner/hypermodels/hyper_resnet/\">HyperResNet</a> for computer vision applications.\n",
    "\n",
    "In this tutorial, you use a model builder function to define the image classification model. The model builder function returns a compiled model and uses hyperparameters you define inline to hypertune the model."
   ]
  },
  {
   "cell_type": "code",
   "execution_count": 6,
   "id": "b4417010-055d-4b53-9a66-681fd5b5a253",
   "metadata": {},
   "outputs": [],
   "source": [
    "def model_builder(hp):\n",
    "  model = keras.Sequential()\n",
    "  model.add(keras.layers.Flatten(input_shape=(28, 28)))\n",
    "\n",
    "  # Tune the number of units in the first Dense layer\n",
    "  # Choose an optimal value between 32-512\n",
    "  hp_units = hp.Int('units', min_value=32, max_value=512, step=32)\n",
    "  model.add(keras.layers.Dense(units=hp_units, activation='relu'))\n",
    "  model.add(keras.layers.Dense(10))\n",
    "\n",
    "  # Tune the learning rate for the optimizer\n",
    "  # Choose an optimal value from 0.01, 0.001, or 0.0001\n",
    "  hp_learning_rate = hp.Choice('learning_rate', values=[1e-2, 1e-3, 1e-4])\n",
    "\n",
    "  model.compile(optimizer=keras.optimizers.Adam(learning_rate=hp_learning_rate),\n",
    "                loss=keras.losses.SparseCategoricalCrossentropy(from_logits=True),\n",
    "                metrics=['accuracy'])\n",
    "\n",
    "  return model"
   ]
  },
  {
   "cell_type": "markdown",
   "id": "5dcfe0e4-b41a-44cc-8bdc-62453ee4a2a0",
   "metadata": {},
   "source": [
    "### Instantiate the tuner and perform hypertuning\n",
    "\n",
    "Instantiate the tuner to perform the hypertuning. The Keras Tuner has four tuners available - RandomSearch, Hyperband, BayesianOptimization, and Sklearn. In this tutorial, you use the <a href=\"https://arxiv.org/pdf/1603.06560.pdf\">Hyperband</a> tuner.\n",
    "\n",
    "To instantiate the Hyperband tuner, you must specify the hypermodel, the objective to optimize and the maximum number of epochs to train (max_epochs)."
   ]
  },
  {
   "cell_type": "code",
   "execution_count": 7,
   "id": "6bbf86ec-2167-4e07-a6ca-45b3e6b00a48",
   "metadata": {},
   "outputs": [],
   "source": [
    "tuner = kt.Hyperband(model_builder,\n",
    "                     objective='val_accuracy',\n",
    "                     max_epochs=10,\n",
    "                     factor=3,\n",
    "                     directory='my_dir',\n",
    "                     project_name='intro_to_kt')"
   ]
  },
  {
   "cell_type": "markdown",
   "id": "c878e090-b2f8-4274-abc2-53603fa75fb1",
   "metadata": {},
   "source": [
    "The Hyperband tuning algorithm uses adaptive resource allocation and early-stopping to quickly converge on a high-performing model. This is done using a sports championship style bracket. The algorithm trains a large number of models for a few epochs and carries forward only the top-performing half of models to the next round. Hyperband determines the number of models to train in a bracket by computing 1 + logfactor(max_epochs) and rounding it up to the nearest integer.\n",
    "\n",
    "Create a callback to stop training early after reaching a certain value for the validation loss."
   ]
  },
  {
   "cell_type": "code",
   "execution_count": 8,
   "id": "41998d11-5b12-4f6b-b894-13d96fc0b814",
   "metadata": {},
   "outputs": [],
   "source": [
    "stop_early = tf.keras.callbacks.EarlyStopping(monitor='val_loss', patience=5)"
   ]
  },
  {
   "cell_type": "markdown",
   "id": "b8ca9611-7fe2-435d-989f-601ca740b29a",
   "metadata": {},
   "source": [
    "Run the hyperparameter search. The arguments for the search method are the same as those used for tf.keras.model.fit in addition to the callback above."
   ]
  },
  {
   "cell_type": "code",
   "execution_count": 9,
   "id": "f35236f9-198e-4f72-bec2-0549e60e7b9b",
   "metadata": {},
   "outputs": [
    {
     "name": "stdout",
     "output_type": "stream",
     "text": [
      "Trial 30 Complete [00h 00m 30s]\n",
      "val_accuracy: 0.8681666851043701\n",
      "\n",
      "Best val_accuracy So Far: 0.893833339214325\n",
      "Total elapsed time: 00h 08m 22s\n",
      "\n",
      "The hyperparameter search is complete. The optimal number of units in the first densely-connected\n",
      "layer is 320 and the optimal learning rate for the optimizer\n",
      "is 0.001.\n",
      "\n"
     ]
    }
   ],
   "source": [
    "tuner.search(img_train, label_train, epochs=50, validation_split=0.2, callbacks=[stop_early])\n",
    "\n",
    "# Get the optimal hyperparameters\n",
    "best_hps=tuner.get_best_hyperparameters(num_trials=1)[0]\n",
    "\n",
    "print(f\"\"\"\n",
    "The hyperparameter search is complete. The optimal number of units in the first densely-connected\n",
    "layer is {best_hps.get('units')} and the optimal learning rate for the optimizer\n",
    "is {best_hps.get('learning_rate')}.\n",
    "\"\"\")"
   ]
  },
  {
   "cell_type": "markdown",
   "id": "0db1a46c-e71a-4e68-bfec-82f770f9198d",
   "metadata": {},
   "source": [
    "### Train the model\n",
    "Find the optimal number of epochs to train the model with the hyperparameters obtained from the search."
   ]
  },
  {
   "cell_type": "code",
   "execution_count": 10,
   "id": "8da2c405-5a2e-45cf-beea-3df1e491ed27",
   "metadata": {},
   "outputs": [
    {
     "name": "stdout",
     "output_type": "stream",
     "text": [
      "Epoch 1/50\n",
      "1500/1500 [==============================] - 5s 3ms/step - loss: 0.4922 - accuracy: 0.8234 - val_loss: 0.4171 - val_accuracy: 0.8465\n",
      "Epoch 2/50\n",
      "1500/1500 [==============================] - 4s 3ms/step - loss: 0.3705 - accuracy: 0.8649 - val_loss: 0.3568 - val_accuracy: 0.8720\n",
      "Epoch 3/50\n",
      "1500/1500 [==============================] - 4s 3ms/step - loss: 0.3343 - accuracy: 0.8761 - val_loss: 0.3464 - val_accuracy: 0.8686\n",
      "Epoch 4/50\n",
      "1500/1500 [==============================] - 4s 3ms/step - loss: 0.3086 - accuracy: 0.8854 - val_loss: 0.3281 - val_accuracy: 0.8811\n",
      "Epoch 5/50\n",
      "1500/1500 [==============================] - 4s 3ms/step - loss: 0.2901 - accuracy: 0.8929 - val_loss: 0.3429 - val_accuracy: 0.8757\n",
      "Epoch 6/50\n",
      "1500/1500 [==============================] - 5s 3ms/step - loss: 0.2718 - accuracy: 0.8994 - val_loss: 0.3092 - val_accuracy: 0.8892\n",
      "Epoch 7/50\n",
      "1500/1500 [==============================] - 4s 3ms/step - loss: 0.2571 - accuracy: 0.9043 - val_loss: 0.3350 - val_accuracy: 0.8796\n",
      "Epoch 8/50\n",
      "1500/1500 [==============================] - 4s 3ms/step - loss: 0.2455 - accuracy: 0.9064 - val_loss: 0.3205 - val_accuracy: 0.8850\n",
      "Epoch 9/50\n",
      "1500/1500 [==============================] - 5s 3ms/step - loss: 0.2353 - accuracy: 0.9111 - val_loss: 0.3261 - val_accuracy: 0.8817\n",
      "Epoch 10/50\n",
      "1500/1500 [==============================] - 4s 3ms/step - loss: 0.2256 - accuracy: 0.9149 - val_loss: 0.3290 - val_accuracy: 0.8871\n",
      "Epoch 11/50\n",
      "1500/1500 [==============================] - 5s 3ms/step - loss: 0.2167 - accuracy: 0.9191 - val_loss: 0.3220 - val_accuracy: 0.8903\n",
      "Epoch 12/50\n",
      "1500/1500 [==============================] - 5s 3ms/step - loss: 0.2104 - accuracy: 0.9219 - val_loss: 0.3273 - val_accuracy: 0.8878\n",
      "Epoch 13/50\n",
      "1500/1500 [==============================] - 4s 3ms/step - loss: 0.2023 - accuracy: 0.9244 - val_loss: 0.3235 - val_accuracy: 0.8972\n",
      "Epoch 14/50\n",
      "1500/1500 [==============================] - 4s 3ms/step - loss: 0.1959 - accuracy: 0.9266 - val_loss: 0.3495 - val_accuracy: 0.8848\n",
      "Epoch 15/50\n",
      "1500/1500 [==============================] - 4s 3ms/step - loss: 0.1877 - accuracy: 0.9291 - val_loss: 0.3271 - val_accuracy: 0.8924\n",
      "Epoch 16/50\n",
      "1500/1500 [==============================] - 4s 3ms/step - loss: 0.1786 - accuracy: 0.9336 - val_loss: 0.3179 - val_accuracy: 0.8945\n",
      "Epoch 17/50\n",
      "1500/1500 [==============================] - 4s 3ms/step - loss: 0.1748 - accuracy: 0.9334 - val_loss: 0.3215 - val_accuracy: 0.8945\n",
      "Epoch 18/50\n",
      "1500/1500 [==============================] - 4s 3ms/step - loss: 0.1709 - accuracy: 0.9364 - val_loss: 0.3289 - val_accuracy: 0.8942\n",
      "Epoch 19/50\n",
      "1500/1500 [==============================] - 4s 3ms/step - loss: 0.1614 - accuracy: 0.9390 - val_loss: 0.3343 - val_accuracy: 0.8952\n",
      "Epoch 20/50\n",
      "1500/1500 [==============================] - 4s 3ms/step - loss: 0.1584 - accuracy: 0.9401 - val_loss: 0.3533 - val_accuracy: 0.8917\n",
      "Epoch 21/50\n",
      "1500/1500 [==============================] - 4s 3ms/step - loss: 0.1537 - accuracy: 0.9417 - val_loss: 0.3607 - val_accuracy: 0.8940\n",
      "Epoch 22/50\n",
      "1500/1500 [==============================] - 4s 3ms/step - loss: 0.1491 - accuracy: 0.9434 - val_loss: 0.3527 - val_accuracy: 0.8954\n",
      "Epoch 23/50\n",
      "1500/1500 [==============================] - 4s 3ms/step - loss: 0.1461 - accuracy: 0.9454 - val_loss: 0.3649 - val_accuracy: 0.8892\n",
      "Epoch 24/50\n",
      "1500/1500 [==============================] - 4s 3ms/step - loss: 0.1416 - accuracy: 0.9471 - val_loss: 0.3709 - val_accuracy: 0.8966\n",
      "Epoch 25/50\n",
      "1500/1500 [==============================] - 5s 3ms/step - loss: 0.1346 - accuracy: 0.9492 - val_loss: 0.3630 - val_accuracy: 0.8942\n",
      "Epoch 26/50\n",
      "1500/1500 [==============================] - 5s 3ms/step - loss: 0.1315 - accuracy: 0.9505 - val_loss: 0.3720 - val_accuracy: 0.8924\n",
      "Epoch 27/50\n",
      "1500/1500 [==============================] - 4s 3ms/step - loss: 0.1291 - accuracy: 0.9517 - val_loss: 0.3767 - val_accuracy: 0.8947\n",
      "Epoch 28/50\n",
      "1500/1500 [==============================] - 4s 3ms/step - loss: 0.1251 - accuracy: 0.9534 - val_loss: 0.4018 - val_accuracy: 0.8923\n",
      "Epoch 29/50\n",
      "1500/1500 [==============================] - 4s 3ms/step - loss: 0.1230 - accuracy: 0.9536 - val_loss: 0.3771 - val_accuracy: 0.8982\n",
      "Epoch 30/50\n",
      "1500/1500 [==============================] - 4s 3ms/step - loss: 0.1200 - accuracy: 0.9549 - val_loss: 0.3933 - val_accuracy: 0.8933\n",
      "Epoch 31/50\n",
      "1500/1500 [==============================] - 4s 3ms/step - loss: 0.1169 - accuracy: 0.9565 - val_loss: 0.3965 - val_accuracy: 0.8947\n",
      "Epoch 32/50\n",
      "1500/1500 [==============================] - 4s 3ms/step - loss: 0.1171 - accuracy: 0.9556 - val_loss: 0.4339 - val_accuracy: 0.8907\n",
      "Epoch 33/50\n",
      "1500/1500 [==============================] - 4s 3ms/step - loss: 0.1088 - accuracy: 0.9582 - val_loss: 0.4385 - val_accuracy: 0.8904\n",
      "Epoch 34/50\n",
      "1500/1500 [==============================] - 4s 3ms/step - loss: 0.1093 - accuracy: 0.9586 - val_loss: 0.4177 - val_accuracy: 0.8942\n",
      "Epoch 35/50\n",
      "1500/1500 [==============================] - 4s 3ms/step - loss: 0.1037 - accuracy: 0.9609 - val_loss: 0.4874 - val_accuracy: 0.8871\n",
      "Epoch 36/50\n",
      "1500/1500 [==============================] - 4s 3ms/step - loss: 0.1037 - accuracy: 0.9605 - val_loss: 0.4603 - val_accuracy: 0.8869\n",
      "Epoch 37/50\n",
      "1500/1500 [==============================] - 4s 3ms/step - loss: 0.1014 - accuracy: 0.9623 - val_loss: 0.4535 - val_accuracy: 0.8913\n",
      "Epoch 38/50\n",
      "1500/1500 [==============================] - 4s 3ms/step - loss: 0.0958 - accuracy: 0.9641 - val_loss: 0.4328 - val_accuracy: 0.8967\n",
      "Epoch 39/50\n",
      "1500/1500 [==============================] - 4s 3ms/step - loss: 0.0987 - accuracy: 0.9636 - val_loss: 0.4469 - val_accuracy: 0.8948\n",
      "Epoch 40/50\n",
      "1500/1500 [==============================] - 4s 3ms/step - loss: 0.0949 - accuracy: 0.9647 - val_loss: 0.4633 - val_accuracy: 0.8917\n",
      "Epoch 41/50\n",
      "1500/1500 [==============================] - 4s 3ms/step - loss: 0.0953 - accuracy: 0.9651 - val_loss: 0.4586 - val_accuracy: 0.8955\n",
      "Epoch 42/50\n",
      "1500/1500 [==============================] - 4s 3ms/step - loss: 0.0887 - accuracy: 0.9667 - val_loss: 0.4743 - val_accuracy: 0.8941\n",
      "Epoch 43/50\n",
      "1500/1500 [==============================] - 4s 3ms/step - loss: 0.0882 - accuracy: 0.9668 - val_loss: 0.4818 - val_accuracy: 0.8943\n",
      "Epoch 44/50\n",
      "1500/1500 [==============================] - 4s 3ms/step - loss: 0.0890 - accuracy: 0.9655 - val_loss: 0.4957 - val_accuracy: 0.8909\n",
      "Epoch 45/50\n",
      "1500/1500 [==============================] - 4s 3ms/step - loss: 0.0845 - accuracy: 0.9682 - val_loss: 0.4773 - val_accuracy: 0.8950\n",
      "Epoch 46/50\n",
      "1500/1500 [==============================] - 4s 3ms/step - loss: 0.0821 - accuracy: 0.9693 - val_loss: 0.5031 - val_accuracy: 0.8934\n",
      "Epoch 47/50\n",
      "1500/1500 [==============================] - 4s 3ms/step - loss: 0.0827 - accuracy: 0.9692 - val_loss: 0.4968 - val_accuracy: 0.8915\n",
      "Epoch 48/50\n",
      "1500/1500 [==============================] - 4s 3ms/step - loss: 0.0790 - accuracy: 0.9706 - val_loss: 0.5090 - val_accuracy: 0.8943\n",
      "Epoch 49/50\n",
      "1500/1500 [==============================] - 4s 3ms/step - loss: 0.0773 - accuracy: 0.9714 - val_loss: 0.5259 - val_accuracy: 0.8863\n",
      "Epoch 50/50\n",
      "1500/1500 [==============================] - 4s 3ms/step - loss: 0.0775 - accuracy: 0.9714 - val_loss: 0.5259 - val_accuracy: 0.8980\n",
      "Best epoch: 29\n"
     ]
    }
   ],
   "source": [
    "# Build the model with the optimal hyperparameters and train it on the data for 50 epochs\n",
    "model = tuner.hypermodel.build(best_hps)\n",
    "history = model.fit(img_train, label_train, epochs=50, validation_split=0.2)\n",
    "\n",
    "val_acc_per_epoch = history.history['val_accuracy']\n",
    "best_epoch = val_acc_per_epoch.index(max(val_acc_per_epoch)) + 1\n",
    "print('Best epoch: %d' % (best_epoch,))"
   ]
  },
  {
   "cell_type": "markdown",
   "id": "67436b16-b512-4032-8e68-0d23d7236daf",
   "metadata": {},
   "source": [
    "Re-instantiate the hypermodel and train it with the optimal number of epochs from above."
   ]
  },
  {
   "cell_type": "code",
   "execution_count": 11,
   "id": "cd11a80b-64eb-4092-8546-e86c6320e3cc",
   "metadata": {},
   "outputs": [
    {
     "name": "stdout",
     "output_type": "stream",
     "text": [
      "Epoch 1/29\n",
      "1500/1500 [==============================] - 5s 3ms/step - loss: 0.4960 - accuracy: 0.8241 - val_loss: 0.4057 - val_accuracy: 0.8543\n",
      "Epoch 2/29\n",
      "1500/1500 [==============================] - 4s 3ms/step - loss: 0.3700 - accuracy: 0.8650 - val_loss: 0.3593 - val_accuracy: 0.8724\n",
      "Epoch 3/29\n",
      "1500/1500 [==============================] - 4s 3ms/step - loss: 0.3305 - accuracy: 0.8794 - val_loss: 0.3474 - val_accuracy: 0.8760\n",
      "Epoch 4/29\n",
      "1500/1500 [==============================] - 4s 3ms/step - loss: 0.3050 - accuracy: 0.8879 - val_loss: 0.3571 - val_accuracy: 0.8734\n",
      "Epoch 5/29\n",
      "1500/1500 [==============================] - 4s 3ms/step - loss: 0.2873 - accuracy: 0.8940 - val_loss: 0.3242 - val_accuracy: 0.8853\n",
      "Epoch 6/29\n",
      "1500/1500 [==============================] - 4s 3ms/step - loss: 0.2713 - accuracy: 0.8987 - val_loss: 0.3479 - val_accuracy: 0.8776\n",
      "Epoch 7/29\n",
      "1500/1500 [==============================] - 4s 3ms/step - loss: 0.2583 - accuracy: 0.9062 - val_loss: 0.3354 - val_accuracy: 0.8798\n",
      "Epoch 8/29\n",
      "1500/1500 [==============================] - 4s 3ms/step - loss: 0.2463 - accuracy: 0.9075 - val_loss: 0.3242 - val_accuracy: 0.8863\n",
      "Epoch 9/29\n",
      "1500/1500 [==============================] - 4s 3ms/step - loss: 0.2360 - accuracy: 0.9121 - val_loss: 0.3332 - val_accuracy: 0.8802\n",
      "Epoch 10/29\n",
      "1500/1500 [==============================] - 4s 3ms/step - loss: 0.2281 - accuracy: 0.9145 - val_loss: 0.3187 - val_accuracy: 0.8894\n",
      "Epoch 11/29\n",
      "1500/1500 [==============================] - 4s 3ms/step - loss: 0.2172 - accuracy: 0.9186 - val_loss: 0.3147 - val_accuracy: 0.8901\n",
      "Epoch 12/29\n",
      "1500/1500 [==============================] - 4s 3ms/step - loss: 0.2084 - accuracy: 0.9215 - val_loss: 0.3210 - val_accuracy: 0.8909\n",
      "Epoch 13/29\n",
      "1500/1500 [==============================] - 4s 3ms/step - loss: 0.1993 - accuracy: 0.9250 - val_loss: 0.3355 - val_accuracy: 0.8897\n",
      "Epoch 14/29\n",
      "1500/1500 [==============================] - 4s 3ms/step - loss: 0.1962 - accuracy: 0.9264 - val_loss: 0.3251 - val_accuracy: 0.8913\n",
      "Epoch 15/29\n",
      "1500/1500 [==============================] - 4s 3ms/step - loss: 0.1887 - accuracy: 0.9291 - val_loss: 0.3198 - val_accuracy: 0.8938\n",
      "Epoch 16/29\n",
      "1500/1500 [==============================] - 4s 3ms/step - loss: 0.1784 - accuracy: 0.9341 - val_loss: 0.3251 - val_accuracy: 0.8988\n",
      "Epoch 17/29\n",
      "1500/1500 [==============================] - 4s 3ms/step - loss: 0.1760 - accuracy: 0.9339 - val_loss: 0.3550 - val_accuracy: 0.8841\n",
      "Epoch 18/29\n",
      "1500/1500 [==============================] - 4s 3ms/step - loss: 0.1682 - accuracy: 0.9367 - val_loss: 0.3386 - val_accuracy: 0.8901\n",
      "Epoch 19/29\n",
      "1500/1500 [==============================] - 4s 3ms/step - loss: 0.1631 - accuracy: 0.9386 - val_loss: 0.3702 - val_accuracy: 0.8885\n",
      "Epoch 20/29\n",
      "1500/1500 [==============================] - 4s 3ms/step - loss: 0.1600 - accuracy: 0.9405 - val_loss: 0.3586 - val_accuracy: 0.8927\n",
      "Epoch 21/29\n",
      "1500/1500 [==============================] - 4s 3ms/step - loss: 0.1536 - accuracy: 0.9415 - val_loss: 0.3767 - val_accuracy: 0.8876\n",
      "Epoch 22/29\n",
      "1500/1500 [==============================] - 4s 3ms/step - loss: 0.1514 - accuracy: 0.9422 - val_loss: 0.3501 - val_accuracy: 0.8949\n",
      "Epoch 23/29\n",
      "1500/1500 [==============================] - 4s 3ms/step - loss: 0.1458 - accuracy: 0.9448 - val_loss: 0.3691 - val_accuracy: 0.8907\n",
      "Epoch 24/29\n",
      "1500/1500 [==============================] - 4s 3ms/step - loss: 0.1420 - accuracy: 0.9468 - val_loss: 0.3744 - val_accuracy: 0.8882\n",
      "Epoch 25/29\n",
      "1500/1500 [==============================] - 4s 3ms/step - loss: 0.1360 - accuracy: 0.9489 - val_loss: 0.3745 - val_accuracy: 0.8920\n",
      "Epoch 26/29\n",
      "1500/1500 [==============================] - 4s 3ms/step - loss: 0.1325 - accuracy: 0.9506 - val_loss: 0.3974 - val_accuracy: 0.8921\n",
      "Epoch 27/29\n",
      "1500/1500 [==============================] - 4s 3ms/step - loss: 0.1305 - accuracy: 0.9511 - val_loss: 0.3930 - val_accuracy: 0.8932\n",
      "Epoch 28/29\n",
      "1500/1500 [==============================] - 4s 3ms/step - loss: 0.1278 - accuracy: 0.9517 - val_loss: 0.3871 - val_accuracy: 0.8917\n",
      "Epoch 29/29\n",
      "1500/1500 [==============================] - 4s 3ms/step - loss: 0.1220 - accuracy: 0.9541 - val_loss: 0.3943 - val_accuracy: 0.8960\n"
     ]
    },
    {
     "data": {
      "text/plain": [
       "<keras.src.callbacks.History at 0x7fe4ee759610>"
      ]
     },
     "execution_count": 11,
     "metadata": {},
     "output_type": "execute_result"
    }
   ],
   "source": [
    "hypermodel = tuner.hypermodel.build(best_hps)\n",
    "\n",
    "# Retrain the model\n",
    "hypermodel.fit(img_train, label_train, epochs=best_epoch, validation_split=0.2)"
   ]
  },
  {
   "cell_type": "markdown",
   "id": "19f04b70-d890-471f-8359-2f073fc68200",
   "metadata": {},
   "source": [
    "To finish this tutorial, evaluate the hypermodel on the test data."
   ]
  },
  {
   "cell_type": "code",
   "execution_count": 12,
   "id": "fcb9b9f3-91d9-4a54-91ed-a3e006d836b8",
   "metadata": {},
   "outputs": [
    {
     "name": "stdout",
     "output_type": "stream",
     "text": [
      "313/313 [==============================] - 0s 1ms/step - loss: 0.4524 - accuracy: 0.8868\n",
      "[test loss, test accuracy]: [0.4523850083351135, 0.8867999911308289]\n"
     ]
    }
   ],
   "source": [
    "eval_result = hypermodel.evaluate(img_test, label_test)\n",
    "print(\"[test loss, test accuracy]:\", eval_result)"
   ]
  },
  {
   "cell_type": "markdown",
   "id": "87df116f-790e-4477-b562-5ca2e2b579af",
   "metadata": {},
   "source": [
    "The my_dir/intro_to_kt directory contains detailed logs and checkpoints for every trial (model configuration) run during the hyperparameter search. If you re-run the hyperparameter search, the Keras Tuner uses the existing state from these logs to resume the search. To disable this behavior, pass an additional overwrite=True argument while instantiating the tuner.\n",
    "\n",
    "### Summary\n",
    "\n",
    "In this tutorial, you learned how to use the Keras Tuner to tune hyperparameters for a model. To learn more about the Keras Tuner, check out these additional resources:\n",
    "\n",
    "<ul>\n",
    "    <li><a href=\"https://blog.tensorflow.org/2020/01/hyperparameter-tuning-with-keras-tuner.html?_gl=1*10oe7kj*_ga*MTYzMjQ3Mzk5LjE3MTYxNjIyNTA.*_ga_W0YLR4190T*MTcxNzEyNjQxMS4xNi4xLjE3MTcxMjcyNTguMC4wLjA.\">Keras Tuner on the TensorFlow blog</a></li>\n",
    "    <li><a href=\"https://keras-team.github.io/keras-tuner/\">Keras Tuner website</a></li>\n",
    "</ul>\n",
    "\n",
    "Also check out the <a href=\"https://www.tensorflow.org/tensorboard/hyperparameter_tuning_with_hparams\">HParams Dashboard</a> in TensorBoard to interactively tune your model hyperparameters."
   ]
  },
  {
   "cell_type": "code",
   "execution_count": null,
   "id": "73b456d8-e3b6-4901-8c48-1f1795cea46a",
   "metadata": {},
   "outputs": [],
   "source": []
  }
 ],
 "metadata": {
  "kernelspec": {
   "display_name": "Python 3 (ipykernel)",
   "language": "python",
   "name": "python3"
  },
  "language_info": {
   "codemirror_mode": {
    "name": "ipython",
    "version": 3
   },
   "file_extension": ".py",
   "mimetype": "text/x-python",
   "name": "python",
   "nbconvert_exporter": "python",
   "pygments_lexer": "ipython3",
   "version": "3.11.0rc1"
  }
 },
 "nbformat": 4,
 "nbformat_minor": 5
}
