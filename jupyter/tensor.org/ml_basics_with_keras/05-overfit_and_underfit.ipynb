{
 "cells": [
  {
   "cell_type": "markdown",
   "id": "74486b6f-73e6-47e7-bab8-5597545f5a60",
   "metadata": {},
   "source": [
    "https://www.tensorflow.org/tutorials/keras/overfit_and_underfit"
   ]
  },
  {
   "cell_type": "markdown",
   "id": "d6850938-0005-4b04-a648-56a34599f44c",
   "metadata": {},
   "source": [
    "## Overfit and underfit\n",
    "\n",
    "As always, the code in this example will use the <a href=\"https://www.tensorflow.org/api_docs/python/tf/keras\">tf.keras API</a>, which you can learn more about in the TensorFlow <a href=\"https://www.tensorflow.org/guide/keras\">Keras guide</a>.\n",
    "\n",
    "In both of the previous examples—<a href=\"https://www.tensorflow.org/tutorials/keras/text_classification_with_hub\">classifying text</a> and <a href=\"https://www.tensorflow.org/tutorials/keras/regression\">predicting fuel efficiency</a>—the accuracy of models on the validation data would peak after training for a number of epochs and then stagnate or start decreasing.\n",
    "\n",
    "In other words, your model would overfit to the training data. Learning how to deal with overfitting is important. Although it's often possible to achieve high accuracy on the training set, what you really want is to develop models that generalize well to a testing set (or data they haven't seen before).\n",
    "\n",
    "The opposite of overfitting is underfitting. Underfitting occurs when there is still room for improvement on the train data. This can happen for a number of reasons: If the model is not powerful enough, is over-regularized, or has simply not been trained long enough. This means the network has not learned the relevant patterns in the training data.\n",
    "\n",
    "If you train for too long though, the model will start to overfit and learn patterns from the training data that don't generalize to the test data. You need to strike a balance. Understanding how to train for an appropriate number of epochs as you'll explore below is a useful skill.\n",
    "\n",
    "To prevent overfitting, the best solution is to use more complete training data. The dataset should cover the full range of inputs that the model is expected to handle. Additional data may only be useful if it covers new and interesting cases.\n",
    "\n",
    "A model trained on more complete data will naturally generalize better. When that is no longer possible, the next best solution is to use techniques like regularization. These place constraints on the quantity and type of information your model can store. If a network can only afford to memorize a small number of patterns, the optimization process will force it to focus on the most prominent patterns, which have a better chance of generalizing well.\n",
    "\n",
    "In this notebook, you'll explore several common regularization techniques, and use them to improve on a classification model.\n",
    "\n",
    "### Setup\n",
    "\n",
    "Before getting started, import the necessary packages:"
   ]
  },
  {
   "cell_type": "code",
   "execution_count": 1,
   "id": "6eedeb53-d505-4afc-b415-fec2d75fea1d",
   "metadata": {},
   "outputs": [
    {
     "name": "stderr",
     "output_type": "stream",
     "text": [
      "2024-05-30 04:03:53.012022: I tensorflow/core/platform/cpu_feature_guard.cc:182] This TensorFlow binary is optimized to use available CPU instructions in performance-critical operations.\n",
      "To enable the following instructions: AVX2 FMA, in other operations, rebuild TensorFlow with the appropriate compiler flags.\n"
     ]
    },
    {
     "name": "stdout",
     "output_type": "stream",
     "text": [
      "2.15.0\n"
     ]
    }
   ],
   "source": [
    "import tensorflow as tf\n",
    "\n",
    "from tensorflow.keras import layers\n",
    "from tensorflow.keras import regularizers\n",
    "\n",
    "print(tf.__version__)"
   ]
  },
  {
   "cell_type": "code",
   "execution_count": 2,
   "id": "873b4895-e63d-427a-a46d-4bd21ded2749",
   "metadata": {},
   "outputs": [
    {
     "name": "stdout",
     "output_type": "stream",
     "text": [
      "Collecting git+https://github.com/tensorflow/docs\n",
      "  Cloning https://github.com/tensorflow/docs to /tmp/pip-req-build-u60ue4gb\n",
      "  Running command git clone --filter=blob:none --quiet https://github.com/tensorflow/docs /tmp/pip-req-build-u60ue4gb\n",
      "  Resolved https://github.com/tensorflow/docs to commit 75b2672b5bed8ca0995663536db84bd9a39b8896\n",
      "  Preparing metadata (setup.py) ... \u001b[?25ldone\n",
      "\u001b[?25hRequirement already satisfied: astor in /usr/local/lib/python3.11/dist-packages (from tensorflow-docs==2024.5.3.31743) (0.8.1)\n",
      "Requirement already satisfied: absl-py in /usr/local/lib/python3.11/dist-packages (from tensorflow-docs==2024.5.3.31743) (2.0.0)\n",
      "Requirement already satisfied: jinja2 in /usr/local/lib/python3.11/dist-packages (from tensorflow-docs==2024.5.3.31743) (3.1.2)\n",
      "Requirement already satisfied: nbformat in /usr/local/lib/python3.11/dist-packages (from tensorflow-docs==2024.5.3.31743) (5.9.2)\n",
      "Requirement already satisfied: protobuf>=3.12 in /usr/local/lib/python3.11/dist-packages (from tensorflow-docs==2024.5.3.31743) (4.23.4)\n",
      "Requirement already satisfied: pyyaml in /usr/local/lib/python3.11/dist-packages (from tensorflow-docs==2024.5.3.31743) (6.0.1)\n",
      "Requirement already satisfied: MarkupSafe>=2.0 in /usr/local/lib/python3.11/dist-packages (from jinja2->tensorflow-docs==2024.5.3.31743) (2.1.3)\n",
      "Requirement already satisfied: fastjsonschema in /usr/local/lib/python3.11/dist-packages (from nbformat->tensorflow-docs==2024.5.3.31743) (2.19.0)\n",
      "Requirement already satisfied: jsonschema>=2.6 in /usr/local/lib/python3.11/dist-packages (from nbformat->tensorflow-docs==2024.5.3.31743) (4.20.0)\n",
      "Requirement already satisfied: jupyter-core in /usr/local/lib/python3.11/dist-packages (from nbformat->tensorflow-docs==2024.5.3.31743) (5.5.0)\n",
      "Requirement already satisfied: traitlets>=5.1 in /usr/local/lib/python3.11/dist-packages (from nbformat->tensorflow-docs==2024.5.3.31743) (5.13.0)\n",
      "Requirement already satisfied: attrs>=22.2.0 in /usr/local/lib/python3.11/dist-packages (from jsonschema>=2.6->nbformat->tensorflow-docs==2024.5.3.31743) (23.1.0)\n",
      "Requirement already satisfied: jsonschema-specifications>=2023.03.6 in /usr/local/lib/python3.11/dist-packages (from jsonschema>=2.6->nbformat->tensorflow-docs==2024.5.3.31743) (2023.11.1)\n",
      "Requirement already satisfied: referencing>=0.28.4 in /usr/local/lib/python3.11/dist-packages (from jsonschema>=2.6->nbformat->tensorflow-docs==2024.5.3.31743) (0.31.0)\n",
      "Requirement already satisfied: rpds-py>=0.7.1 in /usr/local/lib/python3.11/dist-packages (from jsonschema>=2.6->nbformat->tensorflow-docs==2024.5.3.31743) (0.13.1)\n",
      "Requirement already satisfied: platformdirs>=2.5 in /usr/local/lib/python3.11/dist-packages (from jupyter-core->nbformat->tensorflow-docs==2024.5.3.31743) (4.0.0)\n",
      "\u001b[33mWARNING: Running pip as the 'root' user can result in broken permissions and conflicting behaviour with the system package manager. It is recommended to use a virtual environment instead: https://pip.pypa.io/warnings/venv\u001b[0m\u001b[33m\n",
      "\u001b[0m\n",
      "\u001b[1m[\u001b[0m\u001b[34;49mnotice\u001b[0m\u001b[1;39;49m]\u001b[0m\u001b[39;49m A new release of pip is available: \u001b[0m\u001b[31;49m23.3.1\u001b[0m\u001b[39;49m -> \u001b[0m\u001b[32;49m24.0\u001b[0m\n",
      "\u001b[1m[\u001b[0m\u001b[34;49mnotice\u001b[0m\u001b[1;39;49m]\u001b[0m\u001b[39;49m To update, run: \u001b[0m\u001b[32;49mpython3 -m pip install --upgrade pip\u001b[0m\n"
     ]
    }
   ],
   "source": [
    "!pip install git+https://github.com/tensorflow/docs\n",
    "\n",
    "import tensorflow_docs as tfdocs\n",
    "import tensorflow_docs.modeling\n",
    "import tensorflow_docs.plots"
   ]
  },
  {
   "cell_type": "code",
   "execution_count": 3,
   "id": "f62030f2-f613-4f8f-8156-5ac85be88494",
   "metadata": {},
   "outputs": [],
   "source": [
    "from  IPython import display\n",
    "from matplotlib import pyplot as plt\n",
    "\n",
    "import numpy as np\n",
    "\n",
    "import pathlib\n",
    "import shutil\n",
    "import tempfile"
   ]
  },
  {
   "cell_type": "code",
   "execution_count": 4,
   "id": "e9637476-ad8b-4db0-97ad-db0006a5a766",
   "metadata": {},
   "outputs": [],
   "source": [
    "logdir = pathlib.Path(tempfile.mkdtemp())/\"tensorboard_logs\"\n",
    "shutil.rmtree(logdir, ignore_errors=True)"
   ]
  },
  {
   "cell_type": "markdown",
   "id": "411374fe-8912-4124-aba8-c12a1f9610ee",
   "metadata": {},
   "source": [
    "### The Higgs dataset\n",
    "The goal of this tutorial is not to do particle physics, so don't dwell on the details of the dataset. It contains 11,000,000 examples, each with 28 features, and a binary class label."
   ]
  },
  {
   "cell_type": "code",
   "execution_count": null,
   "id": "cc4fb08f-5ef9-45a9-9ba4-4b7d7c3b1f3d",
   "metadata": {},
   "outputs": [
    {
     "name": "stdout",
     "output_type": "stream",
     "text": [
      "Downloading data from http://mlphysics.ics.uci.edu/data/higgs/HIGGS.csv.gz\n",
      "1285627904/2816407858 [============>.................] - ETA: 48:27"
     ]
    }
   ],
   "source": [
    "gz = tf.keras.utils.get_file('HIGGS.csv.gz', 'http://mlphysics.ics.uci.edu/data/higgs/HIGGS.csv.gz')"
   ]
  },
  {
   "cell_type": "code",
   "execution_count": null,
   "id": "d31d6e8f-0325-47c5-806b-ffe1a4e5bb7f",
   "metadata": {},
   "outputs": [],
   "source": [
    "FEATURES = 28"
   ]
  },
  {
   "cell_type": "markdown",
   "id": "add2aa2f-ad0f-470c-b18f-2aaca17bdc56",
   "metadata": {},
   "source": [
    "The <a href=\"https://www.tensorflow.org/api_docs/python/tf/data/experimental/CsvDataset\">tf.data.experimental.CsvDataset</a> class can be used to read csv records directly from a gzip file with no intermediate decompression step."
   ]
  },
  {
   "cell_type": "code",
   "execution_count": null,
   "id": "e5cf09d2-4a56-439a-b48b-fb62cd0470f3",
   "metadata": {},
   "outputs": [],
   "source": [
    "ds = tf.data.experimental.CsvDataset(gz,[float(),]*(FEATURES+1), compression_type=\"GZIP\")"
   ]
  },
  {
   "cell_type": "markdown",
   "id": "c19dbafb-7a84-4421-991c-8af57cd3e4b8",
   "metadata": {},
   "source": [
    "That csv reader class returns a list of scalars for each record. The following function repacks that list of scalars into a (feature_vector, label) pair."
   ]
  },
  {
   "cell_type": "code",
   "execution_count": null,
   "id": "90d94fee-5225-46cb-a1e6-5f8b6737582b",
   "metadata": {},
   "outputs": [],
   "source": [
    "def pack_row(*row):\n",
    "  label = row[0]\n",
    "  features = tf.stack(row[1:],1)\n",
    "  return features, label"
   ]
  },
  {
   "cell_type": "markdown",
   "id": "ef148112-e48c-4968-aa87-617a61e6b4d2",
   "metadata": {},
   "source": [
    "TensorFlow is most efficient when operating on large batches of data.\n",
    "\n",
    "So, instead of repacking each row individually make a new <a href=\"https://www.tensorflow.org/api_docs/python/tf/data/Dataset\">tf.data.Dataset</a> that takes batches of 10,000 examples, applies the pack_row function to each batch, and then splits the batches back up into individual records:"
   ]
  },
  {
   "cell_type": "code",
   "execution_count": null,
   "id": "64370731-c432-444a-b4d3-3310659172f0",
   "metadata": {},
   "outputs": [],
   "source": [
    "packed_ds = ds.batch(10000).map(pack_row).unbatch()"
   ]
  },
  {
   "cell_type": "markdown",
   "id": "1ced6a0d-7e38-4946-9601-ca5ce3fd5136",
   "metadata": {},
   "source": [
    "Inspect some of the records from this new packed_ds.\n",
    "\n",
    "The features are not perfectly normalized, but this is sufficient for this tutorial."
   ]
  },
  {
   "cell_type": "code",
   "execution_count": null,
   "id": "896487cf-d1c8-4c72-a7b3-8c68023b7b92",
   "metadata": {},
   "outputs": [],
   "source": [
    "for features,label in packed_ds.batch(1000).take(1):\n",
    "  print(features[0])\n",
    "  plt.hist(features.numpy().flatten(), bins = 101)"
   ]
  },
  {
   "cell_type": "markdown",
   "id": "c98180f9-60c7-4bc3-ba1e-73d630392eb7",
   "metadata": {},
   "source": [
    "To keep this tutorial relatively short, use just the first 1,000 samples for validation, and the next 10,000 for training:"
   ]
  },
  {
   "cell_type": "code",
   "execution_count": null,
   "id": "cb00e76d-c7f6-4243-9498-c4ce19c7998c",
   "metadata": {},
   "outputs": [],
   "source": [
    "N_VALIDATION = int(1e3)\n",
    "N_TRAIN = int(1e4)\n",
    "BUFFER_SIZE = int(1e4)\n",
    "BATCH_SIZE = 500\n",
    "STEPS_PER_EPOCH = N_TRAIN//BATCH_SIZE"
   ]
  },
  {
   "cell_type": "markdown",
   "id": "aec98287-4446-4e23-a802-b6cbbbbbd343",
   "metadata": {},
   "source": [
    "The <a href=\"https://www.tensorflow.org/api_docs/python/tf/data/Dataset#skip\">Dataset.skip</a> and <a href=\"https://www.tensorflow.org/api_docs/python/tf/data/Dataset#take\">Dataset.take</a> methods make this easy.\n",
    "\n",
    "At the same time, use the <a href=\"https://www.tensorflow.org/api_docs/python/tf/data/Dataset#cache\">Dataset.cache</a> method to ensure that the loader doesn't need to re-read the data from the file on each epoch:"
   ]
  },
  {
   "cell_type": "code",
   "execution_count": null,
   "id": "76cf8ad0-a862-4540-948d-49a2250dd5a5",
   "metadata": {},
   "outputs": [],
   "source": [
    "validate_ds = packed_ds.take(N_VALIDATION).cache()\n",
    "train_ds = packed_ds.skip(N_VALIDATION).take(N_TRAIN).cache()"
   ]
  },
  {
   "cell_type": "code",
   "execution_count": null,
   "id": "469dc7d9-edab-4ae7-b8d9-2fe71a6e0609",
   "metadata": {},
   "outputs": [],
   "source": [
    "train_ds"
   ]
  },
  {
   "cell_type": "markdown",
   "id": "0e8232db-6fa2-49b2-b5a0-bb0f8a7edbe3",
   "metadata": {},
   "source": [
    "These datasets return individual examples. Use the <a href=\"https://www.tensorflow.org/api_docs/python/tf/data/Dataset#batch\">Dataset.batch</a> method to create batches of an appropriate size for training. Before batching, also remember to use <a href=\"https://www.tensorflow.org/api_docs/python/tf/data/Dataset#shuffle\">Dataset.shuffle</a> and <a href=\"https://www.tensorflow.org/api_docs/python/tf/data/Dataset#repeat\">Dataset.repeat</a> on the training set."
   ]
  },
  {
   "cell_type": "code",
   "execution_count": null,
   "id": "bbb60bdb-753f-4d5a-8a52-a4c1a1692611",
   "metadata": {},
   "outputs": [],
   "source": [
    "validate_ds = validate_ds.batch(BATCH_SIZE)\n",
    "train_ds = train_ds.shuffle(BUFFER_SIZE).repeat().batch(BATCH_SIZE)"
   ]
  },
  {
   "cell_type": "markdown",
   "id": "6c98b170-45a0-4d7c-a962-6c0b5aa38125",
   "metadata": {},
   "source": [
    "### Demonstrate overfitting\n",
    "\n",
    "The simplest way to prevent overfitting is to start with a small model: A model with a small number of learnable parameters (which is determined by the number of layers and the number of units per layer). In deep learning, the number of learnable parameters in a model is often referred to as the model's \"capacity\".\n",
    "\n",
    "Intuitively, a model with more parameters will have more \"memorization capacity\" and therefore will be able to easily learn a perfect dictionary-like mapping between training samples and their targets, a mapping without any generalization power, but this would be useless when making predictions on previously unseen data.\n",
    "\n",
    "Always keep this in mind: deep learning models tend to be good at fitting to the training data, but the real challenge is generalization, not fitting.\n",
    "\n",
    "On the other hand, if the network has limited memorization resources, it will not be able to learn the mapping as easily. To minimize its loss, it will have to learn compressed representations that have more predictive power. At the same time, if you make your model too small, it will have difficulty fitting to the training data. There is a balance between \"too much capacity\" and \"not enough capacity\".\n",
    "\n",
    "Unfortunately, there is no magical formula to determine the right size or architecture of your model (in terms of the number of layers, or the right size for each layer). You will have to experiment using a series of different architectures.\n",
    "\n",
    "To find an appropriate model size, it's best to start with relatively few layers and parameters, then begin increasing the size of the layers or adding new layers until you see diminishing returns on the validation loss.\n",
    "\n",
    "Start with a simple model using only densely-connected layers (<a href=\"https://www.tensorflow.org/api_docs/python/tf/keras/layers/Dense\">tf.keras.layers.Dense</a>) as a baseline, then create larger models, and compare them.\n",
    "\n",
    "### Training procedure\n",
    "\n",
    "Many models train better if you gradually reduce the learning rate during training. Use <a href=\"https://www.tensorflow.org/api_docs/python/tf/keras/optimizers/schedules\">tf.keras.optimizers.schedules</a> to reduce the learning rate over time:"
   ]
  },
  {
   "cell_type": "code",
   "execution_count": null,
   "id": "345b8438-6f8f-451c-aa7b-774a577563e9",
   "metadata": {},
   "outputs": [],
   "source": [
    "lr_schedule = tf.keras.optimizers.schedules.InverseTimeDecay(\n",
    "  0.001,\n",
    "  decay_steps=STEPS_PER_EPOCH*1000,\n",
    "  decay_rate=1,\n",
    "  staircase=False)\n",
    "\n",
    "def get_optimizer():\n",
    "  return tf.keras.optimizers.Adam(lr_schedule)"
   ]
  },
  {
   "cell_type": "markdown",
   "id": "10a67c92-1d17-4914-901e-f123e2c77238",
   "metadata": {},
   "source": [
    "The code above sets a <a hreft=\"https://www.tensorflow.org/api_docs/python/tf/keras/optimizers/schedules/InverseTimeDecay\">f.keras.optimizers.schedules.InverseTimeDecay</a> to hyperbolically decrease the learning rate to 1/2 of the base rate at 1,000 epochs, 1/3 at 2,000 epochs, and so on."
   ]
  },
  {
   "cell_type": "code",
   "execution_count": null,
   "id": "ce6bec4b-c342-4006-82e1-2c368d971358",
   "metadata": {},
   "outputs": [],
   "source": [
    "step = np.linspace(0,100000)\n",
    "lr = lr_schedule(step)\n",
    "plt.figure(figsize = (8,6))\n",
    "plt.plot(step/STEPS_PER_EPOCH, lr)\n",
    "plt.ylim([0,max(plt.ylim())])\n",
    "plt.xlabel('Epoch')\n",
    "_ = plt.ylabel('Learning Rate')"
   ]
  },
  {
   "cell_type": "markdown",
   "id": "750fad6e-1752-429b-966a-a442956eeab9",
   "metadata": {},
   "source": [
    "Each model in this tutorial will use the same training configuration. So set these up in a reusable way, starting with the list of callbacks.\n",
    "\n",
    "The training for this tutorial runs for many short epochs. To reduce the logging noise use the tfdocs.EpochDots which simply prints a . for each epoch, and a full set of metrics every 100 epochs.\n",
    "\n",
    "Next include <a href=\"https://www.tensorflow.org/api_docs/python/tf/keras/callbacks/EarlyStopping\">tf.keras.callbacks.EarlyStopping</a> to avoid long and unnecessary training times. Note that this callback is set to monitor the val_binary_crossentropy, not the val_loss. This difference will be important later.\n",
    "\n",
    "Use <a href=\"https://www.tensorflow.org/api_docs/python/tf/keras/callbacks/TensorBoard\">callbacks.TensorBoard</a> to generate TensorBoard logs for the training."
   ]
  },
  {
   "cell_type": "code",
   "execution_count": null,
   "id": "71dc3e5c-12cd-45fa-87bf-b61e11b79bf1",
   "metadata": {},
   "outputs": [],
   "source": [
    "def get_callbacks(name):\n",
    "  return [\n",
    "    tfdocs.modeling.EpochDots(),\n",
    "    tf.keras.callbacks.EarlyStopping(monitor='val_binary_crossentropy', patience=200),\n",
    "    tf.keras.callbacks.TensorBoard(logdir/name),\n",
    "  ]"
   ]
  },
  {
   "cell_type": "markdown",
   "id": "d18f6eea-b9c6-427d-be46-91a2c2b115b3",
   "metadata": {},
   "source": [
    "Similarly each model will use the same <a href=\"https://www.tensorflow.org/api_docs/python/tf/keras/Model#compile\">Model.compile</a> and <a href=\"https://www.tensorflow.org/api_docs/python/tf/keras/Model#fit\">Model.fit</a> settings:"
   ]
  },
  {
   "cell_type": "code",
   "execution_count": null,
   "id": "d055a41b-ed43-4ce1-aa0f-32ce6933c910",
   "metadata": {},
   "outputs": [],
   "source": [
    "def compile_and_fit(model, name, optimizer=None, max_epochs=10000):\n",
    "  if optimizer is None:\n",
    "    optimizer = get_optimizer()\n",
    "  model.compile(optimizer=optimizer,\n",
    "                loss=tf.keras.losses.BinaryCrossentropy(from_logits=True),\n",
    "                metrics=[\n",
    "                  tf.keras.metrics.BinaryCrossentropy(\n",
    "                      from_logits=True, name='binary_crossentropy'),\n",
    "                  'accuracy'])\n",
    "\n",
    "  model.summary()\n",
    "\n",
    "  history = model.fit(\n",
    "    train_ds,\n",
    "    steps_per_epoch = STEPS_PER_EPOCH,\n",
    "    epochs=max_epochs,\n",
    "    validation_data=validate_ds,\n",
    "    callbacks=get_callbacks(name),\n",
    "    verbose=0)\n",
    "  return history"
   ]
  },
  {
   "cell_type": "markdown",
   "id": "3e8bc24c-5600-436b-a2ff-6c00eda6a39e",
   "metadata": {},
   "source": [
    "### Tiny model\n",
    "Start by training a model:"
   ]
  },
  {
   "cell_type": "code",
   "execution_count": null,
   "id": "2973c0d3-0e32-4ea7-8686-7b868d8ccc20",
   "metadata": {},
   "outputs": [],
   "source": [
    "tiny_model = tf.keras.Sequential([\n",
    "    layers.Dense(16, activation='elu', input_shape=(FEATURES,)),\n",
    "    layers.Dense(1)\n",
    "])"
   ]
  },
  {
   "cell_type": "code",
   "execution_count": null,
   "id": "252129b0-5bc4-4230-8702-01fc9ff36c5c",
   "metadata": {},
   "outputs": [],
   "source": [
    "size_histories = {}"
   ]
  },
  {
   "cell_type": "code",
   "execution_count": null,
   "id": "570d04e4-cdad-4383-941e-ffcf5ef4aff5",
   "metadata": {},
   "outputs": [],
   "source": [
    "size_histories['Tiny'] = compile_and_fit(tiny_model, 'sizes/Tiny')"
   ]
  },
  {
   "cell_type": "markdown",
   "id": "9cc8e4b7-b9b3-429e-8a4b-9cce2ab41393",
   "metadata": {},
   "source": [
    "Now check how the model did:"
   ]
  },
  {
   "cell_type": "code",
   "execution_count": null,
   "id": "bee6e127-a955-4f40-af53-f1e7fa73d653",
   "metadata": {},
   "outputs": [],
   "source": [
    "plotter = tfdocs.plots.HistoryPlotter(metric = 'binary_crossentropy', smoothing_std=10)\n",
    "plotter.plot(size_histories)\n",
    "plt.ylim([0.5, 0.7])"
   ]
  },
  {
   "cell_type": "markdown",
   "id": "597519ec-48c4-4fba-8f49-3df9f6be2338",
   "metadata": {},
   "source": [
    "### Small model\n",
    "\n",
    "To check if you can beat the performance of the small model, progressively train some larger models.\n",
    "\n",
    "Try two hidden layers with 16 units each:"
   ]
  },
  {
   "cell_type": "code",
   "execution_count": null,
   "id": "e6bcf0e3-b518-4fa1-8b4d-030befbedc01",
   "metadata": {},
   "outputs": [],
   "source": [
    "small_model = tf.keras.Sequential([\n",
    "    # `input_shape` is only required here so that `.summary` works.\n",
    "    layers.Dense(16, activation='elu', input_shape=(FEATURES,)),\n",
    "    layers.Dense(16, activation='elu'),\n",
    "    layers.Dense(1)\n",
    "])"
   ]
  },
  {
   "cell_type": "code",
   "execution_count": null,
   "id": "2e94e320-8b98-4a25-a218-53cd293a9cf8",
   "metadata": {},
   "outputs": [],
   "source": [
    "size_histories['Small'] = compile_and_fit(small_model, 'sizes/Small')"
   ]
  },
  {
   "cell_type": "markdown",
   "id": "cb0059c9-9dbe-43cf-995c-75f3f7010d95",
   "metadata": {},
   "source": [
    "### Medium model\n",
    "Now try three hidden layers with 64 units each:"
   ]
  },
  {
   "cell_type": "code",
   "execution_count": null,
   "id": "d6bf553a-da23-424d-9a9b-b6bf914dbdde",
   "metadata": {},
   "outputs": [],
   "source": [
    "medium_model = tf.keras.Sequential([\n",
    "    layers.Dense(64, activation='elu', input_shape=(FEATURES,)),\n",
    "    layers.Dense(64, activation='elu'),\n",
    "    layers.Dense(64, activation='elu'),\n",
    "    layers.Dense(1)\n",
    "])"
   ]
  },
  {
   "cell_type": "markdown",
   "id": "2a87a583-6934-4b61-a360-a16b13008e87",
   "metadata": {},
   "source": [
    "And train the model using the same data:"
   ]
  },
  {
   "cell_type": "code",
   "execution_count": null,
   "id": "46dc925a-4ab3-4b91-8fb7-87aa8bddd34e",
   "metadata": {},
   "outputs": [],
   "source": [
    "size_histories['Medium']  = compile_and_fit(medium_model, \"sizes/Medium\")"
   ]
  },
  {
   "cell_type": "markdown",
   "id": "85cd4e2e-f00c-4713-8ba7-16675ffb785f",
   "metadata": {},
   "source": [
    "### Large model\n",
    "As an exercise, you can create an even larger model and check how quickly it begins overfitting. Next, add to this benchmark a network that has much more capacity, far more than the problem would warrant:"
   ]
  },
  {
   "cell_type": "code",
   "execution_count": null,
   "id": "2931055b-19b4-4413-960e-4a1a6fa4354e",
   "metadata": {},
   "outputs": [],
   "source": [
    "large_model = tf.keras.Sequential([\n",
    "    layers.Dense(512, activation='elu', input_shape=(FEATURES,)),\n",
    "    layers.Dense(512, activation='elu'),\n",
    "    layers.Dense(512, activation='elu'),\n",
    "    layers.Dense(512, activation='elu'),\n",
    "    layers.Dense(1)\n",
    "])"
   ]
  },
  {
   "cell_type": "markdown",
   "id": "906a94c2-f2a3-4369-87fa-20526a8558cf",
   "metadata": {},
   "source": [
    "And, again, train the model using the same data:"
   ]
  },
  {
   "cell_type": "code",
   "execution_count": null,
   "id": "a2567a0f-b415-4bbc-854c-7fec9e2ea371",
   "metadata": {},
   "outputs": [],
   "source": [
    "size_histories['large'] = compile_and_fit(large_model, \"sizes/large\")"
   ]
  },
  {
   "cell_type": "markdown",
   "id": "d66f0155-7fb9-4265-a4c6-daac54ac32c7",
   "metadata": {},
   "source": [
    "### Plot the training and validation losses\n",
    "\n",
    "The solid lines show the training loss, and the dashed lines show the validation loss (remember: a lower validation loss indicates a better model).\n",
    "\n",
    "While building a larger model gives it more power, if this power is not constrained somehow it can easily overfit to the training set.\n",
    "\n",
    "In this example, typically, only the \"Tiny\" model manages to avoid overfitting altogether, and each of the larger models overfit the data more quickly. This becomes so severe for the \"large\" model that you need to switch the plot to a log-scale to really figure out what's happening.\n",
    "\n",
    "This is apparent if you plot and compare the validation metrics to the training metrics.\n",
    "\n",
    "<ul>\n",
    "    <li>It's normal for there to be a small difference.</li>\n",
    "    <li>If both metrics are moving in the same direction, everything is fine.</li>\n",
    "    <li>If the validation metric begins to stagnate while the training metric continues to improve, you are probably close to overfitting.</li>\n",
    "    <li>If the validation metric is going in the wrong direction, the model is clearly overfitting.</li>\n",
    "</ul>"
   ]
  },
  {
   "cell_type": "code",
   "execution_count": null,
   "id": "f292fc5e-f089-4ac1-a92f-0422eb7a4a4b",
   "metadata": {},
   "outputs": [],
   "source": [
    "plotter.plot(size_histories)\n",
    "a = plt.xscale('log')\n",
    "plt.xlim([5, max(plt.xlim())])\n",
    "plt.ylim([0.5, 0.7])\n",
    "plt.xlabel(\"Epochs [Log Scale]\")"
   ]
  },
  {
   "cell_type": "markdown",
   "id": "cf7cb9d0-c7f8-425f-a4c2-75619b2106f2",
   "metadata": {},
   "source": [
    "### View in TensorBoard\n",
    "\n",
    "These models all wrote TensorBoard logs during training.\n",
    "\n",
    "Open an embedded TensorBoard viewer inside a notebook (Sorry, this doesn't display on tensorflow.org):"
   ]
  },
  {
   "cell_type": "code",
   "execution_count": null,
   "id": "73fc1699-9eea-429e-82da-0f9947f279a2",
   "metadata": {},
   "outputs": [],
   "source": [
    "# Load the TensorBoard notebook extension\n",
    "%load_ext tensorboard\n",
    "\n",
    "# Open an embedded TensorBoard viewer\n",
    "%tensorboard --logdir {logdir}/sizes"
   ]
  },
  {
   "cell_type": "markdown",
   "id": "80e01319-2f56-47d3-8b0b-d29de9a261b8",
   "metadata": {},
   "source": [
    "You can view the <a href=\"https://tensorboard.dev/experiment/vW7jmmF9TmKmy3rbheMQpw/#scalars&_smoothingWeight=0.97\">results of a previous run</a> of this notebook on <a href=\"https://tensorboard.dev/\">TensorBoard.dev</a>.\n",
    "\n",
    "### Strategies to prevent overfitting\n",
    "\n",
    "Before getting into the content of this section copy the training logs from the \"Tiny\" model above, to use as a baseline for comparison."
   ]
  },
  {
   "cell_type": "code",
   "execution_count": null,
   "id": "20fb4793-2504-42b6-b2d9-4dfc6700d8f9",
   "metadata": {},
   "outputs": [],
   "source": [
    "shutil.rmtree(logdir/'regularizers/Tiny', ignore_errors=True)\n",
    "shutil.copytree(logdir/'sizes/Tiny', logdir/'regularizers/Tiny')"
   ]
  },
  {
   "cell_type": "code",
   "execution_count": null,
   "id": "593edad9-f54c-4ca9-9555-6847ceec976a",
   "metadata": {},
   "outputs": [],
   "source": [
    "regularizer_histories = {}\n",
    "regularizer_histories['Tiny'] = size_histories['Tiny']"
   ]
  },
  {
   "cell_type": "markdown",
   "id": "0c50e0e4-6383-4933-addd-743396320686",
   "metadata": {},
   "source": [
    "### Add weight regularization\n",
    "\n",
    "You may be familiar with Occam's Razor principle: given two explanations for something, the explanation most likely to be correct is the \"simplest\" one, the one that makes the least amount of assumptions. This also applies to the models learned by neural networks: given some training data and a network architecture, there are multiple sets of weights values (multiple models) that could explain the data, and simpler models are less likely to overfit than complex ones.\n",
    "\n",
    "A \"simple model\" in this context is a model where the distribution of parameter values has less entropy (or a model with fewer parameters altogether, as demonstrated in the section above). Thus a common way to mitigate overfitting is to put constraints on the complexity of a network by forcing its weights only to take small values, which makes the distribution of weight values more \"regular\". This is called \"weight regularization\", and it is done by adding to the loss function of the network a cost associated with having large weights. This cost comes in two flavors:\n",
    "\n",
    "<ul>\n",
    "    <li><a href=\"https://developers.google.com/machine-learning/glossary/#L1_regularization\">L1 regularization</a>, where the cost added is proportional to the absolute value of the weights coefficients (i.e. to what is called the \"L1 norm\" of the weights).</li>\n",
    "    <li><a href=\"https://developers.google.com/machine-learning/glossary/#L2_regularization\">L2 regularization</a>, where the cost added is proportional to the square of the value of the weights coefficients (i.e. to what is called the squared \"L2 norm\" of the weights). L2 regularization is also called weight decay in the context of neural networks. Don't let the different name confuse you: weight decay is mathematically the exact same as L2 regularization.</li>\n",
    "</ul>\n",
    "\n",
    "L1 regularization pushes weights towards exactly zero, encouraging a sparse model. L2 regularization will penalize the weights parameters without making them sparse since the penalty goes to zero for small weights—one reason why L2 is more common.\n",
    "\n",
    "In <a href=\"https://www.tensorflow.org/api_docs/python/tf/keras\">tf.keras</a>, weight regularization is added by passing weight regularizer instances to layers as keyword arguments. Add L2 weight regularization:"
   ]
  },
  {
   "cell_type": "code",
   "execution_count": null,
   "id": "8005d496-5f45-465d-8501-0a3651fd70b7",
   "metadata": {},
   "outputs": [],
   "source": [
    "l2_model = tf.keras.Sequential([\n",
    "    layers.Dense(512, activation='elu',\n",
    "                 kernel_regularizer=regularizers.l2(0.001),\n",
    "                 input_shape=(FEATURES,)),\n",
    "    layers.Dense(512, activation='elu',\n",
    "                 kernel_regularizer=regularizers.l2(0.001)),\n",
    "    layers.Dense(512, activation='elu',\n",
    "                 kernel_regularizer=regularizers.l2(0.001)),\n",
    "    layers.Dense(512, activation='elu',\n",
    "                 kernel_regularizer=regularizers.l2(0.001)),\n",
    "    layers.Dense(1)\n",
    "])\n",
    "\n",
    "regularizer_histories['l2'] = compile_and_fit(l2_model, \"regularizers/l2\")"
   ]
  },
  {
   "cell_type": "markdown",
   "id": "2b385474-f701-4dfc-92c5-be49bff9cf0e",
   "metadata": {},
   "source": [
    "l2(0.001) means that every coefficient in the weight matrix of the layer will add 0.001 * weight_coefficient_value**2 to the total loss of the network.\n",
    "\n",
    "That is why we're monitoring the binary_crossentropy directly. Because it doesn't have this regularization component mixed in.\n",
    "\n",
    "So, that same \"Large\" model with an L2 regularization penalty performs much better:"
   ]
  },
  {
   "cell_type": "code",
   "execution_count": null,
   "id": "cec4bea5-2e9a-4059-9d48-9f06964e7131",
   "metadata": {},
   "outputs": [],
   "source": [
    "plotter.plot(regularizer_histories)\n",
    "plt.ylim([0.5, 0.7])"
   ]
  },
  {
   "cell_type": "markdown",
   "id": "22738456-c24b-4892-8efe-f24b75f02e69",
   "metadata": {},
   "source": [
    "As demonstrated in the diagram above, the \"L2\" regularized model is now much more competitive with the \"Tiny\" model. This \"L2\" model is also much more resistant to overfitting than the \"Large\" model it was based on despite having the same number of parameters.\n",
    "\n",
    "#### More info\n",
    "\n",
    "There are two important things to note about this sort of regularization:\n",
    "\n",
    "<ol>\n",
    "    <li>If you are writing your own training loop, then you need to be sure to ask the model for its regularization losses.</li>\n",
    "</ol>"
   ]
  },
  {
   "cell_type": "code",
   "execution_count": null,
   "id": "8b763e11-a9ee-453c-8109-190396bfe756",
   "metadata": {},
   "outputs": [],
   "source": [
    "result = l2_model(features)\n",
    "regularization_loss=tf.add_n(l2_model.losses)"
   ]
  },
  {
   "cell_type": "markdown",
   "id": "5acc89d0-6ec6-4fb3-9655-a5a62d7328f2",
   "metadata": {},
   "source": [
    "<ul>\n",
    "    <li>This implementation works by adding the weight penalties to the model's loss, and then applying a standard optimization procedure after that.</li>\n",
    "</ul>\n",
    "\n",
    "There is a second approach that instead only runs the optimizer on the raw loss, and then while applying the calculated step the optimizer also applies some weight decay. This \"decoupled weight decay\" is used in optimizers like <a href=\"https://www.tensorflow.org/api_docs/python/tf/keras/optimizers/Ftrl\">tf.keras.optimizers.Ftrl</a> and <a href=\"https://www.tensorflow.org/addons/api_docs/python/tfa/optimizers/AdamW\">tfa.optimizers.AdamW</a>.\n",
    "\n",
    "### Add dropout\n",
    "\n",
    "Dropout is one of the most effective and most commonly used regularization techniques for neural networks, developed by Hinton and his students at the University of Toronto.\n",
    "\n",
    "The intuitive explanation for dropout is that because individual nodes in the network cannot rely on the output of the others, each node must output features that are useful on their own.\n",
    "\n",
    "Dropout, applied to a layer, consists of randomly \"dropping out\" (i.e. set to zero) a number of output features of the layer during training. For example, a given layer would normally have returned a vector [0.2, 0.5, 1.3, 0.8, 1.1] for a given input sample during training; after applying dropout, this vector will have a few zero entries distributed at random, e.g. [0, 0.5, 1.3, 0, 1.1].\n",
    "\n",
    "The \"dropout rate\" is the fraction of the features that are being zeroed-out; it is usually set between 0.2 and 0.5. At test time, no units are dropped out, and instead the layer's output values are scaled down by a factor equal to the dropout rate, so as to balance for the fact that more units are active than at training time.\n",
    "\n",
    "In Keras, you can introduce dropout in a network via the <a href=\"https://www.tensorflow.org/api_docs/python/tf/keras/layers/Dropout\">tf.keras.layers.Dropout</a> layer, which gets applied to the output of layer right before.\n",
    "\n",
    "Add two dropout layers to your network to check how well they do at reducing overfitting:"
   ]
  },
  {
   "cell_type": "code",
   "execution_count": null,
   "id": "2e2d0001-7839-4ce8-92e8-aac060de724f",
   "metadata": {},
   "outputs": [],
   "source": [
    "dropout_model = tf.keras.Sequential([\n",
    "    layers.Dense(512, activation='elu', input_shape=(FEATURES,)),\n",
    "    layers.Dropout(0.5),\n",
    "    layers.Dense(512, activation='elu'),\n",
    "    layers.Dropout(0.5),\n",
    "    layers.Dense(512, activation='elu'),\n",
    "    layers.Dropout(0.5),\n",
    "    layers.Dense(512, activation='elu'),\n",
    "    layers.Dropout(0.5),\n",
    "    layers.Dense(1)\n",
    "])\n",
    "\n",
    "regularizer_histories['dropout'] = compile_and_fit(dropout_model, \"regularizers/dropout\")"
   ]
  },
  {
   "cell_type": "code",
   "execution_count": null,
   "id": "6e9e9df4-919d-476c-90a2-f2a9ef690a60",
   "metadata": {},
   "outputs": [],
   "source": [
    "plotter.plot(regularizer_histories)\n",
    "plt.ylim([0.5, 0.7])"
   ]
  },
  {
   "cell_type": "markdown",
   "id": "77cbf867-25d8-4b48-9cfa-96bdfb325b4a",
   "metadata": {},
   "source": [
    "It's clear from this plot that both of these regularization approaches improve the behavior of the \"Large\" model. But this still doesn't beat even the \"Tiny\" baseline.\n",
    "\n",
    "Next try them both, together, and see if that does better.\n",
    "\n",
    "### Combined L2 + dropout"
   ]
  },
  {
   "cell_type": "code",
   "execution_count": null,
   "id": "75476bc7-4af6-4390-b1c7-b19f1c9f263a",
   "metadata": {},
   "outputs": [],
   "source": [
    "combined_model = tf.keras.Sequential([\n",
    "    layers.Dense(512, kernel_regularizer=regularizers.l2(0.0001),\n",
    "                 activation='elu', input_shape=(FEATURES,)),\n",
    "    layers.Dropout(0.5),\n",
    "    layers.Dense(512, kernel_regularizer=regularizers.l2(0.0001),\n",
    "                 activation='elu'),\n",
    "    layers.Dropout(0.5),\n",
    "    layers.Dense(512, kernel_regularizer=regularizers.l2(0.0001),\n",
    "                 activation='elu'),\n",
    "    layers.Dropout(0.5),\n",
    "    layers.Dense(512, kernel_regularizer=regularizers.l2(0.0001),\n",
    "                 activation='elu'),\n",
    "    layers.Dropout(0.5),\n",
    "    layers.Dense(1)\n",
    "])\n",
    "\n",
    "regularizer_histories['combined'] = compile_and_fit(combined_model, \"regularizers/combined\")"
   ]
  },
  {
   "cell_type": "code",
   "execution_count": null,
   "id": "5fa0338d-e25a-4a03-87c5-41e5f6a97d1a",
   "metadata": {},
   "outputs": [],
   "source": [
    "plotter.plot(regularizer_histories)\n",
    "plt.ylim([0.5, 0.7])"
   ]
  },
  {
   "cell_type": "markdown",
   "id": "620c54cb-fce3-4f6a-962d-3a275536db26",
   "metadata": {},
   "source": [
    "This model with the \"Combined\" regularization is obviously the best one so far.\n",
    "\n",
    "### View in TensorBoard\n",
    "\n",
    "These models also recorded TensorBoard logs.\n",
    "\n",
    "To open an embedded run the following into a code-cell (Sorry, this doesn't display on tensorflow.org):"
   ]
  },
  {
   "cell_type": "code",
   "execution_count": null,
   "id": "5658f77b-a3d7-4ba3-bfd0-40115f0fcca2",
   "metadata": {},
   "outputs": [],
   "source": [
    "%tensorboard --logdir {logdir}/regularizers"
   ]
  },
  {
   "cell_type": "markdown",
   "id": "7c1c678b-9b2b-4807-baa4-2015a5926e02",
   "metadata": {},
   "source": [
    "You can view the <a href=\"https://tensorboard.dev/experiment/vW7jmmF9TmKmy3rbheMQpw/#scalars&_smoothingWeight=0.97\">results of a previous run</a> of this notebook on <a href=\"https://tensorboard.dev/\">TensorBoard.dev</a>.\n",
    "\n",
    "### Conclusions\n",
    "\n",
    "To recap, here are the most common ways to prevent overfitting in neural networks:\n",
    "\n",
    "<ul>\n",
    "    <li>Get more training data.</li>\n",
    "    <li>Reduce the capacity of the network.</li>\n",
    "    <li>Add weight regularization.</li>\n",
    "    <li>Add dropout.</li>\n",
    "</ul>\n",
    "\n",
    "Two important approaches not covered in this guide are:\n",
    "\n",
    "<ul>\n",
    "    <li><a href=\"https://www.tensorflow.org/tutorials/images/data_augmentation\">Data augmentation</a></li>\n",
    "    <li>Batch normalization (<a href=\"https://www.tensorflow.org/api_docs/python/tf/keras/layers/BatchNormalization\">tf.keras.layers.BatchNormalization</a>)</li>\n",
    "</ul>\n",
    "\n",
    "Remember that each method can help on its own, but often combining them can be even more effective."
   ]
  },
  {
   "cell_type": "code",
   "execution_count": null,
   "id": "ecdc4092-236c-4844-bd47-61108c074364",
   "metadata": {},
   "outputs": [],
   "source": []
  }
 ],
 "metadata": {
  "kernelspec": {
   "display_name": "Python 3 (ipykernel)",
   "language": "python",
   "name": "python3"
  },
  "language_info": {
   "codemirror_mode": {
    "name": "ipython",
    "version": 3
   },
   "file_extension": ".py",
   "mimetype": "text/x-python",
   "name": "python",
   "nbconvert_exporter": "python",
   "pygments_lexer": "ipython3",
   "version": "3.11.0rc1"
  }
 },
 "nbformat": 4,
 "nbformat_minor": 5
}
