{
 "cells": [
  {
   "cell_type": "markdown",
   "id": "815c38a4-8916-49eb-ac5d-d26f12f8fd4c",
   "metadata": {},
   "source": [
    "Exercise from the end of : https://www.tensorflow.org/tutorials/keras/text_classification"
   ]
  },
  {
   "cell_type": "markdown",
   "id": "90b1fea0-6828-423a-b091-8dc62a0e1738",
   "metadata": {},
   "source": [
    "### Exercise: multi-class classification on Stack Overflow questions\n",
    "\n",
    "This tutorial showed how to train a binary classifier from scratch on the IMDB dataset. As an exercise, you can modify this notebook to train a multi-class classifier to predict the tag of a programming question on <a href=\"http://stackoverflow.com/\">Stack Overflow</a>.\n",
    "\n",
    "A <a href=\"https://storage.googleapis.com/download.tensorflow.org/data/stack_overflow_16k.tar.gz\">dataset</a> has been prepared for you to use containing the body of several thousand programming questions (for example, \"How can I sort a dictionary by value in Python?\") posted to Stack Overflow. Each of these is labeled with exactly one tag (either Python, CSharp, JavaScript, or Java). Your task is to take a question as input, and predict the appropriate tag, in this case, Python.\n",
    "\n",
    "The dataset you will work with contains several thousand questions extracted from the much larger public Stack Overflow dataset on <a href=\"https://console.cloud.google.com/marketplace/details/stack-exchange/stack-overflow\">BigQuery</a>, which contains more than 17 million posts.\n",
    "\n",
    "After downloading the dataset, you will find it has a similar directory structure to the IMDB dataset you worked with previously:"
   ]
  },
  {
   "cell_type": "markdown",
   "id": "6f2c733b-53dd-4363-b455-5c553e5b959c",
   "metadata": {},
   "source": [
    "train/         <br/>\n",
    "...python/     <br/>\n",
    "......0.txt    <br/>\n",
    "......1.txt    <br/>\n",
    "...javascript/ <br/>\n",
    "......0.txt    <br/>\n",
    "......1.txt    <br/>\n",
    "...csharp/     <br/>\n",
    "......0.txt    <br/>\n",
    "......1.txt    <br/>\n",
    "...java/       <br/>\n",
    "......0.txt    <br/>\n",
    "......1.txt    <br/>"
   ]
  },
  {
   "cell_type": "markdown",
   "id": "98539eec-a6ca-4189-b6b2-a7d165442a0f",
   "metadata": {},
   "source": [
    "To complete this exercise, you should modify this notebook to work with the Stack Overflow dataset by making the following modifications:\n",
    "\n",
    "<ol>\n",
    "    <li>At the top of your notebook, update the code that downloads the IMDB dataset with code to download the <a href=\"https://storage.googleapis.com/download.tensorflow.org/data/stack_overflow_16k.tar.gz\">Stack Overflow</a> dataset that has already been prepared. As the Stack Overflow dataset has a similar directory structure, you will not need to make many modifications.\n",
    "    <li>Modify the last layer of your model to Dense(4), as there are now four output classes.</li>\n",
    "    <li>When compiling the model, change the loss to <a href=\"https://www.tensorflow.org/api_docs/python/tf/keras/losses/SparseCategoricalCrossentropy\">tf.keras.losses.SparseCategoricalCrossentropy(from_logits=True)</a>a>. This is the correct loss function to use for a multi-class classification problem, when the labels for each class are integers (in this case, they can be 0, 1, 2, or 3). In addition, change the metrics to metrics=['accuracy'], since this is a multi-class classification problem (tf.metrics.BinaryAccuracy is only used for binary classifiers).</li>\n",
    "    <li>When plotting accuracy over time, change binary_accuracy and val_binary_accuracy to accuracy and val_accuracy, respectively.</li>\n",
    "    <li>Once these changes are complete, you will be able to train a multi-class classifier.</li>\n",
    "</ol>\n",
    "\n",
    "### Learning more\n",
    "This tutorial introduced text classification from scratch. To learn more about the text classification workflow in general, check out the Text classification guide from Google Developers."
   ]
  },
  {
   "cell_type": "code",
   "execution_count": 6,
   "id": "1b3f9914-cddc-4d12-ac38-3cf5bae64a63",
   "metadata": {},
   "outputs": [],
   "source": [
    "import matplotlib.pyplot as plt\n",
    "import os\n",
    "import re\n",
    "import shutil\n",
    "import string\n",
    "import tensorflow as tf\n",
    "\n",
    "from tensorflow.keras import layers\n",
    "from tensorflow.keras import losses"
   ]
  },
  {
   "cell_type": "code",
   "execution_count": 7,
   "id": "7ae340e3-22e7-44b0-8f28-6256ebe03f2a",
   "metadata": {},
   "outputs": [],
   "source": [
    "url = \"https://storage.googleapis.com/download.tensorflow.org/data/stack_overflow_16k.tar.gz\"\n",
    "\n",
    "dataset = tf.keras.utils.get_file(\"stack_overflow_16k\", url,\n",
    "                                    untar=True, cache_dir='./downloads/stack_overflow_16k',\n",
    "                                    cache_subdir='')\n",
    "\n",
    "dataset_dir = os.path.join(os.path.dirname(dataset), 'stack_overflow_16k')"
   ]
  },
  {
   "cell_type": "code",
   "execution_count": null,
   "id": "cace2b80-430c-48c0-8c96-371ef4f73d14",
   "metadata": {},
   "outputs": [],
   "source": []
  }
 ],
 "metadata": {
  "kernelspec": {
   "display_name": "Python 3 (ipykernel)",
   "language": "python",
   "name": "python3"
  },
  "language_info": {
   "codemirror_mode": {
    "name": "ipython",
    "version": 3
   },
   "file_extension": ".py",
   "mimetype": "text/x-python",
   "name": "python",
   "nbconvert_exporter": "python",
   "pygments_lexer": "ipython3",
   "version": "3.11.0rc1"
  }
 },
 "nbformat": 4,
 "nbformat_minor": 5
}
