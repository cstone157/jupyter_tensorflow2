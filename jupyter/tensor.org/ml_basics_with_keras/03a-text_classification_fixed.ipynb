{
 "cells": [
  {
   "cell_type": "code",
   "execution_count": 1,
   "id": "0083f077-7c65-4bd0-b784-611c71b1d6c1",
   "metadata": {},
   "outputs": [],
   "source": [
    "#!pip install tensorflow-hub tensorflow-datasets\n",
    "#!pip install tf_keras"
   ]
  },
  {
   "cell_type": "code",
   "execution_count": 2,
   "id": "a378d5e8-2c5f-459e-a80b-4953ddf75469",
   "metadata": {},
   "outputs": [
    {
     "name": "stderr",
     "output_type": "stream",
     "text": [
      "2024-05-26 18:03:42.649356: I external/local_tsl/tsl/cuda/cudart_stub.cc:32] Could not find cuda drivers on your machine, GPU will not be used.\n",
      "2024-05-26 18:03:42.779428: I external/local_tsl/tsl/cuda/cudart_stub.cc:32] Could not find cuda drivers on your machine, GPU will not be used.\n",
      "2024-05-26 18:03:43.089051: I tensorflow/core/platform/cpu_feature_guard.cc:210] This TensorFlow binary is optimized to use available CPU instructions in performance-critical operations.\n",
      "To enable the following instructions: AVX2 FMA, in other operations, rebuild TensorFlow with the appropriate compiler flags.\n",
      "2024-05-26 18:03:44.077699: W tensorflow/compiler/tf2tensorrt/utils/py_utils.cc:38] TF-TRT Warning: Could not find TensorRT\n"
     ]
    },
    {
     "name": "stdout",
     "output_type": "stream",
     "text": [
      "Version:  2.16.1\n",
      "Eager mode:  True\n",
      "Hub version:  0.16.1\n",
      "GPU is NOT AVAILABLE\n"
     ]
    }
   ],
   "source": [
    "import os\n",
    "import numpy as np\n",
    "\n",
    "import tensorflow as tf\n",
    "import tensorflow_hub as hub\n",
    "import tensorflow_datasets as tfds\n",
    "\n",
    "print(\"Version: \", tf.__version__)\n",
    "print(\"Eager mode: \", tf.executing_eagerly())\n",
    "print(\"Hub version: \", hub.__version__)\n",
    "print(\"GPU is\", \"available\" if tf.config.list_physical_devices(\"GPU\") else \"NOT AVAILABLE\")"
   ]
  },
  {
   "cell_type": "code",
   "execution_count": 3,
   "id": "449a0ec4-933c-4168-b3af-1a0767f7053f",
   "metadata": {},
   "outputs": [],
   "source": [
    "# Split the training set into 60% and 40% to end up with 15,000 examples\n",
    "# for training, 10,000 examples for validation and 25,000 examples for testing.\n",
    "train_data, validation_data, test_data = tfds.load(\n",
    "    name=\"imdb_reviews\", \n",
    "    split=('train[:60%]', 'train[60%:]', 'test'),\n",
    "    as_supervised=True)"
   ]
  },
  {
   "cell_type": "code",
   "execution_count": 9,
   "id": "1c7ebc47-7d0c-479d-a71f-cfa295e10c43",
   "metadata": {},
   "outputs": [
    {
     "name": "stderr",
     "output_type": "stream",
     "text": [
      "2024-05-26 18:23:09.042468: W tensorflow/core/kernels/data/cache_dataset_ops.cc:858] The calling iterator did not fully read the dataset being cached. In order to avoid unexpected truncation of the dataset, the partially cached contents of the dataset  will be discarded. This can happen if you have an input pipeline similar to `dataset.cache().take(k).repeat()`. You should use `dataset.take(k).cache().repeat()` instead.\n"
     ]
    },
    {
     "name": "stdout",
     "output_type": "stream",
     "text": [
      "Model: \"sequential_1\"\n",
      "_________________________________________________________________\n",
      " Layer (type)                Output Shape              Param #   \n",
      "=================================================================\n",
      " keras_layer_4 (KerasLayer)  (None, 50)                48190600  \n",
      "                                                                 \n",
      " dense (Dense)               (None, 16)                816       \n",
      "                                                                 \n",
      " dense_1 (Dense)             (None, 1)                 17        \n",
      "                                                                 \n",
      "=================================================================\n",
      "Total params: 48191433 (183.84 MB)\n",
      "Trainable params: 48191433 (183.84 MB)\n",
      "Non-trainable params: 0 (0.00 Byte)\n",
      "_________________________________________________________________\n"
     ]
    }
   ],
   "source": [
    "import tf_keras as tfk\n",
    "\n",
    "train_examples_batch, train_labels_batch = next(iter(train_data.batch(10)))\n",
    "\n",
    "embedding = \"https://tfhub.dev/google/nnlm-en-dim50/2\"\n",
    "hub_layer = hub.KerasLayer(embedding, input_shape=[], \n",
    "                           dtype=tf.string, trainable=True)\n",
    "\n",
    "model = tfk.Sequential()\n",
    "model.add(hub_layer)\n",
    "model.add(tfk.layers.Dense(16, activation='relu'))\n",
    "model.add(tfk.layers.Dense(1))\n",
    "\n",
    "model.summary()"
   ]
  },
  {
   "cell_type": "code",
   "execution_count": 10,
   "id": "2dbdf240-46ee-4ba7-a97f-481f0843221f",
   "metadata": {},
   "outputs": [],
   "source": [
    "model.compile(optimizer='adam',\n",
    "              loss=tf.keras.losses.BinaryCrossentropy(from_logits=True),\n",
    "              metrics=['accuracy'])"
   ]
  },
  {
   "cell_type": "code",
   "execution_count": 11,
   "id": "b0c8a397-fa54-4ecc-819f-426da3761294",
   "metadata": {},
   "outputs": [
    {
     "name": "stdout",
     "output_type": "stream",
     "text": [
      "Epoch 1/10\n",
      "30/30 [==============================] - 35s 715ms/step - loss: 0.6523 - accuracy: 0.5369 - val_loss: 0.6032 - val_accuracy: 0.6301\n",
      "Epoch 2/10\n",
      "30/30 [==============================] - 21s 684ms/step - loss: 0.5383 - accuracy: 0.7041 - val_loss: 0.4987 - val_accuracy: 0.7591\n",
      "Epoch 3/10\n",
      "30/30 [==============================] - 21s 688ms/step - loss: 0.4093 - accuracy: 0.8198 - val_loss: 0.4046 - val_accuracy: 0.8224\n",
      "Epoch 4/10\n",
      "30/30 [==============================] - 21s 689ms/step - loss: 0.2995 - accuracy: 0.8829 - val_loss: 0.3491 - val_accuracy: 0.8420\n",
      "Epoch 5/10\n",
      "30/30 [==============================] - 20s 677ms/step - loss: 0.2199 - accuracy: 0.9197 - val_loss: 0.3225 - val_accuracy: 0.8585\n",
      "Epoch 6/10\n",
      "30/30 [==============================] - 20s 676ms/step - loss: 0.1613 - accuracy: 0.9486 - val_loss: 0.3104 - val_accuracy: 0.8656\n",
      "Epoch 7/10\n",
      "30/30 [==============================] - 20s 680ms/step - loss: 0.1175 - accuracy: 0.9669 - val_loss: 0.3104 - val_accuracy: 0.8652\n",
      "Epoch 8/10\n",
      "30/30 [==============================] - 20s 681ms/step - loss: 0.0849 - accuracy: 0.9777 - val_loss: 0.3139 - val_accuracy: 0.8673\n",
      "Epoch 9/10\n",
      "30/30 [==============================] - 20s 678ms/step - loss: 0.0608 - accuracy: 0.9874 - val_loss: 0.3235 - val_accuracy: 0.8686\n",
      "Epoch 10/10\n",
      "30/30 [==============================] - 20s 677ms/step - loss: 0.0437 - accuracy: 0.9926 - val_loss: 0.3365 - val_accuracy: 0.8668\n"
     ]
    }
   ],
   "source": [
    "history = model.fit(train_data.shuffle(10000).batch(512),\n",
    "                    epochs=10,\n",
    "                    validation_data=validation_data.batch(512),\n",
    "                    verbose=1)"
   ]
  },
  {
   "cell_type": "code",
   "execution_count": 12,
   "id": "ccd9de41-6efc-4267-a8c6-8c1324c5d007",
   "metadata": {},
   "outputs": [
    {
     "name": "stdout",
     "output_type": "stream",
     "text": [
      "49/49 - 5s - loss: 0.3594 - accuracy: 0.8553 - 5s/epoch - 95ms/step\n",
      "loss: 0.359\n",
      "accuracy: 0.855\n"
     ]
    }
   ],
   "source": [
    "results = model.evaluate(test_data.batch(512), verbose=2)\n",
    "\n",
    "for name, value in zip(model.metrics_names, results):\n",
    "  print(\"%s: %.3f\" % (name, value))"
   ]
  },
  {
   "cell_type": "code",
   "execution_count": null,
   "id": "7fb05b77-2d90-4e5f-9e4d-9df34e84cc4a",
   "metadata": {},
   "outputs": [],
   "source": []
  }
 ],
 "metadata": {
  "kernelspec": {
   "display_name": "Python 3 (ipykernel)",
   "language": "python",
   "name": "python3"
  },
  "language_info": {
   "codemirror_mode": {
    "name": "ipython",
    "version": 3
   },
   "file_extension": ".py",
   "mimetype": "text/x-python",
   "name": "python",
   "nbconvert_exporter": "python",
   "pygments_lexer": "ipython3",
   "version": "3.11.0rc1"
  }
 },
 "nbformat": 4,
 "nbformat_minor": 5
}
