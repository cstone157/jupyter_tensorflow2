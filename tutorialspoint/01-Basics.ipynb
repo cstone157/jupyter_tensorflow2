{
 "cells": [
  {
   "cell_type": "markdown",
   "id": "174f2e98-2c6f-401f-9e8e-2385b424d6a7",
   "metadata": {},
   "source": [
    "## Dimensions of of Tensorflow\n",
    "\n",
    "### One dimensional tensor"
   ]
  },
  {
   "cell_type": "code",
   "execution_count": 1,
   "id": "b5af945c-a9c3-4cee-985d-7079be5e62b9",
   "metadata": {},
   "outputs": [
    {
     "name": "stdout",
     "output_type": "stream",
     "text": [
      "[ 1.3   1.    4.   23.99]\n"
     ]
    }
   ],
   "source": [
    "import numpy as np\n",
    "tensor_1d = np.array([1.3, 1, 4.0, 23.99])\n",
    "print(tensor_1d)"
   ]
  },
  {
   "cell_type": "markdown",
   "id": "7dd0fa3f-ff49-47e1-8541-de50489d605e",
   "metadata": {},
   "source": [
    "Indexing is the same as python lists"
   ]
  },
  {
   "cell_type": "code",
   "execution_count": 2,
   "id": "9f4ad42b-d6f0-44ef-a458-3bc5d0d67b8a",
   "metadata": {},
   "outputs": [
    {
     "name": "stdout",
     "output_type": "stream",
     "text": [
      "1.3\n"
     ]
    }
   ],
   "source": [
    "print(tensor_1d[0])"
   ]
  },
  {
   "cell_type": "markdown",
   "id": "a5414149-9ed4-4ce6-bbe7-dff2b2552ba6",
   "metadata": {},
   "source": [
    "### Two dimensional Tensors"
   ]
  },
  {
   "cell_type": "code",
   "execution_count": 3,
   "id": "c4ab9e29-d032-4c56-8290-3490806b4565",
   "metadata": {},
   "outputs": [
    {
     "name": "stdout",
     "output_type": "stream",
     "text": [
      "[[ 1  2  3  4]\n",
      " [ 4  5  6  7]\n",
      " [ 8  9 10 11]\n",
      " [12 13 14 15]]\n"
     ]
    }
   ],
   "source": [
    "tensor_2d = np.array([(1,2,3,4),(4,5,6,7),(8,9,10,11),(12,13,14,15)])\n",
    "print(tensor_2d)"
   ]
  },
  {
   "cell_type": "code",
   "execution_count": 4,
   "id": "51cf99e8-2ba1-4e6b-b060-ed66b43fa9e6",
   "metadata": {},
   "outputs": [
    {
     "data": {
      "text/plain": [
       "14"
      ]
     },
     "execution_count": 4,
     "metadata": {},
     "output_type": "execute_result"
    }
   ],
   "source": [
    "tensor_2d[3][2]"
   ]
  },
  {
   "cell_type": "markdown",
   "id": "78a556bc-ed61-4bb3-8dbd-242efad9a3ad",
   "metadata": {},
   "source": [
    "### Tensor Handling and Manipulations"
   ]
  },
  {
   "cell_type": "code",
   "execution_count": 12,
   "id": "fa679132-741b-45b0-8312-b914e9241bda",
   "metadata": {},
   "outputs": [
    {
     "name": "stdout",
     "output_type": "stream",
     "text": [
      "[[2 2 2]\n",
      " [2 2 2]\n",
      " [2 2 2]]\n",
      "[[1 1 1]\n",
      " [1 1 1]\n",
      " [1 1 1]]\n",
      "[[2. 7. 2.]\n",
      " [1. 4. 2.]\n",
      " [9. 0. 2.]]\n",
      "Matrix Product:\n",
      "[[6 6 6]\n",
      " [6 6 6]\n",
      " [6 6 6]]\n",
      "Matrix Sum:\n",
      "[[3 3 3]\n",
      " [3 3 3]\n",
      " [3 3 3]]\n",
      "Matrix Determinate:\n",
      "55.9999924\n"
     ]
    }
   ],
   "source": [
    "import tensorflow as tf\n",
    "import numpy as np\n",
    "\n",
    "matrix1 = np.array([(2,2,2),(2,2,2),(2,2,2)],dtype = 'int32')\n",
    "matrix2 = np.array([(1,1,1),(1,1,1),(1,1,1)],dtype = 'int32')\n",
    "\n",
    "print (matrix1)\n",
    "print (matrix2)\n",
    "\n",
    "matrix1 = tf.constant(matrix1)\n",
    "matrix2 = tf.constant(matrix2)\n",
    "matrix_product = tf.matmul(matrix1, matrix2)\n",
    "matrix_sum = tf.add(matrix1,matrix2)\n",
    "matrix_3 = np.array([(2,7,2),(1,4,2),(9,0,2)],dtype = 'float32')\n",
    "print (matrix_3)\n",
    "\n",
    "#matrix_det = tf.matrix_determinant(matrix_3) ## matrix_determinant is depricated, switch to new code\n",
    "matrix_det = tf.linalg.det(matrix_3)\n",
    "\n",
    "\n",
    "#with tf.Session() as sess: ## Session() is depricated, switching to new code\n",
    "#    result1 = sess.run(matrix_product)\n",
    "#    result2 = sess.run(matrix_sum)\n",
    "#    result3 = sess.run(matrix_det)\n",
    "#print (result1)\n",
    "#print (result2)\n",
    "#print (result3)\n",
    "\n",
    "## New Code\n",
    "tf.print(\"Matrix Product:\")\n",
    "tf.print(matrix_product)\n",
    "tf.print(\"Matrix Sum:\")\n",
    "tf.print(matrix_sum)\n",
    "tf.print(\"Matrix Determinate:\")\n",
    "tf.print(matrix_det)"
   ]
  },
  {
   "cell_type": "code",
   "execution_count": null,
   "id": "556782b3-23c1-4229-ac90-38282f5f65b5",
   "metadata": {},
   "outputs": [],
   "source": []
  }
 ],
 "metadata": {
  "kernelspec": {
   "display_name": "Python 3 (ipykernel)",
   "language": "python",
   "name": "python3"
  },
  "language_info": {
   "codemirror_mode": {
    "name": "ipython",
    "version": 3
   },
   "file_extension": ".py",
   "mimetype": "text/x-python",
   "name": "python",
   "nbconvert_exporter": "python",
   "pygments_lexer": "ipython3",
   "version": "3.11.0rc1"
  }
 },
 "nbformat": 4,
 "nbformat_minor": 5
}
